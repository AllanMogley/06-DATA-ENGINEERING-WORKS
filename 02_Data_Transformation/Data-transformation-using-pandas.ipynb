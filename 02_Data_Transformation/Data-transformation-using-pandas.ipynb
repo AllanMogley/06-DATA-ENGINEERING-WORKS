{
 "cells": [
  {
   "cell_type": "markdown",
   "id": "ea8d3942",
   "metadata": {
    "papermill": {
     "duration": 0.053428,
     "end_time": "2022-12-29T21:49:24.162891",
     "exception": false,
     "start_time": "2022-12-29T21:49:24.109463",
     "status": "completed"
    },
    "tags": []
   },
   "source": [
    "> In this series, we will cover the basics of `Data Analysis` using Python. The lessons will start growing gradually until forming a concrete analytical mindset for students. This lesson will cover the essentials of Pandas in processing tabular data. \n",
    "\n",
    "\n",
    "![Python for Data Analysis](https://i.ibb.co/x2D7Dpk/Python.gif)"
   ]
  },
  {
   "cell_type": "markdown",
   "id": "757a7f05",
   "metadata": {
    "papermill": {
     "duration": 0.043516,
     "end_time": "2022-12-29T21:49:24.250746",
     "exception": false,
     "start_time": "2022-12-29T21:49:24.207230",
     "status": "completed"
    },
    "tags": []
   },
   "source": [
    "# What is Pandas? \n",
    "`Pandas` is an open source Python package that is most widely used for data science/data analysis and machine learning tasks. It is built on top of Numpy, which has been previously touched, which provides support for multi-dimensional arrays. As one of the most popular data wrangling packages, Pandas works well with many other data science modules inside the Python ecosystem, and is typically included in every Python distribution. \n",
    "\n",
    "\n",
    "Pandas makes it simple to do many of the time consuming, repetitive tasks associated with working with data, including:\n",
    "\n",
    "* Data cleansing\n",
    "* Data fill\n",
    "* Data normalization\n",
    "* Merges and joins\n",
    "* Data visualization\n",
    "* Statistical analysis\n",
    "* Data inspection\n",
    "* Loading and saving data\n",
    "\n",
    "In fact, with Pandas, you can do everything that makes world-leading data scientists vote Pandas as the best data analysis and manipulation tool available."
   ]
  },
  {
   "cell_type": "markdown",
   "id": "f6dbcf93",
   "metadata": {
    "papermill": {
     "duration": 0.045151,
     "end_time": "2022-12-29T21:49:24.339967",
     "exception": false,
     "start_time": "2022-12-29T21:49:24.294816",
     "status": "completed"
    },
    "tags": []
   },
   "source": [
    "# Pandas Getting Started\n",
    "\n",
    "The main powerful point of pandas is its basic data structure, which is `DataFrame`, every tabular format of data will be stored directly as a `DataFrame` which will ease the transforamtion and manipulation of data. \n",
    "\n",
    "Also, because we will be mostly intersted in columns and rows as analysts, Pandas also store every column and every row in a `Series` which will also ease the transformation and manipulation on column and row level. \n",
    "\n",
    "Lets see the following graph!\n",
    "\n",
    "![DataFrame & Series](https://i.ibb.co/NVDxVss/pandas.gif)"
   ]
  },
  {
   "cell_type": "markdown",
   "id": "db0df050",
   "metadata": {
    "papermill": {
     "duration": 0.044612,
     "end_time": "2022-12-29T21:49:24.430427",
     "exception": false,
     "start_time": "2022-12-29T21:49:24.385815",
     "status": "completed"
    },
    "tags": []
   },
   "source": [
    "# Creating a DataFrame\n",
    "\n",
    "DataFrames can be created of various datatypes but the most straight forward approach is to creat a `DataFrame` from a `Dict` where the keys are the column names and the values are lists. \n",
    "\n",
    "Lets try to create the above piece of data. "
   ]
  },
  {
   "cell_type": "code",
   "execution_count": 1,
   "id": "35292c12",
   "metadata": {
    "execution": {
     "iopub.execute_input": "2022-12-29T21:49:24.521080Z",
     "iopub.status.busy": "2022-12-29T21:49:24.520336Z",
     "iopub.status.idle": "2022-12-29T21:49:24.534370Z",
     "shell.execute_reply": "2022-12-29T21:49:24.533073Z"
    },
    "papermill": {
     "duration": 0.062987,
     "end_time": "2022-12-29T21:49:24.537474",
     "exception": false,
     "start_time": "2022-12-29T21:49:24.474487",
     "status": "completed"
    },
    "tags": []
   },
   "outputs": [],
   "source": [
    "# Create a dict\n",
    "fruits_dct = { 'Oranges': [3, 2, 0, 1], \n",
    "               'Apples': [0, 3, 7, 2]    \n",
    "}"
   ]
  },
  {
   "cell_type": "markdown",
   "id": "8be14749",
   "metadata": {
    "papermill": {
     "duration": 0.043407,
     "end_time": "2022-12-29T21:49:24.625060",
     "exception": false,
     "start_time": "2022-12-29T21:49:24.581653",
     "status": "completed"
    },
    "tags": []
   },
   "source": [
    "To use `pandas` properly, you have to do two things: \n",
    "\n",
    "- Install pandas if it's not installed (Kaggle Enviroment has it installed by default)\n",
    "- Import the package into the current working enviroment. \n",
    "\n",
    "Every package in Python is nothing but some code files published online for anyone to use or edit. Importing the package means that you are graping those functions and codes to the current runtime enviroment which will allow you to use any of this code functions, methods, or attributes. To import `pandas` you need to use the following line. \n",
    "\n",
    "```Python\n",
    "import pandas as pd\n",
    "```\n",
    "\n",
    "The term `import pandas` is kind of self-explaining but the term `as pd` is just a convention. Something like agreement between people who use pandas to appriviate it as `pd`\n",
    "\n",
    "Lets create our first `pandas DataFrame` !"
   ]
  },
  {
   "cell_type": "code",
   "execution_count": 2,
   "id": "f9e153a1",
   "metadata": {
    "execution": {
     "iopub.execute_input": "2022-12-29T21:49:24.714556Z",
     "iopub.status.busy": "2022-12-29T21:49:24.714129Z",
     "iopub.status.idle": "2022-12-29T21:49:24.746958Z",
     "shell.execute_reply": "2022-12-29T21:49:24.745820Z"
    },
    "papermill": {
     "duration": 0.080628,
     "end_time": "2022-12-29T21:49:24.749794",
     "exception": false,
     "start_time": "2022-12-29T21:49:24.669166",
     "status": "completed"
    },
    "tags": []
   },
   "outputs": [
    {
     "data": {
      "text/html": [
       "<div>\n",
       "<style scoped>\n",
       "    .dataframe tbody tr th:only-of-type {\n",
       "        vertical-align: middle;\n",
       "    }\n",
       "\n",
       "    .dataframe tbody tr th {\n",
       "        vertical-align: top;\n",
       "    }\n",
       "\n",
       "    .dataframe thead th {\n",
       "        text-align: right;\n",
       "    }\n",
       "</style>\n",
       "<table border=\"1\" class=\"dataframe\">\n",
       "  <thead>\n",
       "    <tr style=\"text-align: right;\">\n",
       "      <th></th>\n",
       "      <th>Oranges</th>\n",
       "      <th>Apples</th>\n",
       "    </tr>\n",
       "  </thead>\n",
       "  <tbody>\n",
       "    <tr>\n",
       "      <th>0</th>\n",
       "      <td>3</td>\n",
       "      <td>0</td>\n",
       "    </tr>\n",
       "    <tr>\n",
       "      <th>1</th>\n",
       "      <td>2</td>\n",
       "      <td>3</td>\n",
       "    </tr>\n",
       "    <tr>\n",
       "      <th>2</th>\n",
       "      <td>0</td>\n",
       "      <td>7</td>\n",
       "    </tr>\n",
       "    <tr>\n",
       "      <th>3</th>\n",
       "      <td>1</td>\n",
       "      <td>2</td>\n",
       "    </tr>\n",
       "  </tbody>\n",
       "</table>\n",
       "</div>"
      ],
      "text/plain": [
       "   Oranges  Apples\n",
       "0        3       0\n",
       "1        2       3\n",
       "2        0       7\n",
       "3        1       2"
      ]
     },
     "execution_count": 2,
     "metadata": {},
     "output_type": "execute_result"
    }
   ],
   "source": [
    "# import statment\n",
    "import pandas as pd\n",
    "\n",
    "# lets create our dataframe from fruits dct\n",
    "fruits_df = pd.DataFrame(fruits_dct)\n",
    "\n",
    "# lets print it\n",
    "fruits_df"
   ]
  },
  {
   "cell_type": "markdown",
   "id": "4318c830",
   "metadata": {
    "papermill": {
     "duration": 0.044677,
     "end_time": "2022-12-29T21:49:24.839375",
     "exception": false,
     "start_time": "2022-12-29T21:49:24.794698",
     "status": "completed"
    },
    "tags": []
   },
   "source": [
    "Lets check its type."
   ]
  },
  {
   "cell_type": "code",
   "execution_count": 3,
   "id": "face8ee6",
   "metadata": {
    "execution": {
     "iopub.execute_input": "2022-12-29T21:49:24.932260Z",
     "iopub.status.busy": "2022-12-29T21:49:24.931821Z",
     "iopub.status.idle": "2022-12-29T21:49:24.938390Z",
     "shell.execute_reply": "2022-12-29T21:49:24.937228Z"
    },
    "papermill": {
     "duration": 0.055573,
     "end_time": "2022-12-29T21:49:24.941133",
     "exception": false,
     "start_time": "2022-12-29T21:49:24.885560",
     "status": "completed"
    },
    "tags": []
   },
   "outputs": [
    {
     "name": "stdout",
     "output_type": "stream",
     "text": [
      "<class 'pandas.core.frame.DataFrame'>\n"
     ]
    }
   ],
   "source": [
    "print(type(fruits_df))"
   ]
  },
  {
   "cell_type": "markdown",
   "id": "4bb735ef",
   "metadata": {
    "papermill": {
     "duration": 0.043873,
     "end_time": "2022-12-29T21:49:25.029287",
     "exception": false,
     "start_time": "2022-12-29T21:49:24.985414",
     "status": "completed"
    },
    "tags": []
   },
   "source": [
    "As you can see the `DataFrame` is a neat and clean formation of the tabular data which is considering `80%` of the data that we will deal with in general as analysts.\n",
    "\n",
    "Before diving deep in `pandas`, we need to get ourselves familiar with the structure of every table of data you will see. "
   ]
  },
  {
   "cell_type": "markdown",
   "id": "e96c62f7",
   "metadata": {
    "papermill": {
     "duration": 0.043581,
     "end_time": "2022-12-29T21:49:25.117656",
     "exception": false,
     "start_time": "2022-12-29T21:49:25.074075",
     "status": "completed"
    },
    "tags": []
   },
   "source": [
    "# Structure of table\n",
    "\n",
    "As mentioned before, `80%` of the data we will see are table so, it's crucial to know its structure deeply. \n",
    "\n",
    "Lets see the following image: \n",
    "    \n",
    "![Structure of Table](https://i.ibb.co/0s3Gwhj/table-1.jpg)\n",
    "\n",
    "- `Index` is like an address, that’s how any data point across the dataframe or series can be accessed.\n",
    "- `Columns` also called as `features` or `fields` are a list of values for the specific thing we are measure. for example, in the snippet we have every value in the `apples` column represents number of apples at that time. \n",
    "- `Rows` also called as `observations` or `occurances` are representing every object in our data. for example, here we have 4 rows which means we have 4 differenet counts of apples and oranges."
   ]
  },
  {
   "cell_type": "markdown",
   "id": "3e0c35e7",
   "metadata": {
    "papermill": {
     "duration": 0.04567,
     "end_time": "2022-12-29T21:49:25.208283",
     "exception": false,
     "start_time": "2022-12-29T21:49:25.162613",
     "status": "completed"
    },
    "tags": []
   },
   "source": [
    "# Reading Data using Pandas\n",
    "\n",
    "Pandas can read data from wide range of formats such as:\n",
    "- CSV files\n",
    "- Excel files\n",
    "- JSON files\n",
    "- SQL Tables\n",
    "- Pickle files\n",
    "- Parquet files\n",
    "\n",
    "Now, and for the sake of analysis, we will read a CSV file that is containing top 1000 in the history of film making according to `IMDB` website. \n",
    "\n",
    "Lets see how. "
   ]
  },
  {
   "cell_type": "code",
   "execution_count": 4,
   "id": "c664cc96",
   "metadata": {
    "execution": {
     "iopub.execute_input": "2022-12-29T21:49:25.298652Z",
     "iopub.status.busy": "2022-12-29T21:49:25.298186Z",
     "iopub.status.idle": "2022-12-29T21:49:25.360167Z",
     "shell.execute_reply": "2022-12-29T21:49:25.358728Z"
    },
    "papermill": {
     "duration": 0.11038,
     "end_time": "2022-12-29T21:49:25.363058",
     "exception": false,
     "start_time": "2022-12-29T21:49:25.252678",
     "status": "completed"
    },
    "tags": []
   },
   "outputs": [
    {
     "data": {
      "text/html": [
       "<div>\n",
       "<style scoped>\n",
       "    .dataframe tbody tr th:only-of-type {\n",
       "        vertical-align: middle;\n",
       "    }\n",
       "\n",
       "    .dataframe tbody tr th {\n",
       "        vertical-align: top;\n",
       "    }\n",
       "\n",
       "    .dataframe thead th {\n",
       "        text-align: right;\n",
       "    }\n",
       "</style>\n",
       "<table border=\"1\" class=\"dataframe\">\n",
       "  <thead>\n",
       "    <tr style=\"text-align: right;\">\n",
       "      <th></th>\n",
       "      <th>Title</th>\n",
       "      <th>Rank</th>\n",
       "      <th>Genre</th>\n",
       "      <th>Description</th>\n",
       "      <th>Director</th>\n",
       "      <th>Actors</th>\n",
       "      <th>Year</th>\n",
       "      <th>Runtime (Minutes)</th>\n",
       "      <th>Rating</th>\n",
       "      <th>Votes</th>\n",
       "      <th>Revenue (Millions)</th>\n",
       "      <th>Metascore</th>\n",
       "    </tr>\n",
       "  </thead>\n",
       "  <tbody>\n",
       "    <tr>\n",
       "      <th>0</th>\n",
       "      <td>Guardians of the Galaxy</td>\n",
       "      <td>1</td>\n",
       "      <td>Action,Adventure,Sci-Fi</td>\n",
       "      <td>A group of intergalactic criminals are forced ...</td>\n",
       "      <td>James Gunn</td>\n",
       "      <td>Chris Pratt, Vin Diesel, Bradley Cooper, Zoe S...</td>\n",
       "      <td>2014</td>\n",
       "      <td>121</td>\n",
       "      <td>8.1</td>\n",
       "      <td>757074</td>\n",
       "      <td>333.13</td>\n",
       "      <td>76.0</td>\n",
       "    </tr>\n",
       "    <tr>\n",
       "      <th>1</th>\n",
       "      <td>Prometheus</td>\n",
       "      <td>2</td>\n",
       "      <td>Adventure,Mystery,Sci-Fi</td>\n",
       "      <td>Following clues to the origin of mankind, a te...</td>\n",
       "      <td>Ridley Scott</td>\n",
       "      <td>Noomi Rapace, Logan Marshall-Green, Michael Fa...</td>\n",
       "      <td>2012</td>\n",
       "      <td>124</td>\n",
       "      <td>7.0</td>\n",
       "      <td>485820</td>\n",
       "      <td>126.46</td>\n",
       "      <td>65.0</td>\n",
       "    </tr>\n",
       "    <tr>\n",
       "      <th>2</th>\n",
       "      <td>Split</td>\n",
       "      <td>3</td>\n",
       "      <td>Horror,Thriller</td>\n",
       "      <td>Three girls are kidnapped by a man with a diag...</td>\n",
       "      <td>M. Night Shyamalan</td>\n",
       "      <td>James McAvoy, Anya Taylor-Joy, Haley Lu Richar...</td>\n",
       "      <td>2016</td>\n",
       "      <td>117</td>\n",
       "      <td>7.3</td>\n",
       "      <td>157606</td>\n",
       "      <td>138.12</td>\n",
       "      <td>62.0</td>\n",
       "    </tr>\n",
       "    <tr>\n",
       "      <th>3</th>\n",
       "      <td>Sing</td>\n",
       "      <td>4</td>\n",
       "      <td>Animation,Comedy,Family</td>\n",
       "      <td>In a city of humanoid animals, a hustling thea...</td>\n",
       "      <td>Christophe Lourdelet</td>\n",
       "      <td>Matthew McConaughey,Reese Witherspoon, Seth Ma...</td>\n",
       "      <td>2016</td>\n",
       "      <td>108</td>\n",
       "      <td>7.2</td>\n",
       "      <td>60545</td>\n",
       "      <td>270.32</td>\n",
       "      <td>59.0</td>\n",
       "    </tr>\n",
       "    <tr>\n",
       "      <th>4</th>\n",
       "      <td>Suicide Squad</td>\n",
       "      <td>5</td>\n",
       "      <td>Action,Adventure,Fantasy</td>\n",
       "      <td>A secret government agency recruits some of th...</td>\n",
       "      <td>David Ayer</td>\n",
       "      <td>Will Smith, Jared Leto, Margot Robbie, Viola D...</td>\n",
       "      <td>2016</td>\n",
       "      <td>123</td>\n",
       "      <td>6.2</td>\n",
       "      <td>393727</td>\n",
       "      <td>325.02</td>\n",
       "      <td>40.0</td>\n",
       "    </tr>\n",
       "    <tr>\n",
       "      <th>...</th>\n",
       "      <td>...</td>\n",
       "      <td>...</td>\n",
       "      <td>...</td>\n",
       "      <td>...</td>\n",
       "      <td>...</td>\n",
       "      <td>...</td>\n",
       "      <td>...</td>\n",
       "      <td>...</td>\n",
       "      <td>...</td>\n",
       "      <td>...</td>\n",
       "      <td>...</td>\n",
       "      <td>...</td>\n",
       "    </tr>\n",
       "    <tr>\n",
       "      <th>995</th>\n",
       "      <td>Secret in Their Eyes</td>\n",
       "      <td>996</td>\n",
       "      <td>Crime,Drama,Mystery</td>\n",
       "      <td>A tight-knit team of rising investigators, alo...</td>\n",
       "      <td>Billy Ray</td>\n",
       "      <td>Chiwetel Ejiofor, Nicole Kidman, Julia Roberts...</td>\n",
       "      <td>2015</td>\n",
       "      <td>111</td>\n",
       "      <td>6.2</td>\n",
       "      <td>27585</td>\n",
       "      <td>NaN</td>\n",
       "      <td>45.0</td>\n",
       "    </tr>\n",
       "    <tr>\n",
       "      <th>996</th>\n",
       "      <td>Hostel: Part II</td>\n",
       "      <td>997</td>\n",
       "      <td>Horror</td>\n",
       "      <td>Three American college students studying abroa...</td>\n",
       "      <td>Eli Roth</td>\n",
       "      <td>Lauren German, Heather Matarazzo, Bijou Philli...</td>\n",
       "      <td>2007</td>\n",
       "      <td>94</td>\n",
       "      <td>5.5</td>\n",
       "      <td>73152</td>\n",
       "      <td>17.54</td>\n",
       "      <td>46.0</td>\n",
       "    </tr>\n",
       "    <tr>\n",
       "      <th>997</th>\n",
       "      <td>Step Up 2: The Streets</td>\n",
       "      <td>998</td>\n",
       "      <td>Drama,Music,Romance</td>\n",
       "      <td>Romantic sparks occur between two dance studen...</td>\n",
       "      <td>Jon M. Chu</td>\n",
       "      <td>Robert Hoffman, Briana Evigan, Cassie Ventura,...</td>\n",
       "      <td>2008</td>\n",
       "      <td>98</td>\n",
       "      <td>6.2</td>\n",
       "      <td>70699</td>\n",
       "      <td>58.01</td>\n",
       "      <td>50.0</td>\n",
       "    </tr>\n",
       "    <tr>\n",
       "      <th>998</th>\n",
       "      <td>Search Party</td>\n",
       "      <td>999</td>\n",
       "      <td>Adventure,Comedy</td>\n",
       "      <td>A pair of friends embark on a mission to reuni...</td>\n",
       "      <td>Scot Armstrong</td>\n",
       "      <td>Adam Pally, T.J. Miller, Thomas Middleditch,Sh...</td>\n",
       "      <td>2014</td>\n",
       "      <td>93</td>\n",
       "      <td>5.6</td>\n",
       "      <td>4881</td>\n",
       "      <td>NaN</td>\n",
       "      <td>22.0</td>\n",
       "    </tr>\n",
       "    <tr>\n",
       "      <th>999</th>\n",
       "      <td>Nine Lives</td>\n",
       "      <td>1000</td>\n",
       "      <td>Comedy,Family,Fantasy</td>\n",
       "      <td>A stuffy businessman finds himself trapped ins...</td>\n",
       "      <td>Barry Sonnenfeld</td>\n",
       "      <td>Kevin Spacey, Jennifer Garner, Robbie Amell,Ch...</td>\n",
       "      <td>2016</td>\n",
       "      <td>87</td>\n",
       "      <td>5.3</td>\n",
       "      <td>12435</td>\n",
       "      <td>19.64</td>\n",
       "      <td>11.0</td>\n",
       "    </tr>\n",
       "  </tbody>\n",
       "</table>\n",
       "<p>1000 rows × 12 columns</p>\n",
       "</div>"
      ],
      "text/plain": [
       "                       Title  Rank                     Genre  \\\n",
       "0    Guardians of the Galaxy     1   Action,Adventure,Sci-Fi   \n",
       "1                 Prometheus     2  Adventure,Mystery,Sci-Fi   \n",
       "2                      Split     3           Horror,Thriller   \n",
       "3                       Sing     4   Animation,Comedy,Family   \n",
       "4              Suicide Squad     5  Action,Adventure,Fantasy   \n",
       "..                       ...   ...                       ...   \n",
       "995     Secret in Their Eyes   996       Crime,Drama,Mystery   \n",
       "996          Hostel: Part II   997                    Horror   \n",
       "997   Step Up 2: The Streets   998       Drama,Music,Romance   \n",
       "998             Search Party   999          Adventure,Comedy   \n",
       "999               Nine Lives  1000     Comedy,Family,Fantasy   \n",
       "\n",
       "                                           Description              Director  \\\n",
       "0    A group of intergalactic criminals are forced ...            James Gunn   \n",
       "1    Following clues to the origin of mankind, a te...          Ridley Scott   \n",
       "2    Three girls are kidnapped by a man with a diag...    M. Night Shyamalan   \n",
       "3    In a city of humanoid animals, a hustling thea...  Christophe Lourdelet   \n",
       "4    A secret government agency recruits some of th...            David Ayer   \n",
       "..                                                 ...                   ...   \n",
       "995  A tight-knit team of rising investigators, alo...             Billy Ray   \n",
       "996  Three American college students studying abroa...              Eli Roth   \n",
       "997  Romantic sparks occur between two dance studen...            Jon M. Chu   \n",
       "998  A pair of friends embark on a mission to reuni...        Scot Armstrong   \n",
       "999  A stuffy businessman finds himself trapped ins...      Barry Sonnenfeld   \n",
       "\n",
       "                                                Actors  Year  \\\n",
       "0    Chris Pratt, Vin Diesel, Bradley Cooper, Zoe S...  2014   \n",
       "1    Noomi Rapace, Logan Marshall-Green, Michael Fa...  2012   \n",
       "2    James McAvoy, Anya Taylor-Joy, Haley Lu Richar...  2016   \n",
       "3    Matthew McConaughey,Reese Witherspoon, Seth Ma...  2016   \n",
       "4    Will Smith, Jared Leto, Margot Robbie, Viola D...  2016   \n",
       "..                                                 ...   ...   \n",
       "995  Chiwetel Ejiofor, Nicole Kidman, Julia Roberts...  2015   \n",
       "996  Lauren German, Heather Matarazzo, Bijou Philli...  2007   \n",
       "997  Robert Hoffman, Briana Evigan, Cassie Ventura,...  2008   \n",
       "998  Adam Pally, T.J. Miller, Thomas Middleditch,Sh...  2014   \n",
       "999  Kevin Spacey, Jennifer Garner, Robbie Amell,Ch...  2016   \n",
       "\n",
       "     Runtime (Minutes)  Rating   Votes  Revenue (Millions)  Metascore  \n",
       "0                  121     8.1  757074              333.13       76.0  \n",
       "1                  124     7.0  485820              126.46       65.0  \n",
       "2                  117     7.3  157606              138.12       62.0  \n",
       "3                  108     7.2   60545              270.32       59.0  \n",
       "4                  123     6.2  393727              325.02       40.0  \n",
       "..                 ...     ...     ...                 ...        ...  \n",
       "995                111     6.2   27585                 NaN       45.0  \n",
       "996                 94     5.5   73152               17.54       46.0  \n",
       "997                 98     6.2   70699               58.01       50.0  \n",
       "998                 93     5.6    4881                 NaN       22.0  \n",
       "999                 87     5.3   12435               19.64       11.0  \n",
       "\n",
       "[1000 rows x 12 columns]"
      ]
     },
     "metadata": {},
     "output_type": "display_data"
    },
    {
     "data": {
      "text/plain": [
       "pandas.core.frame.DataFrame"
      ]
     },
     "metadata": {},
     "output_type": "display_data"
    }
   ],
   "source": [
    "# read csv file\n",
    "df_movies = pd.read_csv('../input/data-analytics/IMDB-Movie-Data.csv')\n",
    "# see the data\n",
    "display(df_movies)\n",
    "# print its type\n",
    "display(type(df_movies))"
   ]
  },
  {
   "cell_type": "markdown",
   "id": "71b50b49",
   "metadata": {
    "execution": {
     "iopub.execute_input": "2022-12-26T11:16:06.318793Z",
     "iopub.status.busy": "2022-12-26T11:16:06.318381Z",
     "iopub.status.idle": "2022-12-26T11:16:06.347545Z",
     "shell.execute_reply": "2022-12-26T11:16:06.346236Z",
     "shell.execute_reply.started": "2022-12-26T11:16:06.318758Z"
    },
    "papermill": {
     "duration": 0.059566,
     "end_time": "2022-12-29T21:49:25.476236",
     "exception": false,
     "start_time": "2022-12-29T21:49:25.416670",
     "status": "completed"
    },
    "tags": []
   },
   "source": [
    "As you can see, `pandas` is capable of viewing any table in a clean and tidy format of `pandas.core.frame.DataFrame` data type. Now, lets get ourselves familliar with some of pandas basic methods and attributes to explore more about our dataset.\n",
    "\n",
    "NOTE: `pd.read_csv()` function will be deep dived later on."
   ]
  },
  {
   "cell_type": "markdown",
   "id": "cac64d2c",
   "metadata": {
    "papermill": {
     "duration": 0.046701,
     "end_time": "2022-12-29T21:49:25.569859",
     "exception": false,
     "start_time": "2022-12-29T21:49:25.523158",
     "status": "completed"
    },
    "tags": []
   },
   "source": [
    "# Basic Attributes and Methods\n",
    "Now, we will demonstrate some of the basic attributes and methods related to pandas.\n",
    "\n",
    "- `df.info()`: method used for getting information about number of rows, columns, count of not null, memory usage. You can read more about it in the [documentation](https://pandas.pydata.org/docs/reference/api/pandas.DataFrame.info.html)\n",
    "- `df.head()`: method that views first 5 rows of the dataframe. You can pass any number in the brackets that will represent any number of rows you want to view.\n",
    "- `df.tail()`: method that views last 5 rows of the dataframe. You can pass any number in the brackets that will represent any number of rows you want to view.\n",
    "- `df.describe()`: method that can view the summary statistics for numerical columns. You can read more about this in the [documentation](https://pandas.pydata.org/docs/reference/api/pandas.DataFrame.describe.html)\n",
    "- `df.shape`: attribute that is use to find out the number of rows and columns (Can you remember the same method in `NumPy`?)\n",
    "- `df.columns`: attribute that is used to view the column names and it's an iterator by default. You can see more in the [documentation](https://pandas.pydata.org/docs/reference/api/pandas.DataFrame.columns.html)\n",
    "\n",
    "Lets see some code!"
   ]
  },
  {
   "cell_type": "code",
   "execution_count": 5,
   "id": "ae8d0eaf",
   "metadata": {
    "execution": {
     "iopub.execute_input": "2022-12-29T21:49:25.663767Z",
     "iopub.status.busy": "2022-12-29T21:49:25.663295Z",
     "iopub.status.idle": "2022-12-29T21:49:25.682457Z",
     "shell.execute_reply": "2022-12-29T21:49:25.681128Z"
    },
    "papermill": {
     "duration": 0.068718,
     "end_time": "2022-12-29T21:49:25.685357",
     "exception": false,
     "start_time": "2022-12-29T21:49:25.616639",
     "status": "completed"
    },
    "tags": []
   },
   "outputs": [
    {
     "data": {
      "text/html": [
       "<div>\n",
       "<style scoped>\n",
       "    .dataframe tbody tr th:only-of-type {\n",
       "        vertical-align: middle;\n",
       "    }\n",
       "\n",
       "    .dataframe tbody tr th {\n",
       "        vertical-align: top;\n",
       "    }\n",
       "\n",
       "    .dataframe thead th {\n",
       "        text-align: right;\n",
       "    }\n",
       "</style>\n",
       "<table border=\"1\" class=\"dataframe\">\n",
       "  <thead>\n",
       "    <tr style=\"text-align: right;\">\n",
       "      <th></th>\n",
       "      <th>Title</th>\n",
       "      <th>Rank</th>\n",
       "      <th>Genre</th>\n",
       "      <th>Description</th>\n",
       "      <th>Director</th>\n",
       "      <th>Actors</th>\n",
       "      <th>Year</th>\n",
       "      <th>Runtime (Minutes)</th>\n",
       "      <th>Rating</th>\n",
       "      <th>Votes</th>\n",
       "      <th>Revenue (Millions)</th>\n",
       "      <th>Metascore</th>\n",
       "    </tr>\n",
       "  </thead>\n",
       "  <tbody>\n",
       "    <tr>\n",
       "      <th>0</th>\n",
       "      <td>Guardians of the Galaxy</td>\n",
       "      <td>1</td>\n",
       "      <td>Action,Adventure,Sci-Fi</td>\n",
       "      <td>A group of intergalactic criminals are forced ...</td>\n",
       "      <td>James Gunn</td>\n",
       "      <td>Chris Pratt, Vin Diesel, Bradley Cooper, Zoe S...</td>\n",
       "      <td>2014</td>\n",
       "      <td>121</td>\n",
       "      <td>8.1</td>\n",
       "      <td>757074</td>\n",
       "      <td>333.13</td>\n",
       "      <td>76.0</td>\n",
       "    </tr>\n",
       "    <tr>\n",
       "      <th>1</th>\n",
       "      <td>Prometheus</td>\n",
       "      <td>2</td>\n",
       "      <td>Adventure,Mystery,Sci-Fi</td>\n",
       "      <td>Following clues to the origin of mankind, a te...</td>\n",
       "      <td>Ridley Scott</td>\n",
       "      <td>Noomi Rapace, Logan Marshall-Green, Michael Fa...</td>\n",
       "      <td>2012</td>\n",
       "      <td>124</td>\n",
       "      <td>7.0</td>\n",
       "      <td>485820</td>\n",
       "      <td>126.46</td>\n",
       "      <td>65.0</td>\n",
       "    </tr>\n",
       "    <tr>\n",
       "      <th>2</th>\n",
       "      <td>Split</td>\n",
       "      <td>3</td>\n",
       "      <td>Horror,Thriller</td>\n",
       "      <td>Three girls are kidnapped by a man with a diag...</td>\n",
       "      <td>M. Night Shyamalan</td>\n",
       "      <td>James McAvoy, Anya Taylor-Joy, Haley Lu Richar...</td>\n",
       "      <td>2016</td>\n",
       "      <td>117</td>\n",
       "      <td>7.3</td>\n",
       "      <td>157606</td>\n",
       "      <td>138.12</td>\n",
       "      <td>62.0</td>\n",
       "    </tr>\n",
       "    <tr>\n",
       "      <th>3</th>\n",
       "      <td>Sing</td>\n",
       "      <td>4</td>\n",
       "      <td>Animation,Comedy,Family</td>\n",
       "      <td>In a city of humanoid animals, a hustling thea...</td>\n",
       "      <td>Christophe Lourdelet</td>\n",
       "      <td>Matthew McConaughey,Reese Witherspoon, Seth Ma...</td>\n",
       "      <td>2016</td>\n",
       "      <td>108</td>\n",
       "      <td>7.2</td>\n",
       "      <td>60545</td>\n",
       "      <td>270.32</td>\n",
       "      <td>59.0</td>\n",
       "    </tr>\n",
       "    <tr>\n",
       "      <th>4</th>\n",
       "      <td>Suicide Squad</td>\n",
       "      <td>5</td>\n",
       "      <td>Action,Adventure,Fantasy</td>\n",
       "      <td>A secret government agency recruits some of th...</td>\n",
       "      <td>David Ayer</td>\n",
       "      <td>Will Smith, Jared Leto, Margot Robbie, Viola D...</td>\n",
       "      <td>2016</td>\n",
       "      <td>123</td>\n",
       "      <td>6.2</td>\n",
       "      <td>393727</td>\n",
       "      <td>325.02</td>\n",
       "      <td>40.0</td>\n",
       "    </tr>\n",
       "  </tbody>\n",
       "</table>\n",
       "</div>"
      ],
      "text/plain": [
       "                     Title  Rank                     Genre  \\\n",
       "0  Guardians of the Galaxy     1   Action,Adventure,Sci-Fi   \n",
       "1               Prometheus     2  Adventure,Mystery,Sci-Fi   \n",
       "2                    Split     3           Horror,Thriller   \n",
       "3                     Sing     4   Animation,Comedy,Family   \n",
       "4            Suicide Squad     5  Action,Adventure,Fantasy   \n",
       "\n",
       "                                         Description              Director  \\\n",
       "0  A group of intergalactic criminals are forced ...            James Gunn   \n",
       "1  Following clues to the origin of mankind, a te...          Ridley Scott   \n",
       "2  Three girls are kidnapped by a man with a diag...    M. Night Shyamalan   \n",
       "3  In a city of humanoid animals, a hustling thea...  Christophe Lourdelet   \n",
       "4  A secret government agency recruits some of th...            David Ayer   \n",
       "\n",
       "                                              Actors  Year  Runtime (Minutes)  \\\n",
       "0  Chris Pratt, Vin Diesel, Bradley Cooper, Zoe S...  2014                121   \n",
       "1  Noomi Rapace, Logan Marshall-Green, Michael Fa...  2012                124   \n",
       "2  James McAvoy, Anya Taylor-Joy, Haley Lu Richar...  2016                117   \n",
       "3  Matthew McConaughey,Reese Witherspoon, Seth Ma...  2016                108   \n",
       "4  Will Smith, Jared Leto, Margot Robbie, Viola D...  2016                123   \n",
       "\n",
       "   Rating   Votes  Revenue (Millions)  Metascore  \n",
       "0     8.1  757074              333.13       76.0  \n",
       "1     7.0  485820              126.46       65.0  \n",
       "2     7.3  157606              138.12       62.0  \n",
       "3     7.2   60545              270.32       59.0  \n",
       "4     6.2  393727              325.02       40.0  "
      ]
     },
     "execution_count": 5,
     "metadata": {},
     "output_type": "execute_result"
    }
   ],
   "source": [
    "df_movies.head()"
   ]
  },
  {
   "cell_type": "code",
   "execution_count": 6,
   "id": "08146a80",
   "metadata": {
    "execution": {
     "iopub.execute_input": "2022-12-29T21:49:25.780496Z",
     "iopub.status.busy": "2022-12-29T21:49:25.779846Z",
     "iopub.status.idle": "2022-12-29T21:49:25.800837Z",
     "shell.execute_reply": "2022-12-29T21:49:25.799235Z"
    },
    "papermill": {
     "duration": 0.072557,
     "end_time": "2022-12-29T21:49:25.803411",
     "exception": false,
     "start_time": "2022-12-29T21:49:25.730854",
     "status": "completed"
    },
    "tags": []
   },
   "outputs": [
    {
     "data": {
      "text/html": [
       "<div>\n",
       "<style scoped>\n",
       "    .dataframe tbody tr th:only-of-type {\n",
       "        vertical-align: middle;\n",
       "    }\n",
       "\n",
       "    .dataframe tbody tr th {\n",
       "        vertical-align: top;\n",
       "    }\n",
       "\n",
       "    .dataframe thead th {\n",
       "        text-align: right;\n",
       "    }\n",
       "</style>\n",
       "<table border=\"1\" class=\"dataframe\">\n",
       "  <thead>\n",
       "    <tr style=\"text-align: right;\">\n",
       "      <th></th>\n",
       "      <th>Title</th>\n",
       "      <th>Rank</th>\n",
       "      <th>Genre</th>\n",
       "      <th>Description</th>\n",
       "      <th>Director</th>\n",
       "      <th>Actors</th>\n",
       "      <th>Year</th>\n",
       "      <th>Runtime (Minutes)</th>\n",
       "      <th>Rating</th>\n",
       "      <th>Votes</th>\n",
       "      <th>Revenue (Millions)</th>\n",
       "      <th>Metascore</th>\n",
       "    </tr>\n",
       "  </thead>\n",
       "  <tbody>\n",
       "    <tr>\n",
       "      <th>998</th>\n",
       "      <td>Search Party</td>\n",
       "      <td>999</td>\n",
       "      <td>Adventure,Comedy</td>\n",
       "      <td>A pair of friends embark on a mission to reuni...</td>\n",
       "      <td>Scot Armstrong</td>\n",
       "      <td>Adam Pally, T.J. Miller, Thomas Middleditch,Sh...</td>\n",
       "      <td>2014</td>\n",
       "      <td>93</td>\n",
       "      <td>5.6</td>\n",
       "      <td>4881</td>\n",
       "      <td>NaN</td>\n",
       "      <td>22.0</td>\n",
       "    </tr>\n",
       "    <tr>\n",
       "      <th>999</th>\n",
       "      <td>Nine Lives</td>\n",
       "      <td>1000</td>\n",
       "      <td>Comedy,Family,Fantasy</td>\n",
       "      <td>A stuffy businessman finds himself trapped ins...</td>\n",
       "      <td>Barry Sonnenfeld</td>\n",
       "      <td>Kevin Spacey, Jennifer Garner, Robbie Amell,Ch...</td>\n",
       "      <td>2016</td>\n",
       "      <td>87</td>\n",
       "      <td>5.3</td>\n",
       "      <td>12435</td>\n",
       "      <td>19.64</td>\n",
       "      <td>11.0</td>\n",
       "    </tr>\n",
       "  </tbody>\n",
       "</table>\n",
       "</div>"
      ],
      "text/plain": [
       "            Title  Rank                  Genre  \\\n",
       "998  Search Party   999       Adventure,Comedy   \n",
       "999    Nine Lives  1000  Comedy,Family,Fantasy   \n",
       "\n",
       "                                           Description          Director  \\\n",
       "998  A pair of friends embark on a mission to reuni...    Scot Armstrong   \n",
       "999  A stuffy businessman finds himself trapped ins...  Barry Sonnenfeld   \n",
       "\n",
       "                                                Actors  Year  \\\n",
       "998  Adam Pally, T.J. Miller, Thomas Middleditch,Sh...  2014   \n",
       "999  Kevin Spacey, Jennifer Garner, Robbie Amell,Ch...  2016   \n",
       "\n",
       "     Runtime (Minutes)  Rating  Votes  Revenue (Millions)  Metascore  \n",
       "998                 93     5.6   4881                 NaN       22.0  \n",
       "999                 87     5.3  12435               19.64       11.0  "
      ]
     },
     "execution_count": 6,
     "metadata": {},
     "output_type": "execute_result"
    }
   ],
   "source": [
    "# now, we want to view the last 2 rows of the df\n",
    "df_movies.tail(2) "
   ]
  },
  {
   "cell_type": "code",
   "execution_count": 7,
   "id": "0f5b645f",
   "metadata": {
    "execution": {
     "iopub.execute_input": "2022-12-29T21:49:25.896434Z",
     "iopub.status.busy": "2022-12-29T21:49:25.896012Z",
     "iopub.status.idle": "2022-12-29T21:49:25.904388Z",
     "shell.execute_reply": "2022-12-29T21:49:25.903003Z"
    },
    "papermill": {
     "duration": 0.058264,
     "end_time": "2022-12-29T21:49:25.907147",
     "exception": false,
     "start_time": "2022-12-29T21:49:25.848883",
     "status": "completed"
    },
    "tags": []
   },
   "outputs": [
    {
     "data": {
      "text/plain": [
       "Index(['Title', 'Rank', 'Genre', 'Description', 'Director', 'Actors', 'Year',\n",
       "       'Runtime (Minutes)', 'Rating', 'Votes', 'Revenue (Millions)',\n",
       "       'Metascore'],\n",
       "      dtype='object')"
      ]
     },
     "execution_count": 7,
     "metadata": {},
     "output_type": "execute_result"
    }
   ],
   "source": [
    "# lets view our columns\n",
    "df_movies.columns"
   ]
  },
  {
   "cell_type": "code",
   "execution_count": 8,
   "id": "a09a83d6",
   "metadata": {
    "execution": {
     "iopub.execute_input": "2022-12-29T21:49:26.000393Z",
     "iopub.status.busy": "2022-12-29T21:49:25.999992Z",
     "iopub.status.idle": "2022-12-29T21:49:26.028685Z",
     "shell.execute_reply": "2022-12-29T21:49:26.026618Z"
    },
    "papermill": {
     "duration": 0.078551,
     "end_time": "2022-12-29T21:49:26.031528",
     "exception": false,
     "start_time": "2022-12-29T21:49:25.952977",
     "status": "completed"
    },
    "tags": []
   },
   "outputs": [
    {
     "name": "stdout",
     "output_type": "stream",
     "text": [
      "<class 'pandas.core.frame.DataFrame'>\n",
      "RangeIndex: 1000 entries, 0 to 999\n",
      "Data columns (total 12 columns):\n",
      " #   Column              Non-Null Count  Dtype  \n",
      "---  ------              --------------  -----  \n",
      " 0   Title               1000 non-null   object \n",
      " 1   Rank                1000 non-null   int64  \n",
      " 2   Genre               1000 non-null   object \n",
      " 3   Description         1000 non-null   object \n",
      " 4   Director            1000 non-null   object \n",
      " 5   Actors              1000 non-null   object \n",
      " 6   Year                1000 non-null   int64  \n",
      " 7   Runtime (Minutes)   1000 non-null   int64  \n",
      " 8   Rating              1000 non-null   float64\n",
      " 9   Votes               1000 non-null   int64  \n",
      " 10  Revenue (Millions)  872 non-null    float64\n",
      " 11  Metascore           936 non-null    float64\n",
      "dtypes: float64(3), int64(4), object(5)\n",
      "memory usage: 93.9+ KB\n"
     ]
    }
   ],
   "source": [
    "df_movies.info()"
   ]
  },
  {
   "cell_type": "markdown",
   "id": "18cd06ba",
   "metadata": {
    "execution": {
     "iopub.execute_input": "2022-12-26T14:51:30.761499Z",
     "iopub.status.busy": "2022-12-26T14:51:30.761101Z",
     "iopub.status.idle": "2022-12-26T14:51:30.769806Z",
     "shell.execute_reply": "2022-12-26T14:51:30.767672Z",
     "shell.execute_reply.started": "2022-12-26T14:51:30.761466Z"
    },
    "papermill": {
     "duration": 0.046544,
     "end_time": "2022-12-29T21:49:26.123355",
     "exception": false,
     "start_time": "2022-12-29T21:49:26.076811",
     "status": "completed"
    },
    "tags": []
   },
   "source": [
    "`df.info()` is one of the most useful methods to use when looking to any `DataFrame`\n",
    "- First line is indicating the datatype, which is `DataFrame` here.\n",
    "- Second line is indicating the index type and the total number of entries\n",
    "- Third line is indicating the total number of columns.\n",
    "- Then we will come to a summerization table that contains every column name, then the not null count and the data type of that column.\n",
    "- Then we will see a summary of the data types of all columns\n",
    "- And in the last line we will see the memeory usage of our dataframe\n",
    "\n",
    "\n",
    "For our `DataFrame`, we have two columns with `Null` values, those columns are `Revenue (Millions)` and `Metascore`"
   ]
  },
  {
   "cell_type": "markdown",
   "id": "f241f45f",
   "metadata": {
    "papermill": {
     "duration": 0.045998,
     "end_time": "2022-12-29T21:49:26.215033",
     "exception": false,
     "start_time": "2022-12-29T21:49:26.169035",
     "status": "completed"
    },
    "tags": []
   },
   "source": [
    "For the purpose of finding the number of `Null` values specifically. We can use the following `isnull()` methods such as following."
   ]
  },
  {
   "cell_type": "code",
   "execution_count": 9,
   "id": "26a12151",
   "metadata": {
    "execution": {
     "iopub.execute_input": "2022-12-29T21:49:26.309208Z",
     "iopub.status.busy": "2022-12-29T21:49:26.308745Z",
     "iopub.status.idle": "2022-12-29T21:49:26.318384Z",
     "shell.execute_reply": "2022-12-29T21:49:26.317460Z"
    },
    "papermill": {
     "duration": 0.059962,
     "end_time": "2022-12-29T21:49:26.320703",
     "exception": false,
     "start_time": "2022-12-29T21:49:26.260741",
     "status": "completed"
    },
    "tags": []
   },
   "outputs": [
    {
     "data": {
      "text/plain": [
       "Title                   0\n",
       "Rank                    0\n",
       "Genre                   0\n",
       "Description             0\n",
       "Director                0\n",
       "Actors                  0\n",
       "Year                    0\n",
       "Runtime (Minutes)       0\n",
       "Rating                  0\n",
       "Votes                   0\n",
       "Revenue (Millions)    128\n",
       "Metascore              64\n",
       "dtype: int64"
      ]
     },
     "execution_count": 9,
     "metadata": {},
     "output_type": "execute_result"
    }
   ],
   "source": [
    "# number of all nulls in every column summed\n",
    "df_movies.isnull().sum()"
   ]
  },
  {
   "cell_type": "markdown",
   "id": "6a07c0b4",
   "metadata": {
    "papermill": {
     "duration": 0.045924,
     "end_time": "2022-12-29T21:49:26.412277",
     "exception": false,
     "start_time": "2022-12-29T21:49:26.366353",
     "status": "completed"
    },
    "tags": []
   },
   "source": [
    "This also validating the our previous findings."
   ]
  },
  {
   "cell_type": "markdown",
   "id": "edddfe5a",
   "metadata": {
    "papermill": {
     "duration": 0.045044,
     "end_time": "2022-12-29T21:49:26.505011",
     "exception": false,
     "start_time": "2022-12-29T21:49:26.459967",
     "status": "completed"
    },
    "tags": []
   },
   "source": [
    "Now, lets see the summary statistics using `df.describe()`"
   ]
  },
  {
   "cell_type": "code",
   "execution_count": 10,
   "id": "fe2acbcb",
   "metadata": {
    "execution": {
     "iopub.execute_input": "2022-12-29T21:49:26.597499Z",
     "iopub.status.busy": "2022-12-29T21:49:26.597116Z",
     "iopub.status.idle": "2022-12-29T21:49:26.631912Z",
     "shell.execute_reply": "2022-12-29T21:49:26.630820Z"
    },
    "papermill": {
     "duration": 0.083622,
     "end_time": "2022-12-29T21:49:26.634323",
     "exception": false,
     "start_time": "2022-12-29T21:49:26.550701",
     "status": "completed"
    },
    "tags": []
   },
   "outputs": [
    {
     "data": {
      "text/html": [
       "<div>\n",
       "<style scoped>\n",
       "    .dataframe tbody tr th:only-of-type {\n",
       "        vertical-align: middle;\n",
       "    }\n",
       "\n",
       "    .dataframe tbody tr th {\n",
       "        vertical-align: top;\n",
       "    }\n",
       "\n",
       "    .dataframe thead th {\n",
       "        text-align: right;\n",
       "    }\n",
       "</style>\n",
       "<table border=\"1\" class=\"dataframe\">\n",
       "  <thead>\n",
       "    <tr style=\"text-align: right;\">\n",
       "      <th></th>\n",
       "      <th>Rank</th>\n",
       "      <th>Year</th>\n",
       "      <th>Runtime (Minutes)</th>\n",
       "      <th>Rating</th>\n",
       "      <th>Votes</th>\n",
       "      <th>Revenue (Millions)</th>\n",
       "      <th>Metascore</th>\n",
       "    </tr>\n",
       "  </thead>\n",
       "  <tbody>\n",
       "    <tr>\n",
       "      <th>count</th>\n",
       "      <td>1000.000000</td>\n",
       "      <td>1000.000000</td>\n",
       "      <td>1000.000000</td>\n",
       "      <td>1000.000000</td>\n",
       "      <td>1.000000e+03</td>\n",
       "      <td>872.000000</td>\n",
       "      <td>936.000000</td>\n",
       "    </tr>\n",
       "    <tr>\n",
       "      <th>mean</th>\n",
       "      <td>500.500000</td>\n",
       "      <td>2012.783000</td>\n",
       "      <td>113.172000</td>\n",
       "      <td>6.723200</td>\n",
       "      <td>1.698083e+05</td>\n",
       "      <td>82.956376</td>\n",
       "      <td>58.985043</td>\n",
       "    </tr>\n",
       "    <tr>\n",
       "      <th>std</th>\n",
       "      <td>288.819436</td>\n",
       "      <td>3.205962</td>\n",
       "      <td>18.810908</td>\n",
       "      <td>0.945429</td>\n",
       "      <td>1.887626e+05</td>\n",
       "      <td>103.253540</td>\n",
       "      <td>17.194757</td>\n",
       "    </tr>\n",
       "    <tr>\n",
       "      <th>min</th>\n",
       "      <td>1.000000</td>\n",
       "      <td>2006.000000</td>\n",
       "      <td>66.000000</td>\n",
       "      <td>1.900000</td>\n",
       "      <td>6.100000e+01</td>\n",
       "      <td>0.000000</td>\n",
       "      <td>11.000000</td>\n",
       "    </tr>\n",
       "    <tr>\n",
       "      <th>25%</th>\n",
       "      <td>250.750000</td>\n",
       "      <td>2010.000000</td>\n",
       "      <td>100.000000</td>\n",
       "      <td>6.200000</td>\n",
       "      <td>3.630900e+04</td>\n",
       "      <td>13.270000</td>\n",
       "      <td>47.000000</td>\n",
       "    </tr>\n",
       "    <tr>\n",
       "      <th>50%</th>\n",
       "      <td>500.500000</td>\n",
       "      <td>2014.000000</td>\n",
       "      <td>111.000000</td>\n",
       "      <td>6.800000</td>\n",
       "      <td>1.107990e+05</td>\n",
       "      <td>47.985000</td>\n",
       "      <td>59.500000</td>\n",
       "    </tr>\n",
       "    <tr>\n",
       "      <th>75%</th>\n",
       "      <td>750.250000</td>\n",
       "      <td>2016.000000</td>\n",
       "      <td>123.000000</td>\n",
       "      <td>7.400000</td>\n",
       "      <td>2.399098e+05</td>\n",
       "      <td>113.715000</td>\n",
       "      <td>72.000000</td>\n",
       "    </tr>\n",
       "    <tr>\n",
       "      <th>max</th>\n",
       "      <td>1000.000000</td>\n",
       "      <td>2016.000000</td>\n",
       "      <td>191.000000</td>\n",
       "      <td>9.000000</td>\n",
       "      <td>1.791916e+06</td>\n",
       "      <td>936.630000</td>\n",
       "      <td>100.000000</td>\n",
       "    </tr>\n",
       "  </tbody>\n",
       "</table>\n",
       "</div>"
      ],
      "text/plain": [
       "              Rank         Year  Runtime (Minutes)       Rating         Votes  \\\n",
       "count  1000.000000  1000.000000        1000.000000  1000.000000  1.000000e+03   \n",
       "mean    500.500000  2012.783000         113.172000     6.723200  1.698083e+05   \n",
       "std     288.819436     3.205962          18.810908     0.945429  1.887626e+05   \n",
       "min       1.000000  2006.000000          66.000000     1.900000  6.100000e+01   \n",
       "25%     250.750000  2010.000000         100.000000     6.200000  3.630900e+04   \n",
       "50%     500.500000  2014.000000         111.000000     6.800000  1.107990e+05   \n",
       "75%     750.250000  2016.000000         123.000000     7.400000  2.399098e+05   \n",
       "max    1000.000000  2016.000000         191.000000     9.000000  1.791916e+06   \n",
       "\n",
       "       Revenue (Millions)   Metascore  \n",
       "count          872.000000  936.000000  \n",
       "mean            82.956376   58.985043  \n",
       "std            103.253540   17.194757  \n",
       "min              0.000000   11.000000  \n",
       "25%             13.270000   47.000000  \n",
       "50%             47.985000   59.500000  \n",
       "75%            113.715000   72.000000  \n",
       "max            936.630000  100.000000  "
      ]
     },
     "execution_count": 10,
     "metadata": {},
     "output_type": "execute_result"
    }
   ],
   "source": [
    "df_movies.describe()"
   ]
  },
  {
   "cell_type": "markdown",
   "id": "e900d68f",
   "metadata": {
    "papermill": {
     "duration": 0.047668,
     "end_time": "2022-12-29T21:49:26.728039",
     "exception": false,
     "start_time": "2022-12-29T21:49:26.680371",
     "status": "completed"
    },
    "tags": []
   },
   "source": [
    "As you can see the `df.describe()` is calculating some summary statistics. Such as `count`, `mean`, `std`, `min`, `max` and the Percentile."
   ]
  },
  {
   "cell_type": "markdown",
   "id": "baf80799",
   "metadata": {
    "papermill": {
     "duration": 0.045668,
     "end_time": "2022-12-29T21:49:26.819726",
     "exception": false,
     "start_time": "2022-12-29T21:49:26.774058",
     "status": "completed"
    },
    "tags": []
   },
   "source": [
    "Some column names in the dataset may case some confusing such as `Runtime (Minutes)` and `Revenue (Millions)`. We will try to rename them to `Runtime_in_Minutes` and `Revenue_in_Millions`\n",
    "\n",
    "\n",
    "- `df.rename()`: method for renaming columns it takes the columns in form of a dict where the old names are keys and the new names are values. Also, it takes an argument called `inplace` when its set to `true` it means that the current changes will be committed to the current dataframe directly. "
   ]
  },
  {
   "cell_type": "code",
   "execution_count": 11,
   "id": "884aeea6",
   "metadata": {
    "execution": {
     "iopub.execute_input": "2022-12-29T21:49:26.915687Z",
     "iopub.status.busy": "2022-12-29T21:49:26.914393Z",
     "iopub.status.idle": "2022-12-29T21:49:26.923266Z",
     "shell.execute_reply": "2022-12-29T21:49:26.922186Z"
    },
    "papermill": {
     "duration": 0.06008,
     "end_time": "2022-12-29T21:49:26.925968",
     "exception": false,
     "start_time": "2022-12-29T21:49:26.865888",
     "status": "completed"
    },
    "tags": []
   },
   "outputs": [
    {
     "data": {
      "text/plain": [
       "Index(['Title', 'Rank', 'Genre', 'Description', 'Director', 'Actors', 'Year',\n",
       "       'Runtime_in_Minutes', 'Rating', 'Votes', 'Revenue_in_Millions',\n",
       "       'Metascore'],\n",
       "      dtype='object')"
      ]
     },
     "execution_count": 11,
     "metadata": {},
     "output_type": "execute_result"
    }
   ],
   "source": [
    "# rename() :: method ---> for renaming column names\n",
    "df_movies.rename(columns = {'Runtime (Minutes)' : 'Runtime_in_Minutes', 'Revenue (Millions)': 'Revenue_in_Millions'},\n",
    "                 inplace = True)\n",
    "# check the new column names\n",
    "df_movies.columns"
   ]
  },
  {
   "cell_type": "markdown",
   "id": "1f0e2204",
   "metadata": {
    "papermill": {
     "duration": 0.045818,
     "end_time": "2022-12-29T21:49:27.018066",
     "exception": false,
     "start_time": "2022-12-29T21:49:26.972248",
     "status": "completed"
    },
    "tags": []
   },
   "source": [
    "For better display of the column names, we will convert them to lowercase. \n",
    "\n",
    "Try to think about a solution before viewing the answer!"
   ]
  },
  {
   "cell_type": "code",
   "execution_count": 12,
   "id": "c810a8b5",
   "metadata": {
    "execution": {
     "iopub.execute_input": "2022-12-29T21:49:27.115334Z",
     "iopub.status.busy": "2022-12-29T21:49:27.114215Z",
     "iopub.status.idle": "2022-12-29T21:49:27.123763Z",
     "shell.execute_reply": "2022-12-29T21:49:27.122299Z"
    },
    "papermill": {
     "duration": 0.062015,
     "end_time": "2022-12-29T21:49:27.126537",
     "exception": false,
     "start_time": "2022-12-29T21:49:27.064522",
     "status": "completed"
    },
    "tags": []
   },
   "outputs": [
    {
     "data": {
      "text/plain": [
       "Index(['title', 'rank', 'genre', 'description', 'director', 'actors', 'year',\n",
       "       'runtime_in_minutes', 'rating', 'votes', 'revenue_in_millions',\n",
       "       'metascore'],\n",
       "      dtype='object')"
      ]
     },
     "execution_count": 12,
     "metadata": {},
     "output_type": "execute_result"
    }
   ],
   "source": [
    "# using list comprehensions with column names\n",
    "# let's try lowering all columns' names in one line of code\n",
    "df_movies.columns = [column.lower() for column in df_movies.columns]\n",
    "# check column names\n",
    "df_movies.columns"
   ]
  },
  {
   "cell_type": "markdown",
   "id": "62ce2814",
   "metadata": {
    "papermill": {
     "duration": 0.046777,
     "end_time": "2022-12-29T21:49:27.220099",
     "exception": false,
     "start_time": "2022-12-29T21:49:27.173322",
     "status": "completed"
    },
    "tags": []
   },
   "source": [
    "# Duplicate Rows Handling\n",
    "\n",
    "One of the basic checks to do over any dataset is to check for duplicate rows. Here we don't have any duplicate rows so we will try to create this situation manually. \n",
    "\n",
    "- `pd.concat()`: it will append any number of dataframes to each other as they are following the same structure. Check the [documentation](https://pandas.pydata.org/docs/reference/api/pandas.concat.html)\n",
    "\n",
    "We will use this function to artficially add two `df_movies` to one to another to have a situation where every row is existing twice"
   ]
  },
  {
   "cell_type": "code",
   "execution_count": 13,
   "id": "cfa679bb",
   "metadata": {
    "execution": {
     "iopub.execute_input": "2022-12-29T21:49:27.312404Z",
     "iopub.status.busy": "2022-12-29T21:49:27.311969Z",
     "iopub.status.idle": "2022-12-29T21:49:27.323457Z",
     "shell.execute_reply": "2022-12-29T21:49:27.322185Z"
    },
    "papermill": {
     "duration": 0.060487,
     "end_time": "2022-12-29T21:49:27.325946",
     "exception": false,
     "start_time": "2022-12-29T21:49:27.265459",
     "status": "completed"
    },
    "tags": []
   },
   "outputs": [
    {
     "data": {
      "text/plain": [
       "(2000, 12)"
      ]
     },
     "execution_count": 13,
     "metadata": {},
     "output_type": "execute_result"
    }
   ],
   "source": [
    "# to create a dataset with row duplicates let's just douple our movie dataset\n",
    "df_temp = pd.concat([df_movies, df_movies], axis = 0)\n",
    "# investigate the shape\n",
    "df_temp.shape"
   ]
  },
  {
   "cell_type": "markdown",
   "id": "5580e631",
   "metadata": {
    "papermill": {
     "duration": 0.045685,
     "end_time": "2022-12-29T21:49:27.418814",
     "exception": false,
     "start_time": "2022-12-29T21:49:27.373129",
     "status": "completed"
    },
    "tags": []
   },
   "source": [
    "As the shape check says, we have now a new dataframe `df_temp` that is douple the size of `df_movies`. Now, we will sort its rows according to the `title` column to have better look.\n",
    "- `df.sort_values(by='column_name',axis=1/0, inplace=True/False)`: used to sort a dataframe by a column. Check [documentation](https://pandas.pydata.org/docs/reference/api/pandas.Series.sort_values.html)\n",
    "\n",
    "NOTE: For any method dealing with pandas that has the argument `axis`, `0` means column level and `1` means row level"
   ]
  },
  {
   "cell_type": "code",
   "execution_count": 14,
   "id": "e082b702",
   "metadata": {
    "execution": {
     "iopub.execute_input": "2022-12-29T21:49:27.513584Z",
     "iopub.status.busy": "2022-12-29T21:49:27.512184Z",
     "iopub.status.idle": "2022-12-29T21:49:27.535409Z",
     "shell.execute_reply": "2022-12-29T21:49:27.533893Z"
    },
    "papermill": {
     "duration": 0.072831,
     "end_time": "2022-12-29T21:49:27.538192",
     "exception": false,
     "start_time": "2022-12-29T21:49:27.465361",
     "status": "completed"
    },
    "tags": []
   },
   "outputs": [
    {
     "data": {
      "text/html": [
       "<div>\n",
       "<style scoped>\n",
       "    .dataframe tbody tr th:only-of-type {\n",
       "        vertical-align: middle;\n",
       "    }\n",
       "\n",
       "    .dataframe tbody tr th {\n",
       "        vertical-align: top;\n",
       "    }\n",
       "\n",
       "    .dataframe thead th {\n",
       "        text-align: right;\n",
       "    }\n",
       "</style>\n",
       "<table border=\"1\" class=\"dataframe\">\n",
       "  <thead>\n",
       "    <tr style=\"text-align: right;\">\n",
       "      <th></th>\n",
       "      <th>title</th>\n",
       "      <th>rank</th>\n",
       "      <th>genre</th>\n",
       "      <th>description</th>\n",
       "      <th>director</th>\n",
       "      <th>actors</th>\n",
       "      <th>year</th>\n",
       "      <th>runtime_in_minutes</th>\n",
       "      <th>rating</th>\n",
       "      <th>votes</th>\n",
       "      <th>revenue_in_millions</th>\n",
       "      <th>metascore</th>\n",
       "    </tr>\n",
       "  </thead>\n",
       "  <tbody>\n",
       "    <tr>\n",
       "      <th>507</th>\n",
       "      <td>(500) Days of Summer</td>\n",
       "      <td>508</td>\n",
       "      <td>Comedy,Drama,Romance</td>\n",
       "      <td>An offbeat romantic comedy about a woman who d...</td>\n",
       "      <td>Marc Webb</td>\n",
       "      <td>Zooey Deschanel, Joseph Gordon-Levitt, Geoffre...</td>\n",
       "      <td>2009</td>\n",
       "      <td>95</td>\n",
       "      <td>7.7</td>\n",
       "      <td>398972</td>\n",
       "      <td>32.39</td>\n",
       "      <td>76.0</td>\n",
       "    </tr>\n",
       "    <tr>\n",
       "      <th>507</th>\n",
       "      <td>(500) Days of Summer</td>\n",
       "      <td>508</td>\n",
       "      <td>Comedy,Drama,Romance</td>\n",
       "      <td>An offbeat romantic comedy about a woman who d...</td>\n",
       "      <td>Marc Webb</td>\n",
       "      <td>Zooey Deschanel, Joseph Gordon-Levitt, Geoffre...</td>\n",
       "      <td>2009</td>\n",
       "      <td>95</td>\n",
       "      <td>7.7</td>\n",
       "      <td>398972</td>\n",
       "      <td>32.39</td>\n",
       "      <td>76.0</td>\n",
       "    </tr>\n",
       "    <tr>\n",
       "      <th>118</th>\n",
       "      <td>10 Cloverfield Lane</td>\n",
       "      <td>119</td>\n",
       "      <td>Drama,Horror,Mystery</td>\n",
       "      <td>After getting in a car accident, a woman is he...</td>\n",
       "      <td>Dan Trachtenberg</td>\n",
       "      <td>John Goodman, Mary Elizabeth Winstead, John Ga...</td>\n",
       "      <td>2016</td>\n",
       "      <td>104</td>\n",
       "      <td>7.2</td>\n",
       "      <td>192968</td>\n",
       "      <td>71.90</td>\n",
       "      <td>76.0</td>\n",
       "    </tr>\n",
       "    <tr>\n",
       "      <th>118</th>\n",
       "      <td>10 Cloverfield Lane</td>\n",
       "      <td>119</td>\n",
       "      <td>Drama,Horror,Mystery</td>\n",
       "      <td>After getting in a car accident, a woman is he...</td>\n",
       "      <td>Dan Trachtenberg</td>\n",
       "      <td>John Goodman, Mary Elizabeth Winstead, John Ga...</td>\n",
       "      <td>2016</td>\n",
       "      <td>104</td>\n",
       "      <td>7.2</td>\n",
       "      <td>192968</td>\n",
       "      <td>71.90</td>\n",
       "      <td>76.0</td>\n",
       "    </tr>\n",
       "    <tr>\n",
       "      <th>696</th>\n",
       "      <td>10 Years</td>\n",
       "      <td>697</td>\n",
       "      <td>Comedy,Drama,Romance</td>\n",
       "      <td>The night before their high school reunion, a ...</td>\n",
       "      <td>Jamie Linden</td>\n",
       "      <td>Channing Tatum, Rosario Dawson, Chris Pratt, J...</td>\n",
       "      <td>2011</td>\n",
       "      <td>100</td>\n",
       "      <td>6.1</td>\n",
       "      <td>19636</td>\n",
       "      <td>0.20</td>\n",
       "      <td>NaN</td>\n",
       "    </tr>\n",
       "  </tbody>\n",
       "</table>\n",
       "</div>"
      ],
      "text/plain": [
       "                    title  rank                 genre  \\\n",
       "507  (500) Days of Summer   508  Comedy,Drama,Romance   \n",
       "507  (500) Days of Summer   508  Comedy,Drama,Romance   \n",
       "118   10 Cloverfield Lane   119  Drama,Horror,Mystery   \n",
       "118   10 Cloverfield Lane   119  Drama,Horror,Mystery   \n",
       "696              10 Years   697  Comedy,Drama,Romance   \n",
       "\n",
       "                                           description          director  \\\n",
       "507  An offbeat romantic comedy about a woman who d...         Marc Webb   \n",
       "507  An offbeat romantic comedy about a woman who d...         Marc Webb   \n",
       "118  After getting in a car accident, a woman is he...  Dan Trachtenberg   \n",
       "118  After getting in a car accident, a woman is he...  Dan Trachtenberg   \n",
       "696  The night before their high school reunion, a ...      Jamie Linden   \n",
       "\n",
       "                                                actors  year  \\\n",
       "507  Zooey Deschanel, Joseph Gordon-Levitt, Geoffre...  2009   \n",
       "507  Zooey Deschanel, Joseph Gordon-Levitt, Geoffre...  2009   \n",
       "118  John Goodman, Mary Elizabeth Winstead, John Ga...  2016   \n",
       "118  John Goodman, Mary Elizabeth Winstead, John Ga...  2016   \n",
       "696  Channing Tatum, Rosario Dawson, Chris Pratt, J...  2011   \n",
       "\n",
       "     runtime_in_minutes  rating   votes  revenue_in_millions  metascore  \n",
       "507                  95     7.7  398972                32.39       76.0  \n",
       "507                  95     7.7  398972                32.39       76.0  \n",
       "118                 104     7.2  192968                71.90       76.0  \n",
       "118                 104     7.2  192968                71.90       76.0  \n",
       "696                 100     6.1   19636                 0.20        NaN  "
      ]
     },
     "execution_count": 14,
     "metadata": {},
     "output_type": "execute_result"
    }
   ],
   "source": [
    "# Let's view df_temp sorted\n",
    "df_temp.sort_values(by='title', axis=0, inplace=True)\n",
    "df_temp.head()"
   ]
  },
  {
   "cell_type": "markdown",
   "id": "f3c4cacb",
   "metadata": {
    "papermill": {
     "duration": 0.045217,
     "end_time": "2022-12-29T21:49:27.629083",
     "exception": false,
     "start_time": "2022-12-29T21:49:27.583866",
     "status": "completed"
    },
    "tags": []
   },
   "source": [
    "Now, we will try removing duplicates using the following function: \n",
    "\n",
    "- `df.drop_duplicates(subset= [sequence of columns], keep='first/last/False', inplace=True/False)` : \n",
    "    For `keep` argument it has the following 3 cases. \n",
    "            * 'first' ---> to keep only the first occurace of the row\n",
    "            * 'last'  ---> to keep the last occurance of the row\n",
    "            * 'False' ---> to delete any duplicates with any number of occurances"
   ]
  },
  {
   "cell_type": "code",
   "execution_count": 15,
   "id": "15530463",
   "metadata": {
    "execution": {
     "iopub.execute_input": "2022-12-29T21:49:27.722347Z",
     "iopub.status.busy": "2022-12-29T21:49:27.721881Z",
     "iopub.status.idle": "2022-12-29T21:49:27.740971Z",
     "shell.execute_reply": "2022-12-29T21:49:27.739407Z"
    },
    "papermill": {
     "duration": 0.069663,
     "end_time": "2022-12-29T21:49:27.743894",
     "exception": false,
     "start_time": "2022-12-29T21:49:27.674231",
     "status": "completed"
    },
    "tags": []
   },
   "outputs": [
    {
     "data": {
      "text/plain": [
       "(1000, 12)"
      ]
     },
     "execution_count": 15,
     "metadata": {},
     "output_type": "execute_result"
    }
   ],
   "source": [
    "# Now we will try to drop the full-row duplicates\n",
    "df_temp.drop_duplicates(inplace=True)\n",
    "# check the shape\n",
    "df_temp.shape"
   ]
  },
  {
   "cell_type": "markdown",
   "id": "6e15a16e",
   "metadata": {
    "papermill": {
     "duration": 0.046854,
     "end_time": "2022-12-29T21:49:27.838273",
     "exception": false,
     "start_time": "2022-12-29T21:49:27.791419",
     "status": "completed"
    },
    "tags": []
   },
   "source": [
    "Lets re-create the `df_temp` again to study the effect of the `keep` arguement"
   ]
  },
  {
   "cell_type": "code",
   "execution_count": 16,
   "id": "49eecf3d",
   "metadata": {
    "execution": {
     "iopub.execute_input": "2022-12-29T21:49:27.935979Z",
     "iopub.status.busy": "2022-12-29T21:49:27.935252Z",
     "iopub.status.idle": "2022-12-29T21:49:27.945010Z",
     "shell.execute_reply": "2022-12-29T21:49:27.943995Z"
    },
    "papermill": {
     "duration": 0.061449,
     "end_time": "2022-12-29T21:49:27.947972",
     "exception": false,
     "start_time": "2022-12-29T21:49:27.886523",
     "status": "completed"
    },
    "tags": []
   },
   "outputs": [
    {
     "data": {
      "text/plain": [
       "(2000, 12)"
      ]
     },
     "execution_count": 16,
     "metadata": {},
     "output_type": "execute_result"
    }
   ],
   "source": [
    "# let's create it a temp df\n",
    "df_temp = pd.concat([df_movies, df_movies], axis = 0)\n",
    "# check shape\n",
    "df_temp.shape"
   ]
  },
  {
   "cell_type": "markdown",
   "id": "b44da6d1",
   "metadata": {
    "papermill": {
     "duration": 0.046925,
     "end_time": "2022-12-29T21:49:28.041921",
     "exception": false,
     "start_time": "2022-12-29T21:49:27.994996",
     "status": "completed"
    },
    "tags": []
   },
   "source": [
    "Now, we'll remove any rows that have any duplicates. that's mean the remaining number of rows will be 0\n"
   ]
  },
  {
   "cell_type": "code",
   "execution_count": 17,
   "id": "0f53a57d",
   "metadata": {
    "execution": {
     "iopub.execute_input": "2022-12-29T21:49:28.137648Z",
     "iopub.status.busy": "2022-12-29T21:49:28.137230Z",
     "iopub.status.idle": "2022-12-29T21:49:28.151319Z",
     "shell.execute_reply": "2022-12-29T21:49:28.150484Z"
    },
    "papermill": {
     "duration": 0.06504,
     "end_time": "2022-12-29T21:49:28.153808",
     "exception": false,
     "start_time": "2022-12-29T21:49:28.088768",
     "status": "completed"
    },
    "tags": []
   },
   "outputs": [
    {
     "data": {
      "text/plain": [
       "(0, 12)"
      ]
     },
     "execution_count": 17,
     "metadata": {},
     "output_type": "execute_result"
    }
   ],
   "source": [
    "df_temp.drop_duplicates(inplace=True, keep=False)\n",
    "# check the shape\n",
    "df_temp.shape"
   ]
  },
  {
   "cell_type": "markdown",
   "id": "e72f53c3",
   "metadata": {
    "papermill": {
     "duration": 0.046927,
     "end_time": "2022-12-29T21:49:28.249137",
     "exception": false,
     "start_time": "2022-12-29T21:49:28.202210",
     "status": "completed"
    },
    "tags": []
   },
   "source": [
    "# Slicing and Selecting in DataFrames\n",
    "\n",
    "Always, we will need to select and slice some parts of the DataFrame. The selecting process may be arbitrary, for example, some specific rows and columns or select based on some conditions. \n",
    "\n",
    "Now, as our dataframe is consisting of 1000 unique movie, it's better to make our index as the `title` column\n",
    "\n",
    "- `df.set_index('column_name', inplace=True/False)`: Check [documentation](https://pandas.pydata.org/docs/reference/api/pandas.DataFrame.set_index.html)\n"
   ]
  },
  {
   "cell_type": "code",
   "execution_count": 18,
   "id": "aa186dcb",
   "metadata": {
    "execution": {
     "iopub.execute_input": "2022-12-29T21:49:28.345546Z",
     "iopub.status.busy": "2022-12-29T21:49:28.344828Z",
     "iopub.status.idle": "2022-12-29T21:49:28.362655Z",
     "shell.execute_reply": "2022-12-29T21:49:28.361282Z"
    },
    "papermill": {
     "duration": 0.068637,
     "end_time": "2022-12-29T21:49:28.365124",
     "exception": false,
     "start_time": "2022-12-29T21:49:28.296487",
     "status": "completed"
    },
    "tags": []
   },
   "outputs": [
    {
     "data": {
      "text/html": [
       "<div>\n",
       "<style scoped>\n",
       "    .dataframe tbody tr th:only-of-type {\n",
       "        vertical-align: middle;\n",
       "    }\n",
       "\n",
       "    .dataframe tbody tr th {\n",
       "        vertical-align: top;\n",
       "    }\n",
       "\n",
       "    .dataframe thead th {\n",
       "        text-align: right;\n",
       "    }\n",
       "</style>\n",
       "<table border=\"1\" class=\"dataframe\">\n",
       "  <thead>\n",
       "    <tr style=\"text-align: right;\">\n",
       "      <th></th>\n",
       "      <th>rank</th>\n",
       "      <th>genre</th>\n",
       "      <th>description</th>\n",
       "      <th>director</th>\n",
       "      <th>actors</th>\n",
       "      <th>year</th>\n",
       "      <th>runtime_in_minutes</th>\n",
       "      <th>rating</th>\n",
       "      <th>votes</th>\n",
       "      <th>revenue_in_millions</th>\n",
       "      <th>metascore</th>\n",
       "    </tr>\n",
       "    <tr>\n",
       "      <th>title</th>\n",
       "      <th></th>\n",
       "      <th></th>\n",
       "      <th></th>\n",
       "      <th></th>\n",
       "      <th></th>\n",
       "      <th></th>\n",
       "      <th></th>\n",
       "      <th></th>\n",
       "      <th></th>\n",
       "      <th></th>\n",
       "      <th></th>\n",
       "    </tr>\n",
       "  </thead>\n",
       "  <tbody>\n",
       "    <tr>\n",
       "      <th>Guardians of the Galaxy</th>\n",
       "      <td>1</td>\n",
       "      <td>Action,Adventure,Sci-Fi</td>\n",
       "      <td>A group of intergalactic criminals are forced ...</td>\n",
       "      <td>James Gunn</td>\n",
       "      <td>Chris Pratt, Vin Diesel, Bradley Cooper, Zoe S...</td>\n",
       "      <td>2014</td>\n",
       "      <td>121</td>\n",
       "      <td>8.1</td>\n",
       "      <td>757074</td>\n",
       "      <td>333.13</td>\n",
       "      <td>76.0</td>\n",
       "    </tr>\n",
       "    <tr>\n",
       "      <th>Prometheus</th>\n",
       "      <td>2</td>\n",
       "      <td>Adventure,Mystery,Sci-Fi</td>\n",
       "      <td>Following clues to the origin of mankind, a te...</td>\n",
       "      <td>Ridley Scott</td>\n",
       "      <td>Noomi Rapace, Logan Marshall-Green, Michael Fa...</td>\n",
       "      <td>2012</td>\n",
       "      <td>124</td>\n",
       "      <td>7.0</td>\n",
       "      <td>485820</td>\n",
       "      <td>126.46</td>\n",
       "      <td>65.0</td>\n",
       "    </tr>\n",
       "    <tr>\n",
       "      <th>Split</th>\n",
       "      <td>3</td>\n",
       "      <td>Horror,Thriller</td>\n",
       "      <td>Three girls are kidnapped by a man with a diag...</td>\n",
       "      <td>M. Night Shyamalan</td>\n",
       "      <td>James McAvoy, Anya Taylor-Joy, Haley Lu Richar...</td>\n",
       "      <td>2016</td>\n",
       "      <td>117</td>\n",
       "      <td>7.3</td>\n",
       "      <td>157606</td>\n",
       "      <td>138.12</td>\n",
       "      <td>62.0</td>\n",
       "    </tr>\n",
       "    <tr>\n",
       "      <th>Sing</th>\n",
       "      <td>4</td>\n",
       "      <td>Animation,Comedy,Family</td>\n",
       "      <td>In a city of humanoid animals, a hustling thea...</td>\n",
       "      <td>Christophe Lourdelet</td>\n",
       "      <td>Matthew McConaughey,Reese Witherspoon, Seth Ma...</td>\n",
       "      <td>2016</td>\n",
       "      <td>108</td>\n",
       "      <td>7.2</td>\n",
       "      <td>60545</td>\n",
       "      <td>270.32</td>\n",
       "      <td>59.0</td>\n",
       "    </tr>\n",
       "    <tr>\n",
       "      <th>Suicide Squad</th>\n",
       "      <td>5</td>\n",
       "      <td>Action,Adventure,Fantasy</td>\n",
       "      <td>A secret government agency recruits some of th...</td>\n",
       "      <td>David Ayer</td>\n",
       "      <td>Will Smith, Jared Leto, Margot Robbie, Viola D...</td>\n",
       "      <td>2016</td>\n",
       "      <td>123</td>\n",
       "      <td>6.2</td>\n",
       "      <td>393727</td>\n",
       "      <td>325.02</td>\n",
       "      <td>40.0</td>\n",
       "    </tr>\n",
       "  </tbody>\n",
       "</table>\n",
       "</div>"
      ],
      "text/plain": [
       "                         rank                     genre  \\\n",
       "title                                                     \n",
       "Guardians of the Galaxy     1   Action,Adventure,Sci-Fi   \n",
       "Prometheus                  2  Adventure,Mystery,Sci-Fi   \n",
       "Split                       3           Horror,Thriller   \n",
       "Sing                        4   Animation,Comedy,Family   \n",
       "Suicide Squad               5  Action,Adventure,Fantasy   \n",
       "\n",
       "                                                               description  \\\n",
       "title                                                                        \n",
       "Guardians of the Galaxy  A group of intergalactic criminals are forced ...   \n",
       "Prometheus               Following clues to the origin of mankind, a te...   \n",
       "Split                    Three girls are kidnapped by a man with a diag...   \n",
       "Sing                     In a city of humanoid animals, a hustling thea...   \n",
       "Suicide Squad            A secret government agency recruits some of th...   \n",
       "\n",
       "                                     director  \\\n",
       "title                                           \n",
       "Guardians of the Galaxy            James Gunn   \n",
       "Prometheus                       Ridley Scott   \n",
       "Split                      M. Night Shyamalan   \n",
       "Sing                     Christophe Lourdelet   \n",
       "Suicide Squad                      David Ayer   \n",
       "\n",
       "                                                                    actors  \\\n",
       "title                                                                        \n",
       "Guardians of the Galaxy  Chris Pratt, Vin Diesel, Bradley Cooper, Zoe S...   \n",
       "Prometheus               Noomi Rapace, Logan Marshall-Green, Michael Fa...   \n",
       "Split                    James McAvoy, Anya Taylor-Joy, Haley Lu Richar...   \n",
       "Sing                     Matthew McConaughey,Reese Witherspoon, Seth Ma...   \n",
       "Suicide Squad            Will Smith, Jared Leto, Margot Robbie, Viola D...   \n",
       "\n",
       "                         year  runtime_in_minutes  rating   votes  \\\n",
       "title                                                               \n",
       "Guardians of the Galaxy  2014                 121     8.1  757074   \n",
       "Prometheus               2012                 124     7.0  485820   \n",
       "Split                    2016                 117     7.3  157606   \n",
       "Sing                     2016                 108     7.2   60545   \n",
       "Suicide Squad            2016                 123     6.2  393727   \n",
       "\n",
       "                         revenue_in_millions  metascore  \n",
       "title                                                    \n",
       "Guardians of the Galaxy               333.13       76.0  \n",
       "Prometheus                            126.46       65.0  \n",
       "Split                                 138.12       62.0  \n",
       "Sing                                  270.32       59.0  \n",
       "Suicide Squad                         325.02       40.0  "
      ]
     },
     "execution_count": 18,
     "metadata": {},
     "output_type": "execute_result"
    }
   ],
   "source": [
    "# Let's set the index to the 'title' column first\n",
    "df_movies.set_index('title',inplace=True)\n",
    "# Lets see a slice now. \n",
    "df_movies.head()"
   ]
  },
  {
   "cell_type": "markdown",
   "id": "6809d49e",
   "metadata": {
    "papermill": {
     "duration": 0.04725,
     "end_time": "2022-12-29T21:49:28.459355",
     "exception": false,
     "start_time": "2022-12-29T21:49:28.412105",
     "status": "completed"
    },
    "tags": []
   },
   "source": [
    "How to select specific rows/columns? \n",
    "\n",
    "- `df.loc[]`: used to select specific rows/columns by names using the following syntax : \n",
    "    ```Python\n",
    "    df.loc[rows_range_by_names: columns_range_by_names]\n",
    "    ```\n",
    "- `df.iloc[]`: used to select specific rows/columns by number index using the following syntax :\n",
    "    ```Python\n",
    "    df.iloc[rows_range_by_numbers: columns_range_by_numbers]\n",
    "    ```\n",
    "    \n",
    "Now, we want to select some info about `Split` movie, starting from `rank` to `actors` columns."
   ]
  },
  {
   "cell_type": "code",
   "execution_count": 19,
   "id": "c269fd8e",
   "metadata": {
    "execution": {
     "iopub.execute_input": "2022-12-29T21:49:28.556549Z",
     "iopub.status.busy": "2022-12-29T21:49:28.555894Z",
     "iopub.status.idle": "2022-12-29T21:49:28.569979Z",
     "shell.execute_reply": "2022-12-29T21:49:28.568805Z"
    },
    "papermill": {
     "duration": 0.065703,
     "end_time": "2022-12-29T21:49:28.572379",
     "exception": false,
     "start_time": "2022-12-29T21:49:28.506676",
     "status": "completed"
    },
    "tags": []
   },
   "outputs": [
    {
     "data": {
      "text/plain": [
       "rank                                                           3\n",
       "genre                                            Horror,Thriller\n",
       "description    Three girls are kidnapped by a man with a diag...\n",
       "director                                      M. Night Shyamalan\n",
       "actors         James McAvoy, Anya Taylor-Joy, Haley Lu Richar...\n",
       "Name: Split, dtype: object"
      ]
     },
     "execution_count": 19,
     "metadata": {},
     "output_type": "execute_result"
    }
   ],
   "source": [
    "# let's try loc\n",
    "split_loc0 = df_movies.loc['Split', 'rank': 'actors' ]\n",
    "# print the split\n",
    "split_loc0"
   ]
  },
  {
   "cell_type": "markdown",
   "id": "16ab480c",
   "metadata": {
    "papermill": {
     "duration": 0.046913,
     "end_time": "2022-12-29T21:49:28.666239",
     "exception": false,
     "start_time": "2022-12-29T21:49:28.619326",
     "status": "completed"
    },
    "tags": []
   },
   "source": [
    "Lets try to beatify the output a little bit."
   ]
  },
  {
   "cell_type": "code",
   "execution_count": 20,
   "id": "130596f3",
   "metadata": {
    "execution": {
     "iopub.execute_input": "2022-12-29T21:49:28.764092Z",
     "iopub.status.busy": "2022-12-29T21:49:28.762602Z",
     "iopub.status.idle": "2022-12-29T21:49:28.777092Z",
     "shell.execute_reply": "2022-12-29T21:49:28.776142Z"
    },
    "papermill": {
     "duration": 0.06586,
     "end_time": "2022-12-29T21:49:28.779599",
     "exception": false,
     "start_time": "2022-12-29T21:49:28.713739",
     "status": "completed"
    },
    "tags": []
   },
   "outputs": [
    {
     "data": {
      "text/html": [
       "<div>\n",
       "<style scoped>\n",
       "    .dataframe tbody tr th:only-of-type {\n",
       "        vertical-align: middle;\n",
       "    }\n",
       "\n",
       "    .dataframe tbody tr th {\n",
       "        vertical-align: top;\n",
       "    }\n",
       "\n",
       "    .dataframe thead th {\n",
       "        text-align: right;\n",
       "    }\n",
       "</style>\n",
       "<table border=\"1\" class=\"dataframe\">\n",
       "  <thead>\n",
       "    <tr style=\"text-align: right;\">\n",
       "      <th></th>\n",
       "      <th>rank</th>\n",
       "      <th>genre</th>\n",
       "      <th>description</th>\n",
       "      <th>director</th>\n",
       "      <th>actors</th>\n",
       "    </tr>\n",
       "  </thead>\n",
       "  <tbody>\n",
       "    <tr>\n",
       "      <th>Split</th>\n",
       "      <td>3</td>\n",
       "      <td>Horror,Thriller</td>\n",
       "      <td>Three girls are kidnapped by a man with a diag...</td>\n",
       "      <td>M. Night Shyamalan</td>\n",
       "      <td>James McAvoy, Anya Taylor-Joy, Haley Lu Richar...</td>\n",
       "    </tr>\n",
       "  </tbody>\n",
       "</table>\n",
       "</div>"
      ],
      "text/plain": [
       "      rank            genre  \\\n",
       "Split    3  Horror,Thriller   \n",
       "\n",
       "                                             description            director  \\\n",
       "Split  Three girls are kidnapped by a man with a diag...  M. Night Shyamalan   \n",
       "\n",
       "                                                  actors  \n",
       "Split  James McAvoy, Anya Taylor-Joy, Haley Lu Richar...  "
      ]
     },
     "execution_count": 20,
     "metadata": {},
     "output_type": "execute_result"
    }
   ],
   "source": [
    "pd.DataFrame(split_loc0).T"
   ]
  },
  {
   "cell_type": "markdown",
   "id": "fac2c058",
   "metadata": {
    "papermill": {
     "duration": 0.049212,
     "end_time": "2022-12-29T21:49:28.877264",
     "exception": false,
     "start_time": "2022-12-29T21:49:28.828052",
     "status": "completed"
    },
    "tags": []
   },
   "source": [
    "If we want to view all columns for `Split` movie."
   ]
  },
  {
   "cell_type": "code",
   "execution_count": 21,
   "id": "786914af",
   "metadata": {
    "execution": {
     "iopub.execute_input": "2022-12-29T21:49:29.072953Z",
     "iopub.status.busy": "2022-12-29T21:49:29.072215Z",
     "iopub.status.idle": "2022-12-29T21:49:29.089480Z",
     "shell.execute_reply": "2022-12-29T21:49:29.088628Z"
    },
    "papermill": {
     "duration": 0.165309,
     "end_time": "2022-12-29T21:49:29.091741",
     "exception": false,
     "start_time": "2022-12-29T21:49:28.926432",
     "status": "completed"
    },
    "tags": []
   },
   "outputs": [
    {
     "data": {
      "text/html": [
       "<div>\n",
       "<style scoped>\n",
       "    .dataframe tbody tr th:only-of-type {\n",
       "        vertical-align: middle;\n",
       "    }\n",
       "\n",
       "    .dataframe tbody tr th {\n",
       "        vertical-align: top;\n",
       "    }\n",
       "\n",
       "    .dataframe thead th {\n",
       "        text-align: right;\n",
       "    }\n",
       "</style>\n",
       "<table border=\"1\" class=\"dataframe\">\n",
       "  <thead>\n",
       "    <tr style=\"text-align: right;\">\n",
       "      <th></th>\n",
       "      <th>rank</th>\n",
       "      <th>genre</th>\n",
       "      <th>description</th>\n",
       "      <th>director</th>\n",
       "      <th>actors</th>\n",
       "      <th>year</th>\n",
       "      <th>runtime_in_minutes</th>\n",
       "      <th>rating</th>\n",
       "      <th>votes</th>\n",
       "      <th>revenue_in_millions</th>\n",
       "      <th>metascore</th>\n",
       "    </tr>\n",
       "  </thead>\n",
       "  <tbody>\n",
       "    <tr>\n",
       "      <th>Split</th>\n",
       "      <td>3</td>\n",
       "      <td>Horror,Thriller</td>\n",
       "      <td>Three girls are kidnapped by a man with a diag...</td>\n",
       "      <td>M. Night Shyamalan</td>\n",
       "      <td>James McAvoy, Anya Taylor-Joy, Haley Lu Richar...</td>\n",
       "      <td>2016</td>\n",
       "      <td>117</td>\n",
       "      <td>7.3</td>\n",
       "      <td>157606</td>\n",
       "      <td>138.12</td>\n",
       "      <td>62.0</td>\n",
       "    </tr>\n",
       "  </tbody>\n",
       "</table>\n",
       "</div>"
      ],
      "text/plain": [
       "      rank            genre  \\\n",
       "Split    3  Horror,Thriller   \n",
       "\n",
       "                                             description            director  \\\n",
       "Split  Three girls are kidnapped by a man with a diag...  M. Night Shyamalan   \n",
       "\n",
       "                                                  actors  year  \\\n",
       "Split  James McAvoy, Anya Taylor-Joy, Haley Lu Richar...  2016   \n",
       "\n",
       "      runtime_in_minutes rating   votes revenue_in_millions metascore  \n",
       "Split                117    7.3  157606              138.12      62.0  "
      ]
     },
     "execution_count": 21,
     "metadata": {},
     "output_type": "execute_result"
    }
   ],
   "source": [
    "split_loc1 = df_movies.loc['Split', :  ]\n",
    "# print the split\n",
    "pd.DataFrame(split_loc1).T"
   ]
  },
  {
   "cell_type": "markdown",
   "id": "b36b9e35",
   "metadata": {
    "papermill": {
     "duration": 0.049213,
     "end_time": "2022-12-29T21:49:29.189749",
     "exception": false,
     "start_time": "2022-12-29T21:49:29.140536",
     "status": "completed"
    },
    "tags": []
   },
   "source": [
    "We can use another form when using `df.loc[]`."
   ]
  },
  {
   "cell_type": "code",
   "execution_count": 22,
   "id": "d5bb1cf6",
   "metadata": {
    "execution": {
     "iopub.execute_input": "2022-12-29T21:49:29.288517Z",
     "iopub.status.busy": "2022-12-29T21:49:29.287513Z",
     "iopub.status.idle": "2022-12-29T21:49:29.304751Z",
     "shell.execute_reply": "2022-12-29T21:49:29.303460Z"
    },
    "papermill": {
     "duration": 0.069409,
     "end_time": "2022-12-29T21:49:29.307789",
     "exception": false,
     "start_time": "2022-12-29T21:49:29.238380",
     "status": "completed"
    },
    "tags": []
   },
   "outputs": [
    {
     "data": {
      "text/html": [
       "<div>\n",
       "<style scoped>\n",
       "    .dataframe tbody tr th:only-of-type {\n",
       "        vertical-align: middle;\n",
       "    }\n",
       "\n",
       "    .dataframe tbody tr th {\n",
       "        vertical-align: top;\n",
       "    }\n",
       "\n",
       "    .dataframe thead th {\n",
       "        text-align: right;\n",
       "    }\n",
       "</style>\n",
       "<table border=\"1\" class=\"dataframe\">\n",
       "  <thead>\n",
       "    <tr style=\"text-align: right;\">\n",
       "      <th></th>\n",
       "      <th>rank</th>\n",
       "      <th>genre</th>\n",
       "      <th>description</th>\n",
       "      <th>director</th>\n",
       "      <th>actors</th>\n",
       "      <th>year</th>\n",
       "      <th>runtime_in_minutes</th>\n",
       "      <th>rating</th>\n",
       "      <th>votes</th>\n",
       "      <th>revenue_in_millions</th>\n",
       "      <th>metascore</th>\n",
       "    </tr>\n",
       "  </thead>\n",
       "  <tbody>\n",
       "    <tr>\n",
       "      <th>Split</th>\n",
       "      <td>3</td>\n",
       "      <td>Horror,Thriller</td>\n",
       "      <td>Three girls are kidnapped by a man with a diag...</td>\n",
       "      <td>M. Night Shyamalan</td>\n",
       "      <td>James McAvoy, Anya Taylor-Joy, Haley Lu Richar...</td>\n",
       "      <td>2016</td>\n",
       "      <td>117</td>\n",
       "      <td>7.3</td>\n",
       "      <td>157606</td>\n",
       "      <td>138.12</td>\n",
       "      <td>62.0</td>\n",
       "    </tr>\n",
       "  </tbody>\n",
       "</table>\n",
       "</div>"
      ],
      "text/plain": [
       "      rank            genre  \\\n",
       "Split    3  Horror,Thriller   \n",
       "\n",
       "                                             description            director  \\\n",
       "Split  Three girls are kidnapped by a man with a diag...  M. Night Shyamalan   \n",
       "\n",
       "                                                  actors  year  \\\n",
       "Split  James McAvoy, Anya Taylor-Joy, Haley Lu Richar...  2016   \n",
       "\n",
       "      runtime_in_minutes rating   votes revenue_in_millions metascore  \n",
       "Split                117    7.3  157606              138.12      62.0  "
      ]
     },
     "execution_count": 22,
     "metadata": {},
     "output_type": "execute_result"
    }
   ],
   "source": [
    "# Another form of loc\n",
    "split_loc2 = df_movies.loc['Split']\n",
    "# print the split\n",
    "pd.DataFrame(split_loc2).T"
   ]
  },
  {
   "cell_type": "markdown",
   "id": "cce331fe",
   "metadata": {
    "papermill": {
     "duration": 0.047566,
     "end_time": "2022-12-29T21:49:29.402902",
     "exception": false,
     "start_time": "2022-12-29T21:49:29.355336",
     "status": "completed"
    },
    "tags": []
   },
   "source": [
    "We can obrain the same result using `df.iloc[]` . Remember the `Split` movie is ranked 3 which will be 2 when taking 0-indexing into consideration."
   ]
  },
  {
   "cell_type": "code",
   "execution_count": 23,
   "id": "7cd5bc10",
   "metadata": {
    "execution": {
     "iopub.execute_input": "2022-12-29T21:49:29.505643Z",
     "iopub.status.busy": "2022-12-29T21:49:29.504747Z",
     "iopub.status.idle": "2022-12-29T21:49:29.523875Z",
     "shell.execute_reply": "2022-12-29T21:49:29.522836Z"
    },
    "papermill": {
     "duration": 0.07252,
     "end_time": "2022-12-29T21:49:29.526073",
     "exception": false,
     "start_time": "2022-12-29T21:49:29.453553",
     "status": "completed"
    },
    "tags": []
   },
   "outputs": [
    {
     "data": {
      "text/html": [
       "<div>\n",
       "<style scoped>\n",
       "    .dataframe tbody tr th:only-of-type {\n",
       "        vertical-align: middle;\n",
       "    }\n",
       "\n",
       "    .dataframe tbody tr th {\n",
       "        vertical-align: top;\n",
       "    }\n",
       "\n",
       "    .dataframe thead th {\n",
       "        text-align: right;\n",
       "    }\n",
       "</style>\n",
       "<table border=\"1\" class=\"dataframe\">\n",
       "  <thead>\n",
       "    <tr style=\"text-align: right;\">\n",
       "      <th></th>\n",
       "      <th>rank</th>\n",
       "      <th>genre</th>\n",
       "      <th>description</th>\n",
       "      <th>director</th>\n",
       "      <th>actors</th>\n",
       "      <th>year</th>\n",
       "      <th>runtime_in_minutes</th>\n",
       "      <th>rating</th>\n",
       "      <th>votes</th>\n",
       "      <th>revenue_in_millions</th>\n",
       "      <th>metascore</th>\n",
       "    </tr>\n",
       "  </thead>\n",
       "  <tbody>\n",
       "    <tr>\n",
       "      <th>Split</th>\n",
       "      <td>3</td>\n",
       "      <td>Horror,Thriller</td>\n",
       "      <td>Three girls are kidnapped by a man with a diag...</td>\n",
       "      <td>M. Night Shyamalan</td>\n",
       "      <td>James McAvoy, Anya Taylor-Joy, Haley Lu Richar...</td>\n",
       "      <td>2016</td>\n",
       "      <td>117</td>\n",
       "      <td>7.3</td>\n",
       "      <td>157606</td>\n",
       "      <td>138.12</td>\n",
       "      <td>62.0</td>\n",
       "    </tr>\n",
       "  </tbody>\n",
       "</table>\n",
       "</div>"
      ],
      "text/plain": [
       "      rank            genre  \\\n",
       "Split    3  Horror,Thriller   \n",
       "\n",
       "                                             description            director  \\\n",
       "Split  Three girls are kidnapped by a man with a diag...  M. Night Shyamalan   \n",
       "\n",
       "                                                  actors  year  \\\n",
       "Split  James McAvoy, Anya Taylor-Joy, Haley Lu Richar...  2016   \n",
       "\n",
       "      runtime_in_minutes rating   votes revenue_in_millions metascore  \n",
       "Split                117    7.3  157606              138.12      62.0  "
      ]
     },
     "execution_count": 23,
     "metadata": {},
     "output_type": "execute_result"
    }
   ],
   "source": [
    "# let's try iloc\n",
    "split_iloc0 = df_movies.iloc[2]\n",
    "# print the split\n",
    "pd.DataFrame(split_iloc0).T"
   ]
  },
  {
   "cell_type": "markdown",
   "id": "63102ffb",
   "metadata": {
    "papermill": {
     "duration": 0.046701,
     "end_time": "2022-12-29T21:49:29.620569",
     "exception": false,
     "start_time": "2022-12-29T21:49:29.573868",
     "status": "completed"
    },
    "tags": []
   },
   "source": [
    "Suppose after importing the dataframe we want to work with a subset of it such as `genre` and `rating` columns\n"
   ]
  },
  {
   "cell_type": "code",
   "execution_count": 24,
   "id": "2a3cd869",
   "metadata": {
    "execution": {
     "iopub.execute_input": "2022-12-29T21:49:29.718138Z",
     "iopub.status.busy": "2022-12-29T21:49:29.717468Z",
     "iopub.status.idle": "2022-12-29T21:49:29.731845Z",
     "shell.execute_reply": "2022-12-29T21:49:29.730330Z"
    },
    "papermill": {
     "duration": 0.066693,
     "end_time": "2022-12-29T21:49:29.734508",
     "exception": false,
     "start_time": "2022-12-29T21:49:29.667815",
     "status": "completed"
    },
    "tags": []
   },
   "outputs": [
    {
     "data": {
      "text/html": [
       "<div>\n",
       "<style scoped>\n",
       "    .dataframe tbody tr th:only-of-type {\n",
       "        vertical-align: middle;\n",
       "    }\n",
       "\n",
       "    .dataframe tbody tr th {\n",
       "        vertical-align: top;\n",
       "    }\n",
       "\n",
       "    .dataframe thead th {\n",
       "        text-align: right;\n",
       "    }\n",
       "</style>\n",
       "<table border=\"1\" class=\"dataframe\">\n",
       "  <thead>\n",
       "    <tr style=\"text-align: right;\">\n",
       "      <th></th>\n",
       "      <th>genre</th>\n",
       "      <th>rating</th>\n",
       "    </tr>\n",
       "    <tr>\n",
       "      <th>title</th>\n",
       "      <th></th>\n",
       "      <th></th>\n",
       "    </tr>\n",
       "  </thead>\n",
       "  <tbody>\n",
       "    <tr>\n",
       "      <th>Guardians of the Galaxy</th>\n",
       "      <td>Action,Adventure,Sci-Fi</td>\n",
       "      <td>8.1</td>\n",
       "    </tr>\n",
       "    <tr>\n",
       "      <th>Prometheus</th>\n",
       "      <td>Adventure,Mystery,Sci-Fi</td>\n",
       "      <td>7.0</td>\n",
       "    </tr>\n",
       "    <tr>\n",
       "      <th>Split</th>\n",
       "      <td>Horror,Thriller</td>\n",
       "      <td>7.3</td>\n",
       "    </tr>\n",
       "    <tr>\n",
       "      <th>Sing</th>\n",
       "      <td>Animation,Comedy,Family</td>\n",
       "      <td>7.2</td>\n",
       "    </tr>\n",
       "    <tr>\n",
       "      <th>Suicide Squad</th>\n",
       "      <td>Action,Adventure,Fantasy</td>\n",
       "      <td>6.2</td>\n",
       "    </tr>\n",
       "  </tbody>\n",
       "</table>\n",
       "</div>"
      ],
      "text/plain": [
       "                                            genre  rating\n",
       "title                                                    \n",
       "Guardians of the Galaxy   Action,Adventure,Sci-Fi     8.1\n",
       "Prometheus               Adventure,Mystery,Sci-Fi     7.0\n",
       "Split                             Horror,Thriller     7.3\n",
       "Sing                      Animation,Comedy,Family     7.2\n",
       "Suicide Squad            Action,Adventure,Fantasy     6.2"
      ]
     },
     "execution_count": 24,
     "metadata": {},
     "output_type": "execute_result"
    }
   ],
   "source": [
    "df_movies_subset = df_movies[['genre', 'rating']]\n",
    "# print the head \n",
    "df_movies_subset.head()"
   ]
  },
  {
   "cell_type": "code",
   "execution_count": 25,
   "id": "cebdc121",
   "metadata": {
    "execution": {
     "iopub.execute_input": "2022-12-29T21:49:29.832354Z",
     "iopub.status.busy": "2022-12-29T21:49:29.831133Z",
     "iopub.status.idle": "2022-12-29T21:49:29.845614Z",
     "shell.execute_reply": "2022-12-29T21:49:29.844352Z"
    },
    "papermill": {
     "duration": 0.066871,
     "end_time": "2022-12-29T21:49:29.848906",
     "exception": false,
     "start_time": "2022-12-29T21:49:29.782035",
     "status": "completed"
    },
    "tags": []
   },
   "outputs": [
    {
     "name": "stdout",
     "output_type": "stream",
     "text": [
      "<class 'pandas.core.frame.DataFrame'>\n",
      "Index: 1000 entries, Guardians of the Galaxy to Nine Lives\n",
      "Data columns (total 2 columns):\n",
      " #   Column  Non-Null Count  Dtype  \n",
      "---  ------  --------------  -----  \n",
      " 0   genre   1000 non-null   object \n",
      " 1   rating  1000 non-null   float64\n",
      "dtypes: float64(1), object(1)\n",
      "memory usage: 55.7+ KB\n"
     ]
    }
   ],
   "source": [
    "df_movies_subset.info()"
   ]
  },
  {
   "cell_type": "markdown",
   "id": "0859186c",
   "metadata": {
    "papermill": {
     "duration": 0.047406,
     "end_time": "2022-12-29T21:49:29.944380",
     "exception": false,
     "start_time": "2022-12-29T21:49:29.896974",
     "status": "completed"
    },
    "tags": []
   },
   "source": [
    "Suppose your crietira for selection based on datatypes. Like you want to isolate all string columns in a separate dataframe\n",
    "- `df.select_dtypes(include = [], exclude = [])` :: method for filtering based on datatypes. Check [documentation](https://pandas.pydata.org/docs/reference/api/pandas.DataFrame.select_dtypes.html)\n",
    "\n",
    "Now, lets isolate all string columns in a separate dataframe"
   ]
  },
  {
   "cell_type": "code",
   "execution_count": 26,
   "id": "3831a938",
   "metadata": {
    "execution": {
     "iopub.execute_input": "2022-12-29T21:49:30.042037Z",
     "iopub.status.busy": "2022-12-29T21:49:30.041547Z",
     "iopub.status.idle": "2022-12-29T21:49:30.056930Z",
     "shell.execute_reply": "2022-12-29T21:49:30.055732Z"
    },
    "papermill": {
     "duration": 0.067623,
     "end_time": "2022-12-29T21:49:30.059301",
     "exception": false,
     "start_time": "2022-12-29T21:49:29.991678",
     "status": "completed"
    },
    "tags": []
   },
   "outputs": [
    {
     "data": {
      "text/html": [
       "<div>\n",
       "<style scoped>\n",
       "    .dataframe tbody tr th:only-of-type {\n",
       "        vertical-align: middle;\n",
       "    }\n",
       "\n",
       "    .dataframe tbody tr th {\n",
       "        vertical-align: top;\n",
       "    }\n",
       "\n",
       "    .dataframe thead th {\n",
       "        text-align: right;\n",
       "    }\n",
       "</style>\n",
       "<table border=\"1\" class=\"dataframe\">\n",
       "  <thead>\n",
       "    <tr style=\"text-align: right;\">\n",
       "      <th></th>\n",
       "      <th>genre</th>\n",
       "      <th>description</th>\n",
       "      <th>director</th>\n",
       "      <th>actors</th>\n",
       "    </tr>\n",
       "    <tr>\n",
       "      <th>title</th>\n",
       "      <th></th>\n",
       "      <th></th>\n",
       "      <th></th>\n",
       "      <th></th>\n",
       "    </tr>\n",
       "  </thead>\n",
       "  <tbody>\n",
       "    <tr>\n",
       "      <th>Guardians of the Galaxy</th>\n",
       "      <td>Action,Adventure,Sci-Fi</td>\n",
       "      <td>A group of intergalactic criminals are forced ...</td>\n",
       "      <td>James Gunn</td>\n",
       "      <td>Chris Pratt, Vin Diesel, Bradley Cooper, Zoe S...</td>\n",
       "    </tr>\n",
       "    <tr>\n",
       "      <th>Prometheus</th>\n",
       "      <td>Adventure,Mystery,Sci-Fi</td>\n",
       "      <td>Following clues to the origin of mankind, a te...</td>\n",
       "      <td>Ridley Scott</td>\n",
       "      <td>Noomi Rapace, Logan Marshall-Green, Michael Fa...</td>\n",
       "    </tr>\n",
       "    <tr>\n",
       "      <th>Split</th>\n",
       "      <td>Horror,Thriller</td>\n",
       "      <td>Three girls are kidnapped by a man with a diag...</td>\n",
       "      <td>M. Night Shyamalan</td>\n",
       "      <td>James McAvoy, Anya Taylor-Joy, Haley Lu Richar...</td>\n",
       "    </tr>\n",
       "    <tr>\n",
       "      <th>Sing</th>\n",
       "      <td>Animation,Comedy,Family</td>\n",
       "      <td>In a city of humanoid animals, a hustling thea...</td>\n",
       "      <td>Christophe Lourdelet</td>\n",
       "      <td>Matthew McConaughey,Reese Witherspoon, Seth Ma...</td>\n",
       "    </tr>\n",
       "    <tr>\n",
       "      <th>Suicide Squad</th>\n",
       "      <td>Action,Adventure,Fantasy</td>\n",
       "      <td>A secret government agency recruits some of th...</td>\n",
       "      <td>David Ayer</td>\n",
       "      <td>Will Smith, Jared Leto, Margot Robbie, Viola D...</td>\n",
       "    </tr>\n",
       "  </tbody>\n",
       "</table>\n",
       "</div>"
      ],
      "text/plain": [
       "                                            genre  \\\n",
       "title                                               \n",
       "Guardians of the Galaxy   Action,Adventure,Sci-Fi   \n",
       "Prometheus               Adventure,Mystery,Sci-Fi   \n",
       "Split                             Horror,Thriller   \n",
       "Sing                      Animation,Comedy,Family   \n",
       "Suicide Squad            Action,Adventure,Fantasy   \n",
       "\n",
       "                                                               description  \\\n",
       "title                                                                        \n",
       "Guardians of the Galaxy  A group of intergalactic criminals are forced ...   \n",
       "Prometheus               Following clues to the origin of mankind, a te...   \n",
       "Split                    Three girls are kidnapped by a man with a diag...   \n",
       "Sing                     In a city of humanoid animals, a hustling thea...   \n",
       "Suicide Squad            A secret government agency recruits some of th...   \n",
       "\n",
       "                                     director  \\\n",
       "title                                           \n",
       "Guardians of the Galaxy            James Gunn   \n",
       "Prometheus                       Ridley Scott   \n",
       "Split                      M. Night Shyamalan   \n",
       "Sing                     Christophe Lourdelet   \n",
       "Suicide Squad                      David Ayer   \n",
       "\n",
       "                                                                    actors  \n",
       "title                                                                       \n",
       "Guardians of the Galaxy  Chris Pratt, Vin Diesel, Bradley Cooper, Zoe S...  \n",
       "Prometheus               Noomi Rapace, Logan Marshall-Green, Michael Fa...  \n",
       "Split                    James McAvoy, Anya Taylor-Joy, Haley Lu Richar...  \n",
       "Sing                     Matthew McConaughey,Reese Witherspoon, Seth Ma...  \n",
       "Suicide Squad            Will Smith, Jared Leto, Margot Robbie, Viola D...  "
      ]
     },
     "execution_count": 26,
     "metadata": {},
     "output_type": "execute_result"
    }
   ],
   "source": [
    "# include all object columns\n",
    "df_movies_str = df_movies.select_dtypes(include=['object'])\n",
    "# Let's view it \n",
    "df_movies_str.head()"
   ]
  },
  {
   "cell_type": "markdown",
   "id": "1749eae1",
   "metadata": {
    "papermill": {
     "duration": 0.04798,
     "end_time": "2022-12-29T21:49:30.155470",
     "exception": false,
     "start_time": "2022-12-29T21:49:30.107490",
     "status": "completed"
    },
    "tags": []
   },
   "source": [
    "We can validate that using the `df.info()` method. "
   ]
  },
  {
   "cell_type": "code",
   "execution_count": 27,
   "id": "a79a1b32",
   "metadata": {
    "execution": {
     "iopub.execute_input": "2022-12-29T21:49:30.254745Z",
     "iopub.status.busy": "2022-12-29T21:49:30.254361Z",
     "iopub.status.idle": "2022-12-29T21:49:30.268127Z",
     "shell.execute_reply": "2022-12-29T21:49:30.266819Z"
    },
    "papermill": {
     "duration": 0.067909,
     "end_time": "2022-12-29T21:49:30.271479",
     "exception": false,
     "start_time": "2022-12-29T21:49:30.203570",
     "status": "completed"
    },
    "tags": []
   },
   "outputs": [
    {
     "name": "stdout",
     "output_type": "stream",
     "text": [
      "<class 'pandas.core.frame.DataFrame'>\n",
      "Index: 1000 entries, Guardians of the Galaxy to Nine Lives\n",
      "Data columns (total 4 columns):\n",
      " #   Column       Non-Null Count  Dtype \n",
      "---  ------       --------------  ----- \n",
      " 0   genre        1000 non-null   object\n",
      " 1   description  1000 non-null   object\n",
      " 2   director     1000 non-null   object\n",
      " 3   actors       1000 non-null   object\n",
      "dtypes: object(4)\n",
      "memory usage: 71.4+ KB\n"
     ]
    }
   ],
   "source": [
    "df_movies_str.info()"
   ]
  },
  {
   "cell_type": "markdown",
   "id": "20b7fa43",
   "metadata": {
    "papermill": {
     "duration": 0.047332,
     "end_time": "2022-12-29T21:49:30.367581",
     "exception": false,
     "start_time": "2022-12-29T21:49:30.320249",
     "status": "completed"
    },
    "tags": []
   },
   "source": [
    "All columns of `df_movies_str` are of data type objet, which represents strings."
   ]
  },
  {
   "cell_type": "markdown",
   "id": "a4d832be",
   "metadata": {
    "papermill": {
     "duration": 0.048008,
     "end_time": "2022-12-29T21:49:30.464641",
     "exception": false,
     "start_time": "2022-12-29T21:49:30.416633",
     "status": "completed"
    },
    "tags": []
   },
   "source": [
    "# Missing Values Handling\n",
    "\n",
    "Missing values are a common thing to check when exploring any dataframe and they are some handling techniques for them such as the following: \n",
    "- Dropping Null Values: When having a realtively small portion of rows with Null values we can simply drop them. \n",
    "    - `df.dropna(axis=1/0, inplace=True/False)`: This method will remove any rows with missing values. Check [documentation](https://pandas.pydata.org/docs/reference/api/pandas.DataFrame.dropna.html)\n",
    "- Imputation: Some times when the portion of Null values is slightly bigger we can choose some values to add in those Nulls such as the `mean` or `median` value for numerical columns and may be the most or least frequent category for object columns. Sometimes the imputation will be in a systematic way such as the example we will touch now.\n",
    "    - `df.fillna(value, method='ffill/bfill', inplace='True/False')`: This method will impute any values to the dataframe in place of Null values. Check [documentation](https://pandas.pydata.org/pandas-docs/stable/reference/api/pandas.DataFrame.fillna.html) \n",
    "\n",
    "For applying different scenarios, we will make a copy of the `df_movies` using the following method. \n",
    "- `df.copy()`: Create a copy of the dataframe."
   ]
  },
  {
   "cell_type": "code",
   "execution_count": 28,
   "id": "1febec89",
   "metadata": {
    "execution": {
     "iopub.execute_input": "2022-12-29T21:49:30.563496Z",
     "iopub.status.busy": "2022-12-29T21:49:30.563102Z",
     "iopub.status.idle": "2022-12-29T21:49:30.568321Z",
     "shell.execute_reply": "2022-12-29T21:49:30.566998Z"
    },
    "papermill": {
     "duration": 0.057532,
     "end_time": "2022-12-29T21:49:30.570580",
     "exception": false,
     "start_time": "2022-12-29T21:49:30.513048",
     "status": "completed"
    },
    "tags": []
   },
   "outputs": [],
   "source": [
    "# lets create a copy of the `df_movies` \n",
    "df_movies_cp = df_movies.copy()"
   ]
  },
  {
   "cell_type": "code",
   "execution_count": 29,
   "id": "212b0ce3",
   "metadata": {
    "execution": {
     "iopub.execute_input": "2022-12-29T21:49:30.668350Z",
     "iopub.status.busy": "2022-12-29T21:49:30.667945Z",
     "iopub.status.idle": "2022-12-29T21:49:30.686485Z",
     "shell.execute_reply": "2022-12-29T21:49:30.685013Z"
    },
    "papermill": {
     "duration": 0.071616,
     "end_time": "2022-12-29T21:49:30.690345",
     "exception": false,
     "start_time": "2022-12-29T21:49:30.618729",
     "status": "completed"
    },
    "tags": []
   },
   "outputs": [
    {
     "name": "stdout",
     "output_type": "stream",
     "text": [
      "<class 'pandas.core.frame.DataFrame'>\n",
      "Index: 838 entries, Guardians of the Galaxy to Nine Lives\n",
      "Data columns (total 11 columns):\n",
      " #   Column               Non-Null Count  Dtype  \n",
      "---  ------               --------------  -----  \n",
      " 0   rank                 838 non-null    int64  \n",
      " 1   genre                838 non-null    object \n",
      " 2   description          838 non-null    object \n",
      " 3   director             838 non-null    object \n",
      " 4   actors               838 non-null    object \n",
      " 5   year                 838 non-null    int64  \n",
      " 6   runtime_in_minutes   838 non-null    int64  \n",
      " 7   rating               838 non-null    float64\n",
      " 8   votes                838 non-null    int64  \n",
      " 9   revenue_in_millions  838 non-null    float64\n",
      " 10  metascore            838 non-null    float64\n",
      "dtypes: float64(3), int64(4), object(4)\n",
      "memory usage: 78.6+ KB\n"
     ]
    }
   ],
   "source": [
    "# lets use dropna to remove all rows with Null values\n",
    "df_movies.dropna(axis = 0 , inplace=True ) \n",
    "# lets check with `df.info()`\n",
    "df_movies.info()"
   ]
  },
  {
   "cell_type": "markdown",
   "id": "9a9c1936",
   "metadata": {
    "papermill": {
     "duration": 0.049357,
     "end_time": "2022-12-29T21:49:30.792879",
     "exception": false,
     "start_time": "2022-12-29T21:49:30.743522",
     "status": "completed"
    },
    "tags": []
   },
   "source": [
    "We have eliminated the problem of missing values in `df_movies`. lets try to handle the `df_movies_cp` using `df.fillna()`"
   ]
  },
  {
   "cell_type": "code",
   "execution_count": 30,
   "id": "20ce8535",
   "metadata": {
    "execution": {
     "iopub.execute_input": "2022-12-29T21:49:30.892864Z",
     "iopub.status.busy": "2022-12-29T21:49:30.892384Z",
     "iopub.status.idle": "2022-12-29T21:49:30.903951Z",
     "shell.execute_reply": "2022-12-29T21:49:30.902082Z"
    },
    "papermill": {
     "duration": 0.066018,
     "end_time": "2022-12-29T21:49:30.906892",
     "exception": false,
     "start_time": "2022-12-29T21:49:30.840874",
     "status": "completed"
    },
    "tags": []
   },
   "outputs": [
    {
     "data": {
      "text/plain": [
       "rank                     0\n",
       "genre                    0\n",
       "description              0\n",
       "director                 0\n",
       "actors                   0\n",
       "year                     0\n",
       "runtime_in_minutes       0\n",
       "rating                   0\n",
       "votes                    0\n",
       "revenue_in_millions    128\n",
       "metascore               64\n",
       "dtype: int64"
      ]
     },
     "execution_count": 30,
     "metadata": {},
     "output_type": "execute_result"
    }
   ],
   "source": [
    "# Remember df_movies_cp has Null columns \n",
    "df_movies_cp.isnull().sum()"
   ]
  },
  {
   "cell_type": "markdown",
   "id": "c26d042b",
   "metadata": {
    "papermill": {
     "duration": 0.049908,
     "end_time": "2022-12-29T21:49:31.006621",
     "exception": false,
     "start_time": "2022-12-29T21:49:30.956713",
     "status": "completed"
    },
    "tags": []
   },
   "source": [
    "Now we need to figure out some info about the columns we have such as the `mean` or `median` and `pandas` can easily provide this using a wide range of methods that work on both column level and dataframe level such as: \n",
    " \n",
    "* `sum()`\n",
    "* `min()` \n",
    "* `max()` \n",
    "* `count()` \n",
    "* `idxmin()` \n",
    "* `idxmax()` \n",
    "* `mean()`   \n",
    "* `median()` \n",
    "* `std()` \n",
    "\n",
    "\n",
    "Lets use `mean`!\n"
   ]
  },
  {
   "cell_type": "code",
   "execution_count": 31,
   "id": "b3a67a57",
   "metadata": {
    "execution": {
     "iopub.execute_input": "2022-12-29T21:49:31.108151Z",
     "iopub.status.busy": "2022-12-29T21:49:31.107629Z",
     "iopub.status.idle": "2022-12-29T21:49:31.115901Z",
     "shell.execute_reply": "2022-12-29T21:49:31.114879Z"
    },
    "papermill": {
     "duration": 0.062187,
     "end_time": "2022-12-29T21:49:31.118235",
     "exception": false,
     "start_time": "2022-12-29T21:49:31.056048",
     "status": "completed"
    },
    "tags": []
   },
   "outputs": [
    {
     "data": {
      "text/plain": [
       "82.95637614678898"
      ]
     },
     "execution_count": 31,
     "metadata": {},
     "output_type": "execute_result"
    }
   ],
   "source": [
    "# lets find the mean revenue\n",
    "mean_revenue = df_movies_cp.revenue_in_millions.mean()\n",
    "# print it\n",
    "mean_revenue"
   ]
  },
  {
   "cell_type": "markdown",
   "id": "1f245b39",
   "metadata": {
    "papermill": {
     "duration": 0.050171,
     "end_time": "2022-12-29T21:49:31.220056",
     "exception": false,
     "start_time": "2022-12-29T21:49:31.169885",
     "status": "completed"
    },
    "tags": []
   },
   "source": [
    "Now, lets use `fillna()` method to fix the problem of revenue column."
   ]
  },
  {
   "cell_type": "code",
   "execution_count": 32,
   "id": "9c98cf29",
   "metadata": {
    "execution": {
     "iopub.execute_input": "2022-12-29T21:49:31.322021Z",
     "iopub.status.busy": "2022-12-29T21:49:31.321540Z",
     "iopub.status.idle": "2022-12-29T21:49:31.328145Z",
     "shell.execute_reply": "2022-12-29T21:49:31.326869Z"
    },
    "papermill": {
     "duration": 0.060119,
     "end_time": "2022-12-29T21:49:31.330515",
     "exception": false,
     "start_time": "2022-12-29T21:49:31.270396",
     "status": "completed"
    },
    "tags": []
   },
   "outputs": [],
   "source": [
    "df_movies_cp.revenue_in_millions.fillna(mean_revenue, inplace=True)"
   ]
  },
  {
   "cell_type": "code",
   "execution_count": 33,
   "id": "17156bd4",
   "metadata": {
    "execution": {
     "iopub.execute_input": "2022-12-29T21:49:31.431462Z",
     "iopub.status.busy": "2022-12-29T21:49:31.431006Z",
     "iopub.status.idle": "2022-12-29T21:49:31.443139Z",
     "shell.execute_reply": "2022-12-29T21:49:31.441857Z"
    },
    "papermill": {
     "duration": 0.065646,
     "end_time": "2022-12-29T21:49:31.445436",
     "exception": false,
     "start_time": "2022-12-29T21:49:31.379790",
     "status": "completed"
    },
    "tags": []
   },
   "outputs": [
    {
     "data": {
      "text/plain": [
       "rank                    0\n",
       "genre                   0\n",
       "description             0\n",
       "director                0\n",
       "actors                  0\n",
       "year                    0\n",
       "runtime_in_minutes      0\n",
       "rating                  0\n",
       "votes                   0\n",
       "revenue_in_millions     0\n",
       "metascore              64\n",
       "dtype: int64"
      ]
     },
     "execution_count": 33,
     "metadata": {},
     "output_type": "execute_result"
    }
   ],
   "source": [
    "# check missing \n",
    "df_movies_cp.isnull().sum()"
   ]
  },
  {
   "cell_type": "markdown",
   "id": "bb2a835d",
   "metadata": {
    "papermill": {
     "duration": 0.049439,
     "end_time": "2022-12-29T21:49:31.544510",
     "exception": false,
     "start_time": "2022-12-29T21:49:31.495071",
     "status": "completed"
    },
    "tags": []
   },
   "source": [
    "Now, we have fixed the problem of missing values in `revenue_in_millions` column"
   ]
  },
  {
   "cell_type": "markdown",
   "id": "3e279edd",
   "metadata": {
    "papermill": {
     "duration": 0.049241,
     "end_time": "2022-12-29T21:49:31.643374",
     "exception": false,
     "start_time": "2022-12-29T21:49:31.594133",
     "status": "completed"
    },
    "tags": []
   },
   "source": [
    "Sometimes, filling missing values need to follow some pattern. lets see the following example to see. It's taken from `Uber` company."
   ]
  },
  {
   "cell_type": "code",
   "execution_count": 34,
   "id": "bdcf5f3d",
   "metadata": {
    "execution": {
     "iopub.execute_input": "2022-12-29T21:49:31.744436Z",
     "iopub.status.busy": "2022-12-29T21:49:31.743986Z",
     "iopub.status.idle": "2022-12-29T21:49:31.775840Z",
     "shell.execute_reply": "2022-12-29T21:49:31.774698Z"
    },
    "papermill": {
     "duration": 0.085756,
     "end_time": "2022-12-29T21:49:31.778512",
     "exception": false,
     "start_time": "2022-12-29T21:49:31.692756",
     "status": "completed"
    },
    "tags": []
   },
   "outputs": [
    {
     "data": {
      "text/html": [
       "<div>\n",
       "<style scoped>\n",
       "    .dataframe tbody tr th:only-of-type {\n",
       "        vertical-align: middle;\n",
       "    }\n",
       "\n",
       "    .dataframe tbody tr th {\n",
       "        vertical-align: top;\n",
       "    }\n",
       "\n",
       "    .dataframe thead th {\n",
       "        text-align: right;\n",
       "    }\n",
       "</style>\n",
       "<table border=\"1\" class=\"dataframe\">\n",
       "  <thead>\n",
       "    <tr style=\"text-align: right;\">\n",
       "      <th></th>\n",
       "      <th>Date</th>\n",
       "      <th>Hour</th>\n",
       "      <th>Requests</th>\n",
       "      <th>Completes</th>\n",
       "      <th>Supply Hours</th>\n",
       "      <th>Time On Trip</th>\n",
       "      <th>pETA</th>\n",
       "      <th>aETA</th>\n",
       "    </tr>\n",
       "  </thead>\n",
       "  <tbody>\n",
       "    <tr>\n",
       "      <th>0</th>\n",
       "      <td>9/1/2018</td>\n",
       "      <td>11</td>\n",
       "      <td>79</td>\n",
       "      <td>55</td>\n",
       "      <td>42.63</td>\n",
       "      <td>20.43</td>\n",
       "      <td>5.51</td>\n",
       "      <td>7.19</td>\n",
       "    </tr>\n",
       "    <tr>\n",
       "      <th>1</th>\n",
       "      <td>NaN</td>\n",
       "      <td>12</td>\n",
       "      <td>73</td>\n",
       "      <td>41</td>\n",
       "      <td>36.43</td>\n",
       "      <td>15.53</td>\n",
       "      <td>5.48</td>\n",
       "      <td>8.48</td>\n",
       "    </tr>\n",
       "    <tr>\n",
       "      <th>2</th>\n",
       "      <td>NaN</td>\n",
       "      <td>13</td>\n",
       "      <td>54</td>\n",
       "      <td>50</td>\n",
       "      <td>23.02</td>\n",
       "      <td>17.76</td>\n",
       "      <td>5.07</td>\n",
       "      <td>8.94</td>\n",
       "    </tr>\n",
       "    <tr>\n",
       "      <th>3</th>\n",
       "      <td>9/2/2018</td>\n",
       "      <td>11</td>\n",
       "      <td>193</td>\n",
       "      <td>170</td>\n",
       "      <td>64.20</td>\n",
       "      <td>31.47</td>\n",
       "      <td>5.31</td>\n",
       "      <td>6.55</td>\n",
       "    </tr>\n",
       "    <tr>\n",
       "      <th>4</th>\n",
       "      <td>NaN</td>\n",
       "      <td>12</td>\n",
       "      <td>258</td>\n",
       "      <td>210</td>\n",
       "      <td>80.28</td>\n",
       "      <td>38.68</td>\n",
       "      <td>4.94</td>\n",
       "      <td>6.08</td>\n",
       "    </tr>\n",
       "    <tr>\n",
       "      <th>5</th>\n",
       "      <td>NaN</td>\n",
       "      <td>13</td>\n",
       "      <td>153</td>\n",
       "      <td>107</td>\n",
       "      <td>59.18</td>\n",
       "      <td>23.37</td>\n",
       "      <td>5.14</td>\n",
       "      <td>6.42</td>\n",
       "    </tr>\n",
       "    <tr>\n",
       "      <th>6</th>\n",
       "      <td>9/3/2018</td>\n",
       "      <td>11</td>\n",
       "      <td>124</td>\n",
       "      <td>34</td>\n",
       "      <td>30.67</td>\n",
       "      <td>19.65</td>\n",
       "      <td>6.70</td>\n",
       "      <td>8.19</td>\n",
       "    </tr>\n",
       "    <tr>\n",
       "      <th>7</th>\n",
       "      <td>NaN</td>\n",
       "      <td>12</td>\n",
       "      <td>78</td>\n",
       "      <td>34</td>\n",
       "      <td>27.02</td>\n",
       "      <td>14.38</td>\n",
       "      <td>6.36</td>\n",
       "      <td>8.01</td>\n",
       "    </tr>\n",
       "    <tr>\n",
       "      <th>8</th>\n",
       "      <td>NaN</td>\n",
       "      <td>13</td>\n",
       "      <td>36</td>\n",
       "      <td>15</td>\n",
       "      <td>20.82</td>\n",
       "      <td>12.62</td>\n",
       "      <td>7.82</td>\n",
       "      <td>9.05</td>\n",
       "    </tr>\n",
       "    <tr>\n",
       "      <th>9</th>\n",
       "      <td>9/4/2018</td>\n",
       "      <td>11</td>\n",
       "      <td>98</td>\n",
       "      <td>43</td>\n",
       "      <td>29.17</td>\n",
       "      <td>16.55</td>\n",
       "      <td>6.99</td>\n",
       "      <td>8.32</td>\n",
       "    </tr>\n",
       "  </tbody>\n",
       "</table>\n",
       "</div>"
      ],
      "text/plain": [
       "       Date  Hour  Requests  Completes  Supply Hours  Time On Trip  pETA  aETA\n",
       "0  9/1/2018    11        79         55         42.63         20.43  5.51  7.19\n",
       "1       NaN    12        73         41         36.43         15.53  5.48  8.48\n",
       "2       NaN    13        54         50         23.02         17.76  5.07  8.94\n",
       "3  9/2/2018    11       193        170         64.20         31.47  5.31  6.55\n",
       "4       NaN    12       258        210         80.28         38.68  4.94  6.08\n",
       "5       NaN    13       153        107         59.18         23.37  5.14  6.42\n",
       "6  9/3/2018    11       124         34         30.67         19.65  6.70  8.19\n",
       "7       NaN    12        78         34         27.02         14.38  6.36  8.01\n",
       "8       NaN    13        36         15         20.82         12.62  7.82  9.05\n",
       "9  9/4/2018    11        98         43         29.17         16.55  6.99  8.32"
      ]
     },
     "execution_count": 34,
     "metadata": {},
     "output_type": "execute_result"
    }
   ],
   "source": [
    "# read the dataset\n",
    "uber = pd.read_csv('../input/data-analytics/uber.csv')\n",
    "# view the head\n",
    "uber.head(10)"
   ]
  },
  {
   "cell_type": "markdown",
   "id": "cf13ac84",
   "metadata": {
    "papermill": {
     "duration": 0.05069,
     "end_time": "2022-12-29T21:49:31.880636",
     "exception": false,
     "start_time": "2022-12-29T21:49:31.829946",
     "status": "completed"
    },
    "tags": []
   },
   "source": [
    "As you can see, we have some missing values in the date column. The dataset is gathered for some days for hour `11`, `12`, and`13` so, it makes more sense to see the date value of the upper row in the rows underneath until finding a new date.\n",
    "\n",
    "This can be done using the `method` argument for `fillna`. We will use `ffill` which is abbreviation for forward fill. "
   ]
  },
  {
   "cell_type": "code",
   "execution_count": 35,
   "id": "8477501c",
   "metadata": {
    "execution": {
     "iopub.execute_input": "2022-12-29T21:49:31.985864Z",
     "iopub.status.busy": "2022-12-29T21:49:31.984512Z",
     "iopub.status.idle": "2022-12-29T21:49:32.004557Z",
     "shell.execute_reply": "2022-12-29T21:49:32.003735Z"
    },
    "papermill": {
     "duration": 0.074253,
     "end_time": "2022-12-29T21:49:32.007122",
     "exception": false,
     "start_time": "2022-12-29T21:49:31.932869",
     "status": "completed"
    },
    "tags": []
   },
   "outputs": [
    {
     "data": {
      "text/html": [
       "<div>\n",
       "<style scoped>\n",
       "    .dataframe tbody tr th:only-of-type {\n",
       "        vertical-align: middle;\n",
       "    }\n",
       "\n",
       "    .dataframe tbody tr th {\n",
       "        vertical-align: top;\n",
       "    }\n",
       "\n",
       "    .dataframe thead th {\n",
       "        text-align: right;\n",
       "    }\n",
       "</style>\n",
       "<table border=\"1\" class=\"dataframe\">\n",
       "  <thead>\n",
       "    <tr style=\"text-align: right;\">\n",
       "      <th></th>\n",
       "      <th>Date</th>\n",
       "      <th>Hour</th>\n",
       "      <th>Requests</th>\n",
       "      <th>Completes</th>\n",
       "      <th>Supply Hours</th>\n",
       "      <th>Time On Trip</th>\n",
       "      <th>pETA</th>\n",
       "      <th>aETA</th>\n",
       "    </tr>\n",
       "  </thead>\n",
       "  <tbody>\n",
       "    <tr>\n",
       "      <th>0</th>\n",
       "      <td>9/1/2018</td>\n",
       "      <td>11</td>\n",
       "      <td>79</td>\n",
       "      <td>55</td>\n",
       "      <td>42.63</td>\n",
       "      <td>20.43</td>\n",
       "      <td>5.51</td>\n",
       "      <td>7.19</td>\n",
       "    </tr>\n",
       "    <tr>\n",
       "      <th>1</th>\n",
       "      <td>9/1/2018</td>\n",
       "      <td>12</td>\n",
       "      <td>73</td>\n",
       "      <td>41</td>\n",
       "      <td>36.43</td>\n",
       "      <td>15.53</td>\n",
       "      <td>5.48</td>\n",
       "      <td>8.48</td>\n",
       "    </tr>\n",
       "    <tr>\n",
       "      <th>2</th>\n",
       "      <td>9/1/2018</td>\n",
       "      <td>13</td>\n",
       "      <td>54</td>\n",
       "      <td>50</td>\n",
       "      <td>23.02</td>\n",
       "      <td>17.76</td>\n",
       "      <td>5.07</td>\n",
       "      <td>8.94</td>\n",
       "    </tr>\n",
       "    <tr>\n",
       "      <th>3</th>\n",
       "      <td>9/2/2018</td>\n",
       "      <td>11</td>\n",
       "      <td>193</td>\n",
       "      <td>170</td>\n",
       "      <td>64.20</td>\n",
       "      <td>31.47</td>\n",
       "      <td>5.31</td>\n",
       "      <td>6.55</td>\n",
       "    </tr>\n",
       "    <tr>\n",
       "      <th>4</th>\n",
       "      <td>9/2/2018</td>\n",
       "      <td>12</td>\n",
       "      <td>258</td>\n",
       "      <td>210</td>\n",
       "      <td>80.28</td>\n",
       "      <td>38.68</td>\n",
       "      <td>4.94</td>\n",
       "      <td>6.08</td>\n",
       "    </tr>\n",
       "    <tr>\n",
       "      <th>5</th>\n",
       "      <td>9/2/2018</td>\n",
       "      <td>13</td>\n",
       "      <td>153</td>\n",
       "      <td>107</td>\n",
       "      <td>59.18</td>\n",
       "      <td>23.37</td>\n",
       "      <td>5.14</td>\n",
       "      <td>6.42</td>\n",
       "    </tr>\n",
       "    <tr>\n",
       "      <th>6</th>\n",
       "      <td>9/3/2018</td>\n",
       "      <td>11</td>\n",
       "      <td>124</td>\n",
       "      <td>34</td>\n",
       "      <td>30.67</td>\n",
       "      <td>19.65</td>\n",
       "      <td>6.70</td>\n",
       "      <td>8.19</td>\n",
       "    </tr>\n",
       "    <tr>\n",
       "      <th>7</th>\n",
       "      <td>9/3/2018</td>\n",
       "      <td>12</td>\n",
       "      <td>78</td>\n",
       "      <td>34</td>\n",
       "      <td>27.02</td>\n",
       "      <td>14.38</td>\n",
       "      <td>6.36</td>\n",
       "      <td>8.01</td>\n",
       "    </tr>\n",
       "    <tr>\n",
       "      <th>8</th>\n",
       "      <td>9/3/2018</td>\n",
       "      <td>13</td>\n",
       "      <td>36</td>\n",
       "      <td>15</td>\n",
       "      <td>20.82</td>\n",
       "      <td>12.62</td>\n",
       "      <td>7.82</td>\n",
       "      <td>9.05</td>\n",
       "    </tr>\n",
       "    <tr>\n",
       "      <th>9</th>\n",
       "      <td>9/4/2018</td>\n",
       "      <td>11</td>\n",
       "      <td>98</td>\n",
       "      <td>43</td>\n",
       "      <td>29.17</td>\n",
       "      <td>16.55</td>\n",
       "      <td>6.99</td>\n",
       "      <td>8.32</td>\n",
       "    </tr>\n",
       "  </tbody>\n",
       "</table>\n",
       "</div>"
      ],
      "text/plain": [
       "       Date  Hour  Requests  Completes  Supply Hours  Time On Trip  pETA  aETA\n",
       "0  9/1/2018    11        79         55         42.63         20.43  5.51  7.19\n",
       "1  9/1/2018    12        73         41         36.43         15.53  5.48  8.48\n",
       "2  9/1/2018    13        54         50         23.02         17.76  5.07  8.94\n",
       "3  9/2/2018    11       193        170         64.20         31.47  5.31  6.55\n",
       "4  9/2/2018    12       258        210         80.28         38.68  4.94  6.08\n",
       "5  9/2/2018    13       153        107         59.18         23.37  5.14  6.42\n",
       "6  9/3/2018    11       124         34         30.67         19.65  6.70  8.19\n",
       "7  9/3/2018    12        78         34         27.02         14.38  6.36  8.01\n",
       "8  9/3/2018    13        36         15         20.82         12.62  7.82  9.05\n",
       "9  9/4/2018    11        98         43         29.17         16.55  6.99  8.32"
      ]
     },
     "execution_count": 35,
     "metadata": {},
     "output_type": "execute_result"
    }
   ],
   "source": [
    "uber.fillna(method = 'ffill', inplace = True)\n",
    "# lets view it\n",
    "uber.head(10)"
   ]
  },
  {
   "cell_type": "markdown",
   "id": "fb894944",
   "metadata": {
    "papermill": {
     "duration": 0.051587,
     "end_time": "2022-12-29T21:49:32.110033",
     "exception": false,
     "start_time": "2022-12-29T21:49:32.058446",
     "status": "completed"
    },
    "tags": []
   },
   "source": [
    "Now, its in a good format!"
   ]
  },
  {
   "cell_type": "markdown",
   "id": "084ac560",
   "metadata": {
    "papermill": {
     "duration": 0.051787,
     "end_time": "2022-12-29T21:49:32.213300",
     "exception": false,
     "start_time": "2022-12-29T21:49:32.161513",
     "status": "completed"
    },
    "tags": []
   },
   "source": [
    "# Filtering\n",
    "\n",
    "Filtering is a common activity in almost analyzing any dataframe. In almost all cases, you will need to apply some filter on the data. \n",
    "\n",
    "Now, we need to study the movies directed by `Ridley Scott`. lets see how to apply this filter."
   ]
  },
  {
   "cell_type": "code",
   "execution_count": 36,
   "id": "7d1525c9",
   "metadata": {
    "execution": {
     "iopub.execute_input": "2022-12-29T21:49:32.318474Z",
     "iopub.status.busy": "2022-12-29T21:49:32.318069Z",
     "iopub.status.idle": "2022-12-29T21:49:32.339264Z",
     "shell.execute_reply": "2022-12-29T21:49:32.337814Z"
    },
    "papermill": {
     "duration": 0.076963,
     "end_time": "2022-12-29T21:49:32.341818",
     "exception": false,
     "start_time": "2022-12-29T21:49:32.264855",
     "status": "completed"
    },
    "tags": []
   },
   "outputs": [
    {
     "data": {
      "text/html": [
       "<div>\n",
       "<style scoped>\n",
       "    .dataframe tbody tr th:only-of-type {\n",
       "        vertical-align: middle;\n",
       "    }\n",
       "\n",
       "    .dataframe tbody tr th {\n",
       "        vertical-align: top;\n",
       "    }\n",
       "\n",
       "    .dataframe thead th {\n",
       "        text-align: right;\n",
       "    }\n",
       "</style>\n",
       "<table border=\"1\" class=\"dataframe\">\n",
       "  <thead>\n",
       "    <tr style=\"text-align: right;\">\n",
       "      <th></th>\n",
       "      <th>rank</th>\n",
       "      <th>genre</th>\n",
       "      <th>description</th>\n",
       "      <th>director</th>\n",
       "      <th>actors</th>\n",
       "      <th>year</th>\n",
       "      <th>runtime_in_minutes</th>\n",
       "      <th>rating</th>\n",
       "      <th>votes</th>\n",
       "      <th>revenue_in_millions</th>\n",
       "      <th>metascore</th>\n",
       "    </tr>\n",
       "    <tr>\n",
       "      <th>title</th>\n",
       "      <th></th>\n",
       "      <th></th>\n",
       "      <th></th>\n",
       "      <th></th>\n",
       "      <th></th>\n",
       "      <th></th>\n",
       "      <th></th>\n",
       "      <th></th>\n",
       "      <th></th>\n",
       "      <th></th>\n",
       "      <th></th>\n",
       "    </tr>\n",
       "  </thead>\n",
       "  <tbody>\n",
       "    <tr>\n",
       "      <th>Prometheus</th>\n",
       "      <td>2</td>\n",
       "      <td>Adventure,Mystery,Sci-Fi</td>\n",
       "      <td>Following clues to the origin of mankind, a te...</td>\n",
       "      <td>Ridley Scott</td>\n",
       "      <td>Noomi Rapace, Logan Marshall-Green, Michael Fa...</td>\n",
       "      <td>2012</td>\n",
       "      <td>124</td>\n",
       "      <td>7.0</td>\n",
       "      <td>485820</td>\n",
       "      <td>126.46</td>\n",
       "      <td>65.0</td>\n",
       "    </tr>\n",
       "    <tr>\n",
       "      <th>The Martian</th>\n",
       "      <td>103</td>\n",
       "      <td>Adventure,Drama,Sci-Fi</td>\n",
       "      <td>An astronaut becomes stranded on Mars after hi...</td>\n",
       "      <td>Ridley Scott</td>\n",
       "      <td>Matt Damon, Jessica Chastain, Kristen Wiig, Ka...</td>\n",
       "      <td>2015</td>\n",
       "      <td>144</td>\n",
       "      <td>8.0</td>\n",
       "      <td>556097</td>\n",
       "      <td>228.43</td>\n",
       "      <td>80.0</td>\n",
       "    </tr>\n",
       "    <tr>\n",
       "      <th>Robin Hood</th>\n",
       "      <td>388</td>\n",
       "      <td>Action,Adventure,Drama</td>\n",
       "      <td>In 12th century England, Robin and his band of...</td>\n",
       "      <td>Ridley Scott</td>\n",
       "      <td>Russell Crowe, Cate Blanchett, Matthew Macfady...</td>\n",
       "      <td>2010</td>\n",
       "      <td>140</td>\n",
       "      <td>6.7</td>\n",
       "      <td>221117</td>\n",
       "      <td>105.22</td>\n",
       "      <td>53.0</td>\n",
       "    </tr>\n",
       "    <tr>\n",
       "      <th>American Gangster</th>\n",
       "      <td>471</td>\n",
       "      <td>Biography,Crime,Drama</td>\n",
       "      <td>In 1970s America, a detective works to bring d...</td>\n",
       "      <td>Ridley Scott</td>\n",
       "      <td>Denzel Washington, Russell Crowe, Chiwetel Eji...</td>\n",
       "      <td>2007</td>\n",
       "      <td>157</td>\n",
       "      <td>7.8</td>\n",
       "      <td>337835</td>\n",
       "      <td>130.13</td>\n",
       "      <td>76.0</td>\n",
       "    </tr>\n",
       "    <tr>\n",
       "      <th>Exodus: Gods and Kings</th>\n",
       "      <td>517</td>\n",
       "      <td>Action,Adventure,Drama</td>\n",
       "      <td>The defiant leader Moses rises up against the ...</td>\n",
       "      <td>Ridley Scott</td>\n",
       "      <td>Christian Bale, Joel Edgerton, Ben Kingsley, S...</td>\n",
       "      <td>2014</td>\n",
       "      <td>150</td>\n",
       "      <td>6.0</td>\n",
       "      <td>137299</td>\n",
       "      <td>65.01</td>\n",
       "      <td>52.0</td>\n",
       "    </tr>\n",
       "    <tr>\n",
       "      <th>The Counselor</th>\n",
       "      <td>522</td>\n",
       "      <td>Crime,Drama,Thriller</td>\n",
       "      <td>A lawyer finds himself in over his head when h...</td>\n",
       "      <td>Ridley Scott</td>\n",
       "      <td>Michael Fassbender, Penélope Cruz, Cameron Dia...</td>\n",
       "      <td>2013</td>\n",
       "      <td>117</td>\n",
       "      <td>5.3</td>\n",
       "      <td>84927</td>\n",
       "      <td>16.97</td>\n",
       "      <td>48.0</td>\n",
       "    </tr>\n",
       "    <tr>\n",
       "      <th>A Good Year</th>\n",
       "      <td>531</td>\n",
       "      <td>Comedy,Drama,Romance</td>\n",
       "      <td>A British investment broker inherits his uncle...</td>\n",
       "      <td>Ridley Scott</td>\n",
       "      <td>Russell Crowe, Abbie Cornish, Albert Finney, M...</td>\n",
       "      <td>2006</td>\n",
       "      <td>117</td>\n",
       "      <td>6.9</td>\n",
       "      <td>74674</td>\n",
       "      <td>7.46</td>\n",
       "      <td>47.0</td>\n",
       "    </tr>\n",
       "    <tr>\n",
       "      <th>Body of Lies</th>\n",
       "      <td>738</td>\n",
       "      <td>Action,Drama,Romance</td>\n",
       "      <td>A CIA agent on the ground in Jordan hunts down...</td>\n",
       "      <td>Ridley Scott</td>\n",
       "      <td>Leonardo DiCaprio, Russell Crowe, Mark Strong,...</td>\n",
       "      <td>2008</td>\n",
       "      <td>128</td>\n",
       "      <td>7.1</td>\n",
       "      <td>182305</td>\n",
       "      <td>39.38</td>\n",
       "      <td>57.0</td>\n",
       "    </tr>\n",
       "  </tbody>\n",
       "</table>\n",
       "</div>"
      ],
      "text/plain": [
       "                        rank                     genre  \\\n",
       "title                                                    \n",
       "Prometheus                 2  Adventure,Mystery,Sci-Fi   \n",
       "The Martian              103    Adventure,Drama,Sci-Fi   \n",
       "Robin Hood               388    Action,Adventure,Drama   \n",
       "American Gangster        471     Biography,Crime,Drama   \n",
       "Exodus: Gods and Kings   517    Action,Adventure,Drama   \n",
       "The Counselor            522      Crime,Drama,Thriller   \n",
       "A Good Year              531      Comedy,Drama,Romance   \n",
       "Body of Lies             738      Action,Drama,Romance   \n",
       "\n",
       "                                                              description  \\\n",
       "title                                                                       \n",
       "Prometheus              Following clues to the origin of mankind, a te...   \n",
       "The Martian             An astronaut becomes stranded on Mars after hi...   \n",
       "Robin Hood              In 12th century England, Robin and his band of...   \n",
       "American Gangster       In 1970s America, a detective works to bring d...   \n",
       "Exodus: Gods and Kings  The defiant leader Moses rises up against the ...   \n",
       "The Counselor           A lawyer finds himself in over his head when h...   \n",
       "A Good Year             A British investment broker inherits his uncle...   \n",
       "Body of Lies            A CIA agent on the ground in Jordan hunts down...   \n",
       "\n",
       "                            director  \\\n",
       "title                                  \n",
       "Prometheus              Ridley Scott   \n",
       "The Martian             Ridley Scott   \n",
       "Robin Hood              Ridley Scott   \n",
       "American Gangster       Ridley Scott   \n",
       "Exodus: Gods and Kings  Ridley Scott   \n",
       "The Counselor           Ridley Scott   \n",
       "A Good Year             Ridley Scott   \n",
       "Body of Lies            Ridley Scott   \n",
       "\n",
       "                                                                   actors  \\\n",
       "title                                                                       \n",
       "Prometheus              Noomi Rapace, Logan Marshall-Green, Michael Fa...   \n",
       "The Martian             Matt Damon, Jessica Chastain, Kristen Wiig, Ka...   \n",
       "Robin Hood              Russell Crowe, Cate Blanchett, Matthew Macfady...   \n",
       "American Gangster       Denzel Washington, Russell Crowe, Chiwetel Eji...   \n",
       "Exodus: Gods and Kings  Christian Bale, Joel Edgerton, Ben Kingsley, S...   \n",
       "The Counselor           Michael Fassbender, Penélope Cruz, Cameron Dia...   \n",
       "A Good Year             Russell Crowe, Abbie Cornish, Albert Finney, M...   \n",
       "Body of Lies            Leonardo DiCaprio, Russell Crowe, Mark Strong,...   \n",
       "\n",
       "                        year  runtime_in_minutes  rating   votes  \\\n",
       "title                                                              \n",
       "Prometheus              2012                 124     7.0  485820   \n",
       "The Martian             2015                 144     8.0  556097   \n",
       "Robin Hood              2010                 140     6.7  221117   \n",
       "American Gangster       2007                 157     7.8  337835   \n",
       "Exodus: Gods and Kings  2014                 150     6.0  137299   \n",
       "The Counselor           2013                 117     5.3   84927   \n",
       "A Good Year             2006                 117     6.9   74674   \n",
       "Body of Lies            2008                 128     7.1  182305   \n",
       "\n",
       "                        revenue_in_millions  metascore  \n",
       "title                                                   \n",
       "Prometheus                           126.46       65.0  \n",
       "The Martian                          228.43       80.0  \n",
       "Robin Hood                           105.22       53.0  \n",
       "American Gangster                    130.13       76.0  \n",
       "Exodus: Gods and Kings                65.01       52.0  \n",
       "The Counselor                         16.97       48.0  \n",
       "A Good Year                            7.46       47.0  \n",
       "Body of Lies                          39.38       57.0  "
      ]
     },
     "execution_count": 36,
     "metadata": {},
     "output_type": "execute_result"
    }
   ],
   "source": [
    "df_movies_ridley_scott = df_movies[df_movies['director'] == 'Ridley Scott']\n",
    "df_movies_ridley_scott.head(10)"
   ]
  },
  {
   "cell_type": "markdown",
   "id": "0e60d5c7",
   "metadata": {
    "papermill": {
     "duration": 0.051284,
     "end_time": "2022-12-29T21:49:32.443624",
     "exception": false,
     "start_time": "2022-12-29T21:49:32.392340",
     "status": "completed"
    },
    "tags": []
   },
   "source": [
    "Check the shape \n"
   ]
  },
  {
   "cell_type": "code",
   "execution_count": 37,
   "id": "45a0fa29",
   "metadata": {
    "execution": {
     "iopub.execute_input": "2022-12-29T21:49:32.547230Z",
     "iopub.status.busy": "2022-12-29T21:49:32.546736Z",
     "iopub.status.idle": "2022-12-29T21:49:32.554332Z",
     "shell.execute_reply": "2022-12-29T21:49:32.553293Z"
    },
    "papermill": {
     "duration": 0.062213,
     "end_time": "2022-12-29T21:49:32.556594",
     "exception": false,
     "start_time": "2022-12-29T21:49:32.494381",
     "status": "completed"
    },
    "tags": []
   },
   "outputs": [
    {
     "data": {
      "text/plain": [
       "(8, 11)"
      ]
     },
     "execution_count": 37,
     "metadata": {},
     "output_type": "execute_result"
    }
   ],
   "source": [
    "df_movies_ridley_scott.shape"
   ]
  },
  {
   "cell_type": "markdown",
   "id": "e2cae363",
   "metadata": {
    "papermill": {
     "duration": 0.049978,
     "end_time": "2022-12-29T21:49:32.656956",
     "exception": false,
     "start_time": "2022-12-29T21:49:32.606978",
     "status": "completed"
    },
    "tags": []
   },
   "source": [
    "`8` movies out of the top 1000 movies are directed by `Ridley Scott`!\n",
    "\n",
    "Now, let suppose that we want to get all movies directed by `Ridley Scott` or `Cristopher Nolan`. "
   ]
  },
  {
   "cell_type": "code",
   "execution_count": 38,
   "id": "c8b8b85b",
   "metadata": {
    "execution": {
     "iopub.execute_input": "2022-12-29T21:49:32.760686Z",
     "iopub.status.busy": "2022-12-29T21:49:32.760245Z",
     "iopub.status.idle": "2022-12-29T21:49:32.784135Z",
     "shell.execute_reply": "2022-12-29T21:49:32.782468Z"
    },
    "papermill": {
     "duration": 0.079162,
     "end_time": "2022-12-29T21:49:32.786737",
     "exception": false,
     "start_time": "2022-12-29T21:49:32.707575",
     "status": "completed"
    },
    "tags": []
   },
   "outputs": [
    {
     "data": {
      "text/html": [
       "<div>\n",
       "<style scoped>\n",
       "    .dataframe tbody tr th:only-of-type {\n",
       "        vertical-align: middle;\n",
       "    }\n",
       "\n",
       "    .dataframe tbody tr th {\n",
       "        vertical-align: top;\n",
       "    }\n",
       "\n",
       "    .dataframe thead th {\n",
       "        text-align: right;\n",
       "    }\n",
       "</style>\n",
       "<table border=\"1\" class=\"dataframe\">\n",
       "  <thead>\n",
       "    <tr style=\"text-align: right;\">\n",
       "      <th></th>\n",
       "      <th>rank</th>\n",
       "      <th>genre</th>\n",
       "      <th>description</th>\n",
       "      <th>director</th>\n",
       "      <th>actors</th>\n",
       "      <th>year</th>\n",
       "      <th>runtime_in_minutes</th>\n",
       "      <th>rating</th>\n",
       "      <th>votes</th>\n",
       "      <th>revenue_in_millions</th>\n",
       "      <th>metascore</th>\n",
       "    </tr>\n",
       "    <tr>\n",
       "      <th>title</th>\n",
       "      <th></th>\n",
       "      <th></th>\n",
       "      <th></th>\n",
       "      <th></th>\n",
       "      <th></th>\n",
       "      <th></th>\n",
       "      <th></th>\n",
       "      <th></th>\n",
       "      <th></th>\n",
       "      <th></th>\n",
       "      <th></th>\n",
       "    </tr>\n",
       "  </thead>\n",
       "  <tbody>\n",
       "    <tr>\n",
       "      <th>Prometheus</th>\n",
       "      <td>2</td>\n",
       "      <td>Adventure,Mystery,Sci-Fi</td>\n",
       "      <td>Following clues to the origin of mankind, a te...</td>\n",
       "      <td>Ridley Scott</td>\n",
       "      <td>Noomi Rapace, Logan Marshall-Green, Michael Fa...</td>\n",
       "      <td>2012</td>\n",
       "      <td>124</td>\n",
       "      <td>7.0</td>\n",
       "      <td>485820</td>\n",
       "      <td>126.46</td>\n",
       "      <td>65.0</td>\n",
       "    </tr>\n",
       "    <tr>\n",
       "      <th>Interstellar</th>\n",
       "      <td>37</td>\n",
       "      <td>Adventure,Drama,Sci-Fi</td>\n",
       "      <td>A team of explorers travel through a wormhole ...</td>\n",
       "      <td>Christopher Nolan</td>\n",
       "      <td>Matthew McConaughey, Anne Hathaway, Jessica Ch...</td>\n",
       "      <td>2014</td>\n",
       "      <td>169</td>\n",
       "      <td>8.6</td>\n",
       "      <td>1047747</td>\n",
       "      <td>187.99</td>\n",
       "      <td>74.0</td>\n",
       "    </tr>\n",
       "    <tr>\n",
       "      <th>The Dark Knight</th>\n",
       "      <td>55</td>\n",
       "      <td>Action,Crime,Drama</td>\n",
       "      <td>When the menace known as the Joker wreaks havo...</td>\n",
       "      <td>Christopher Nolan</td>\n",
       "      <td>Christian Bale, Heath Ledger, Aaron Eckhart,Mi...</td>\n",
       "      <td>2008</td>\n",
       "      <td>152</td>\n",
       "      <td>9.0</td>\n",
       "      <td>1791916</td>\n",
       "      <td>533.32</td>\n",
       "      <td>82.0</td>\n",
       "    </tr>\n",
       "    <tr>\n",
       "      <th>The Prestige</th>\n",
       "      <td>65</td>\n",
       "      <td>Drama,Mystery,Sci-Fi</td>\n",
       "      <td>Two stage magicians engage in competitive one-...</td>\n",
       "      <td>Christopher Nolan</td>\n",
       "      <td>Christian Bale, Hugh Jackman, Scarlett Johanss...</td>\n",
       "      <td>2006</td>\n",
       "      <td>130</td>\n",
       "      <td>8.5</td>\n",
       "      <td>913152</td>\n",
       "      <td>53.08</td>\n",
       "      <td>66.0</td>\n",
       "    </tr>\n",
       "    <tr>\n",
       "      <th>Inception</th>\n",
       "      <td>81</td>\n",
       "      <td>Action,Adventure,Sci-Fi</td>\n",
       "      <td>A thief, who steals corporate secrets through ...</td>\n",
       "      <td>Christopher Nolan</td>\n",
       "      <td>Leonardo DiCaprio, Joseph Gordon-Levitt, Ellen...</td>\n",
       "      <td>2010</td>\n",
       "      <td>148</td>\n",
       "      <td>8.8</td>\n",
       "      <td>1583625</td>\n",
       "      <td>292.57</td>\n",
       "      <td>74.0</td>\n",
       "    </tr>\n",
       "    <tr>\n",
       "      <th>The Martian</th>\n",
       "      <td>103</td>\n",
       "      <td>Adventure,Drama,Sci-Fi</td>\n",
       "      <td>An astronaut becomes stranded on Mars after hi...</td>\n",
       "      <td>Ridley Scott</td>\n",
       "      <td>Matt Damon, Jessica Chastain, Kristen Wiig, Ka...</td>\n",
       "      <td>2015</td>\n",
       "      <td>144</td>\n",
       "      <td>8.0</td>\n",
       "      <td>556097</td>\n",
       "      <td>228.43</td>\n",
       "      <td>80.0</td>\n",
       "    </tr>\n",
       "    <tr>\n",
       "      <th>The Dark Knight Rises</th>\n",
       "      <td>125</td>\n",
       "      <td>Action,Thriller</td>\n",
       "      <td>Eight years after the Joker's reign of anarchy...</td>\n",
       "      <td>Christopher Nolan</td>\n",
       "      <td>Christian Bale, Tom Hardy, Anne Hathaway,Gary ...</td>\n",
       "      <td>2012</td>\n",
       "      <td>164</td>\n",
       "      <td>8.5</td>\n",
       "      <td>1222645</td>\n",
       "      <td>448.13</td>\n",
       "      <td>78.0</td>\n",
       "    </tr>\n",
       "    <tr>\n",
       "      <th>Robin Hood</th>\n",
       "      <td>388</td>\n",
       "      <td>Action,Adventure,Drama</td>\n",
       "      <td>In 12th century England, Robin and his band of...</td>\n",
       "      <td>Ridley Scott</td>\n",
       "      <td>Russell Crowe, Cate Blanchett, Matthew Macfady...</td>\n",
       "      <td>2010</td>\n",
       "      <td>140</td>\n",
       "      <td>6.7</td>\n",
       "      <td>221117</td>\n",
       "      <td>105.22</td>\n",
       "      <td>53.0</td>\n",
       "    </tr>\n",
       "    <tr>\n",
       "      <th>American Gangster</th>\n",
       "      <td>471</td>\n",
       "      <td>Biography,Crime,Drama</td>\n",
       "      <td>In 1970s America, a detective works to bring d...</td>\n",
       "      <td>Ridley Scott</td>\n",
       "      <td>Denzel Washington, Russell Crowe, Chiwetel Eji...</td>\n",
       "      <td>2007</td>\n",
       "      <td>157</td>\n",
       "      <td>7.8</td>\n",
       "      <td>337835</td>\n",
       "      <td>130.13</td>\n",
       "      <td>76.0</td>\n",
       "    </tr>\n",
       "    <tr>\n",
       "      <th>Exodus: Gods and Kings</th>\n",
       "      <td>517</td>\n",
       "      <td>Action,Adventure,Drama</td>\n",
       "      <td>The defiant leader Moses rises up against the ...</td>\n",
       "      <td>Ridley Scott</td>\n",
       "      <td>Christian Bale, Joel Edgerton, Ben Kingsley, S...</td>\n",
       "      <td>2014</td>\n",
       "      <td>150</td>\n",
       "      <td>6.0</td>\n",
       "      <td>137299</td>\n",
       "      <td>65.01</td>\n",
       "      <td>52.0</td>\n",
       "    </tr>\n",
       "  </tbody>\n",
       "</table>\n",
       "</div>"
      ],
      "text/plain": [
       "                        rank                     genre  \\\n",
       "title                                                    \n",
       "Prometheus                 2  Adventure,Mystery,Sci-Fi   \n",
       "Interstellar              37    Adventure,Drama,Sci-Fi   \n",
       "The Dark Knight           55        Action,Crime,Drama   \n",
       "The Prestige              65      Drama,Mystery,Sci-Fi   \n",
       "Inception                 81   Action,Adventure,Sci-Fi   \n",
       "The Martian              103    Adventure,Drama,Sci-Fi   \n",
       "The Dark Knight Rises    125           Action,Thriller   \n",
       "Robin Hood               388    Action,Adventure,Drama   \n",
       "American Gangster        471     Biography,Crime,Drama   \n",
       "Exodus: Gods and Kings   517    Action,Adventure,Drama   \n",
       "\n",
       "                                                              description  \\\n",
       "title                                                                       \n",
       "Prometheus              Following clues to the origin of mankind, a te...   \n",
       "Interstellar            A team of explorers travel through a wormhole ...   \n",
       "The Dark Knight         When the menace known as the Joker wreaks havo...   \n",
       "The Prestige            Two stage magicians engage in competitive one-...   \n",
       "Inception               A thief, who steals corporate secrets through ...   \n",
       "The Martian             An astronaut becomes stranded on Mars after hi...   \n",
       "The Dark Knight Rises   Eight years after the Joker's reign of anarchy...   \n",
       "Robin Hood              In 12th century England, Robin and his band of...   \n",
       "American Gangster       In 1970s America, a detective works to bring d...   \n",
       "Exodus: Gods and Kings  The defiant leader Moses rises up against the ...   \n",
       "\n",
       "                                 director  \\\n",
       "title                                       \n",
       "Prometheus                   Ridley Scott   \n",
       "Interstellar            Christopher Nolan   \n",
       "The Dark Knight         Christopher Nolan   \n",
       "The Prestige            Christopher Nolan   \n",
       "Inception               Christopher Nolan   \n",
       "The Martian                  Ridley Scott   \n",
       "The Dark Knight Rises   Christopher Nolan   \n",
       "Robin Hood                   Ridley Scott   \n",
       "American Gangster            Ridley Scott   \n",
       "Exodus: Gods and Kings       Ridley Scott   \n",
       "\n",
       "                                                                   actors  \\\n",
       "title                                                                       \n",
       "Prometheus              Noomi Rapace, Logan Marshall-Green, Michael Fa...   \n",
       "Interstellar            Matthew McConaughey, Anne Hathaway, Jessica Ch...   \n",
       "The Dark Knight         Christian Bale, Heath Ledger, Aaron Eckhart,Mi...   \n",
       "The Prestige            Christian Bale, Hugh Jackman, Scarlett Johanss...   \n",
       "Inception               Leonardo DiCaprio, Joseph Gordon-Levitt, Ellen...   \n",
       "The Martian             Matt Damon, Jessica Chastain, Kristen Wiig, Ka...   \n",
       "The Dark Knight Rises   Christian Bale, Tom Hardy, Anne Hathaway,Gary ...   \n",
       "Robin Hood              Russell Crowe, Cate Blanchett, Matthew Macfady...   \n",
       "American Gangster       Denzel Washington, Russell Crowe, Chiwetel Eji...   \n",
       "Exodus: Gods and Kings  Christian Bale, Joel Edgerton, Ben Kingsley, S...   \n",
       "\n",
       "                        year  runtime_in_minutes  rating    votes  \\\n",
       "title                                                               \n",
       "Prometheus              2012                 124     7.0   485820   \n",
       "Interstellar            2014                 169     8.6  1047747   \n",
       "The Dark Knight         2008                 152     9.0  1791916   \n",
       "The Prestige            2006                 130     8.5   913152   \n",
       "Inception               2010                 148     8.8  1583625   \n",
       "The Martian             2015                 144     8.0   556097   \n",
       "The Dark Knight Rises   2012                 164     8.5  1222645   \n",
       "Robin Hood              2010                 140     6.7   221117   \n",
       "American Gangster       2007                 157     7.8   337835   \n",
       "Exodus: Gods and Kings  2014                 150     6.0   137299   \n",
       "\n",
       "                        revenue_in_millions  metascore  \n",
       "title                                                   \n",
       "Prometheus                           126.46       65.0  \n",
       "Interstellar                         187.99       74.0  \n",
       "The Dark Knight                      533.32       82.0  \n",
       "The Prestige                          53.08       66.0  \n",
       "Inception                            292.57       74.0  \n",
       "The Martian                          228.43       80.0  \n",
       "The Dark Knight Rises                448.13       78.0  \n",
       "Robin Hood                           105.22       53.0  \n",
       "American Gangster                    130.13       76.0  \n",
       "Exodus: Gods and Kings                65.01       52.0  "
      ]
     },
     "execution_count": 38,
     "metadata": {},
     "output_type": "execute_result"
    }
   ],
   "source": [
    "df_movies_ridley_scott_cristopher_nolan = df_movies[(df_movies['director'] == 'Christopher Nolan') | \n",
    "                                                    (df_movies['director'] == 'Ridley Scott')]\n",
    "# print the subset\n",
    "df_movies_ridley_scott_cristopher_nolan.head(10)"
   ]
  },
  {
   "cell_type": "markdown",
   "id": "132f74b3",
   "metadata": {
    "papermill": {
     "duration": 0.051315,
     "end_time": "2022-12-29T21:49:32.890734",
     "exception": false,
     "start_time": "2022-12-29T21:49:32.839419",
     "status": "completed"
    },
    "tags": []
   },
   "source": [
    "Also, we can apply more complex filtering conditions. \n",
    "\n",
    "Suppose that we want the movies that follow those conditions: \n",
    "- movies between 2005 and 2010\n",
    "- with rating higher than 8\n",
    "- the total revenue is below the 0.25 percentile"
   ]
  },
  {
   "cell_type": "code",
   "execution_count": 39,
   "id": "cd41fd9a",
   "metadata": {
    "execution": {
     "iopub.execute_input": "2022-12-29T21:49:32.997591Z",
     "iopub.status.busy": "2022-12-29T21:49:32.996510Z",
     "iopub.status.idle": "2022-12-29T21:49:33.019877Z",
     "shell.execute_reply": "2022-12-29T21:49:33.018299Z"
    },
    "papermill": {
     "duration": 0.079168,
     "end_time": "2022-12-29T21:49:33.022337",
     "exception": false,
     "start_time": "2022-12-29T21:49:32.943169",
     "status": "completed"
    },
    "tags": []
   },
   "outputs": [
    {
     "data": {
      "text/html": [
       "<div>\n",
       "<style scoped>\n",
       "    .dataframe tbody tr th:only-of-type {\n",
       "        vertical-align: middle;\n",
       "    }\n",
       "\n",
       "    .dataframe tbody tr th {\n",
       "        vertical-align: top;\n",
       "    }\n",
       "\n",
       "    .dataframe thead th {\n",
       "        text-align: right;\n",
       "    }\n",
       "</style>\n",
       "<table border=\"1\" class=\"dataframe\">\n",
       "  <thead>\n",
       "    <tr style=\"text-align: right;\">\n",
       "      <th></th>\n",
       "      <th>rank</th>\n",
       "      <th>genre</th>\n",
       "      <th>description</th>\n",
       "      <th>director</th>\n",
       "      <th>actors</th>\n",
       "      <th>year</th>\n",
       "      <th>runtime_in_minutes</th>\n",
       "      <th>rating</th>\n",
       "      <th>votes</th>\n",
       "      <th>revenue_in_millions</th>\n",
       "      <th>metascore</th>\n",
       "    </tr>\n",
       "    <tr>\n",
       "      <th>title</th>\n",
       "      <th></th>\n",
       "      <th></th>\n",
       "      <th></th>\n",
       "      <th></th>\n",
       "      <th></th>\n",
       "      <th></th>\n",
       "      <th></th>\n",
       "      <th></th>\n",
       "      <th></th>\n",
       "      <th></th>\n",
       "      <th></th>\n",
       "    </tr>\n",
       "  </thead>\n",
       "  <tbody>\n",
       "    <tr>\n",
       "      <th>3 Idiots</th>\n",
       "      <td>431</td>\n",
       "      <td>Comedy,Drama</td>\n",
       "      <td>Two friends are searching for their long lost ...</td>\n",
       "      <td>Rajkumar Hirani</td>\n",
       "      <td>Aamir Khan, Madhavan, Mona Singh, Sharman Joshi</td>\n",
       "      <td>2009</td>\n",
       "      <td>170</td>\n",
       "      <td>8.4</td>\n",
       "      <td>238789</td>\n",
       "      <td>6.52</td>\n",
       "      <td>67.0</td>\n",
       "    </tr>\n",
       "    <tr>\n",
       "      <th>The Lives of Others</th>\n",
       "      <td>477</td>\n",
       "      <td>Drama,Thriller</td>\n",
       "      <td>In 1984 East Berlin, an agent of the secret po...</td>\n",
       "      <td>Florian Henckel von Donnersmarck</td>\n",
       "      <td>Ulrich Mühe, Martina Gedeck,Sebastian Koch, Ul...</td>\n",
       "      <td>2006</td>\n",
       "      <td>137</td>\n",
       "      <td>8.5</td>\n",
       "      <td>278103</td>\n",
       "      <td>11.28</td>\n",
       "      <td>89.0</td>\n",
       "    </tr>\n",
       "    <tr>\n",
       "      <th>Incendies</th>\n",
       "      <td>714</td>\n",
       "      <td>Drama,Mystery,War</td>\n",
       "      <td>Twins journey to the Middle East to discover t...</td>\n",
       "      <td>Denis Villeneuve</td>\n",
       "      <td>Lubna Azabal, Mélissa Désormeaux-Poulin, Maxim...</td>\n",
       "      <td>2010</td>\n",
       "      <td>131</td>\n",
       "      <td>8.2</td>\n",
       "      <td>92863</td>\n",
       "      <td>6.86</td>\n",
       "      <td>80.0</td>\n",
       "    </tr>\n",
       "    <tr>\n",
       "      <th>Taare Zameen Par</th>\n",
       "      <td>992</td>\n",
       "      <td>Drama,Family,Music</td>\n",
       "      <td>An eight-year-old boy is thought to be a lazy ...</td>\n",
       "      <td>Aamir Khan</td>\n",
       "      <td>Darsheel Safary, Aamir Khan, Tanay Chheda, Sac...</td>\n",
       "      <td>2007</td>\n",
       "      <td>165</td>\n",
       "      <td>8.5</td>\n",
       "      <td>102697</td>\n",
       "      <td>1.20</td>\n",
       "      <td>42.0</td>\n",
       "    </tr>\n",
       "  </tbody>\n",
       "</table>\n",
       "</div>"
      ],
      "text/plain": [
       "                     rank               genre  \\\n",
       "title                                           \n",
       "3 Idiots              431        Comedy,Drama   \n",
       "The Lives of Others   477      Drama,Thriller   \n",
       "Incendies             714   Drama,Mystery,War   \n",
       "Taare Zameen Par      992  Drama,Family,Music   \n",
       "\n",
       "                                                           description  \\\n",
       "title                                                                    \n",
       "3 Idiots             Two friends are searching for their long lost ...   \n",
       "The Lives of Others  In 1984 East Berlin, an agent of the secret po...   \n",
       "Incendies            Twins journey to the Middle East to discover t...   \n",
       "Taare Zameen Par     An eight-year-old boy is thought to be a lazy ...   \n",
       "\n",
       "                                             director  \\\n",
       "title                                                   \n",
       "3 Idiots                              Rajkumar Hirani   \n",
       "The Lives of Others  Florian Henckel von Donnersmarck   \n",
       "Incendies                            Denis Villeneuve   \n",
       "Taare Zameen Par                           Aamir Khan   \n",
       "\n",
       "                                                                actors  year  \\\n",
       "title                                                                          \n",
       "3 Idiots               Aamir Khan, Madhavan, Mona Singh, Sharman Joshi  2009   \n",
       "The Lives of Others  Ulrich Mühe, Martina Gedeck,Sebastian Koch, Ul...  2006   \n",
       "Incendies            Lubna Azabal, Mélissa Désormeaux-Poulin, Maxim...  2010   \n",
       "Taare Zameen Par     Darsheel Safary, Aamir Khan, Tanay Chheda, Sac...  2007   \n",
       "\n",
       "                     runtime_in_minutes  rating   votes  revenue_in_millions  \\\n",
       "title                                                                          \n",
       "3 Idiots                            170     8.4  238789                 6.52   \n",
       "The Lives of Others                 137     8.5  278103                11.28   \n",
       "Incendies                           131     8.2   92863                 6.86   \n",
       "Taare Zameen Par                    165     8.5  102697                 1.20   \n",
       "\n",
       "                     metascore  \n",
       "title                           \n",
       "3 Idiots                  67.0  \n",
       "The Lives of Others       89.0  \n",
       "Incendies                 80.0  \n",
       "Taare Zameen Par          42.0  "
      ]
     },
     "execution_count": 39,
     "metadata": {},
     "output_type": "execute_result"
    }
   ],
   "source": [
    "df_movies_multi_filter = df_movies[\n",
    "    ((df_movies['year'] >= 2005) & (df_movies['year'] <= 2010))\n",
    "    & (df_movies['rating'] > 8.0)\n",
    "    & (df_movies['revenue_in_millions'] < df_movies['revenue_in_millions'].quantile(0.25))\n",
    "]\n",
    "\n",
    "# Check the contents\n",
    "df_movies_multi_filter"
   ]
  },
  {
   "cell_type": "markdown",
   "id": "4876121e",
   "metadata": {
    "papermill": {
     "duration": 0.053009,
     "end_time": "2022-12-29T21:49:33.128456",
     "exception": false,
     "start_time": "2022-12-29T21:49:33.075447",
     "status": "completed"
    },
    "tags": []
   },
   "source": [
    "# Iterating over rows in DataFrame\n",
    "One of the most repetitive tasks when analysing data is to be able to iterate over rows. This process can be used in creating new insightful columns or even get some analytical insights directly. \n",
    "\n",
    "Now, we will list down some of the ways for iterating over rows while measuring the excution time of each. \n",
    "\n",
    "for the sake of simplicity, we will use only 100 rows of the `df_movies` dataframe"
   ]
  },
  {
   "cell_type": "markdown",
   "id": "3ded2c7f",
   "metadata": {
    "papermill": {
     "duration": 0.052019,
     "end_time": "2022-12-29T21:49:33.233622",
     "exception": false,
     "start_time": "2022-12-29T21:49:33.181603",
     "status": "completed"
    },
    "tags": []
   },
   "source": [
    "### 1. `index`\n",
    "\n",
    "You can simply iterate over the index of the dataframe and access the rows data based on it. lets see how!"
   ]
  },
  {
   "cell_type": "code",
   "execution_count": 40,
   "id": "a1d6c2b5",
   "metadata": {
    "execution": {
     "iopub.execute_input": "2022-12-29T21:49:33.339328Z",
     "iopub.status.busy": "2022-12-29T21:49:33.338892Z",
     "iopub.status.idle": "2022-12-29T21:49:33.357789Z",
     "shell.execute_reply": "2022-12-29T21:49:33.356396Z"
    },
    "papermill": {
     "duration": 0.074875,
     "end_time": "2022-12-29T21:49:33.360390",
     "exception": false,
     "start_time": "2022-12-29T21:49:33.285515",
     "status": "completed"
    },
    "tags": []
   },
   "outputs": [
    {
     "data": {
      "text/html": [
       "<div>\n",
       "<style scoped>\n",
       "    .dataframe tbody tr th:only-of-type {\n",
       "        vertical-align: middle;\n",
       "    }\n",
       "\n",
       "    .dataframe tbody tr th {\n",
       "        vertical-align: top;\n",
       "    }\n",
       "\n",
       "    .dataframe thead th {\n",
       "        text-align: right;\n",
       "    }\n",
       "</style>\n",
       "<table border=\"1\" class=\"dataframe\">\n",
       "  <thead>\n",
       "    <tr style=\"text-align: right;\">\n",
       "      <th></th>\n",
       "      <th>rank</th>\n",
       "      <th>genre</th>\n",
       "      <th>description</th>\n",
       "      <th>director</th>\n",
       "      <th>actors</th>\n",
       "      <th>year</th>\n",
       "      <th>runtime_in_minutes</th>\n",
       "      <th>rating</th>\n",
       "      <th>votes</th>\n",
       "      <th>revenue_in_millions</th>\n",
       "      <th>metascore</th>\n",
       "    </tr>\n",
       "    <tr>\n",
       "      <th>title</th>\n",
       "      <th></th>\n",
       "      <th></th>\n",
       "      <th></th>\n",
       "      <th></th>\n",
       "      <th></th>\n",
       "      <th></th>\n",
       "      <th></th>\n",
       "      <th></th>\n",
       "      <th></th>\n",
       "      <th></th>\n",
       "      <th></th>\n",
       "    </tr>\n",
       "  </thead>\n",
       "  <tbody>\n",
       "    <tr>\n",
       "      <th>Guardians of the Galaxy</th>\n",
       "      <td>1</td>\n",
       "      <td>Action,Adventure,Sci-Fi</td>\n",
       "      <td>A group of intergalactic criminals are forced ...</td>\n",
       "      <td>James Gunn</td>\n",
       "      <td>Chris Pratt, Vin Diesel, Bradley Cooper, Zoe S...</td>\n",
       "      <td>2014</td>\n",
       "      <td>121</td>\n",
       "      <td>8.1</td>\n",
       "      <td>757074</td>\n",
       "      <td>333.13</td>\n",
       "      <td>76.0</td>\n",
       "    </tr>\n",
       "    <tr>\n",
       "      <th>Prometheus</th>\n",
       "      <td>2</td>\n",
       "      <td>Adventure,Mystery,Sci-Fi</td>\n",
       "      <td>Following clues to the origin of mankind, a te...</td>\n",
       "      <td>Ridley Scott</td>\n",
       "      <td>Noomi Rapace, Logan Marshall-Green, Michael Fa...</td>\n",
       "      <td>2012</td>\n",
       "      <td>124</td>\n",
       "      <td>7.0</td>\n",
       "      <td>485820</td>\n",
       "      <td>126.46</td>\n",
       "      <td>65.0</td>\n",
       "    </tr>\n",
       "    <tr>\n",
       "      <th>Split</th>\n",
       "      <td>3</td>\n",
       "      <td>Horror,Thriller</td>\n",
       "      <td>Three girls are kidnapped by a man with a diag...</td>\n",
       "      <td>M. Night Shyamalan</td>\n",
       "      <td>James McAvoy, Anya Taylor-Joy, Haley Lu Richar...</td>\n",
       "      <td>2016</td>\n",
       "      <td>117</td>\n",
       "      <td>7.3</td>\n",
       "      <td>157606</td>\n",
       "      <td>138.12</td>\n",
       "      <td>62.0</td>\n",
       "    </tr>\n",
       "    <tr>\n",
       "      <th>Sing</th>\n",
       "      <td>4</td>\n",
       "      <td>Animation,Comedy,Family</td>\n",
       "      <td>In a city of humanoid animals, a hustling thea...</td>\n",
       "      <td>Christophe Lourdelet</td>\n",
       "      <td>Matthew McConaughey,Reese Witherspoon, Seth Ma...</td>\n",
       "      <td>2016</td>\n",
       "      <td>108</td>\n",
       "      <td>7.2</td>\n",
       "      <td>60545</td>\n",
       "      <td>270.32</td>\n",
       "      <td>59.0</td>\n",
       "    </tr>\n",
       "    <tr>\n",
       "      <th>Suicide Squad</th>\n",
       "      <td>5</td>\n",
       "      <td>Action,Adventure,Fantasy</td>\n",
       "      <td>A secret government agency recruits some of th...</td>\n",
       "      <td>David Ayer</td>\n",
       "      <td>Will Smith, Jared Leto, Margot Robbie, Viola D...</td>\n",
       "      <td>2016</td>\n",
       "      <td>123</td>\n",
       "      <td>6.2</td>\n",
       "      <td>393727</td>\n",
       "      <td>325.02</td>\n",
       "      <td>40.0</td>\n",
       "    </tr>\n",
       "  </tbody>\n",
       "</table>\n",
       "</div>"
      ],
      "text/plain": [
       "                         rank                     genre  \\\n",
       "title                                                     \n",
       "Guardians of the Galaxy     1   Action,Adventure,Sci-Fi   \n",
       "Prometheus                  2  Adventure,Mystery,Sci-Fi   \n",
       "Split                       3           Horror,Thriller   \n",
       "Sing                        4   Animation,Comedy,Family   \n",
       "Suicide Squad               5  Action,Adventure,Fantasy   \n",
       "\n",
       "                                                               description  \\\n",
       "title                                                                        \n",
       "Guardians of the Galaxy  A group of intergalactic criminals are forced ...   \n",
       "Prometheus               Following clues to the origin of mankind, a te...   \n",
       "Split                    Three girls are kidnapped by a man with a diag...   \n",
       "Sing                     In a city of humanoid animals, a hustling thea...   \n",
       "Suicide Squad            A secret government agency recruits some of th...   \n",
       "\n",
       "                                     director  \\\n",
       "title                                           \n",
       "Guardians of the Galaxy            James Gunn   \n",
       "Prometheus                       Ridley Scott   \n",
       "Split                      M. Night Shyamalan   \n",
       "Sing                     Christophe Lourdelet   \n",
       "Suicide Squad                      David Ayer   \n",
       "\n",
       "                                                                    actors  \\\n",
       "title                                                                        \n",
       "Guardians of the Galaxy  Chris Pratt, Vin Diesel, Bradley Cooper, Zoe S...   \n",
       "Prometheus               Noomi Rapace, Logan Marshall-Green, Michael Fa...   \n",
       "Split                    James McAvoy, Anya Taylor-Joy, Haley Lu Richar...   \n",
       "Sing                     Matthew McConaughey,Reese Witherspoon, Seth Ma...   \n",
       "Suicide Squad            Will Smith, Jared Leto, Margot Robbie, Viola D...   \n",
       "\n",
       "                         year  runtime_in_minutes  rating   votes  \\\n",
       "title                                                               \n",
       "Guardians of the Galaxy  2014                 121     8.1  757074   \n",
       "Prometheus               2012                 124     7.0  485820   \n",
       "Split                    2016                 117     7.3  157606   \n",
       "Sing                     2016                 108     7.2   60545   \n",
       "Suicide Squad            2016                 123     6.2  393727   \n",
       "\n",
       "                         revenue_in_millions  metascore  \n",
       "title                                                    \n",
       "Guardians of the Galaxy               333.13       76.0  \n",
       "Prometheus                            126.46       65.0  \n",
       "Split                                 138.12       62.0  \n",
       "Sing                                  270.32       59.0  \n",
       "Suicide Squad                         325.02       40.0  "
      ]
     },
     "execution_count": 40,
     "metadata": {},
     "output_type": "execute_result"
    }
   ],
   "source": [
    "df_movies.head()"
   ]
  },
  {
   "cell_type": "code",
   "execution_count": 41,
   "id": "804a1899",
   "metadata": {
    "execution": {
     "iopub.execute_input": "2022-12-29T21:49:33.470942Z",
     "iopub.status.busy": "2022-12-29T21:49:33.470520Z",
     "iopub.status.idle": "2022-12-29T21:49:33.478740Z",
     "shell.execute_reply": "2022-12-29T21:49:33.477425Z"
    },
    "papermill": {
     "duration": 0.065152,
     "end_time": "2022-12-29T21:49:33.481484",
     "exception": false,
     "start_time": "2022-12-29T21:49:33.416332",
     "status": "completed"
    },
    "tags": []
   },
   "outputs": [
    {
     "data": {
      "text/plain": [
       "(100, 11)"
      ]
     },
     "execution_count": 41,
     "metadata": {},
     "output_type": "execute_result"
    }
   ],
   "source": [
    "# take first 100 rows\n",
    "df_small = df_movies[:100]\n",
    "# lets see its shape\n",
    "df_small.shape"
   ]
  },
  {
   "cell_type": "code",
   "execution_count": 42,
   "id": "6f778c82",
   "metadata": {
    "execution": {
     "iopub.execute_input": "2022-12-29T21:49:33.590458Z",
     "iopub.status.busy": "2022-12-29T21:49:33.589980Z",
     "iopub.status.idle": "2022-12-29T21:49:33.601352Z",
     "shell.execute_reply": "2022-12-29T21:49:33.599637Z"
    },
    "papermill": {
     "duration": 0.070081,
     "end_time": "2022-12-29T21:49:33.605195",
     "exception": false,
     "start_time": "2022-12-29T21:49:33.535114",
     "status": "completed"
    },
    "tags": []
   },
   "outputs": [
    {
     "name": "stdout",
     "output_type": "stream",
     "text": [
      "James Gunn 333.13\n",
      "Ridley Scott 126.46\n",
      "M. Night Shyamalan 138.12\n",
      "Christophe Lourdelet 270.32\n",
      "David Ayer 325.02\n",
      "Yimou Zhang 45.13\n",
      "Damien Chazelle 151.06\n",
      "James Gray 8.01\n",
      "Morten Tyldum 100.01\n",
      "David Yates 234.02\n",
      "Theodore Melfi 169.27\n",
      "Gareth Edwards 532.17\n",
      "Ron Clements 248.75\n",
      "Nacho Vigalondo 2.87\n",
      "Chris Renaud 368.31\n",
      "Mel Gibson 67.12\n",
      "Paul Greengrass 162.16\n",
      "Garth Davis 51.69\n",
      "Denis Villeneuve 100.5\n",
      "Stephen Gaghan 7.22\n",
      "Kenneth Lonergan 47.7\n",
      "Walt Dohrn 153.69\n",
      "Roland Emmerich 103.14\n",
      "Jon Lucas 113.08\n",
      "Justin Kurzel 54.65\n",
      "John Hamburg 60.31\n",
      "Tom Ford 10.64\n",
      "Bryan Singer 155.33\n",
      "Tim Miller 363.02\n",
      "Paul W.S. Anderson 26.84\n",
      "Anthony Russo 408.08\n",
      "Christopher Nolan 187.99\n",
      "Scott Derrickson 232.6\n",
      "Antoine Fuqua 93.38\n",
      "Greg Tiernan 97.66\n",
      "Barry Jenkins 27.85\n",
      "John Lee Hancock 12.79\n",
      "Ricardo de Montreuil 4.21\n",
      "Rob Marshall 241.06\n",
      "John Madden 3.44\n",
      "Justin Lin 158.8\n",
      "J.J. Abrams 936.63\n",
      "Anna Foerster 30.35\n",
      "Garry Marshall 32.46\n",
      "Chad Stahelski 43.0\n",
      "Christopher Nolan 533.32\n",
      "Martin Scorsese 7.08\n",
      "Fede Alvarez 89.21\n",
      "Thea Sharrock 56.23\n",
      "Lone Scherfig 3.18\n",
      "Clint Eastwood 125.07\n",
      "Zack Snyder 330.25\n",
      "Tate Taylor 75.31\n",
      "Sam Taylor-Johnson 166.15\n",
      "Christopher Nolan 53.08\n",
      "Matthew Vaughn 128.25\n",
      "Peter Berg 31.86\n",
      "George Miller 153.63\n",
      "Robin Swicord 0.01\n",
      "Peter Berg 61.28\n",
      "Robert Zemeckis 40.07\n",
      "J.A. Bayona 3.73\n",
      "David Frankel 30.98\n",
      "Byron Howard 341.26\n",
      "Gore Verbinski 309.4\n",
      "Joss Whedon 623.28\n",
      "Quentin Tarantino 120.52\n",
      "Gore Verbinski 423.03\n",
      "Paul Feig 128.34\n",
      "Christopher Nolan 292.57\n",
      "Matt Ross 5.88\n",
      "Martin Scorsese 116.87\n",
      "David Fincher 167.74\n",
      "James Wan 350.03\n",
      "Colin Trevorrow 652.18\n",
      "Ben Affleck 10.38\n",
      "James Cameron 760.51\n",
      "Quentin Tarantino 54.12\n",
      "Gavin O'Connor 86.2\n",
      "Denis Villeneuve 60.96\n",
      "Duncan Jones 47.17\n",
      "Tate Taylor 169.71\n",
      "Todd Phillips 43.02\n",
      "Joss Whedon 458.99\n",
      "Shane Black 36.25\n",
      "Makoto Shinkai 4.68\n",
      "Jeremy Gillespie 0.15\n",
      "Olivier Assayas 1.29\n",
      "Martin Scorsese 132.37\n",
      "Brian Helgeland 1.87\n",
      "Kenneth Branagh 181.02\n",
      "Ridley Scott 228.43\n",
      "Guy Ritchie 45.43\n",
      "David Mackenzie 26.86\n",
      "Taylor Hackford 1.66\n",
      "David Yates 126.59\n",
      "Alex Garland 25.44\n",
      "Greg McLean 10.16\n",
      "Steve McQueen 56.67\n",
      "Zack Snyder 210.59\n",
      "CPU times: user 3.79 ms, sys: 0 ns, total: 3.79 ms\n",
      "Wall time: 3.81 ms\n"
     ]
    }
   ],
   "source": [
    "%%time\n",
    "for ind in df_small.index:\n",
    "    print(df_small['director'][ind], df_small['revenue_in_millions'][ind])"
   ]
  },
  {
   "cell_type": "markdown",
   "id": "4102c304",
   "metadata": {
    "papermill": {
     "duration": 0.052808,
     "end_time": "2022-12-29T21:49:33.712842",
     "exception": false,
     "start_time": "2022-12-29T21:49:33.660034",
     "status": "completed"
    },
    "tags": []
   },
   "source": [
    "For this method, it took `4.22 ms` to read 100 rows."
   ]
  },
  {
   "cell_type": "markdown",
   "id": "6980a433",
   "metadata": {
    "papermill": {
     "duration": 0.05304,
     "end_time": "2022-12-29T21:49:33.818717",
     "exception": false,
     "start_time": "2022-12-29T21:49:33.765677",
     "status": "completed"
    },
    "tags": []
   },
   "source": [
    "### 2.`iterrows()`\n",
    "\n",
    "`iterrows()` also can be used for iterating over rows. lets see how!"
   ]
  },
  {
   "cell_type": "code",
   "execution_count": 43,
   "id": "686b9206",
   "metadata": {
    "execution": {
     "iopub.execute_input": "2022-12-29T21:49:33.927142Z",
     "iopub.status.busy": "2022-12-29T21:49:33.926644Z",
     "iopub.status.idle": "2022-12-29T21:49:33.943267Z",
     "shell.execute_reply": "2022-12-29T21:49:33.941699Z"
    },
    "papermill": {
     "duration": 0.075311,
     "end_time": "2022-12-29T21:49:33.947620",
     "exception": false,
     "start_time": "2022-12-29T21:49:33.872309",
     "status": "completed"
    },
    "tags": []
   },
   "outputs": [
    {
     "name": "stdout",
     "output_type": "stream",
     "text": [
      "James Gunn 333.13\n",
      "Ridley Scott 126.46\n",
      "M. Night Shyamalan 138.12\n",
      "Christophe Lourdelet 270.32\n",
      "David Ayer 325.02\n",
      "Yimou Zhang 45.13\n",
      "Damien Chazelle 151.06\n",
      "James Gray 8.01\n",
      "Morten Tyldum 100.01\n",
      "David Yates 234.02\n",
      "Theodore Melfi 169.27\n",
      "Gareth Edwards 532.17\n",
      "Ron Clements 248.75\n",
      "Nacho Vigalondo 2.87\n",
      "Chris Renaud 368.31\n",
      "Mel Gibson 67.12\n",
      "Paul Greengrass 162.16\n",
      "Garth Davis 51.69\n",
      "Denis Villeneuve 100.5\n",
      "Stephen Gaghan 7.22\n",
      "Kenneth Lonergan 47.7\n",
      "Walt Dohrn 153.69\n",
      "Roland Emmerich 103.14\n",
      "Jon Lucas 113.08\n",
      "Justin Kurzel 54.65\n",
      "John Hamburg 60.31\n",
      "Tom Ford 10.64\n",
      "Bryan Singer 155.33\n",
      "Tim Miller 363.02\n",
      "Paul W.S. Anderson 26.84\n",
      "Anthony Russo 408.08\n",
      "Christopher Nolan 187.99\n",
      "Scott Derrickson 232.6\n",
      "Antoine Fuqua 93.38\n",
      "Greg Tiernan 97.66\n",
      "Barry Jenkins 27.85\n",
      "John Lee Hancock 12.79\n",
      "Ricardo de Montreuil 4.21\n",
      "Rob Marshall 241.06\n",
      "John Madden 3.44\n",
      "Justin Lin 158.8\n",
      "J.J. Abrams 936.63\n",
      "Anna Foerster 30.35\n",
      "Garry Marshall 32.46\n",
      "Chad Stahelski 43.0\n",
      "Christopher Nolan 533.32\n",
      "Martin Scorsese 7.08\n",
      "Fede Alvarez 89.21\n",
      "Thea Sharrock 56.23\n",
      "Lone Scherfig 3.18\n",
      "Clint Eastwood 125.07\n",
      "Zack Snyder 330.25\n",
      "Tate Taylor 75.31\n",
      "Sam Taylor-Johnson 166.15\n",
      "Christopher Nolan 53.08\n",
      "Matthew Vaughn 128.25\n",
      "Peter Berg 31.86\n",
      "George Miller 153.63\n",
      "Robin Swicord 0.01\n",
      "Peter Berg 61.28\n",
      "Robert Zemeckis 40.07\n",
      "J.A. Bayona 3.73\n",
      "David Frankel 30.98\n",
      "Byron Howard 341.26\n",
      "Gore Verbinski 309.4\n",
      "Joss Whedon 623.28\n",
      "Quentin Tarantino 120.52\n",
      "Gore Verbinski 423.03\n",
      "Paul Feig 128.34\n",
      "Christopher Nolan 292.57\n",
      "Matt Ross 5.88\n",
      "Martin Scorsese 116.87\n",
      "David Fincher 167.74\n",
      "James Wan 350.03\n",
      "Colin Trevorrow 652.18\n",
      "Ben Affleck 10.38\n",
      "James Cameron 760.51\n",
      "Quentin Tarantino 54.12\n",
      "Gavin O'Connor 86.2\n",
      "Denis Villeneuve 60.96\n",
      "Duncan Jones 47.17\n",
      "Tate Taylor 169.71\n",
      "Todd Phillips 43.02\n",
      "Joss Whedon 458.99\n",
      "Shane Black 36.25\n",
      "Makoto Shinkai 4.68\n",
      "Jeremy Gillespie 0.15\n",
      "Olivier Assayas 1.29\n",
      "Martin Scorsese 132.37\n",
      "Brian Helgeland 1.87\n",
      "Kenneth Branagh 181.02\n",
      "Ridley Scott 228.43\n",
      "Guy Ritchie 45.43\n",
      "David Mackenzie 26.86\n",
      "Taylor Hackford 1.66\n",
      "David Yates 126.59\n",
      "Alex Garland 25.44\n",
      "Greg McLean 10.16\n",
      "Steve McQueen 56.67\n",
      "Zack Snyder 210.59\n",
      "CPU times: user 8.88 ms, sys: 847 µs, total: 9.73 ms\n",
      "Wall time: 9.4 ms\n"
     ]
    }
   ],
   "source": [
    "%%time\n",
    "for index, row in df_small.iterrows():\n",
    "    print(row[\"director\"], row[\"revenue_in_millions\"])"
   ]
  },
  {
   "cell_type": "markdown",
   "id": "d27015c9",
   "metadata": {
    "papermill": {
     "duration": 0.050791,
     "end_time": "2022-12-29T21:49:34.051318",
     "exception": false,
     "start_time": "2022-12-29T21:49:34.000527",
     "status": "completed"
    },
    "tags": []
   },
   "source": [
    "It too for this method, `8.09 ms`"
   ]
  },
  {
   "cell_type": "markdown",
   "id": "3067ff65",
   "metadata": {
    "execution": {
     "iopub.execute_input": "2022-12-28T11:40:20.997742Z",
     "iopub.status.busy": "2022-12-28T11:40:20.997322Z",
     "iopub.status.idle": "2022-12-28T11:40:21.005250Z",
     "shell.execute_reply": "2022-12-28T11:40:21.003339Z",
     "shell.execute_reply.started": "2022-12-28T11:40:20.997711Z"
    },
    "papermill": {
     "duration": 0.050595,
     "end_time": "2022-12-29T21:49:34.152739",
     "exception": false,
     "start_time": "2022-12-29T21:49:34.102144",
     "status": "completed"
    },
    "tags": []
   },
   "source": [
    "### 3.`itertuples()`\n",
    "\n",
    "Lets see how it could be used!"
   ]
  },
  {
   "cell_type": "code",
   "execution_count": 44,
   "id": "de3a5b46",
   "metadata": {
    "execution": {
     "iopub.execute_input": "2022-12-29T21:49:34.257379Z",
     "iopub.status.busy": "2022-12-29T21:49:34.256959Z",
     "iopub.status.idle": "2022-12-29T21:49:34.266845Z",
     "shell.execute_reply": "2022-12-29T21:49:34.265454Z"
    },
    "papermill": {
     "duration": 0.065288,
     "end_time": "2022-12-29T21:49:34.269583",
     "exception": false,
     "start_time": "2022-12-29T21:49:34.204295",
     "status": "completed"
    },
    "tags": []
   },
   "outputs": [
    {
     "name": "stdout",
     "output_type": "stream",
     "text": [
      "James Gunn 333.13\n",
      "Ridley Scott 126.46\n",
      "M. Night Shyamalan 138.12\n",
      "Christophe Lourdelet 270.32\n",
      "David Ayer 325.02\n",
      "Yimou Zhang 45.13\n",
      "Damien Chazelle 151.06\n",
      "James Gray 8.01\n",
      "Morten Tyldum 100.01\n",
      "David Yates 234.02\n",
      "Theodore Melfi 169.27\n",
      "Gareth Edwards 532.17\n",
      "Ron Clements 248.75\n",
      "Nacho Vigalondo 2.87\n",
      "Chris Renaud 368.31\n",
      "Mel Gibson 67.12\n",
      "Paul Greengrass 162.16\n",
      "Garth Davis 51.69\n",
      "Denis Villeneuve 100.5\n",
      "Stephen Gaghan 7.22\n",
      "Kenneth Lonergan 47.7\n",
      "Walt Dohrn 153.69\n",
      "Roland Emmerich 103.14\n",
      "Jon Lucas 113.08\n",
      "Justin Kurzel 54.65\n",
      "John Hamburg 60.31\n",
      "Tom Ford 10.64\n",
      "Bryan Singer 155.33\n",
      "Tim Miller 363.02\n",
      "Paul W.S. Anderson 26.84\n",
      "Anthony Russo 408.08\n",
      "Christopher Nolan 187.99\n",
      "Scott Derrickson 232.6\n",
      "Antoine Fuqua 93.38\n",
      "Greg Tiernan 97.66\n",
      "Barry Jenkins 27.85\n",
      "John Lee Hancock 12.79\n",
      "Ricardo de Montreuil 4.21\n",
      "Rob Marshall 241.06\n",
      "John Madden 3.44\n",
      "Justin Lin 158.8\n",
      "J.J. Abrams 936.63\n",
      "Anna Foerster 30.35\n",
      "Garry Marshall 32.46\n",
      "Chad Stahelski 43.0\n",
      "Christopher Nolan 533.32\n",
      "Martin Scorsese 7.08\n",
      "Fede Alvarez 89.21\n",
      "Thea Sharrock 56.23\n",
      "Lone Scherfig 3.18\n",
      "Clint Eastwood 125.07\n",
      "Zack Snyder 330.25\n",
      "Tate Taylor 75.31\n",
      "Sam Taylor-Johnson 166.15\n",
      "Christopher Nolan 53.08\n",
      "Matthew Vaughn 128.25\n",
      "Peter Berg 31.86\n",
      "George Miller 153.63\n",
      "Robin Swicord 0.01\n",
      "Peter Berg 61.28\n",
      "Robert Zemeckis 40.07\n",
      "J.A. Bayona 3.73\n",
      "David Frankel 30.98\n",
      "Byron Howard 341.26\n",
      "Gore Verbinski 309.4\n",
      "Joss Whedon 623.28\n",
      "Quentin Tarantino 120.52\n",
      "Gore Verbinski 423.03\n",
      "Paul Feig 128.34\n",
      "Christopher Nolan 292.57\n",
      "Matt Ross 5.88\n",
      "Martin Scorsese 116.87\n",
      "David Fincher 167.74\n",
      "James Wan 350.03\n",
      "Colin Trevorrow 652.18\n",
      "Ben Affleck 10.38\n",
      "James Cameron 760.51\n",
      "Quentin Tarantino 54.12\n",
      "Gavin O'Connor 86.2\n",
      "Denis Villeneuve 60.96\n",
      "Duncan Jones 47.17\n",
      "Tate Taylor 169.71\n",
      "Todd Phillips 43.02\n",
      "Joss Whedon 458.99\n",
      "Shane Black 36.25\n",
      "Makoto Shinkai 4.68\n",
      "Jeremy Gillespie 0.15\n",
      "Olivier Assayas 1.29\n",
      "Martin Scorsese 132.37\n",
      "Brian Helgeland 1.87\n",
      "Kenneth Branagh 181.02\n",
      "Ridley Scott 228.43\n",
      "Guy Ritchie 45.43\n",
      "David Mackenzie 26.86\n",
      "Taylor Hackford 1.66\n",
      "David Yates 126.59\n",
      "Alex Garland 25.44\n",
      "Greg McLean 10.16\n",
      "Steve McQueen 56.67\n",
      "Zack Snyder 210.59\n",
      "CPU times: user 2.91 ms, sys: 0 ns, total: 2.91 ms\n",
      "Wall time: 2.9 ms\n"
     ]
    }
   ],
   "source": [
    "%%time\n",
    "for row in df_small.itertuples():\n",
    "    print(row.director, row.revenue_in_millions)"
   ]
  },
  {
   "cell_type": "markdown",
   "id": "a2f6aa9e",
   "metadata": {
    "papermill": {
     "duration": 0.050862,
     "end_time": "2022-12-29T21:49:34.372024",
     "exception": false,
     "start_time": "2022-12-29T21:49:34.321162",
     "status": "completed"
    },
    "tags": []
   },
   "source": [
    "`itertuples()` is generally the fastest method when iterating over rows."
   ]
  },
  {
   "cell_type": "markdown",
   "id": "2cecbd29",
   "metadata": {
    "papermill": {
     "duration": 0.052069,
     "end_time": "2022-12-29T21:49:34.475085",
     "exception": false,
     "start_time": "2022-12-29T21:49:34.423016",
     "status": "completed"
    },
    "tags": []
   },
   "source": [
    "### Exercise\n",
    "\n",
    "As you may have noticed by now, the `genre` column has multiple values in the same row. That's because any movie can be classified to multiple genres. \n",
    "\n",
    "Now, the exercise is to loop over the rows, then get all the whole genres in one list then get the count of each genre using `Counter` function from `collections` module.\n",
    "\n",
    "Lets see how this could be done!"
   ]
  },
  {
   "cell_type": "code",
   "execution_count": 45,
   "id": "fe2c09dd",
   "metadata": {
    "execution": {
     "iopub.execute_input": "2022-12-29T21:49:34.580171Z",
     "iopub.status.busy": "2022-12-29T21:49:34.579665Z",
     "iopub.status.idle": "2022-12-29T21:49:34.592115Z",
     "shell.execute_reply": "2022-12-29T21:49:34.590962Z"
    },
    "papermill": {
     "duration": 0.066922,
     "end_time": "2022-12-29T21:49:34.594170",
     "exception": false,
     "start_time": "2022-12-29T21:49:34.527248",
     "status": "completed"
    },
    "tags": []
   },
   "outputs": [
    {
     "data": {
      "text/plain": [
       "['Action',\n",
       " 'Adventure',\n",
       " 'Sci-Fi',\n",
       " 'Adventure',\n",
       " 'Mystery',\n",
       " 'Sci-Fi',\n",
       " 'Horror',\n",
       " 'Thriller',\n",
       " 'Animation',\n",
       " 'Comedy',\n",
       " 'Family',\n",
       " 'Action',\n",
       " 'Adventure',\n",
       " 'Fantasy',\n",
       " 'Action',\n",
       " 'Adventure',\n",
       " 'Fantasy',\n",
       " 'Comedy',\n",
       " 'Drama',\n",
       " 'Music']"
      ]
     },
     "execution_count": 45,
     "metadata": {},
     "output_type": "execute_result"
    }
   ],
   "source": [
    "# list to carry all genres\n",
    "genre_lst = list()\n",
    "# loop over all rows using itertuples() [the fastest]\n",
    "for row in df_movies.itertuples():\n",
    "    # split every genre by the ',' then add this to genre_lst\n",
    "    genre_lst += row.genre.split(',')\n",
    "\n",
    "# lets see our list\n",
    "genre_lst[:20]"
   ]
  },
  {
   "cell_type": "markdown",
   "id": "ca2d0e2f",
   "metadata": {
    "papermill": {
     "duration": 0.051745,
     "end_time": "2022-12-29T21:49:34.697288",
     "exception": false,
     "start_time": "2022-12-29T21:49:34.645543",
     "status": "completed"
    },
    "tags": []
   },
   "source": [
    "Now, lets count the repetition of every genre in our top 1000 movie. "
   ]
  },
  {
   "cell_type": "code",
   "execution_count": 46,
   "id": "fb45444c",
   "metadata": {
    "execution": {
     "iopub.execute_input": "2022-12-29T21:49:34.802843Z",
     "iopub.status.busy": "2022-12-29T21:49:34.802424Z",
     "iopub.status.idle": "2022-12-29T21:49:34.812107Z",
     "shell.execute_reply": "2022-12-29T21:49:34.811054Z"
    },
    "papermill": {
     "duration": 0.065679,
     "end_time": "2022-12-29T21:49:34.814430",
     "exception": false,
     "start_time": "2022-12-29T21:49:34.748751",
     "status": "completed"
    },
    "tags": []
   },
   "outputs": [
    {
     "data": {
      "text/plain": [
       "[('Drama', 419),\n",
       " ('Action', 277),\n",
       " ('Comedy', 250),\n",
       " ('Adventure', 244),\n",
       " ('Thriller', 148),\n",
       " ('Crime', 126),\n",
       " ('Romance', 120),\n",
       " ('Sci-Fi', 107),\n",
       " ('Fantasy', 92),\n",
       " ('Horror', 87),\n",
       " ('Mystery', 86),\n",
       " ('Biography', 67),\n",
       " ('Family', 48),\n",
       " ('Animation', 45),\n",
       " ('History', 25),\n",
       " ('Music', 15),\n",
       " ('Sport', 15),\n",
       " ('War', 10),\n",
       " ('Musical', 5),\n",
       " ('Western', 4)]"
      ]
     },
     "execution_count": 46,
     "metadata": {},
     "output_type": "execute_result"
    }
   ],
   "source": [
    "from collections import Counter\n",
    "\n",
    "Counter(genre_lst).most_common()"
   ]
  },
  {
   "cell_type": "markdown",
   "id": "1c3f265b",
   "metadata": {
    "papermill": {
     "duration": 0.122882,
     "end_time": "2022-12-29T21:49:34.989900",
     "exception": false,
     "start_time": "2022-12-29T21:49:34.867018",
     "status": "completed"
    },
    "tags": []
   },
   "source": [
    "As you can see, `Drama` genre is the most repeated genre in the list of top 1000 movies!"
   ]
  },
  {
   "cell_type": "markdown",
   "id": "30b91595",
   "metadata": {
    "papermill": {
     "duration": 0.052935,
     "end_time": "2022-12-29T21:49:35.096923",
     "exception": false,
     "start_time": "2022-12-29T21:49:35.043988",
     "status": "completed"
    },
    "tags": []
   },
   "source": [
    "# Creating or Removing columns from DataFrame\n",
    "\n",
    "As a part of analysing almost any dataframe, you may need to add some new columns that may hold some new insights about the data. \n",
    "\n",
    "Lets see various methods for doing that!"
   ]
  },
  {
   "cell_type": "markdown",
   "id": "69013e09",
   "metadata": {
    "papermill": {
     "duration": 0.053808,
     "end_time": "2022-12-29T21:49:35.203236",
     "exception": false,
     "start_time": "2022-12-29T21:49:35.149428",
     "status": "completed"
    },
    "tags": []
   },
   "source": [
    "### 1.`apply()`\n",
    "\n",
    "`apply()` function is used to apply some function agnist some axis. Check [documentation](https://pandas.pydata.org/docs/reference/api/pandas.DataFrame.apply.html)\n",
    "\n",
    "Lets say that we will add a new column called `rating_category` which will simply be an indicator over the `rating` column. Any movie with rating above `8` will be considered as a `good` category otherwise, it will be `neutral`\n"
   ]
  },
  {
   "cell_type": "code",
   "execution_count": 47,
   "id": "fd9e2761",
   "metadata": {
    "execution": {
     "iopub.execute_input": "2022-12-29T21:49:35.311630Z",
     "iopub.status.busy": "2022-12-29T21:49:35.311184Z",
     "iopub.status.idle": "2022-12-29T21:49:35.335285Z",
     "shell.execute_reply": "2022-12-29T21:49:35.334021Z"
    },
    "papermill": {
     "duration": 0.081754,
     "end_time": "2022-12-29T21:49:35.337791",
     "exception": false,
     "start_time": "2022-12-29T21:49:35.256037",
     "status": "completed"
    },
    "tags": []
   },
   "outputs": [
    {
     "data": {
      "text/html": [
       "<div>\n",
       "<style scoped>\n",
       "    .dataframe tbody tr th:only-of-type {\n",
       "        vertical-align: middle;\n",
       "    }\n",
       "\n",
       "    .dataframe tbody tr th {\n",
       "        vertical-align: top;\n",
       "    }\n",
       "\n",
       "    .dataframe thead th {\n",
       "        text-align: right;\n",
       "    }\n",
       "</style>\n",
       "<table border=\"1\" class=\"dataframe\">\n",
       "  <thead>\n",
       "    <tr style=\"text-align: right;\">\n",
       "      <th></th>\n",
       "      <th>rank</th>\n",
       "      <th>genre</th>\n",
       "      <th>description</th>\n",
       "      <th>director</th>\n",
       "      <th>actors</th>\n",
       "      <th>year</th>\n",
       "      <th>runtime_in_minutes</th>\n",
       "      <th>rating</th>\n",
       "      <th>votes</th>\n",
       "      <th>revenue_in_millions</th>\n",
       "      <th>metascore</th>\n",
       "      <th>rating_category</th>\n",
       "    </tr>\n",
       "    <tr>\n",
       "      <th>title</th>\n",
       "      <th></th>\n",
       "      <th></th>\n",
       "      <th></th>\n",
       "      <th></th>\n",
       "      <th></th>\n",
       "      <th></th>\n",
       "      <th></th>\n",
       "      <th></th>\n",
       "      <th></th>\n",
       "      <th></th>\n",
       "      <th></th>\n",
       "      <th></th>\n",
       "    </tr>\n",
       "  </thead>\n",
       "  <tbody>\n",
       "    <tr>\n",
       "      <th>Guardians of the Galaxy</th>\n",
       "      <td>1</td>\n",
       "      <td>Action,Adventure,Sci-Fi</td>\n",
       "      <td>A group of intergalactic criminals are forced ...</td>\n",
       "      <td>James Gunn</td>\n",
       "      <td>Chris Pratt, Vin Diesel, Bradley Cooper, Zoe S...</td>\n",
       "      <td>2014</td>\n",
       "      <td>121</td>\n",
       "      <td>8.1</td>\n",
       "      <td>757074</td>\n",
       "      <td>333.13</td>\n",
       "      <td>76.0</td>\n",
       "      <td>good</td>\n",
       "    </tr>\n",
       "    <tr>\n",
       "      <th>Prometheus</th>\n",
       "      <td>2</td>\n",
       "      <td>Adventure,Mystery,Sci-Fi</td>\n",
       "      <td>Following clues to the origin of mankind, a te...</td>\n",
       "      <td>Ridley Scott</td>\n",
       "      <td>Noomi Rapace, Logan Marshall-Green, Michael Fa...</td>\n",
       "      <td>2012</td>\n",
       "      <td>124</td>\n",
       "      <td>7.0</td>\n",
       "      <td>485820</td>\n",
       "      <td>126.46</td>\n",
       "      <td>65.0</td>\n",
       "      <td>neutral</td>\n",
       "    </tr>\n",
       "    <tr>\n",
       "      <th>Split</th>\n",
       "      <td>3</td>\n",
       "      <td>Horror,Thriller</td>\n",
       "      <td>Three girls are kidnapped by a man with a diag...</td>\n",
       "      <td>M. Night Shyamalan</td>\n",
       "      <td>James McAvoy, Anya Taylor-Joy, Haley Lu Richar...</td>\n",
       "      <td>2016</td>\n",
       "      <td>117</td>\n",
       "      <td>7.3</td>\n",
       "      <td>157606</td>\n",
       "      <td>138.12</td>\n",
       "      <td>62.0</td>\n",
       "      <td>neutral</td>\n",
       "    </tr>\n",
       "    <tr>\n",
       "      <th>Sing</th>\n",
       "      <td>4</td>\n",
       "      <td>Animation,Comedy,Family</td>\n",
       "      <td>In a city of humanoid animals, a hustling thea...</td>\n",
       "      <td>Christophe Lourdelet</td>\n",
       "      <td>Matthew McConaughey,Reese Witherspoon, Seth Ma...</td>\n",
       "      <td>2016</td>\n",
       "      <td>108</td>\n",
       "      <td>7.2</td>\n",
       "      <td>60545</td>\n",
       "      <td>270.32</td>\n",
       "      <td>59.0</td>\n",
       "      <td>neutral</td>\n",
       "    </tr>\n",
       "    <tr>\n",
       "      <th>Suicide Squad</th>\n",
       "      <td>5</td>\n",
       "      <td>Action,Adventure,Fantasy</td>\n",
       "      <td>A secret government agency recruits some of th...</td>\n",
       "      <td>David Ayer</td>\n",
       "      <td>Will Smith, Jared Leto, Margot Robbie, Viola D...</td>\n",
       "      <td>2016</td>\n",
       "      <td>123</td>\n",
       "      <td>6.2</td>\n",
       "      <td>393727</td>\n",
       "      <td>325.02</td>\n",
       "      <td>40.0</td>\n",
       "      <td>neutral</td>\n",
       "    </tr>\n",
       "    <tr>\n",
       "      <th>The Great Wall</th>\n",
       "      <td>6</td>\n",
       "      <td>Action,Adventure,Fantasy</td>\n",
       "      <td>European mercenaries searching for black powde...</td>\n",
       "      <td>Yimou Zhang</td>\n",
       "      <td>Matt Damon, Tian Jing, Willem Dafoe, Andy Lau</td>\n",
       "      <td>2016</td>\n",
       "      <td>103</td>\n",
       "      <td>6.1</td>\n",
       "      <td>56036</td>\n",
       "      <td>45.13</td>\n",
       "      <td>42.0</td>\n",
       "      <td>neutral</td>\n",
       "    </tr>\n",
       "    <tr>\n",
       "      <th>La La Land</th>\n",
       "      <td>7</td>\n",
       "      <td>Comedy,Drama,Music</td>\n",
       "      <td>A jazz pianist falls for an aspiring actress i...</td>\n",
       "      <td>Damien Chazelle</td>\n",
       "      <td>Ryan Gosling, Emma Stone, Rosemarie DeWitt, J....</td>\n",
       "      <td>2016</td>\n",
       "      <td>128</td>\n",
       "      <td>8.3</td>\n",
       "      <td>258682</td>\n",
       "      <td>151.06</td>\n",
       "      <td>93.0</td>\n",
       "      <td>good</td>\n",
       "    </tr>\n",
       "    <tr>\n",
       "      <th>The Lost City of Z</th>\n",
       "      <td>9</td>\n",
       "      <td>Action,Adventure,Biography</td>\n",
       "      <td>A true-life drama, centering on British explor...</td>\n",
       "      <td>James Gray</td>\n",
       "      <td>Charlie Hunnam, Robert Pattinson, Sienna Mille...</td>\n",
       "      <td>2016</td>\n",
       "      <td>141</td>\n",
       "      <td>7.1</td>\n",
       "      <td>7188</td>\n",
       "      <td>8.01</td>\n",
       "      <td>78.0</td>\n",
       "      <td>neutral</td>\n",
       "    </tr>\n",
       "    <tr>\n",
       "      <th>Passengers</th>\n",
       "      <td>10</td>\n",
       "      <td>Adventure,Drama,Romance</td>\n",
       "      <td>A spacecraft traveling to a distant colony pla...</td>\n",
       "      <td>Morten Tyldum</td>\n",
       "      <td>Jennifer Lawrence, Chris Pratt, Michael Sheen,...</td>\n",
       "      <td>2016</td>\n",
       "      <td>116</td>\n",
       "      <td>7.0</td>\n",
       "      <td>192177</td>\n",
       "      <td>100.01</td>\n",
       "      <td>41.0</td>\n",
       "      <td>neutral</td>\n",
       "    </tr>\n",
       "    <tr>\n",
       "      <th>Fantastic Beasts and Where to Find Them</th>\n",
       "      <td>11</td>\n",
       "      <td>Adventure,Family,Fantasy</td>\n",
       "      <td>The adventures of writer Newt Scamander in New...</td>\n",
       "      <td>David Yates</td>\n",
       "      <td>Eddie Redmayne, Katherine Waterston, Alison Su...</td>\n",
       "      <td>2016</td>\n",
       "      <td>133</td>\n",
       "      <td>7.5</td>\n",
       "      <td>232072</td>\n",
       "      <td>234.02</td>\n",
       "      <td>66.0</td>\n",
       "      <td>neutral</td>\n",
       "    </tr>\n",
       "  </tbody>\n",
       "</table>\n",
       "</div>"
      ],
      "text/plain": [
       "                                         rank                       genre  \\\n",
       "title                                                                       \n",
       "Guardians of the Galaxy                     1     Action,Adventure,Sci-Fi   \n",
       "Prometheus                                  2    Adventure,Mystery,Sci-Fi   \n",
       "Split                                       3             Horror,Thriller   \n",
       "Sing                                        4     Animation,Comedy,Family   \n",
       "Suicide Squad                               5    Action,Adventure,Fantasy   \n",
       "The Great Wall                              6    Action,Adventure,Fantasy   \n",
       "La La Land                                  7          Comedy,Drama,Music   \n",
       "The Lost City of Z                          9  Action,Adventure,Biography   \n",
       "Passengers                                 10     Adventure,Drama,Romance   \n",
       "Fantastic Beasts and Where to Find Them    11    Adventure,Family,Fantasy   \n",
       "\n",
       "                                                                               description  \\\n",
       "title                                                                                        \n",
       "Guardians of the Galaxy                  A group of intergalactic criminals are forced ...   \n",
       "Prometheus                               Following clues to the origin of mankind, a te...   \n",
       "Split                                    Three girls are kidnapped by a man with a diag...   \n",
       "Sing                                     In a city of humanoid animals, a hustling thea...   \n",
       "Suicide Squad                            A secret government agency recruits some of th...   \n",
       "The Great Wall                           European mercenaries searching for black powde...   \n",
       "La La Land                               A jazz pianist falls for an aspiring actress i...   \n",
       "The Lost City of Z                       A true-life drama, centering on British explor...   \n",
       "Passengers                               A spacecraft traveling to a distant colony pla...   \n",
       "Fantastic Beasts and Where to Find Them  The adventures of writer Newt Scamander in New...   \n",
       "\n",
       "                                                     director  \\\n",
       "title                                                           \n",
       "Guardians of the Galaxy                            James Gunn   \n",
       "Prometheus                                       Ridley Scott   \n",
       "Split                                      M. Night Shyamalan   \n",
       "Sing                                     Christophe Lourdelet   \n",
       "Suicide Squad                                      David Ayer   \n",
       "The Great Wall                                    Yimou Zhang   \n",
       "La La Land                                    Damien Chazelle   \n",
       "The Lost City of Z                                 James Gray   \n",
       "Passengers                                      Morten Tyldum   \n",
       "Fantastic Beasts and Where to Find Them           David Yates   \n",
       "\n",
       "                                                                                    actors  \\\n",
       "title                                                                                        \n",
       "Guardians of the Galaxy                  Chris Pratt, Vin Diesel, Bradley Cooper, Zoe S...   \n",
       "Prometheus                               Noomi Rapace, Logan Marshall-Green, Michael Fa...   \n",
       "Split                                    James McAvoy, Anya Taylor-Joy, Haley Lu Richar...   \n",
       "Sing                                     Matthew McConaughey,Reese Witherspoon, Seth Ma...   \n",
       "Suicide Squad                            Will Smith, Jared Leto, Margot Robbie, Viola D...   \n",
       "The Great Wall                               Matt Damon, Tian Jing, Willem Dafoe, Andy Lau   \n",
       "La La Land                               Ryan Gosling, Emma Stone, Rosemarie DeWitt, J....   \n",
       "The Lost City of Z                       Charlie Hunnam, Robert Pattinson, Sienna Mille...   \n",
       "Passengers                               Jennifer Lawrence, Chris Pratt, Michael Sheen,...   \n",
       "Fantastic Beasts and Where to Find Them  Eddie Redmayne, Katherine Waterston, Alison Su...   \n",
       "\n",
       "                                         year  runtime_in_minutes  rating  \\\n",
       "title                                                                       \n",
       "Guardians of the Galaxy                  2014                 121     8.1   \n",
       "Prometheus                               2012                 124     7.0   \n",
       "Split                                    2016                 117     7.3   \n",
       "Sing                                     2016                 108     7.2   \n",
       "Suicide Squad                            2016                 123     6.2   \n",
       "The Great Wall                           2016                 103     6.1   \n",
       "La La Land                               2016                 128     8.3   \n",
       "The Lost City of Z                       2016                 141     7.1   \n",
       "Passengers                               2016                 116     7.0   \n",
       "Fantastic Beasts and Where to Find Them  2016                 133     7.5   \n",
       "\n",
       "                                          votes  revenue_in_millions  \\\n",
       "title                                                                  \n",
       "Guardians of the Galaxy                  757074               333.13   \n",
       "Prometheus                               485820               126.46   \n",
       "Split                                    157606               138.12   \n",
       "Sing                                      60545               270.32   \n",
       "Suicide Squad                            393727               325.02   \n",
       "The Great Wall                            56036                45.13   \n",
       "La La Land                               258682               151.06   \n",
       "The Lost City of Z                         7188                 8.01   \n",
       "Passengers                               192177               100.01   \n",
       "Fantastic Beasts and Where to Find Them  232072               234.02   \n",
       "\n",
       "                                         metascore rating_category  \n",
       "title                                                               \n",
       "Guardians of the Galaxy                       76.0            good  \n",
       "Prometheus                                    65.0         neutral  \n",
       "Split                                         62.0         neutral  \n",
       "Sing                                          59.0         neutral  \n",
       "Suicide Squad                                 40.0         neutral  \n",
       "The Great Wall                                42.0         neutral  \n",
       "La La Land                                    93.0            good  \n",
       "The Lost City of Z                            78.0         neutral  \n",
       "Passengers                                    41.0         neutral  \n",
       "Fantastic Beasts and Where to Find Them       66.0         neutral  "
      ]
     },
     "execution_count": 47,
     "metadata": {},
     "output_type": "execute_result"
    }
   ],
   "source": [
    "df_movies['rating_category'] = df_movies['rating'].apply(lambda x : 'good' if x >= 8 else 'neutral' )\n",
    "# let's print the new dataset and see!\n",
    "df_movies.head(10)"
   ]
  },
  {
   "cell_type": "markdown",
   "id": "92423579",
   "metadata": {
    "papermill": {
     "duration": 0.052442,
     "end_time": "2022-12-29T21:49:35.445411",
     "exception": false,
     "start_time": "2022-12-29T21:49:35.392969",
     "status": "completed"
    },
    "tags": []
   },
   "source": [
    "### 2.`insert()`\n",
    "`insert()` function used to insert some values, usually list, in a specific position of a dataframe. Check [documentation](https://pandas.pydata.org/docs/reference/api/pandas.DataFrame.insert.html)"
   ]
  },
  {
   "cell_type": "markdown",
   "id": "e6f3e860",
   "metadata": {
    "papermill": {
     "duration": 0.052671,
     "end_time": "2022-12-29T21:49:35.551065",
     "exception": false,
     "start_time": "2022-12-29T21:49:35.498394",
     "status": "completed"
    },
    "tags": []
   },
   "source": [
    "### Excercise\n",
    "\n",
    "For the current dataset, I have an assumption that the long movies are the most profitable to validate that I will create a new colum based on the values of `runtime_in_minutes` and `revenue_in_millions` columns. \n",
    "\n",
    "We will iterate over the dataframe, then put all values in list, and finally insert this column using `df.insert()` function. "
   ]
  },
  {
   "cell_type": "code",
   "execution_count": 48,
   "id": "37e7c9d4",
   "metadata": {
    "execution": {
     "iopub.execute_input": "2022-12-29T21:49:35.660373Z",
     "iopub.status.busy": "2022-12-29T21:49:35.659935Z",
     "iopub.status.idle": "2022-12-29T21:49:35.675394Z",
     "shell.execute_reply": "2022-12-29T21:49:35.674204Z"
    },
    "papermill": {
     "duration": 0.073359,
     "end_time": "2022-12-29T21:49:35.677902",
     "exception": false,
     "start_time": "2022-12-29T21:49:35.604543",
     "status": "completed"
    },
    "tags": []
   },
   "outputs": [
    {
     "data": {
      "text/plain": [
       "['long_profitable',\n",
       " 'long_profitable',\n",
       " 'short_profitable',\n",
       " 'short_profitable',\n",
       " 'long_profitable',\n",
       " 'short_unprofitable',\n",
       " 'long_profitable',\n",
       " 'long_unprofitable',\n",
       " 'short_profitable',\n",
       " 'long_profitable',\n",
       " 'long_profitable',\n",
       " 'long_profitable',\n",
       " 'short_profitable',\n",
       " 'short_unprofitable',\n",
       " 'short_profitable',\n",
       " 'long_unprofitable',\n",
       " 'long_profitable',\n",
       " 'short_unprofitable',\n",
       " 'short_profitable',\n",
       " 'short_unprofitable']"
      ]
     },
     "execution_count": 48,
     "metadata": {},
     "output_type": "execute_result"
    }
   ],
   "source": [
    "lng_prof_lst = list()\n",
    "for row in df_movies.itertuples():\n",
    "    # split every genre by the ',' then add this to genre_lst\n",
    "    if row.runtime_in_minutes > 120 and row.revenue_in_millions > 100:\n",
    "        lng_prof_lst.append('long_profitable')\n",
    "    elif row.runtime_in_minutes < 120 and row.revenue_in_millions > 100:\n",
    "        lng_prof_lst.append('short_profitable')\n",
    "    elif row.runtime_in_minutes > 120 and row.revenue_in_millions < 100:\n",
    "        lng_prof_lst.append('long_unprofitable')\n",
    "    else:\n",
    "        lng_prof_lst.append('short_unprofitable')\n",
    "\n",
    "# lets view the list\n",
    "lng_prof_lst[:20]"
   ]
  },
  {
   "cell_type": "markdown",
   "id": "1fa64e52",
   "metadata": {
    "papermill": {
     "duration": 0.054998,
     "end_time": "2022-12-29T21:49:35.787479",
     "exception": false,
     "start_time": "2022-12-29T21:49:35.732481",
     "status": "completed"
    },
    "tags": []
   },
   "source": [
    "Perfect! lets append our list to the dataframe now!"
   ]
  },
  {
   "cell_type": "code",
   "execution_count": 49,
   "id": "138f0ad8",
   "metadata": {
    "execution": {
     "iopub.execute_input": "2022-12-29T21:49:35.898213Z",
     "iopub.status.busy": "2022-12-29T21:49:35.897588Z",
     "iopub.status.idle": "2022-12-29T21:49:35.919018Z",
     "shell.execute_reply": "2022-12-29T21:49:35.917869Z"
    },
    "papermill": {
     "duration": 0.080049,
     "end_time": "2022-12-29T21:49:35.921709",
     "exception": false,
     "start_time": "2022-12-29T21:49:35.841660",
     "status": "completed"
    },
    "tags": []
   },
   "outputs": [
    {
     "data": {
      "text/html": [
       "<div>\n",
       "<style scoped>\n",
       "    .dataframe tbody tr th:only-of-type {\n",
       "        vertical-align: middle;\n",
       "    }\n",
       "\n",
       "    .dataframe tbody tr th {\n",
       "        vertical-align: top;\n",
       "    }\n",
       "\n",
       "    .dataframe thead th {\n",
       "        text-align: right;\n",
       "    }\n",
       "</style>\n",
       "<table border=\"1\" class=\"dataframe\">\n",
       "  <thead>\n",
       "    <tr style=\"text-align: right;\">\n",
       "      <th></th>\n",
       "      <th>rank</th>\n",
       "      <th>long_profitable_flg</th>\n",
       "      <th>genre</th>\n",
       "      <th>description</th>\n",
       "      <th>director</th>\n",
       "      <th>actors</th>\n",
       "      <th>year</th>\n",
       "      <th>runtime_in_minutes</th>\n",
       "      <th>rating</th>\n",
       "      <th>votes</th>\n",
       "      <th>revenue_in_millions</th>\n",
       "      <th>metascore</th>\n",
       "      <th>rating_category</th>\n",
       "    </tr>\n",
       "    <tr>\n",
       "      <th>title</th>\n",
       "      <th></th>\n",
       "      <th></th>\n",
       "      <th></th>\n",
       "      <th></th>\n",
       "      <th></th>\n",
       "      <th></th>\n",
       "      <th></th>\n",
       "      <th></th>\n",
       "      <th></th>\n",
       "      <th></th>\n",
       "      <th></th>\n",
       "      <th></th>\n",
       "      <th></th>\n",
       "    </tr>\n",
       "  </thead>\n",
       "  <tbody>\n",
       "    <tr>\n",
       "      <th>Guardians of the Galaxy</th>\n",
       "      <td>1</td>\n",
       "      <td>long_profitable</td>\n",
       "      <td>Action,Adventure,Sci-Fi</td>\n",
       "      <td>A group of intergalactic criminals are forced ...</td>\n",
       "      <td>James Gunn</td>\n",
       "      <td>Chris Pratt, Vin Diesel, Bradley Cooper, Zoe S...</td>\n",
       "      <td>2014</td>\n",
       "      <td>121</td>\n",
       "      <td>8.1</td>\n",
       "      <td>757074</td>\n",
       "      <td>333.13</td>\n",
       "      <td>76.0</td>\n",
       "      <td>good</td>\n",
       "    </tr>\n",
       "    <tr>\n",
       "      <th>Prometheus</th>\n",
       "      <td>2</td>\n",
       "      <td>long_profitable</td>\n",
       "      <td>Adventure,Mystery,Sci-Fi</td>\n",
       "      <td>Following clues to the origin of mankind, a te...</td>\n",
       "      <td>Ridley Scott</td>\n",
       "      <td>Noomi Rapace, Logan Marshall-Green, Michael Fa...</td>\n",
       "      <td>2012</td>\n",
       "      <td>124</td>\n",
       "      <td>7.0</td>\n",
       "      <td>485820</td>\n",
       "      <td>126.46</td>\n",
       "      <td>65.0</td>\n",
       "      <td>neutral</td>\n",
       "    </tr>\n",
       "    <tr>\n",
       "      <th>Split</th>\n",
       "      <td>3</td>\n",
       "      <td>short_profitable</td>\n",
       "      <td>Horror,Thriller</td>\n",
       "      <td>Three girls are kidnapped by a man with a diag...</td>\n",
       "      <td>M. Night Shyamalan</td>\n",
       "      <td>James McAvoy, Anya Taylor-Joy, Haley Lu Richar...</td>\n",
       "      <td>2016</td>\n",
       "      <td>117</td>\n",
       "      <td>7.3</td>\n",
       "      <td>157606</td>\n",
       "      <td>138.12</td>\n",
       "      <td>62.0</td>\n",
       "      <td>neutral</td>\n",
       "    </tr>\n",
       "    <tr>\n",
       "      <th>Sing</th>\n",
       "      <td>4</td>\n",
       "      <td>short_profitable</td>\n",
       "      <td>Animation,Comedy,Family</td>\n",
       "      <td>In a city of humanoid animals, a hustling thea...</td>\n",
       "      <td>Christophe Lourdelet</td>\n",
       "      <td>Matthew McConaughey,Reese Witherspoon, Seth Ma...</td>\n",
       "      <td>2016</td>\n",
       "      <td>108</td>\n",
       "      <td>7.2</td>\n",
       "      <td>60545</td>\n",
       "      <td>270.32</td>\n",
       "      <td>59.0</td>\n",
       "      <td>neutral</td>\n",
       "    </tr>\n",
       "    <tr>\n",
       "      <th>Suicide Squad</th>\n",
       "      <td>5</td>\n",
       "      <td>long_profitable</td>\n",
       "      <td>Action,Adventure,Fantasy</td>\n",
       "      <td>A secret government agency recruits some of th...</td>\n",
       "      <td>David Ayer</td>\n",
       "      <td>Will Smith, Jared Leto, Margot Robbie, Viola D...</td>\n",
       "      <td>2016</td>\n",
       "      <td>123</td>\n",
       "      <td>6.2</td>\n",
       "      <td>393727</td>\n",
       "      <td>325.02</td>\n",
       "      <td>40.0</td>\n",
       "      <td>neutral</td>\n",
       "    </tr>\n",
       "    <tr>\n",
       "      <th>The Great Wall</th>\n",
       "      <td>6</td>\n",
       "      <td>short_unprofitable</td>\n",
       "      <td>Action,Adventure,Fantasy</td>\n",
       "      <td>European mercenaries searching for black powde...</td>\n",
       "      <td>Yimou Zhang</td>\n",
       "      <td>Matt Damon, Tian Jing, Willem Dafoe, Andy Lau</td>\n",
       "      <td>2016</td>\n",
       "      <td>103</td>\n",
       "      <td>6.1</td>\n",
       "      <td>56036</td>\n",
       "      <td>45.13</td>\n",
       "      <td>42.0</td>\n",
       "      <td>neutral</td>\n",
       "    </tr>\n",
       "    <tr>\n",
       "      <th>La La Land</th>\n",
       "      <td>7</td>\n",
       "      <td>long_profitable</td>\n",
       "      <td>Comedy,Drama,Music</td>\n",
       "      <td>A jazz pianist falls for an aspiring actress i...</td>\n",
       "      <td>Damien Chazelle</td>\n",
       "      <td>Ryan Gosling, Emma Stone, Rosemarie DeWitt, J....</td>\n",
       "      <td>2016</td>\n",
       "      <td>128</td>\n",
       "      <td>8.3</td>\n",
       "      <td>258682</td>\n",
       "      <td>151.06</td>\n",
       "      <td>93.0</td>\n",
       "      <td>good</td>\n",
       "    </tr>\n",
       "    <tr>\n",
       "      <th>The Lost City of Z</th>\n",
       "      <td>9</td>\n",
       "      <td>long_unprofitable</td>\n",
       "      <td>Action,Adventure,Biography</td>\n",
       "      <td>A true-life drama, centering on British explor...</td>\n",
       "      <td>James Gray</td>\n",
       "      <td>Charlie Hunnam, Robert Pattinson, Sienna Mille...</td>\n",
       "      <td>2016</td>\n",
       "      <td>141</td>\n",
       "      <td>7.1</td>\n",
       "      <td>7188</td>\n",
       "      <td>8.01</td>\n",
       "      <td>78.0</td>\n",
       "      <td>neutral</td>\n",
       "    </tr>\n",
       "    <tr>\n",
       "      <th>Passengers</th>\n",
       "      <td>10</td>\n",
       "      <td>short_profitable</td>\n",
       "      <td>Adventure,Drama,Romance</td>\n",
       "      <td>A spacecraft traveling to a distant colony pla...</td>\n",
       "      <td>Morten Tyldum</td>\n",
       "      <td>Jennifer Lawrence, Chris Pratt, Michael Sheen,...</td>\n",
       "      <td>2016</td>\n",
       "      <td>116</td>\n",
       "      <td>7.0</td>\n",
       "      <td>192177</td>\n",
       "      <td>100.01</td>\n",
       "      <td>41.0</td>\n",
       "      <td>neutral</td>\n",
       "    </tr>\n",
       "    <tr>\n",
       "      <th>Fantastic Beasts and Where to Find Them</th>\n",
       "      <td>11</td>\n",
       "      <td>long_profitable</td>\n",
       "      <td>Adventure,Family,Fantasy</td>\n",
       "      <td>The adventures of writer Newt Scamander in New...</td>\n",
       "      <td>David Yates</td>\n",
       "      <td>Eddie Redmayne, Katherine Waterston, Alison Su...</td>\n",
       "      <td>2016</td>\n",
       "      <td>133</td>\n",
       "      <td>7.5</td>\n",
       "      <td>232072</td>\n",
       "      <td>234.02</td>\n",
       "      <td>66.0</td>\n",
       "      <td>neutral</td>\n",
       "    </tr>\n",
       "  </tbody>\n",
       "</table>\n",
       "</div>"
      ],
      "text/plain": [
       "                                         rank long_profitable_flg  \\\n",
       "title                                                               \n",
       "Guardians of the Galaxy                     1     long_profitable   \n",
       "Prometheus                                  2     long_profitable   \n",
       "Split                                       3    short_profitable   \n",
       "Sing                                        4    short_profitable   \n",
       "Suicide Squad                               5     long_profitable   \n",
       "The Great Wall                              6  short_unprofitable   \n",
       "La La Land                                  7     long_profitable   \n",
       "The Lost City of Z                          9   long_unprofitable   \n",
       "Passengers                                 10    short_profitable   \n",
       "Fantastic Beasts and Where to Find Them    11     long_profitable   \n",
       "\n",
       "                                                              genre  \\\n",
       "title                                                                 \n",
       "Guardians of the Galaxy                     Action,Adventure,Sci-Fi   \n",
       "Prometheus                                 Adventure,Mystery,Sci-Fi   \n",
       "Split                                               Horror,Thriller   \n",
       "Sing                                        Animation,Comedy,Family   \n",
       "Suicide Squad                              Action,Adventure,Fantasy   \n",
       "The Great Wall                             Action,Adventure,Fantasy   \n",
       "La La Land                                       Comedy,Drama,Music   \n",
       "The Lost City of Z                       Action,Adventure,Biography   \n",
       "Passengers                                  Adventure,Drama,Romance   \n",
       "Fantastic Beasts and Where to Find Them    Adventure,Family,Fantasy   \n",
       "\n",
       "                                                                               description  \\\n",
       "title                                                                                        \n",
       "Guardians of the Galaxy                  A group of intergalactic criminals are forced ...   \n",
       "Prometheus                               Following clues to the origin of mankind, a te...   \n",
       "Split                                    Three girls are kidnapped by a man with a diag...   \n",
       "Sing                                     In a city of humanoid animals, a hustling thea...   \n",
       "Suicide Squad                            A secret government agency recruits some of th...   \n",
       "The Great Wall                           European mercenaries searching for black powde...   \n",
       "La La Land                               A jazz pianist falls for an aspiring actress i...   \n",
       "The Lost City of Z                       A true-life drama, centering on British explor...   \n",
       "Passengers                               A spacecraft traveling to a distant colony pla...   \n",
       "Fantastic Beasts and Where to Find Them  The adventures of writer Newt Scamander in New...   \n",
       "\n",
       "                                                     director  \\\n",
       "title                                                           \n",
       "Guardians of the Galaxy                            James Gunn   \n",
       "Prometheus                                       Ridley Scott   \n",
       "Split                                      M. Night Shyamalan   \n",
       "Sing                                     Christophe Lourdelet   \n",
       "Suicide Squad                                      David Ayer   \n",
       "The Great Wall                                    Yimou Zhang   \n",
       "La La Land                                    Damien Chazelle   \n",
       "The Lost City of Z                                 James Gray   \n",
       "Passengers                                      Morten Tyldum   \n",
       "Fantastic Beasts and Where to Find Them           David Yates   \n",
       "\n",
       "                                                                                    actors  \\\n",
       "title                                                                                        \n",
       "Guardians of the Galaxy                  Chris Pratt, Vin Diesel, Bradley Cooper, Zoe S...   \n",
       "Prometheus                               Noomi Rapace, Logan Marshall-Green, Michael Fa...   \n",
       "Split                                    James McAvoy, Anya Taylor-Joy, Haley Lu Richar...   \n",
       "Sing                                     Matthew McConaughey,Reese Witherspoon, Seth Ma...   \n",
       "Suicide Squad                            Will Smith, Jared Leto, Margot Robbie, Viola D...   \n",
       "The Great Wall                               Matt Damon, Tian Jing, Willem Dafoe, Andy Lau   \n",
       "La La Land                               Ryan Gosling, Emma Stone, Rosemarie DeWitt, J....   \n",
       "The Lost City of Z                       Charlie Hunnam, Robert Pattinson, Sienna Mille...   \n",
       "Passengers                               Jennifer Lawrence, Chris Pratt, Michael Sheen,...   \n",
       "Fantastic Beasts and Where to Find Them  Eddie Redmayne, Katherine Waterston, Alison Su...   \n",
       "\n",
       "                                         year  runtime_in_minutes  rating  \\\n",
       "title                                                                       \n",
       "Guardians of the Galaxy                  2014                 121     8.1   \n",
       "Prometheus                               2012                 124     7.0   \n",
       "Split                                    2016                 117     7.3   \n",
       "Sing                                     2016                 108     7.2   \n",
       "Suicide Squad                            2016                 123     6.2   \n",
       "The Great Wall                           2016                 103     6.1   \n",
       "La La Land                               2016                 128     8.3   \n",
       "The Lost City of Z                       2016                 141     7.1   \n",
       "Passengers                               2016                 116     7.0   \n",
       "Fantastic Beasts and Where to Find Them  2016                 133     7.5   \n",
       "\n",
       "                                          votes  revenue_in_millions  \\\n",
       "title                                                                  \n",
       "Guardians of the Galaxy                  757074               333.13   \n",
       "Prometheus                               485820               126.46   \n",
       "Split                                    157606               138.12   \n",
       "Sing                                      60545               270.32   \n",
       "Suicide Squad                            393727               325.02   \n",
       "The Great Wall                            56036                45.13   \n",
       "La La Land                               258682               151.06   \n",
       "The Lost City of Z                         7188                 8.01   \n",
       "Passengers                               192177               100.01   \n",
       "Fantastic Beasts and Where to Find Them  232072               234.02   \n",
       "\n",
       "                                         metascore rating_category  \n",
       "title                                                               \n",
       "Guardians of the Galaxy                       76.0            good  \n",
       "Prometheus                                    65.0         neutral  \n",
       "Split                                         62.0         neutral  \n",
       "Sing                                          59.0         neutral  \n",
       "Suicide Squad                                 40.0         neutral  \n",
       "The Great Wall                                42.0         neutral  \n",
       "La La Land                                    93.0            good  \n",
       "The Lost City of Z                            78.0         neutral  \n",
       "Passengers                                    41.0         neutral  \n",
       "Fantastic Beasts and Where to Find Them       66.0         neutral  "
      ]
     },
     "execution_count": 49,
     "metadata": {},
     "output_type": "execute_result"
    }
   ],
   "source": [
    "df_movies.insert(1, \"long_profitable_flg\", lng_prof_lst)\n",
    "# lets see our dataframe now.\n",
    "df_movies.head(10)"
   ]
  },
  {
   "cell_type": "markdown",
   "id": "6527e22d",
   "metadata": {
    "papermill": {
     "duration": 0.054782,
     "end_time": "2022-12-29T21:49:36.030676",
     "exception": false,
     "start_time": "2022-12-29T21:49:35.975894",
     "status": "completed"
    },
    "tags": []
   },
   "source": [
    "To have some deeper insights. lets use a new function:\n",
    "\n",
    "* `df[column].value_counts()`: this method can count every category in a dataframe. It can has an argument called `normalize` when its true the result will be in percentage. Check [documentation](https://pandas.pydata.org/docs/reference/api/pandas.DataFrame.value_counts.html)"
   ]
  },
  {
   "cell_type": "code",
   "execution_count": 50,
   "id": "131264e0",
   "metadata": {
    "execution": {
     "iopub.execute_input": "2022-12-29T21:49:36.140631Z",
     "iopub.status.busy": "2022-12-29T21:49:36.139447Z",
     "iopub.status.idle": "2022-12-29T21:49:36.148349Z",
     "shell.execute_reply": "2022-12-29T21:49:36.147440Z"
    },
    "papermill": {
     "duration": 0.065133,
     "end_time": "2022-12-29T21:49:36.150448",
     "exception": false,
     "start_time": "2022-12-29T21:49:36.085315",
     "status": "completed"
    },
    "tags": []
   },
   "outputs": [
    {
     "data": {
      "text/plain": [
       "short_unprofitable    454\n",
       "long_unprofitable     142\n",
       "short_profitable      123\n",
       "long_profitable       119\n",
       "Name: long_profitable_flg, dtype: int64"
      ]
     },
     "execution_count": 50,
     "metadata": {},
     "output_type": "execute_result"
    }
   ],
   "source": [
    "df_movies['long_profitable_flg'].value_counts()"
   ]
  },
  {
   "cell_type": "code",
   "execution_count": 51,
   "id": "62dfc547",
   "metadata": {
    "execution": {
     "iopub.execute_input": "2022-12-29T21:49:36.258324Z",
     "iopub.status.busy": "2022-12-29T21:49:36.257511Z",
     "iopub.status.idle": "2022-12-29T21:49:36.265995Z",
     "shell.execute_reply": "2022-12-29T21:49:36.265017Z"
    },
    "papermill": {
     "duration": 0.065178,
     "end_time": "2022-12-29T21:49:36.268337",
     "exception": false,
     "start_time": "2022-12-29T21:49:36.203159",
     "status": "completed"
    },
    "tags": []
   },
   "outputs": [
    {
     "data": {
      "text/plain": [
       "short_unprofitable    0.541766\n",
       "long_unprofitable     0.169451\n",
       "short_profitable      0.146778\n",
       "long_profitable       0.142005\n",
       "Name: long_profitable_flg, dtype: float64"
      ]
     },
     "execution_count": 51,
     "metadata": {},
     "output_type": "execute_result"
    }
   ],
   "source": [
    "df_movies['long_profitable_flg'].value_counts(normalize=True)"
   ]
  },
  {
   "cell_type": "markdown",
   "id": "d69bc20a",
   "metadata": {
    "papermill": {
     "duration": 0.053501,
     "end_time": "2022-12-29T21:49:36.375867",
     "exception": false,
     "start_time": "2022-12-29T21:49:36.322366",
     "status": "completed"
    },
    "tags": []
   },
   "source": [
    "Our assumption is not true, `54%` of the movies are short unprofitable."
   ]
  },
  {
   "cell_type": "markdown",
   "id": "9070e396",
   "metadata": {
    "papermill": {
     "duration": 0.059423,
     "end_time": "2022-12-29T21:49:36.502209",
     "exception": false,
     "start_time": "2022-12-29T21:49:36.442786",
     "status": "completed"
    },
    "tags": []
   },
   "source": [
    "Of course, you will need to remove some columns sometimes. This can be done using the following function. \n",
    "\n",
    "* `df.drop('column name', axis=1/0, inplace=True)`: The function is pretty easy but just in case, you can check [documentation](https://pandas.pydata.org/docs/reference/api/pandas.DataFrame.drop.html)\n",
    "\n",
    "Now, we will use it to drop `metascore` column"
   ]
  },
  {
   "cell_type": "code",
   "execution_count": 52,
   "id": "e7e85cbe",
   "metadata": {
    "execution": {
     "iopub.execute_input": "2022-12-29T21:49:36.611907Z",
     "iopub.status.busy": "2022-12-29T21:49:36.611448Z",
     "iopub.status.idle": "2022-12-29T21:49:36.619554Z",
     "shell.execute_reply": "2022-12-29T21:49:36.618755Z"
    },
    "papermill": {
     "duration": 0.06473,
     "end_time": "2022-12-29T21:49:36.621765",
     "exception": false,
     "start_time": "2022-12-29T21:49:36.557035",
     "status": "completed"
    },
    "tags": []
   },
   "outputs": [
    {
     "data": {
      "text/plain": [
       "Index(['rank', 'long_profitable_flg', 'genre', 'description', 'director',\n",
       "       'actors', 'year', 'runtime_in_minutes', 'rating', 'votes',\n",
       "       'revenue_in_millions', 'rating_category'],\n",
       "      dtype='object')"
      ]
     },
     "execution_count": 52,
     "metadata": {},
     "output_type": "execute_result"
    }
   ],
   "source": [
    "df_movies.drop('metascore', axis=1, inplace=True)\n",
    "df_movies.columns"
   ]
  },
  {
   "cell_type": "markdown",
   "id": "4c9814da",
   "metadata": {
    "papermill": {
     "duration": 0.052498,
     "end_time": "2022-12-29T21:49:36.727259",
     "exception": false,
     "start_time": "2022-12-29T21:49:36.674761",
     "status": "completed"
    },
    "tags": []
   },
   "source": [
    "It worked!"
   ]
  },
  {
   "cell_type": "markdown",
   "id": "95f9e42d",
   "metadata": {
    "papermill": {
     "duration": 0.052023,
     "end_time": "2022-12-29T21:49:36.832522",
     "exception": false,
     "start_time": "2022-12-29T21:49:36.780499",
     "status": "completed"
    },
    "tags": []
   },
   "source": [
    "# Data Reshaping\n",
    "\n",
    "In the field of data analysis, reshaping a pandas dataframe is one of the most popular data wrangling activities. Changing a table's format from long to wide or from wide to long is also known as transposing, pivoting, or unpivoting.\n",
    "\n",
    "But what is the difference between long and wide format. Lets see the following figure!\n",
    "\n",
    "\n",
    "![Wide and Long Format](https://i.ibb.co/8c2RtmH/data-reshaping.jpg)\n",
    "\n",
    "\n",
    "The above figure is showing the difference between `wide` and `long` format of data. Although, both tables are giving the exact same information but they are formating in different ways!\n",
    "\n",
    "**So, what is the correct format when doing data analysis? Is it `wide` or `long`?** \n",
    "\n",
    "There's no right or wrong regarding this point. You may use whatever version you want but you have to fulfill two main aspects. \n",
    "* `Usability`: you have to think about what is the usability of the data on its current state. For example, if you were given a very wide formatted table with 300 columns, one column for each date in the observation period. Will this be a good form for representing such data? In this format, you are missing alot of insights such as plotting those 300 date vs. any other quantity! So, converting such case to long may enhance the usability of the data. \n",
    "\n",
    "* `Readablity`: also, you have to think if your data is readable and easy to understand enough or not. For example, if you were given a very long formatted table with 300 different value for key. Would it be better to deal with such format? or have every key as a separate column? It's obvious that such case is better to be converted also to wide format. \n",
    "\n",
    "**How to convert from the `wide` to `long` format?**\n",
    "* `pd.melt(df, id_vars=[column_names], value_vars=[column_names], var_name='name', value_name = 'name')`\n",
    "    * `id_vars`: list of columns that will not change from the wide to long format\n",
    "    * `value_vars`: list of columns that will be converted to values from the wide to long.\n",
    "    * `var_name`: the key column name when converting.\n",
    "    * `value_name`: the value column name during converting.\n",
    "Also, make sure to check its [documentation](https://pandas.pydata.org/docs/reference/api/pandas.melt.html)\n",
    "\n",
    "**How to convert from the `long` to `wide` format?**\n",
    "* `pd.pivot_table(df, index=['column_names'], columns= 'column_name', values = 'column_name`, aggfunc)`\n",
    "    * `index`: column that will remain the same from long to wide.\n",
    "    * `columns`: column name that will be prodcasted into new column names in the wide format. \n",
    "    * `values`: column that will be used as a value for all corresponding categories in the `columns` agrgument. \n",
    "    * `aggfunc`: it may be used when squeezing multible occurances of the same category.\n",
    "Also, make sure to check its [documentation](https://pandas.pydata.org/docs/reference/api/pandas.pivot_table.html)\n",
    "\n",
    "Now, lets see all of those in action using some data!"
   ]
  },
  {
   "cell_type": "markdown",
   "id": "6ae909d1",
   "metadata": {
    "papermill": {
     "duration": 0.053212,
     "end_time": "2022-12-29T21:49:36.938262",
     "exception": false,
     "start_time": "2022-12-29T21:49:36.885050",
     "status": "completed"
    },
    "tags": []
   },
   "source": [
    "Lets define a simple dataframe to see how `pd.melt()` is working!"
   ]
  },
  {
   "cell_type": "code",
   "execution_count": 53,
   "id": "b6b7c5d2",
   "metadata": {
    "execution": {
     "iopub.execute_input": "2022-12-29T21:49:37.052631Z",
     "iopub.status.busy": "2022-12-29T21:49:37.051872Z",
     "iopub.status.idle": "2022-12-29T21:49:37.063552Z",
     "shell.execute_reply": "2022-12-29T21:49:37.062676Z"
    },
    "papermill": {
     "duration": 0.072281,
     "end_time": "2022-12-29T21:49:37.065932",
     "exception": false,
     "start_time": "2022-12-29T21:49:36.993651",
     "status": "completed"
    },
    "tags": []
   },
   "outputs": [
    {
     "data": {
      "text/html": [
       "<div>\n",
       "<style scoped>\n",
       "    .dataframe tbody tr th:only-of-type {\n",
       "        vertical-align: middle;\n",
       "    }\n",
       "\n",
       "    .dataframe tbody tr th {\n",
       "        vertical-align: top;\n",
       "    }\n",
       "\n",
       "    .dataframe thead th {\n",
       "        text-align: right;\n",
       "    }\n",
       "</style>\n",
       "<table border=\"1\" class=\"dataframe\">\n",
       "  <thead>\n",
       "    <tr style=\"text-align: right;\">\n",
       "      <th></th>\n",
       "      <th>Name</th>\n",
       "      <th>Weight</th>\n",
       "      <th>BP</th>\n",
       "    </tr>\n",
       "  </thead>\n",
       "  <tbody>\n",
       "    <tr>\n",
       "      <th>0</th>\n",
       "      <td>John</td>\n",
       "      <td>150</td>\n",
       "      <td>120</td>\n",
       "    </tr>\n",
       "    <tr>\n",
       "      <th>1</th>\n",
       "      <td>Smith</td>\n",
       "      <td>170</td>\n",
       "      <td>130</td>\n",
       "    </tr>\n",
       "    <tr>\n",
       "      <th>2</th>\n",
       "      <td>Liz</td>\n",
       "      <td>110</td>\n",
       "      <td>100</td>\n",
       "    </tr>\n",
       "  </tbody>\n",
       "</table>\n",
       "</div>"
      ],
      "text/plain": [
       "    Name  Weight   BP\n",
       "0   John     150  120\n",
       "1  Smith     170  130\n",
       "2    Liz     110  100"
      ]
     },
     "execution_count": 53,
     "metadata": {},
     "output_type": "execute_result"
    }
   ],
   "source": [
    "# Define a dict that contains the data above\n",
    "data = {'Name': ['John', 'Smith', 'Liz',], \n",
    "        'Weight': [150, 170, 110], \n",
    "        'BP': [120, 130, 100]}\n",
    "# Let's create a wide DataFrame\n",
    "df_wide = pd.DataFrame(data)\n",
    "# Let's print \n",
    "df_wide"
   ]
  },
  {
   "cell_type": "markdown",
   "id": "ce1029f8",
   "metadata": {
    "papermill": {
     "duration": 0.056007,
     "end_time": "2022-12-29T21:49:37.177874",
     "exception": false,
     "start_time": "2022-12-29T21:49:37.121867",
     "status": "completed"
    },
    "tags": []
   },
   "source": [
    "Now, lets convert the above dataframe inot wide format and see."
   ]
  },
  {
   "cell_type": "code",
   "execution_count": 54,
   "id": "b25e7a95",
   "metadata": {
    "execution": {
     "iopub.execute_input": "2022-12-29T21:49:37.291999Z",
     "iopub.status.busy": "2022-12-29T21:49:37.291590Z",
     "iopub.status.idle": "2022-12-29T21:49:37.305866Z",
     "shell.execute_reply": "2022-12-29T21:49:37.304671Z"
    },
    "papermill": {
     "duration": 0.074993,
     "end_time": "2022-12-29T21:49:37.308511",
     "exception": false,
     "start_time": "2022-12-29T21:49:37.233518",
     "status": "completed"
    },
    "tags": []
   },
   "outputs": [
    {
     "data": {
      "text/html": [
       "<div>\n",
       "<style scoped>\n",
       "    .dataframe tbody tr th:only-of-type {\n",
       "        vertical-align: middle;\n",
       "    }\n",
       "\n",
       "    .dataframe tbody tr th {\n",
       "        vertical-align: top;\n",
       "    }\n",
       "\n",
       "    .dataframe thead th {\n",
       "        text-align: right;\n",
       "    }\n",
       "</style>\n",
       "<table border=\"1\" class=\"dataframe\">\n",
       "  <thead>\n",
       "    <tr style=\"text-align: right;\">\n",
       "      <th></th>\n",
       "      <th>Name</th>\n",
       "      <th>key</th>\n",
       "      <th>value</th>\n",
       "    </tr>\n",
       "  </thead>\n",
       "  <tbody>\n",
       "    <tr>\n",
       "      <th>0</th>\n",
       "      <td>John</td>\n",
       "      <td>Weight</td>\n",
       "      <td>150</td>\n",
       "    </tr>\n",
       "    <tr>\n",
       "      <th>1</th>\n",
       "      <td>Smith</td>\n",
       "      <td>Weight</td>\n",
       "      <td>170</td>\n",
       "    </tr>\n",
       "    <tr>\n",
       "      <th>2</th>\n",
       "      <td>Liz</td>\n",
       "      <td>Weight</td>\n",
       "      <td>110</td>\n",
       "    </tr>\n",
       "    <tr>\n",
       "      <th>3</th>\n",
       "      <td>John</td>\n",
       "      <td>BP</td>\n",
       "      <td>120</td>\n",
       "    </tr>\n",
       "    <tr>\n",
       "      <th>4</th>\n",
       "      <td>Smith</td>\n",
       "      <td>BP</td>\n",
       "      <td>130</td>\n",
       "    </tr>\n",
       "    <tr>\n",
       "      <th>5</th>\n",
       "      <td>Liz</td>\n",
       "      <td>BP</td>\n",
       "      <td>100</td>\n",
       "    </tr>\n",
       "  </tbody>\n",
       "</table>\n",
       "</div>"
      ],
      "text/plain": [
       "    Name     key  value\n",
       "0   John  Weight    150\n",
       "1  Smith  Weight    170\n",
       "2    Liz  Weight    110\n",
       "3   John      BP    120\n",
       "4  Smith      BP    130\n",
       "5    Liz      BP    100"
      ]
     },
     "execution_count": 54,
     "metadata": {},
     "output_type": "execute_result"
    }
   ],
   "source": [
    "df_long = df_wide.melt(id_vars='Name', var_name='key', value_name='value')\n",
    "# print to check\n",
    "df_long"
   ]
  },
  {
   "cell_type": "markdown",
   "id": "4d0d595d",
   "metadata": {
    "papermill": {
     "duration": 0.052792,
     "end_time": "2022-12-29T21:49:37.414656",
     "exception": false,
     "start_time": "2022-12-29T21:49:37.361864",
     "status": "completed"
    },
    "tags": []
   },
   "source": [
    "Now, you may have got a good idea about how `pd.melt()` is working. "
   ]
  },
  {
   "cell_type": "markdown",
   "id": "9ea98493",
   "metadata": {
    "papermill": {
     "duration": 0.052849,
     "end_time": "2022-12-29T21:49:37.520698",
     "exception": false,
     "start_time": "2022-12-29T21:49:37.467849",
     "status": "completed"
    },
    "tags": []
   },
   "source": [
    "For more conveniance, we will start reading a new dataframe. That is called `gapminder` which is gathering some info about different countries such as `gdp per capita`, `life Expectency`, and `Population`\n",
    "\n",
    "For this dataset, we have its `url` and yes, pandas can read directly from the `url`!"
   ]
  },
  {
   "cell_type": "code",
   "execution_count": 55,
   "id": "036c1715",
   "metadata": {
    "execution": {
     "iopub.execute_input": "2022-12-29T21:49:37.628332Z",
     "iopub.status.busy": "2022-12-29T21:49:37.627927Z",
     "iopub.status.idle": "2022-12-29T21:49:38.154921Z",
     "shell.execute_reply": "2022-12-29T21:49:38.153719Z"
    },
    "papermill": {
     "duration": 0.58405,
     "end_time": "2022-12-29T21:49:38.157670",
     "exception": false,
     "start_time": "2022-12-29T21:49:37.573620",
     "status": "completed"
    },
    "tags": []
   },
   "outputs": [
    {
     "data": {
      "text/html": [
       "<div>\n",
       "<style scoped>\n",
       "    .dataframe tbody tr th:only-of-type {\n",
       "        vertical-align: middle;\n",
       "    }\n",
       "\n",
       "    .dataframe tbody tr th {\n",
       "        vertical-align: top;\n",
       "    }\n",
       "\n",
       "    .dataframe thead th {\n",
       "        text-align: right;\n",
       "    }\n",
       "</style>\n",
       "<table border=\"1\" class=\"dataframe\">\n",
       "  <thead>\n",
       "    <tr style=\"text-align: right;\">\n",
       "      <th></th>\n",
       "      <th>continent</th>\n",
       "      <th>country</th>\n",
       "      <th>gdpPercap_1952</th>\n",
       "      <th>gdpPercap_1957</th>\n",
       "      <th>gdpPercap_1962</th>\n",
       "      <th>gdpPercap_1967</th>\n",
       "      <th>gdpPercap_1972</th>\n",
       "      <th>gdpPercap_1977</th>\n",
       "      <th>gdpPercap_1982</th>\n",
       "      <th>gdpPercap_1987</th>\n",
       "      <th>...</th>\n",
       "      <th>pop_1962</th>\n",
       "      <th>pop_1967</th>\n",
       "      <th>pop_1972</th>\n",
       "      <th>pop_1977</th>\n",
       "      <th>pop_1982</th>\n",
       "      <th>pop_1987</th>\n",
       "      <th>pop_1992</th>\n",
       "      <th>pop_1997</th>\n",
       "      <th>pop_2002</th>\n",
       "      <th>pop_2007</th>\n",
       "    </tr>\n",
       "  </thead>\n",
       "  <tbody>\n",
       "    <tr>\n",
       "      <th>0</th>\n",
       "      <td>Africa</td>\n",
       "      <td>Algeria</td>\n",
       "      <td>2449.008185</td>\n",
       "      <td>3013.976023</td>\n",
       "      <td>2550.816880</td>\n",
       "      <td>3246.991771</td>\n",
       "      <td>4182.663766</td>\n",
       "      <td>4910.416756</td>\n",
       "      <td>5745.160213</td>\n",
       "      <td>5681.358539</td>\n",
       "      <td>...</td>\n",
       "      <td>11000948.0</td>\n",
       "      <td>12760499.0</td>\n",
       "      <td>14760787.0</td>\n",
       "      <td>17152804.0</td>\n",
       "      <td>20033753.0</td>\n",
       "      <td>23254956.0</td>\n",
       "      <td>26298373.0</td>\n",
       "      <td>29072015.0</td>\n",
       "      <td>31287142</td>\n",
       "      <td>33333216</td>\n",
       "    </tr>\n",
       "    <tr>\n",
       "      <th>1</th>\n",
       "      <td>Africa</td>\n",
       "      <td>Angola</td>\n",
       "      <td>3520.610273</td>\n",
       "      <td>3827.940465</td>\n",
       "      <td>4269.276742</td>\n",
       "      <td>5522.776375</td>\n",
       "      <td>5473.288005</td>\n",
       "      <td>3008.647355</td>\n",
       "      <td>2756.953672</td>\n",
       "      <td>2430.208311</td>\n",
       "      <td>...</td>\n",
       "      <td>4826015.0</td>\n",
       "      <td>5247469.0</td>\n",
       "      <td>5894858.0</td>\n",
       "      <td>6162675.0</td>\n",
       "      <td>7016384.0</td>\n",
       "      <td>7874230.0</td>\n",
       "      <td>8735988.0</td>\n",
       "      <td>9875024.0</td>\n",
       "      <td>10866106</td>\n",
       "      <td>12420476</td>\n",
       "    </tr>\n",
       "    <tr>\n",
       "      <th>2</th>\n",
       "      <td>Africa</td>\n",
       "      <td>Benin</td>\n",
       "      <td>1062.752200</td>\n",
       "      <td>959.601080</td>\n",
       "      <td>949.499064</td>\n",
       "      <td>1035.831411</td>\n",
       "      <td>1085.796879</td>\n",
       "      <td>1029.161251</td>\n",
       "      <td>1277.897616</td>\n",
       "      <td>1225.856010</td>\n",
       "      <td>...</td>\n",
       "      <td>2151895.0</td>\n",
       "      <td>2427334.0</td>\n",
       "      <td>2761407.0</td>\n",
       "      <td>3168267.0</td>\n",
       "      <td>3641603.0</td>\n",
       "      <td>4243788.0</td>\n",
       "      <td>4981671.0</td>\n",
       "      <td>6066080.0</td>\n",
       "      <td>7026113</td>\n",
       "      <td>8078314</td>\n",
       "    </tr>\n",
       "  </tbody>\n",
       "</table>\n",
       "<p>3 rows × 38 columns</p>\n",
       "</div>"
      ],
      "text/plain": [
       "  continent  country  gdpPercap_1952  gdpPercap_1957  gdpPercap_1962  \\\n",
       "0    Africa  Algeria     2449.008185     3013.976023     2550.816880   \n",
       "1    Africa   Angola     3520.610273     3827.940465     4269.276742   \n",
       "2    Africa    Benin     1062.752200      959.601080      949.499064   \n",
       "\n",
       "   gdpPercap_1967  gdpPercap_1972  gdpPercap_1977  gdpPercap_1982  \\\n",
       "0     3246.991771     4182.663766     4910.416756     5745.160213   \n",
       "1     5522.776375     5473.288005     3008.647355     2756.953672   \n",
       "2     1035.831411     1085.796879     1029.161251     1277.897616   \n",
       "\n",
       "   gdpPercap_1987  ...    pop_1962    pop_1967    pop_1972    pop_1977  \\\n",
       "0     5681.358539  ...  11000948.0  12760499.0  14760787.0  17152804.0   \n",
       "1     2430.208311  ...   4826015.0   5247469.0   5894858.0   6162675.0   \n",
       "2     1225.856010  ...   2151895.0   2427334.0   2761407.0   3168267.0   \n",
       "\n",
       "     pop_1982    pop_1987    pop_1992    pop_1997  pop_2002  pop_2007  \n",
       "0  20033753.0  23254956.0  26298373.0  29072015.0  31287142  33333216  \n",
       "1   7016384.0   7874230.0   8735988.0   9875024.0  10866106  12420476  \n",
       "2   3641603.0   4243788.0   4981671.0   6066080.0   7026113   8078314  \n",
       "\n",
       "[3 rows x 38 columns]"
      ]
     },
     "execution_count": 55,
     "metadata": {},
     "output_type": "execute_result"
    }
   ],
   "source": [
    "data_url = \"https://goo.gl/ioc2Td\"\n",
    "gapminder = pd.read_csv(data_url)\n",
    "gapminder.head(3)"
   ]
  },
  {
   "cell_type": "markdown",
   "id": "a63ed4cd",
   "metadata": {
    "papermill": {
     "duration": 0.054557,
     "end_time": "2022-12-29T21:49:38.266956",
     "exception": false,
     "start_time": "2022-12-29T21:49:38.212399",
     "status": "completed"
    },
    "tags": []
   },
   "source": [
    "Let's view the columns for `gapminder`\n"
   ]
  },
  {
   "cell_type": "code",
   "execution_count": 56,
   "id": "bf338197",
   "metadata": {
    "execution": {
     "iopub.execute_input": "2022-12-29T21:49:38.377557Z",
     "iopub.status.busy": "2022-12-29T21:49:38.377080Z",
     "iopub.status.idle": "2022-12-29T21:49:38.384389Z",
     "shell.execute_reply": "2022-12-29T21:49:38.383545Z"
    },
    "papermill": {
     "duration": 0.064431,
     "end_time": "2022-12-29T21:49:38.386401",
     "exception": false,
     "start_time": "2022-12-29T21:49:38.321970",
     "status": "completed"
    },
    "tags": []
   },
   "outputs": [
    {
     "data": {
      "text/plain": [
       "Index(['continent', 'country', 'gdpPercap_1952', 'gdpPercap_1957',\n",
       "       'gdpPercap_1962', 'gdpPercap_1967', 'gdpPercap_1972', 'gdpPercap_1977',\n",
       "       'gdpPercap_1982', 'gdpPercap_1987', 'gdpPercap_1992', 'gdpPercap_1997',\n",
       "       'gdpPercap_2002', 'gdpPercap_2007', 'lifeExp_1952', 'lifeExp_1957',\n",
       "       'lifeExp_1962', 'lifeExp_1967', 'lifeExp_1972', 'lifeExp_1977',\n",
       "       'lifeExp_1982', 'lifeExp_1987', 'lifeExp_1992', 'lifeExp_1997',\n",
       "       'lifeExp_2002', 'lifeExp_2007', 'pop_1952', 'pop_1957', 'pop_1962',\n",
       "       'pop_1967', 'pop_1972', 'pop_1977', 'pop_1982', 'pop_1987', 'pop_1992',\n",
       "       'pop_1997', 'pop_2002', 'pop_2007'],\n",
       "      dtype='object')"
      ]
     },
     "execution_count": 56,
     "metadata": {},
     "output_type": "execute_result"
    }
   ],
   "source": [
    "gapminder.columns"
   ]
  },
  {
   "cell_type": "markdown",
   "id": "f376a2bd",
   "metadata": {
    "papermill": {
     "duration": 0.054051,
     "end_time": "2022-12-29T21:49:38.494661",
     "exception": false,
     "start_time": "2022-12-29T21:49:38.440610",
     "status": "completed"
    },
    "tags": []
   },
   "source": [
    "You can notice that the dataset is in a very wide format and each column gives the values for a specific year which is not a very good format when analysing such dataset. \n",
    "\n",
    "For this, we will start by separting all the `gdpPercap` columns with `continent` and `country` because they are both considered indexes.\n",
    "\n",
    "Lets see how!"
   ]
  },
  {
   "cell_type": "code",
   "execution_count": 57,
   "id": "4c12f3fb",
   "metadata": {
    "execution": {
     "iopub.execute_input": "2022-12-29T21:49:38.605588Z",
     "iopub.status.busy": "2022-12-29T21:49:38.604812Z",
     "iopub.status.idle": "2022-12-29T21:49:38.626271Z",
     "shell.execute_reply": "2022-12-29T21:49:38.624962Z"
    },
    "papermill": {
     "duration": 0.080527,
     "end_time": "2022-12-29T21:49:38.628740",
     "exception": false,
     "start_time": "2022-12-29T21:49:38.548213",
     "status": "completed"
    },
    "tags": []
   },
   "outputs": [
    {
     "data": {
      "text/html": [
       "<div>\n",
       "<style scoped>\n",
       "    .dataframe tbody tr th:only-of-type {\n",
       "        vertical-align: middle;\n",
       "    }\n",
       "\n",
       "    .dataframe tbody tr th {\n",
       "        vertical-align: top;\n",
       "    }\n",
       "\n",
       "    .dataframe thead th {\n",
       "        text-align: right;\n",
       "    }\n",
       "</style>\n",
       "<table border=\"1\" class=\"dataframe\">\n",
       "  <thead>\n",
       "    <tr style=\"text-align: right;\">\n",
       "      <th></th>\n",
       "      <th>continent</th>\n",
       "      <th>country</th>\n",
       "      <th>gdpPercap_1952</th>\n",
       "      <th>gdpPercap_1957</th>\n",
       "      <th>gdpPercap_1962</th>\n",
       "      <th>gdpPercap_1967</th>\n",
       "      <th>gdpPercap_1972</th>\n",
       "      <th>gdpPercap_1977</th>\n",
       "      <th>gdpPercap_1982</th>\n",
       "      <th>gdpPercap_1987</th>\n",
       "      <th>gdpPercap_1992</th>\n",
       "      <th>gdpPercap_1997</th>\n",
       "      <th>gdpPercap_2002</th>\n",
       "      <th>gdpPercap_2007</th>\n",
       "    </tr>\n",
       "  </thead>\n",
       "  <tbody>\n",
       "    <tr>\n",
       "      <th>0</th>\n",
       "      <td>Africa</td>\n",
       "      <td>Algeria</td>\n",
       "      <td>2449.008185</td>\n",
       "      <td>3013.976023</td>\n",
       "      <td>2550.816880</td>\n",
       "      <td>3246.991771</td>\n",
       "      <td>4182.663766</td>\n",
       "      <td>4910.416756</td>\n",
       "      <td>5745.160213</td>\n",
       "      <td>5681.358539</td>\n",
       "      <td>5023.216647</td>\n",
       "      <td>4797.295051</td>\n",
       "      <td>5288.040382</td>\n",
       "      <td>6223.367465</td>\n",
       "    </tr>\n",
       "    <tr>\n",
       "      <th>1</th>\n",
       "      <td>Africa</td>\n",
       "      <td>Angola</td>\n",
       "      <td>3520.610273</td>\n",
       "      <td>3827.940465</td>\n",
       "      <td>4269.276742</td>\n",
       "      <td>5522.776375</td>\n",
       "      <td>5473.288005</td>\n",
       "      <td>3008.647355</td>\n",
       "      <td>2756.953672</td>\n",
       "      <td>2430.208311</td>\n",
       "      <td>2627.845685</td>\n",
       "      <td>2277.140884</td>\n",
       "      <td>2773.287312</td>\n",
       "      <td>4797.231267</td>\n",
       "    </tr>\n",
       "    <tr>\n",
       "      <th>2</th>\n",
       "      <td>Africa</td>\n",
       "      <td>Benin</td>\n",
       "      <td>1062.752200</td>\n",
       "      <td>959.601080</td>\n",
       "      <td>949.499064</td>\n",
       "      <td>1035.831411</td>\n",
       "      <td>1085.796879</td>\n",
       "      <td>1029.161251</td>\n",
       "      <td>1277.897616</td>\n",
       "      <td>1225.856010</td>\n",
       "      <td>1191.207681</td>\n",
       "      <td>1232.975292</td>\n",
       "      <td>1372.877931</td>\n",
       "      <td>1441.284873</td>\n",
       "    </tr>\n",
       "  </tbody>\n",
       "</table>\n",
       "</div>"
      ],
      "text/plain": [
       "  continent  country  gdpPercap_1952  gdpPercap_1957  gdpPercap_1962  \\\n",
       "0    Africa  Algeria     2449.008185     3013.976023     2550.816880   \n",
       "1    Africa   Angola     3520.610273     3827.940465     4269.276742   \n",
       "2    Africa    Benin     1062.752200      959.601080      949.499064   \n",
       "\n",
       "   gdpPercap_1967  gdpPercap_1972  gdpPercap_1977  gdpPercap_1982  \\\n",
       "0     3246.991771     4182.663766     4910.416756     5745.160213   \n",
       "1     5522.776375     5473.288005     3008.647355     2756.953672   \n",
       "2     1035.831411     1085.796879     1029.161251     1277.897616   \n",
       "\n",
       "   gdpPercap_1987  gdpPercap_1992  gdpPercap_1997  gdpPercap_2002  \\\n",
       "0     5681.358539     5023.216647     4797.295051     5288.040382   \n",
       "1     2430.208311     2627.845685     2277.140884     2773.287312   \n",
       "2     1225.856010     1191.207681     1232.975292     1372.877931   \n",
       "\n",
       "   gdpPercap_2007  \n",
       "0     6223.367465  \n",
       "1     4797.231267  \n",
       "2     1441.284873  "
      ]
     },
     "execution_count": 57,
     "metadata": {},
     "output_type": "execute_result"
    }
   ],
   "source": [
    "gdpPercap = gapminder.loc[:, gapminder.columns.str.contains('^gdp|^c')]\n",
    "# Print the head\n",
    "gdpPercap.head(3)"
   ]
  },
  {
   "cell_type": "code",
   "execution_count": 58,
   "id": "53cbf1f4",
   "metadata": {
    "execution": {
     "iopub.execute_input": "2022-12-29T21:49:38.740658Z",
     "iopub.status.busy": "2022-12-29T21:49:38.739258Z",
     "iopub.status.idle": "2022-12-29T21:49:38.747329Z",
     "shell.execute_reply": "2022-12-29T21:49:38.746392Z"
    },
    "papermill": {
     "duration": 0.065614,
     "end_time": "2022-12-29T21:49:38.749618",
     "exception": false,
     "start_time": "2022-12-29T21:49:38.684004",
     "status": "completed"
    },
    "tags": []
   },
   "outputs": [
    {
     "data": {
      "text/plain": [
       "(142, 14)"
      ]
     },
     "execution_count": 58,
     "metadata": {},
     "output_type": "execute_result"
    }
   ],
   "source": [
    "gdpPercap.shape"
   ]
  },
  {
   "cell_type": "markdown",
   "id": "3eac2f15",
   "metadata": {
    "papermill": {
     "duration": 0.055714,
     "end_time": "2022-12-29T21:49:38.859222",
     "exception": false,
     "start_time": "2022-12-29T21:49:38.803508",
     "status": "completed"
    },
    "tags": []
   },
   "source": [
    "Pandas `Series.str.contains()` function is used to test if pattern or regex is contained within a string of a Series or Index. \n",
    "\n",
    "Regular Expression or Regex for short is the part of `^gdp|^c`. Regex is used in general for text parsing and it has some strict rules. If you want to get the correct regex for the text you want to catch in a more fun way. You can use [AutoRegex](https://www.autoregex.xyz/) which is an AI translator between plain English text and regex. \n",
    "\n",
    "For example, to be able to catch the columns starts with `C` and the word `gdp`, I entered *capture anything starts with the letter c or the word 'gdp'*"
   ]
  },
  {
   "cell_type": "markdown",
   "id": "b04c6089",
   "metadata": {
    "papermill": {
     "duration": 0.055927,
     "end_time": "2022-12-29T21:49:38.969954",
     "exception": false,
     "start_time": "2022-12-29T21:49:38.914027",
     "status": "completed"
    },
    "tags": []
   },
   "source": [
    "Now, lets use `pd.melt()` to get a better format for `gdpPercap` dataframe. "
   ]
  },
  {
   "cell_type": "code",
   "execution_count": 59,
   "id": "df926802",
   "metadata": {
    "execution": {
     "iopub.execute_input": "2022-12-29T21:49:39.081249Z",
     "iopub.status.busy": "2022-12-29T21:49:39.080221Z",
     "iopub.status.idle": "2022-12-29T21:49:39.097760Z",
     "shell.execute_reply": "2022-12-29T21:49:39.096529Z"
    },
    "papermill": {
     "duration": 0.075476,
     "end_time": "2022-12-29T21:49:39.100437",
     "exception": false,
     "start_time": "2022-12-29T21:49:39.024961",
     "status": "completed"
    },
    "scrolled": true,
    "tags": []
   },
   "outputs": [
    {
     "data": {
      "text/html": [
       "<div>\n",
       "<style scoped>\n",
       "    .dataframe tbody tr th:only-of-type {\n",
       "        vertical-align: middle;\n",
       "    }\n",
       "\n",
       "    .dataframe tbody tr th {\n",
       "        vertical-align: top;\n",
       "    }\n",
       "\n",
       "    .dataframe thead th {\n",
       "        text-align: right;\n",
       "    }\n",
       "</style>\n",
       "<table border=\"1\" class=\"dataframe\">\n",
       "  <thead>\n",
       "    <tr style=\"text-align: right;\">\n",
       "      <th></th>\n",
       "      <th>continent</th>\n",
       "      <th>country</th>\n",
       "      <th>year</th>\n",
       "      <th>gdpPercap</th>\n",
       "    </tr>\n",
       "  </thead>\n",
       "  <tbody>\n",
       "    <tr>\n",
       "      <th>0</th>\n",
       "      <td>Africa</td>\n",
       "      <td>Algeria</td>\n",
       "      <td>gdpPercap_1952</td>\n",
       "      <td>2449.008185</td>\n",
       "    </tr>\n",
       "    <tr>\n",
       "      <th>1</th>\n",
       "      <td>Africa</td>\n",
       "      <td>Angola</td>\n",
       "      <td>gdpPercap_1952</td>\n",
       "      <td>3520.610273</td>\n",
       "    </tr>\n",
       "    <tr>\n",
       "      <th>2</th>\n",
       "      <td>Africa</td>\n",
       "      <td>Benin</td>\n",
       "      <td>gdpPercap_1952</td>\n",
       "      <td>1062.752200</td>\n",
       "    </tr>\n",
       "  </tbody>\n",
       "</table>\n",
       "</div>"
      ],
      "text/plain": [
       "  continent  country            year    gdpPercap\n",
       "0    Africa  Algeria  gdpPercap_1952  2449.008185\n",
       "1    Africa   Angola  gdpPercap_1952  3520.610273\n",
       "2    Africa    Benin  gdpPercap_1952  1062.752200"
      ]
     },
     "execution_count": 59,
     "metadata": {},
     "output_type": "execute_result"
    }
   ],
   "source": [
    "# Let's convert it from this very wide format to a long one\n",
    "gdpPercap_tidy = gdpPercap.melt(id_vars=['continent', 'country'], var_name='year', value_name = 'gdpPercap')\n",
    "gdpPercap_tidy.head(3)"
   ]
  },
  {
   "cell_type": "code",
   "execution_count": 60,
   "id": "d4255c18",
   "metadata": {
    "execution": {
     "iopub.execute_input": "2022-12-29T21:49:39.213932Z",
     "iopub.status.busy": "2022-12-29T21:49:39.213216Z",
     "iopub.status.idle": "2022-12-29T21:49:39.219255Z",
     "shell.execute_reply": "2022-12-29T21:49:39.218342Z"
    },
    "papermill": {
     "duration": 0.064864,
     "end_time": "2022-12-29T21:49:39.221341",
     "exception": false,
     "start_time": "2022-12-29T21:49:39.156477",
     "status": "completed"
    },
    "tags": []
   },
   "outputs": [
    {
     "data": {
      "text/plain": [
       "(1704, 4)"
      ]
     },
     "execution_count": 60,
     "metadata": {},
     "output_type": "execute_result"
    }
   ],
   "source": [
    "gdpPercap_tidy.shape"
   ]
  },
  {
   "cell_type": "markdown",
   "id": "76abd0ca",
   "metadata": {
    "papermill": {
     "duration": 0.05512,
     "end_time": "2022-12-29T21:49:39.335495",
     "exception": false,
     "start_time": "2022-12-29T21:49:39.280375",
     "status": "completed"
    },
    "tags": []
   },
   "source": [
    "As you can see, the format is much better except for the year colum that we will try to fix right now. Also, notice that converting wide format to long will result in an increase in the number of rows and decrease in the number of columns."
   ]
  },
  {
   "cell_type": "markdown",
   "id": "ddc2cd46",
   "metadata": {
    "papermill": {
     "duration": 0.055349,
     "end_time": "2022-12-29T21:49:39.445086",
     "exception": false,
     "start_time": "2022-12-29T21:49:39.389737",
     "status": "completed"
    },
    "tags": []
   },
   "source": [
    "For the values in the year column such as `gdpPercap_1952` needs to be `1952`. To fix this we will create a function called `keep_year` that takes in any text mixed with numbers and return only numbers."
   ]
  },
  {
   "cell_type": "code",
   "execution_count": 61,
   "id": "ef252edc",
   "metadata": {
    "execution": {
     "iopub.execute_input": "2022-12-29T21:49:39.555998Z",
     "iopub.status.busy": "2022-12-29T21:49:39.555258Z",
     "iopub.status.idle": "2022-12-29T21:49:39.560150Z",
     "shell.execute_reply": "2022-12-29T21:49:39.559251Z"
    },
    "papermill": {
     "duration": 0.063017,
     "end_time": "2022-12-29T21:49:39.562406",
     "exception": false,
     "start_time": "2022-12-29T21:49:39.499389",
     "status": "completed"
    },
    "tags": []
   },
   "outputs": [],
   "source": [
    "def keep_year(text):\n",
    "    clean_text = ''.join([item for item in text if item.isdigit()])\n",
    "    return clean_text"
   ]
  },
  {
   "cell_type": "markdown",
   "id": "5097c0e8",
   "metadata": {
    "papermill": {
     "duration": 0.054469,
     "end_time": "2022-12-29T21:49:39.671824",
     "exception": false,
     "start_time": "2022-12-29T21:49:39.617355",
     "status": "completed"
    },
    "tags": []
   },
   "source": [
    "Let's test our function before applying to the dataframe\n"
   ]
  },
  {
   "cell_type": "code",
   "execution_count": 62,
   "id": "ab4ff9a9",
   "metadata": {
    "execution": {
     "iopub.execute_input": "2022-12-29T21:49:39.782995Z",
     "iopub.status.busy": "2022-12-29T21:49:39.782239Z",
     "iopub.status.idle": "2022-12-29T21:49:39.788587Z",
     "shell.execute_reply": "2022-12-29T21:49:39.787376Z"
    },
    "papermill": {
     "duration": 0.06528,
     "end_time": "2022-12-29T21:49:39.791013",
     "exception": false,
     "start_time": "2022-12-29T21:49:39.725733",
     "status": "completed"
    },
    "tags": []
   },
   "outputs": [
    {
     "data": {
      "text/plain": [
       "'1994'"
      ]
     },
     "execution_count": 62,
     "metadata": {},
     "output_type": "execute_result"
    }
   ],
   "source": [
    "keep_year('some_text_and_all_this_about_1994')"
   ]
  },
  {
   "cell_type": "markdown",
   "id": "0ad10d0f",
   "metadata": {
    "papermill": {
     "duration": 0.05441,
     "end_time": "2022-12-29T21:49:39.901270",
     "exception": false,
     "start_time": "2022-12-29T21:49:39.846860",
     "status": "completed"
    },
    "tags": []
   },
   "source": [
    "Perfect!  let's apply it to our dataset"
   ]
  },
  {
   "cell_type": "code",
   "execution_count": 63,
   "id": "e464137c",
   "metadata": {
    "execution": {
     "iopub.execute_input": "2022-12-29T21:49:40.013861Z",
     "iopub.status.busy": "2022-12-29T21:49:40.013235Z",
     "iopub.status.idle": "2022-12-29T21:49:40.030287Z",
     "shell.execute_reply": "2022-12-29T21:49:40.028700Z"
    },
    "papermill": {
     "duration": 0.076704,
     "end_time": "2022-12-29T21:49:40.032997",
     "exception": false,
     "start_time": "2022-12-29T21:49:39.956293",
     "status": "completed"
    },
    "tags": []
   },
   "outputs": [
    {
     "data": {
      "text/html": [
       "<div>\n",
       "<style scoped>\n",
       "    .dataframe tbody tr th:only-of-type {\n",
       "        vertical-align: middle;\n",
       "    }\n",
       "\n",
       "    .dataframe tbody tr th {\n",
       "        vertical-align: top;\n",
       "    }\n",
       "\n",
       "    .dataframe thead th {\n",
       "        text-align: right;\n",
       "    }\n",
       "</style>\n",
       "<table border=\"1\" class=\"dataframe\">\n",
       "  <thead>\n",
       "    <tr style=\"text-align: right;\">\n",
       "      <th></th>\n",
       "      <th>continent</th>\n",
       "      <th>country</th>\n",
       "      <th>year</th>\n",
       "      <th>gdpPercap</th>\n",
       "    </tr>\n",
       "  </thead>\n",
       "  <tbody>\n",
       "    <tr>\n",
       "      <th>0</th>\n",
       "      <td>Africa</td>\n",
       "      <td>Algeria</td>\n",
       "      <td>1952</td>\n",
       "      <td>2449.008185</td>\n",
       "    </tr>\n",
       "    <tr>\n",
       "      <th>1</th>\n",
       "      <td>Africa</td>\n",
       "      <td>Angola</td>\n",
       "      <td>1952</td>\n",
       "      <td>3520.610273</td>\n",
       "    </tr>\n",
       "    <tr>\n",
       "      <th>2</th>\n",
       "      <td>Africa</td>\n",
       "      <td>Benin</td>\n",
       "      <td>1952</td>\n",
       "      <td>1062.752200</td>\n",
       "    </tr>\n",
       "    <tr>\n",
       "      <th>3</th>\n",
       "      <td>Africa</td>\n",
       "      <td>Botswana</td>\n",
       "      <td>1952</td>\n",
       "      <td>851.241141</td>\n",
       "    </tr>\n",
       "    <tr>\n",
       "      <th>4</th>\n",
       "      <td>Africa</td>\n",
       "      <td>Burkina Faso</td>\n",
       "      <td>1952</td>\n",
       "      <td>543.255241</td>\n",
       "    </tr>\n",
       "  </tbody>\n",
       "</table>\n",
       "</div>"
      ],
      "text/plain": [
       "  continent       country  year    gdpPercap\n",
       "0    Africa       Algeria  1952  2449.008185\n",
       "1    Africa        Angola  1952  3520.610273\n",
       "2    Africa         Benin  1952  1062.752200\n",
       "3    Africa      Botswana  1952   851.241141\n",
       "4    Africa  Burkina Faso  1952   543.255241"
      ]
     },
     "execution_count": 63,
     "metadata": {},
     "output_type": "execute_result"
    }
   ],
   "source": [
    "# apply the function to the year column\n",
    "gdpPercap_tidy['year'] = gdpPercap_tidy['year'].apply(keep_year)\n",
    "# let's see the result!\n",
    "gdpPercap_tidy.head()"
   ]
  },
  {
   "cell_type": "markdown",
   "id": "6675a88c",
   "metadata": {
    "papermill": {
     "duration": 0.057404,
     "end_time": "2022-12-29T21:49:40.145268",
     "exception": false,
     "start_time": "2022-12-29T21:49:40.087864",
     "status": "completed"
    },
    "tags": []
   },
   "source": [
    "This is a perfect format but to make sure lets check about the data types of columns."
   ]
  },
  {
   "cell_type": "code",
   "execution_count": 64,
   "id": "ac36be11",
   "metadata": {
    "execution": {
     "iopub.execute_input": "2022-12-29T21:49:40.262120Z",
     "iopub.status.busy": "2022-12-29T21:49:40.260325Z",
     "iopub.status.idle": "2022-12-29T21:49:40.276665Z",
     "shell.execute_reply": "2022-12-29T21:49:40.275112Z"
    },
    "papermill": {
     "duration": 0.077507,
     "end_time": "2022-12-29T21:49:40.279607",
     "exception": false,
     "start_time": "2022-12-29T21:49:40.202100",
     "status": "completed"
    },
    "tags": []
   },
   "outputs": [
    {
     "name": "stdout",
     "output_type": "stream",
     "text": [
      "<class 'pandas.core.frame.DataFrame'>\n",
      "RangeIndex: 1704 entries, 0 to 1703\n",
      "Data columns (total 4 columns):\n",
      " #   Column     Non-Null Count  Dtype  \n",
      "---  ------     --------------  -----  \n",
      " 0   continent  1704 non-null   object \n",
      " 1   country    1704 non-null   object \n",
      " 2   year       1704 non-null   object \n",
      " 3   gdpPercap  1704 non-null   float64\n",
      "dtypes: float64(1), object(3)\n",
      "memory usage: 53.4+ KB\n"
     ]
    }
   ],
   "source": [
    "gdpPercap_tidy.info()"
   ]
  },
  {
   "cell_type": "markdown",
   "id": "aa19c7bf",
   "metadata": {
    "papermill": {
     "duration": 0.056562,
     "end_time": "2022-12-29T21:49:40.393477",
     "exception": false,
     "start_time": "2022-12-29T21:49:40.336915",
     "status": "completed"
    },
    "tags": []
   },
   "source": [
    "The `year` column is in `object` format so, it need to be converted to `int`. \n",
    "\n",
    "Lets do it!"
   ]
  },
  {
   "cell_type": "code",
   "execution_count": 65,
   "id": "cd7379f0",
   "metadata": {
    "execution": {
     "iopub.execute_input": "2022-12-29T21:49:40.510960Z",
     "iopub.status.busy": "2022-12-29T21:49:40.510230Z",
     "iopub.status.idle": "2022-12-29T21:49:40.525041Z",
     "shell.execute_reply": "2022-12-29T21:49:40.523770Z"
    },
    "papermill": {
     "duration": 0.076166,
     "end_time": "2022-12-29T21:49:40.527878",
     "exception": false,
     "start_time": "2022-12-29T21:49:40.451712",
     "status": "completed"
    },
    "tags": []
   },
   "outputs": [
    {
     "name": "stdout",
     "output_type": "stream",
     "text": [
      "<class 'pandas.core.frame.DataFrame'>\n",
      "RangeIndex: 1704 entries, 0 to 1703\n",
      "Data columns (total 4 columns):\n",
      " #   Column     Non-Null Count  Dtype  \n",
      "---  ------     --------------  -----  \n",
      " 0   continent  1704 non-null   object \n",
      " 1   country    1704 non-null   object \n",
      " 2   year       1704 non-null   int64  \n",
      " 3   gdpPercap  1704 non-null   float64\n",
      "dtypes: float64(1), int64(1), object(2)\n",
      "memory usage: 53.4+ KB\n"
     ]
    }
   ],
   "source": [
    "# convert the `year` column to numeric\n",
    "gdpPercap_tidy.year = pd.to_numeric(gdpPercap_tidy.year)\n",
    "# check the data types\n",
    "gdpPercap_tidy.info()"
   ]
  },
  {
   "cell_type": "markdown",
   "id": "d888f6cc",
   "metadata": {
    "papermill": {
     "duration": 0.057383,
     "end_time": "2022-12-29T21:49:40.642632",
     "exception": false,
     "start_time": "2022-12-29T21:49:40.585249",
     "status": "completed"
    },
    "tags": []
   },
   "source": [
    "Now, lets repeat all the previous steps with `lifeExp` and `pop` columns"
   ]
  },
  {
   "cell_type": "code",
   "execution_count": 66,
   "id": "3b815812",
   "metadata": {
    "execution": {
     "iopub.execute_input": "2022-12-29T21:49:40.759226Z",
     "iopub.status.busy": "2022-12-29T21:49:40.758742Z",
     "iopub.status.idle": "2022-12-29T21:49:40.798082Z",
     "shell.execute_reply": "2022-12-29T21:49:40.796133Z"
    },
    "papermill": {
     "duration": 0.10088,
     "end_time": "2022-12-29T21:49:40.800806",
     "exception": false,
     "start_time": "2022-12-29T21:49:40.699926",
     "status": "completed"
    },
    "tags": []
   },
   "outputs": [
    {
     "data": {
      "text/html": [
       "<div>\n",
       "<style scoped>\n",
       "    .dataframe tbody tr th:only-of-type {\n",
       "        vertical-align: middle;\n",
       "    }\n",
       "\n",
       "    .dataframe tbody tr th {\n",
       "        vertical-align: top;\n",
       "    }\n",
       "\n",
       "    .dataframe thead th {\n",
       "        text-align: right;\n",
       "    }\n",
       "</style>\n",
       "<table border=\"1\" class=\"dataframe\">\n",
       "  <thead>\n",
       "    <tr style=\"text-align: right;\">\n",
       "      <th></th>\n",
       "      <th>continent</th>\n",
       "      <th>country</th>\n",
       "      <th>year</th>\n",
       "      <th>lifeExp</th>\n",
       "    </tr>\n",
       "  </thead>\n",
       "  <tbody>\n",
       "    <tr>\n",
       "      <th>0</th>\n",
       "      <td>Africa</td>\n",
       "      <td>Algeria</td>\n",
       "      <td>1952</td>\n",
       "      <td>43.077</td>\n",
       "    </tr>\n",
       "    <tr>\n",
       "      <th>1</th>\n",
       "      <td>Africa</td>\n",
       "      <td>Angola</td>\n",
       "      <td>1952</td>\n",
       "      <td>30.015</td>\n",
       "    </tr>\n",
       "    <tr>\n",
       "      <th>2</th>\n",
       "      <td>Africa</td>\n",
       "      <td>Benin</td>\n",
       "      <td>1952</td>\n",
       "      <td>38.223</td>\n",
       "    </tr>\n",
       "    <tr>\n",
       "      <th>3</th>\n",
       "      <td>Africa</td>\n",
       "      <td>Botswana</td>\n",
       "      <td>1952</td>\n",
       "      <td>47.622</td>\n",
       "    </tr>\n",
       "    <tr>\n",
       "      <th>4</th>\n",
       "      <td>Africa</td>\n",
       "      <td>Burkina Faso</td>\n",
       "      <td>1952</td>\n",
       "      <td>31.975</td>\n",
       "    </tr>\n",
       "  </tbody>\n",
       "</table>\n",
       "</div>"
      ],
      "text/plain": [
       "  continent       country  year  lifeExp\n",
       "0    Africa       Algeria  1952   43.077\n",
       "1    Africa        Angola  1952   30.015\n",
       "2    Africa         Benin  1952   38.223\n",
       "3    Africa      Botswana  1952   47.622\n",
       "4    Africa  Burkina Faso  1952   31.975"
      ]
     },
     "metadata": {},
     "output_type": "display_data"
    },
    {
     "name": "stdout",
     "output_type": "stream",
     "text": [
      "<class 'pandas.core.frame.DataFrame'>\n",
      "RangeIndex: 1704 entries, 0 to 1703\n",
      "Data columns (total 4 columns):\n",
      " #   Column     Non-Null Count  Dtype  \n",
      "---  ------     --------------  -----  \n",
      " 0   continent  1704 non-null   object \n",
      " 1   country    1704 non-null   object \n",
      " 2   year       1704 non-null   int64  \n",
      " 3   lifeExp    1704 non-null   float64\n",
      "dtypes: float64(1), int64(1), object(2)\n",
      "memory usage: 53.4+ KB\n"
     ]
    },
    {
     "data": {
      "text/plain": [
       "None"
      ]
     },
     "metadata": {},
     "output_type": "display_data"
    }
   ],
   "source": [
    "# preparing lifeExp dataframe\n",
    "lifeExp = gapminder.loc[:, gapminder.columns.str.contains('^life|^c')]\n",
    "# melt the dataframe.\n",
    "lifeExp_tidy = lifeExp.melt(id_vars=['continent', 'country'], var_name='year', value_name = 'lifeExp')\n",
    "# fix the year column\n",
    "lifeExp_tidy.year = lifeExp_tidy.year.apply(keep_year)\n",
    "# convert the year column to numeric\n",
    "lifeExp_tidy.year = pd.to_numeric(lifeExp_tidy.year)\n",
    "# display the data itself\n",
    "display(lifeExp_tidy.head())\n",
    "# display info\n",
    "display(lifeExp_tidy.info())"
   ]
  },
  {
   "cell_type": "markdown",
   "id": "cee65cb6",
   "metadata": {
    "papermill": {
     "duration": 0.057054,
     "end_time": "2022-12-29T21:49:40.915483",
     "exception": false,
     "start_time": "2022-12-29T21:49:40.858429",
     "status": "completed"
    },
    "tags": []
   },
   "source": [
    "Perfect! lets do the same for `pop` columns!"
   ]
  },
  {
   "cell_type": "code",
   "execution_count": 67,
   "id": "521ab66e",
   "metadata": {
    "execution": {
     "iopub.execute_input": "2022-12-29T21:49:41.033075Z",
     "iopub.status.busy": "2022-12-29T21:49:41.032581Z",
     "iopub.status.idle": "2022-12-29T21:49:41.067261Z",
     "shell.execute_reply": "2022-12-29T21:49:41.065679Z"
    },
    "papermill": {
     "duration": 0.097414,
     "end_time": "2022-12-29T21:49:41.069828",
     "exception": false,
     "start_time": "2022-12-29T21:49:40.972414",
     "status": "completed"
    },
    "tags": []
   },
   "outputs": [
    {
     "data": {
      "text/html": [
       "<div>\n",
       "<style scoped>\n",
       "    .dataframe tbody tr th:only-of-type {\n",
       "        vertical-align: middle;\n",
       "    }\n",
       "\n",
       "    .dataframe tbody tr th {\n",
       "        vertical-align: top;\n",
       "    }\n",
       "\n",
       "    .dataframe thead th {\n",
       "        text-align: right;\n",
       "    }\n",
       "</style>\n",
       "<table border=\"1\" class=\"dataframe\">\n",
       "  <thead>\n",
       "    <tr style=\"text-align: right;\">\n",
       "      <th></th>\n",
       "      <th>continent</th>\n",
       "      <th>country</th>\n",
       "      <th>year</th>\n",
       "      <th>pop</th>\n",
       "    </tr>\n",
       "  </thead>\n",
       "  <tbody>\n",
       "    <tr>\n",
       "      <th>0</th>\n",
       "      <td>Africa</td>\n",
       "      <td>Algeria</td>\n",
       "      <td>1952</td>\n",
       "      <td>9279525.0</td>\n",
       "    </tr>\n",
       "    <tr>\n",
       "      <th>1</th>\n",
       "      <td>Africa</td>\n",
       "      <td>Angola</td>\n",
       "      <td>1952</td>\n",
       "      <td>4232095.0</td>\n",
       "    </tr>\n",
       "    <tr>\n",
       "      <th>2</th>\n",
       "      <td>Africa</td>\n",
       "      <td>Benin</td>\n",
       "      <td>1952</td>\n",
       "      <td>1738315.0</td>\n",
       "    </tr>\n",
       "    <tr>\n",
       "      <th>3</th>\n",
       "      <td>Africa</td>\n",
       "      <td>Botswana</td>\n",
       "      <td>1952</td>\n",
       "      <td>442308.0</td>\n",
       "    </tr>\n",
       "    <tr>\n",
       "      <th>4</th>\n",
       "      <td>Africa</td>\n",
       "      <td>Burkina Faso</td>\n",
       "      <td>1952</td>\n",
       "      <td>4469979.0</td>\n",
       "    </tr>\n",
       "  </tbody>\n",
       "</table>\n",
       "</div>"
      ],
      "text/plain": [
       "  continent       country  year        pop\n",
       "0    Africa       Algeria  1952  9279525.0\n",
       "1    Africa        Angola  1952  4232095.0\n",
       "2    Africa         Benin  1952  1738315.0\n",
       "3    Africa      Botswana  1952   442308.0\n",
       "4    Africa  Burkina Faso  1952  4469979.0"
      ]
     },
     "metadata": {},
     "output_type": "display_data"
    },
    {
     "name": "stdout",
     "output_type": "stream",
     "text": [
      "<class 'pandas.core.frame.DataFrame'>\n",
      "RangeIndex: 1704 entries, 0 to 1703\n",
      "Data columns (total 4 columns):\n",
      " #   Column     Non-Null Count  Dtype  \n",
      "---  ------     --------------  -----  \n",
      " 0   continent  1704 non-null   object \n",
      " 1   country    1704 non-null   object \n",
      " 2   year       1704 non-null   int64  \n",
      " 3   pop        1704 non-null   float64\n",
      "dtypes: float64(1), int64(1), object(2)\n",
      "memory usage: 53.4+ KB\n"
     ]
    },
    {
     "data": {
      "text/plain": [
       "None"
      ]
     },
     "metadata": {},
     "output_type": "display_data"
    }
   ],
   "source": [
    "# preparing pop dataframe\n",
    "pop = gapminder.loc[:, gapminder.columns.str.contains('^pop|^c')]\n",
    "# melt the dataframe.\n",
    "pop_tidy = pop.melt(id_vars=['continent', 'country'], var_name='year', value_name = 'pop')\n",
    "# fix the year column\n",
    "pop_tidy.year = pop_tidy.year.apply(keep_year)\n",
    "# convert the year column to numeric\n",
    "pop_tidy.year = pd.to_numeric(pop_tidy.year)\n",
    "# display the data itself\n",
    "display(pop_tidy.head())\n",
    "# display info\n",
    "display(pop_tidy.info())"
   ]
  },
  {
   "cell_type": "markdown",
   "id": "2a08c891",
   "metadata": {
    "papermill": {
     "duration": 0.058651,
     "end_time": "2022-12-29T21:49:41.186698",
     "exception": false,
     "start_time": "2022-12-29T21:49:41.128047",
     "status": "completed"
    },
    "tags": []
   },
   "source": [
    "Now, we need to combine all those three dataframes in one `gdpPercap_tidy`, `lifeExp_tidy`, and `pop_tidy`. \n",
    "\n",
    "We can use `pd.concat()` for this task but this time to stack those dataframes vertically."
   ]
  },
  {
   "cell_type": "code",
   "execution_count": 68,
   "id": "eec72f4a",
   "metadata": {
    "execution": {
     "iopub.execute_input": "2022-12-29T21:49:41.305183Z",
     "iopub.status.busy": "2022-12-29T21:49:41.304410Z",
     "iopub.status.idle": "2022-12-29T21:49:41.326911Z",
     "shell.execute_reply": "2022-12-29T21:49:41.325625Z"
    },
    "papermill": {
     "duration": 0.084741,
     "end_time": "2022-12-29T21:49:41.329649",
     "exception": false,
     "start_time": "2022-12-29T21:49:41.244908",
     "status": "completed"
    },
    "tags": []
   },
   "outputs": [
    {
     "data": {
      "text/html": [
       "<div>\n",
       "<style scoped>\n",
       "    .dataframe tbody tr th:only-of-type {\n",
       "        vertical-align: middle;\n",
       "    }\n",
       "\n",
       "    .dataframe tbody tr th {\n",
       "        vertical-align: top;\n",
       "    }\n",
       "\n",
       "    .dataframe thead th {\n",
       "        text-align: right;\n",
       "    }\n",
       "</style>\n",
       "<table border=\"1\" class=\"dataframe\">\n",
       "  <thead>\n",
       "    <tr style=\"text-align: right;\">\n",
       "      <th></th>\n",
       "      <th>continent</th>\n",
       "      <th>country</th>\n",
       "      <th>year</th>\n",
       "      <th>gdpPercap</th>\n",
       "      <th>continent</th>\n",
       "      <th>country</th>\n",
       "      <th>year</th>\n",
       "      <th>lifeExp</th>\n",
       "      <th>continent</th>\n",
       "      <th>country</th>\n",
       "      <th>year</th>\n",
       "      <th>pop</th>\n",
       "    </tr>\n",
       "  </thead>\n",
       "  <tbody>\n",
       "    <tr>\n",
       "      <th>0</th>\n",
       "      <td>Africa</td>\n",
       "      <td>Algeria</td>\n",
       "      <td>1952</td>\n",
       "      <td>2449.008185</td>\n",
       "      <td>Africa</td>\n",
       "      <td>Algeria</td>\n",
       "      <td>1952</td>\n",
       "      <td>43.077</td>\n",
       "      <td>Africa</td>\n",
       "      <td>Algeria</td>\n",
       "      <td>1952</td>\n",
       "      <td>9279525.0</td>\n",
       "    </tr>\n",
       "    <tr>\n",
       "      <th>1</th>\n",
       "      <td>Africa</td>\n",
       "      <td>Angola</td>\n",
       "      <td>1952</td>\n",
       "      <td>3520.610273</td>\n",
       "      <td>Africa</td>\n",
       "      <td>Angola</td>\n",
       "      <td>1952</td>\n",
       "      <td>30.015</td>\n",
       "      <td>Africa</td>\n",
       "      <td>Angola</td>\n",
       "      <td>1952</td>\n",
       "      <td>4232095.0</td>\n",
       "    </tr>\n",
       "    <tr>\n",
       "      <th>2</th>\n",
       "      <td>Africa</td>\n",
       "      <td>Benin</td>\n",
       "      <td>1952</td>\n",
       "      <td>1062.752200</td>\n",
       "      <td>Africa</td>\n",
       "      <td>Benin</td>\n",
       "      <td>1952</td>\n",
       "      <td>38.223</td>\n",
       "      <td>Africa</td>\n",
       "      <td>Benin</td>\n",
       "      <td>1952</td>\n",
       "      <td>1738315.0</td>\n",
       "    </tr>\n",
       "    <tr>\n",
       "      <th>3</th>\n",
       "      <td>Africa</td>\n",
       "      <td>Botswana</td>\n",
       "      <td>1952</td>\n",
       "      <td>851.241141</td>\n",
       "      <td>Africa</td>\n",
       "      <td>Botswana</td>\n",
       "      <td>1952</td>\n",
       "      <td>47.622</td>\n",
       "      <td>Africa</td>\n",
       "      <td>Botswana</td>\n",
       "      <td>1952</td>\n",
       "      <td>442308.0</td>\n",
       "    </tr>\n",
       "    <tr>\n",
       "      <th>4</th>\n",
       "      <td>Africa</td>\n",
       "      <td>Burkina Faso</td>\n",
       "      <td>1952</td>\n",
       "      <td>543.255241</td>\n",
       "      <td>Africa</td>\n",
       "      <td>Burkina Faso</td>\n",
       "      <td>1952</td>\n",
       "      <td>31.975</td>\n",
       "      <td>Africa</td>\n",
       "      <td>Burkina Faso</td>\n",
       "      <td>1952</td>\n",
       "      <td>4469979.0</td>\n",
       "    </tr>\n",
       "    <tr>\n",
       "      <th>5</th>\n",
       "      <td>Africa</td>\n",
       "      <td>Burundi</td>\n",
       "      <td>1952</td>\n",
       "      <td>339.296459</td>\n",
       "      <td>Africa</td>\n",
       "      <td>Burundi</td>\n",
       "      <td>1952</td>\n",
       "      <td>39.031</td>\n",
       "      <td>Africa</td>\n",
       "      <td>Burundi</td>\n",
       "      <td>1952</td>\n",
       "      <td>2445618.0</td>\n",
       "    </tr>\n",
       "    <tr>\n",
       "      <th>6</th>\n",
       "      <td>Africa</td>\n",
       "      <td>Cameroon</td>\n",
       "      <td>1952</td>\n",
       "      <td>1172.667655</td>\n",
       "      <td>Africa</td>\n",
       "      <td>Cameroon</td>\n",
       "      <td>1952</td>\n",
       "      <td>38.523</td>\n",
       "      <td>Africa</td>\n",
       "      <td>Cameroon</td>\n",
       "      <td>1952</td>\n",
       "      <td>5009067.0</td>\n",
       "    </tr>\n",
       "    <tr>\n",
       "      <th>7</th>\n",
       "      <td>Africa</td>\n",
       "      <td>Central African Republic</td>\n",
       "      <td>1952</td>\n",
       "      <td>1071.310713</td>\n",
       "      <td>Africa</td>\n",
       "      <td>Central African Republic</td>\n",
       "      <td>1952</td>\n",
       "      <td>35.463</td>\n",
       "      <td>Africa</td>\n",
       "      <td>Central African Republic</td>\n",
       "      <td>1952</td>\n",
       "      <td>1291695.0</td>\n",
       "    </tr>\n",
       "    <tr>\n",
       "      <th>8</th>\n",
       "      <td>Africa</td>\n",
       "      <td>Chad</td>\n",
       "      <td>1952</td>\n",
       "      <td>1178.665927</td>\n",
       "      <td>Africa</td>\n",
       "      <td>Chad</td>\n",
       "      <td>1952</td>\n",
       "      <td>38.092</td>\n",
       "      <td>Africa</td>\n",
       "      <td>Chad</td>\n",
       "      <td>1952</td>\n",
       "      <td>2682462.0</td>\n",
       "    </tr>\n",
       "    <tr>\n",
       "      <th>9</th>\n",
       "      <td>Africa</td>\n",
       "      <td>Comoros</td>\n",
       "      <td>1952</td>\n",
       "      <td>1102.990936</td>\n",
       "      <td>Africa</td>\n",
       "      <td>Comoros</td>\n",
       "      <td>1952</td>\n",
       "      <td>40.715</td>\n",
       "      <td>Africa</td>\n",
       "      <td>Comoros</td>\n",
       "      <td>1952</td>\n",
       "      <td>153936.0</td>\n",
       "    </tr>\n",
       "  </tbody>\n",
       "</table>\n",
       "</div>"
      ],
      "text/plain": [
       "  continent                   country  year    gdpPercap continent  \\\n",
       "0    Africa                   Algeria  1952  2449.008185    Africa   \n",
       "1    Africa                    Angola  1952  3520.610273    Africa   \n",
       "2    Africa                     Benin  1952  1062.752200    Africa   \n",
       "3    Africa                  Botswana  1952   851.241141    Africa   \n",
       "4    Africa              Burkina Faso  1952   543.255241    Africa   \n",
       "5    Africa                   Burundi  1952   339.296459    Africa   \n",
       "6    Africa                  Cameroon  1952  1172.667655    Africa   \n",
       "7    Africa  Central African Republic  1952  1071.310713    Africa   \n",
       "8    Africa                      Chad  1952  1178.665927    Africa   \n",
       "9    Africa                   Comoros  1952  1102.990936    Africa   \n",
       "\n",
       "                    country  year  lifeExp continent  \\\n",
       "0                   Algeria  1952   43.077    Africa   \n",
       "1                    Angola  1952   30.015    Africa   \n",
       "2                     Benin  1952   38.223    Africa   \n",
       "3                  Botswana  1952   47.622    Africa   \n",
       "4              Burkina Faso  1952   31.975    Africa   \n",
       "5                   Burundi  1952   39.031    Africa   \n",
       "6                  Cameroon  1952   38.523    Africa   \n",
       "7  Central African Republic  1952   35.463    Africa   \n",
       "8                      Chad  1952   38.092    Africa   \n",
       "9                   Comoros  1952   40.715    Africa   \n",
       "\n",
       "                    country  year        pop  \n",
       "0                   Algeria  1952  9279525.0  \n",
       "1                    Angola  1952  4232095.0  \n",
       "2                     Benin  1952  1738315.0  \n",
       "3                  Botswana  1952   442308.0  \n",
       "4              Burkina Faso  1952  4469979.0  \n",
       "5                   Burundi  1952  2445618.0  \n",
       "6                  Cameroon  1952  5009067.0  \n",
       "7  Central African Republic  1952  1291695.0  \n",
       "8                      Chad  1952  2682462.0  \n",
       "9                   Comoros  1952   153936.0  "
      ]
     },
     "execution_count": 68,
     "metadata": {},
     "output_type": "execute_result"
    }
   ],
   "source": [
    "gapminder_final = pd.concat([gdpPercap_tidy, lifeExp_tidy, pop_tidy],sort=True, axis=1)\n",
    "# check \n",
    "gapminder_final.head(10)"
   ]
  },
  {
   "cell_type": "markdown",
   "id": "22e02389",
   "metadata": {
    "papermill": {
     "duration": 0.055706,
     "end_time": "2022-12-29T21:49:41.441913",
     "exception": false,
     "start_time": "2022-12-29T21:49:41.386207",
     "status": "completed"
    },
    "tags": []
   },
   "source": [
    "Obviouslly, this is not the required result! we have duplicate columns!, how to handle this in a ONE LINE OF CODE?\n"
   ]
  },
  {
   "cell_type": "code",
   "execution_count": 69,
   "id": "edad6558",
   "metadata": {
    "execution": {
     "iopub.execute_input": "2022-12-29T21:49:41.557671Z",
     "iopub.status.busy": "2022-12-29T21:49:41.556896Z",
     "iopub.status.idle": "2022-12-29T21:49:41.944353Z",
     "shell.execute_reply": "2022-12-29T21:49:41.942955Z"
    },
    "papermill": {
     "duration": 0.449583,
     "end_time": "2022-12-29T21:49:41.947125",
     "exception": false,
     "start_time": "2022-12-29T21:49:41.497542",
     "status": "completed"
    },
    "tags": []
   },
   "outputs": [
    {
     "data": {
      "text/html": [
       "<div>\n",
       "<style scoped>\n",
       "    .dataframe tbody tr th:only-of-type {\n",
       "        vertical-align: middle;\n",
       "    }\n",
       "\n",
       "    .dataframe tbody tr th {\n",
       "        vertical-align: top;\n",
       "    }\n",
       "\n",
       "    .dataframe thead th {\n",
       "        text-align: right;\n",
       "    }\n",
       "</style>\n",
       "<table border=\"1\" class=\"dataframe\">\n",
       "  <thead>\n",
       "    <tr style=\"text-align: right;\">\n",
       "      <th></th>\n",
       "      <th>continent</th>\n",
       "      <th>country</th>\n",
       "      <th>year</th>\n",
       "      <th>gdpPercap</th>\n",
       "      <th>lifeExp</th>\n",
       "      <th>pop</th>\n",
       "    </tr>\n",
       "  </thead>\n",
       "  <tbody>\n",
       "    <tr>\n",
       "      <th>0</th>\n",
       "      <td>Africa</td>\n",
       "      <td>Algeria</td>\n",
       "      <td>1952</td>\n",
       "      <td>2449.008185</td>\n",
       "      <td>43.077</td>\n",
       "      <td>9279525.0</td>\n",
       "    </tr>\n",
       "    <tr>\n",
       "      <th>1</th>\n",
       "      <td>Africa</td>\n",
       "      <td>Angola</td>\n",
       "      <td>1952</td>\n",
       "      <td>3520.610273</td>\n",
       "      <td>30.015</td>\n",
       "      <td>4232095.0</td>\n",
       "    </tr>\n",
       "    <tr>\n",
       "      <th>2</th>\n",
       "      <td>Africa</td>\n",
       "      <td>Benin</td>\n",
       "      <td>1952</td>\n",
       "      <td>1062.7522</td>\n",
       "      <td>38.223</td>\n",
       "      <td>1738315.0</td>\n",
       "    </tr>\n",
       "    <tr>\n",
       "      <th>3</th>\n",
       "      <td>Africa</td>\n",
       "      <td>Botswana</td>\n",
       "      <td>1952</td>\n",
       "      <td>851.241141</td>\n",
       "      <td>47.622</td>\n",
       "      <td>442308.0</td>\n",
       "    </tr>\n",
       "    <tr>\n",
       "      <th>4</th>\n",
       "      <td>Africa</td>\n",
       "      <td>Burkina Faso</td>\n",
       "      <td>1952</td>\n",
       "      <td>543.255241</td>\n",
       "      <td>31.975</td>\n",
       "      <td>4469979.0</td>\n",
       "    </tr>\n",
       "  </tbody>\n",
       "</table>\n",
       "</div>"
      ],
      "text/plain": [
       "  continent       country  year    gdpPercap lifeExp        pop\n",
       "0    Africa       Algeria  1952  2449.008185  43.077  9279525.0\n",
       "1    Africa        Angola  1952  3520.610273  30.015  4232095.0\n",
       "2    Africa         Benin  1952    1062.7522  38.223  1738315.0\n",
       "3    Africa      Botswana  1952   851.241141  47.622   442308.0\n",
       "4    Africa  Burkina Faso  1952   543.255241  31.975  4469979.0"
      ]
     },
     "execution_count": 69,
     "metadata": {},
     "output_type": "execute_result"
    }
   ],
   "source": [
    "gapminder_final = gapminder_final.T.drop_duplicates().T\n",
    "# Let's check!\n",
    "gapminder_final.head()\n",
    "# Done!!"
   ]
  },
  {
   "cell_type": "markdown",
   "id": "982b447d",
   "metadata": {
    "papermill": {
     "duration": 0.059255,
     "end_time": "2022-12-29T21:49:42.063136",
     "exception": false,
     "start_time": "2022-12-29T21:49:42.003881",
     "status": "completed"
    },
    "tags": []
   },
   "source": [
    "Now, our dataframe is finally clean and tidy!"
   ]
  },
  {
   "cell_type": "markdown",
   "id": "b957e277",
   "metadata": {
    "papermill": {
     "duration": 0.057826,
     "end_time": "2022-12-29T21:49:42.241072",
     "exception": false,
     "start_time": "2022-12-29T21:49:42.183246",
     "status": "completed"
    },
    "tags": []
   },
   "source": [
    "Now, we want to apply more in transforming long dataframes to wide by using `pd.pivot()`. To do this, we will take a supset of the `gapminder` dataset"
   ]
  },
  {
   "cell_type": "code",
   "execution_count": 70,
   "id": "ca176d6e",
   "metadata": {
    "execution": {
     "iopub.execute_input": "2022-12-29T21:49:42.359993Z",
     "iopub.status.busy": "2022-12-29T21:49:42.359494Z",
     "iopub.status.idle": "2022-12-29T21:49:42.374403Z",
     "shell.execute_reply": "2022-12-29T21:49:42.372872Z"
    },
    "papermill": {
     "duration": 0.078059,
     "end_time": "2022-12-29T21:49:42.376979",
     "exception": false,
     "start_time": "2022-12-29T21:49:42.298920",
     "status": "completed"
    },
    "tags": []
   },
   "outputs": [
    {
     "data": {
      "text/html": [
       "<div>\n",
       "<style scoped>\n",
       "    .dataframe tbody tr th:only-of-type {\n",
       "        vertical-align: middle;\n",
       "    }\n",
       "\n",
       "    .dataframe tbody tr th {\n",
       "        vertical-align: top;\n",
       "    }\n",
       "\n",
       "    .dataframe thead th {\n",
       "        text-align: right;\n",
       "    }\n",
       "</style>\n",
       "<table border=\"1\" class=\"dataframe\">\n",
       "  <thead>\n",
       "    <tr style=\"text-align: right;\">\n",
       "      <th></th>\n",
       "      <th>continent</th>\n",
       "      <th>year</th>\n",
       "      <th>lifeExp</th>\n",
       "    </tr>\n",
       "  </thead>\n",
       "  <tbody>\n",
       "    <tr>\n",
       "      <th>0</th>\n",
       "      <td>Africa</td>\n",
       "      <td>1952</td>\n",
       "      <td>43.077</td>\n",
       "    </tr>\n",
       "    <tr>\n",
       "      <th>1</th>\n",
       "      <td>Africa</td>\n",
       "      <td>1952</td>\n",
       "      <td>30.015</td>\n",
       "    </tr>\n",
       "    <tr>\n",
       "      <th>2</th>\n",
       "      <td>Africa</td>\n",
       "      <td>1952</td>\n",
       "      <td>38.223</td>\n",
       "    </tr>\n",
       "    <tr>\n",
       "      <th>3</th>\n",
       "      <td>Africa</td>\n",
       "      <td>1952</td>\n",
       "      <td>47.622</td>\n",
       "    </tr>\n",
       "    <tr>\n",
       "      <th>4</th>\n",
       "      <td>Africa</td>\n",
       "      <td>1952</td>\n",
       "      <td>31.975</td>\n",
       "    </tr>\n",
       "  </tbody>\n",
       "</table>\n",
       "</div>"
      ],
      "text/plain": [
       "  continent  year lifeExp\n",
       "0    Africa  1952  43.077\n",
       "1    Africa  1952  30.015\n",
       "2    Africa  1952  38.223\n",
       "3    Africa  1952  47.622\n",
       "4    Africa  1952  31.975"
      ]
     },
     "execution_count": 70,
     "metadata": {},
     "output_type": "execute_result"
    }
   ],
   "source": [
    "gm_df = gapminder_final[['continent','year','lifeExp']].copy()\n",
    "# lets print it\n",
    "gm_df.head()"
   ]
  },
  {
   "cell_type": "code",
   "execution_count": 71,
   "id": "02978e9e",
   "metadata": {
    "execution": {
     "iopub.execute_input": "2022-12-29T21:49:42.498273Z",
     "iopub.status.busy": "2022-12-29T21:49:42.497802Z",
     "iopub.status.idle": "2022-12-29T21:49:42.511494Z",
     "shell.execute_reply": "2022-12-29T21:49:42.509846Z"
    },
    "papermill": {
     "duration": 0.078556,
     "end_time": "2022-12-29T21:49:42.514728",
     "exception": false,
     "start_time": "2022-12-29T21:49:42.436172",
     "status": "completed"
    },
    "tags": []
   },
   "outputs": [
    {
     "name": "stdout",
     "output_type": "stream",
     "text": [
      "<class 'pandas.core.frame.DataFrame'>\n",
      "Int64Index: 1704 entries, 0 to 1703\n",
      "Data columns (total 3 columns):\n",
      " #   Column     Non-Null Count  Dtype \n",
      "---  ------     --------------  ----- \n",
      " 0   continent  1704 non-null   object\n",
      " 1   year       1704 non-null   object\n",
      " 2   lifeExp    1704 non-null   object\n",
      "dtypes: object(3)\n",
      "memory usage: 117.8+ KB\n"
     ]
    }
   ],
   "source": [
    "# check the datatype for each column\n",
    "gm_df.info()"
   ]
  },
  {
   "cell_type": "markdown",
   "id": "13233613",
   "metadata": {
    "papermill": {
     "duration": 0.057737,
     "end_time": "2022-12-29T21:49:42.631735",
     "exception": false,
     "start_time": "2022-12-29T21:49:42.573998",
     "status": "completed"
    },
    "tags": []
   },
   "source": [
    "We need to convert `lifeExp` and `year` to numerical type.\n"
   ]
  },
  {
   "cell_type": "code",
   "execution_count": 72,
   "id": "f1a95558",
   "metadata": {
    "execution": {
     "iopub.execute_input": "2022-12-29T21:49:42.751526Z",
     "iopub.status.busy": "2022-12-29T21:49:42.751070Z",
     "iopub.status.idle": "2022-12-29T21:49:42.767402Z",
     "shell.execute_reply": "2022-12-29T21:49:42.765746Z"
    },
    "papermill": {
     "duration": 0.079688,
     "end_time": "2022-12-29T21:49:42.770158",
     "exception": false,
     "start_time": "2022-12-29T21:49:42.690470",
     "status": "completed"
    },
    "tags": []
   },
   "outputs": [
    {
     "name": "stdout",
     "output_type": "stream",
     "text": [
      "<class 'pandas.core.frame.DataFrame'>\n",
      "Int64Index: 1704 entries, 0 to 1703\n",
      "Data columns (total 3 columns):\n",
      " #   Column     Non-Null Count  Dtype  \n",
      "---  ------     --------------  -----  \n",
      " 0   continent  1704 non-null   object \n",
      " 1   year       1704 non-null   int64  \n",
      " 2   lifeExp    1704 non-null   float64\n",
      "dtypes: float64(1), int64(1), object(1)\n",
      "memory usage: 117.8+ KB\n"
     ]
    }
   ],
   "source": [
    "# convert year column\n",
    "gm_df.year = pd.to_numeric(gm_df.year)\n",
    "# convert lifeExp column\n",
    "gm_df.lifeExp = pd.to_numeric(gm_df.lifeExp)\n",
    "# lets check info\n",
    "gm_df.info()"
   ]
  },
  {
   "cell_type": "markdown",
   "id": "f7f2c96c",
   "metadata": {
    "papermill": {
     "duration": 0.058113,
     "end_time": "2022-12-29T21:49:42.886384",
     "exception": false,
     "start_time": "2022-12-29T21:49:42.828271",
     "status": "completed"
    },
    "tags": []
   },
   "source": [
    "Now, we will try to use `pd.pivot()`"
   ]
  },
  {
   "cell_type": "code",
   "execution_count": 73,
   "id": "937223d1",
   "metadata": {
    "execution": {
     "iopub.execute_input": "2022-12-29T21:49:43.006445Z",
     "iopub.status.busy": "2022-12-29T21:49:43.005989Z",
     "iopub.status.idle": "2022-12-29T21:49:43.029578Z",
     "shell.execute_reply": "2022-12-29T21:49:43.028509Z"
    },
    "papermill": {
     "duration": 0.087382,
     "end_time": "2022-12-29T21:49:43.032565",
     "exception": false,
     "start_time": "2022-12-29T21:49:42.945183",
     "status": "completed"
    },
    "tags": []
   },
   "outputs": [
    {
     "data": {
      "text/html": [
       "<div>\n",
       "<style scoped>\n",
       "    .dataframe tbody tr th:only-of-type {\n",
       "        vertical-align: middle;\n",
       "    }\n",
       "\n",
       "    .dataframe tbody tr th {\n",
       "        vertical-align: top;\n",
       "    }\n",
       "\n",
       "    .dataframe thead th {\n",
       "        text-align: right;\n",
       "    }\n",
       "</style>\n",
       "<table border=\"1\" class=\"dataframe\">\n",
       "  <thead>\n",
       "    <tr style=\"text-align: right;\">\n",
       "      <th>continent</th>\n",
       "      <th>Africa</th>\n",
       "      <th>Americas</th>\n",
       "      <th>Asia</th>\n",
       "      <th>Europe</th>\n",
       "      <th>Oceania</th>\n",
       "    </tr>\n",
       "  </thead>\n",
       "  <tbody>\n",
       "    <tr>\n",
       "      <th>lifeExp</th>\n",
       "      <td>48.86533</td>\n",
       "      <td>64.658737</td>\n",
       "      <td>60.064903</td>\n",
       "      <td>71.903686</td>\n",
       "      <td>74.326208</td>\n",
       "    </tr>\n",
       "  </tbody>\n",
       "</table>\n",
       "</div>"
      ],
      "text/plain": [
       "continent    Africa   Americas       Asia     Europe    Oceania\n",
       "lifeExp    48.86533  64.658737  60.064903  71.903686  74.326208"
      ]
     },
     "execution_count": 73,
     "metadata": {},
     "output_type": "execute_result"
    }
   ],
   "source": [
    "# lets import numpy\n",
    "import numpy as np\n",
    "# pivot\n",
    "p_df_1 = pd.pivot_table(gm_df, values='lifeExp', columns='continent', aggfunc=np.mean)\n",
    "# Let's print it\n",
    "p_df_1"
   ]
  },
  {
   "cell_type": "markdown",
   "id": "85371b9e",
   "metadata": {
    "papermill": {
     "duration": 0.059032,
     "end_time": "2022-12-29T21:49:43.150162",
     "exception": false,
     "start_time": "2022-12-29T21:49:43.091130",
     "status": "completed"
    },
    "tags": []
   },
   "source": [
    "for our long dataset, we tried to summerize it using `pd.pivot_table()`. We choosed that the categories (values) in the `continent` column to be broadcasted as columns and the values to be taken from the `lifeExp` column (passed to values argument) and because we have multiple values for `lifeExp` that correspond to each `continenet` we had to choose some aggregation function to be applied in the way of the transforamation. Here, we choose the `np.mean()` which means that we will be the mean (average) `lifeExp` for each `continent`\n",
    "\n",
    "Lets try to use `pd.pivot_table()` in a different way!"
   ]
  },
  {
   "cell_type": "code",
   "execution_count": 74,
   "id": "c5a118ad",
   "metadata": {
    "execution": {
     "iopub.execute_input": "2022-12-29T21:49:43.270071Z",
     "iopub.status.busy": "2022-12-29T21:49:43.269192Z",
     "iopub.status.idle": "2022-12-29T21:49:43.299272Z",
     "shell.execute_reply": "2022-12-29T21:49:43.297760Z"
    },
    "papermill": {
     "duration": 0.092617,
     "end_time": "2022-12-29T21:49:43.302235",
     "exception": false,
     "start_time": "2022-12-29T21:49:43.209618",
     "status": "completed"
    },
    "tags": []
   },
   "outputs": [
    {
     "data": {
      "text/html": [
       "<div>\n",
       "<style scoped>\n",
       "    .dataframe tbody tr th:only-of-type {\n",
       "        vertical-align: middle;\n",
       "    }\n",
       "\n",
       "    .dataframe tbody tr th {\n",
       "        vertical-align: top;\n",
       "    }\n",
       "\n",
       "    .dataframe thead th {\n",
       "        text-align: right;\n",
       "    }\n",
       "</style>\n",
       "<table border=\"1\" class=\"dataframe\">\n",
       "  <thead>\n",
       "    <tr style=\"text-align: right;\">\n",
       "      <th>continent</th>\n",
       "      <th>Africa</th>\n",
       "      <th>Americas</th>\n",
       "      <th>Asia</th>\n",
       "      <th>Europe</th>\n",
       "      <th>Oceania</th>\n",
       "    </tr>\n",
       "    <tr>\n",
       "      <th>year</th>\n",
       "      <th></th>\n",
       "      <th></th>\n",
       "      <th></th>\n",
       "      <th></th>\n",
       "      <th></th>\n",
       "    </tr>\n",
       "  </thead>\n",
       "  <tbody>\n",
       "    <tr>\n",
       "      <th>1952</th>\n",
       "      <td>39.135500</td>\n",
       "      <td>53.27984</td>\n",
       "      <td>46.314394</td>\n",
       "      <td>64.408500</td>\n",
       "      <td>69.255</td>\n",
       "    </tr>\n",
       "    <tr>\n",
       "      <th>1957</th>\n",
       "      <td>41.266346</td>\n",
       "      <td>55.96028</td>\n",
       "      <td>49.318544</td>\n",
       "      <td>66.703067</td>\n",
       "      <td>70.295</td>\n",
       "    </tr>\n",
       "    <tr>\n",
       "      <th>1962</th>\n",
       "      <td>43.319442</td>\n",
       "      <td>58.39876</td>\n",
       "      <td>51.563223</td>\n",
       "      <td>68.539233</td>\n",
       "      <td>71.085</td>\n",
       "    </tr>\n",
       "    <tr>\n",
       "      <th>1967</th>\n",
       "      <td>45.334538</td>\n",
       "      <td>60.41092</td>\n",
       "      <td>54.663640</td>\n",
       "      <td>69.737600</td>\n",
       "      <td>71.310</td>\n",
       "    </tr>\n",
       "    <tr>\n",
       "      <th>1972</th>\n",
       "      <td>47.450942</td>\n",
       "      <td>62.39492</td>\n",
       "      <td>57.319269</td>\n",
       "      <td>70.775033</td>\n",
       "      <td>71.910</td>\n",
       "    </tr>\n",
       "  </tbody>\n",
       "</table>\n",
       "</div>"
      ],
      "text/plain": [
       "continent     Africa  Americas       Asia     Europe  Oceania\n",
       "year                                                         \n",
       "1952       39.135500  53.27984  46.314394  64.408500   69.255\n",
       "1957       41.266346  55.96028  49.318544  66.703067   70.295\n",
       "1962       43.319442  58.39876  51.563223  68.539233   71.085\n",
       "1967       45.334538  60.41092  54.663640  69.737600   71.310\n",
       "1972       47.450942  62.39492  57.319269  70.775033   71.910"
      ]
     },
     "execution_count": 74,
     "metadata": {},
     "output_type": "execute_result"
    }
   ],
   "source": [
    "p_df_2 = pd.pivot_table(gm_df, values='lifeExp', \n",
    "                     index=['year'], \n",
    "                     columns='continent', \n",
    "                     aggfunc=np.mean)\n",
    "# check the table\n",
    "p_df_2.head()"
   ]
  },
  {
   "cell_type": "markdown",
   "id": "22c5ba80",
   "metadata": {
    "papermill": {
     "duration": 0.059986,
     "end_time": "2022-12-29T21:49:43.421408",
     "exception": false,
     "start_time": "2022-12-29T21:49:43.361422",
     "status": "completed"
    },
    "tags": []
   },
   "source": [
    "Here we used `pd.pivot_table()` in a different way. The `year` column will be an index and the categories in `continent` column are broadcasted into columns. So, this table is giving the average `lifeExp` per continent per year. "
   ]
  },
  {
   "cell_type": "markdown",
   "id": "851c34ca",
   "metadata": {
    "papermill": {
     "duration": 0.058709,
     "end_time": "2022-12-29T21:49:43.539041",
     "exception": false,
     "start_time": "2022-12-29T21:49:43.480332",
     "status": "completed"
    },
    "tags": []
   },
   "source": [
    "# Grouping\n",
    "Any groupby operation involves one of the following operations on the original dataframe. They are −\n",
    "\n",
    "* Splitting the dataframe\n",
    "* Applying a function\n",
    "* Combining the results\n",
    "\n",
    "The basic syntax for grouping in pandas. \n",
    "```Python\n",
    "    df.groupby(by=None, axis=0, as_index=True, sort=True, dropna=True)\n",
    "```\n",
    "The basic argument is `by` which is the column that we will be grouping over. All other argument are almost self explantory. \n",
    "\n",
    "When we use `.groupby()` function on any categorical column of dataframe, it returns a `GroupBy` object. Then we can use various methods on this object and even aggregate other columns to get the summarized view of the dataset.\n",
    "\n",
    "For now, we will read a new dataframe `sales_data` to apply some concepts about `grouping`. \n"
   ]
  },
  {
   "cell_type": "code",
   "execution_count": 75,
   "id": "93a48a69",
   "metadata": {
    "execution": {
     "iopub.execute_input": "2022-12-29T21:49:43.658357Z",
     "iopub.status.busy": "2022-12-29T21:49:43.657927Z",
     "iopub.status.idle": "2022-12-29T21:49:43.734156Z",
     "shell.execute_reply": "2022-12-29T21:49:43.732431Z"
    },
    "papermill": {
     "duration": 0.139274,
     "end_time": "2022-12-29T21:49:43.736745",
     "exception": false,
     "start_time": "2022-12-29T21:49:43.597471",
     "status": "completed"
    },
    "tags": []
   },
   "outputs": [
    {
     "data": {
      "text/html": [
       "<div>\n",
       "<style scoped>\n",
       "    .dataframe tbody tr th:only-of-type {\n",
       "        vertical-align: middle;\n",
       "    }\n",
       "\n",
       "    .dataframe tbody tr th {\n",
       "        vertical-align: top;\n",
       "    }\n",
       "\n",
       "    .dataframe thead th {\n",
       "        text-align: right;\n",
       "    }\n",
       "</style>\n",
       "<table border=\"1\" class=\"dataframe\">\n",
       "  <thead>\n",
       "    <tr style=\"text-align: right;\">\n",
       "      <th></th>\n",
       "      <th>OrderID</th>\n",
       "      <th>Quantity</th>\n",
       "      <th>UnitPrice(USD)</th>\n",
       "      <th>Status</th>\n",
       "      <th>OrderDate</th>\n",
       "      <th>Product_Category</th>\n",
       "      <th>Sales_Manager</th>\n",
       "      <th>Shipping_Cost(USD)</th>\n",
       "      <th>Delivery_Time(Days)</th>\n",
       "      <th>Shipping_Address</th>\n",
       "      <th>Product_Code</th>\n",
       "      <th>OrderCode</th>\n",
       "    </tr>\n",
       "  </thead>\n",
       "  <tbody>\n",
       "    <tr>\n",
       "      <th>0</th>\n",
       "      <td>2.951110e+18</td>\n",
       "      <td>92</td>\n",
       "      <td>238</td>\n",
       "      <td>Not Delivered</td>\n",
       "      <td>8/8/2021</td>\n",
       "      <td>Healthcare</td>\n",
       "      <td>Pablo</td>\n",
       "      <td>21</td>\n",
       "      <td>25.0</td>\n",
       "      <td>Singapore</td>\n",
       "      <td>HC-188</td>\n",
       "      <td>444116</td>\n",
       "    </tr>\n",
       "    <tr>\n",
       "      <th>1</th>\n",
       "      <td>2.181910e+18</td>\n",
       "      <td>61</td>\n",
       "      <td>136</td>\n",
       "      <td>Not Delivered</td>\n",
       "      <td>10/3/2021</td>\n",
       "      <td>Office</td>\n",
       "      <td>Pablo</td>\n",
       "      <td>34</td>\n",
       "      <td>14.0</td>\n",
       "      <td>UK</td>\n",
       "      <td>O-555</td>\n",
       "      <td>444772</td>\n",
       "    </tr>\n",
       "    <tr>\n",
       "      <th>2</th>\n",
       "      <td>3.239110e+18</td>\n",
       "      <td>67</td>\n",
       "      <td>235</td>\n",
       "      <td>Not Delivered</td>\n",
       "      <td>9/27/2021</td>\n",
       "      <td>Office</td>\n",
       "      <td>Kristen</td>\n",
       "      <td>25</td>\n",
       "      <td>11.0</td>\n",
       "      <td>Kenya</td>\n",
       "      <td>O-188</td>\n",
       "      <td>444666</td>\n",
       "    </tr>\n",
       "    <tr>\n",
       "      <th>3</th>\n",
       "      <td>1.112610e+18</td>\n",
       "      <td>33</td>\n",
       "      <td>133</td>\n",
       "      <td>Not Shipped</td>\n",
       "      <td>7/30/2021</td>\n",
       "      <td>Fashion</td>\n",
       "      <td>Abdul</td>\n",
       "      <td>34</td>\n",
       "      <td>24.0</td>\n",
       "      <td>USA</td>\n",
       "      <td>F-555</td>\n",
       "      <td>444007</td>\n",
       "    </tr>\n",
       "    <tr>\n",
       "      <th>4</th>\n",
       "      <td>1.548310e+18</td>\n",
       "      <td>13</td>\n",
       "      <td>189</td>\n",
       "      <td>Not Delivered</td>\n",
       "      <td>8/15/2021</td>\n",
       "      <td>Fashion</td>\n",
       "      <td>Stella</td>\n",
       "      <td>24</td>\n",
       "      <td>19.0</td>\n",
       "      <td>Kenya</td>\n",
       "      <td>F-555</td>\n",
       "      <td>444223</td>\n",
       "    </tr>\n",
       "  </tbody>\n",
       "</table>\n",
       "</div>"
      ],
      "text/plain": [
       "        OrderID  Quantity  UnitPrice(USD)         Status  OrderDate  \\\n",
       "0  2.951110e+18        92             238  Not Delivered   8/8/2021   \n",
       "1  2.181910e+18        61             136  Not Delivered  10/3/2021   \n",
       "2  3.239110e+18        67             235  Not Delivered  9/27/2021   \n",
       "3  1.112610e+18        33             133    Not Shipped  7/30/2021   \n",
       "4  1.548310e+18        13             189  Not Delivered  8/15/2021   \n",
       "\n",
       "  Product_Category Sales_Manager  Shipping_Cost(USD)  Delivery_Time(Days)  \\\n",
       "0       Healthcare         Pablo                  21                 25.0   \n",
       "1           Office         Pablo                  34                 14.0   \n",
       "2           Office       Kristen                  25                 11.0   \n",
       "3          Fashion         Abdul                  34                 24.0   \n",
       "4          Fashion        Stella                  24                 19.0   \n",
       "\n",
       "  Shipping_Address Product_Code  OrderCode  \n",
       "0        Singapore       HC-188     444116  \n",
       "1               UK        O-555     444772  \n",
       "2            Kenya        O-188     444666  \n",
       "3              USA        F-555     444007  \n",
       "4            Kenya        F-555     444223  "
      ]
     },
     "metadata": {},
     "output_type": "display_data"
    },
    {
     "name": "stdout",
     "output_type": "stream",
     "text": [
      "<class 'pandas.core.frame.DataFrame'>\n",
      "RangeIndex: 9999 entries, 0 to 9998\n",
      "Data columns (total 12 columns):\n",
      " #   Column               Non-Null Count  Dtype  \n",
      "---  ------               --------------  -----  \n",
      " 0   OrderID              9999 non-null   float64\n",
      " 1   Quantity             9999 non-null   int64  \n",
      " 2   UnitPrice(USD)       9999 non-null   int64  \n",
      " 3   Status               9999 non-null   object \n",
      " 4   OrderDate            9999 non-null   object \n",
      " 5   Product_Category     9963 non-null   object \n",
      " 6   Sales_Manager        9999 non-null   object \n",
      " 7   Shipping_Cost(USD)   9999 non-null   int64  \n",
      " 8   Delivery_Time(Days)  9948 non-null   float64\n",
      " 9   Shipping_Address     9999 non-null   object \n",
      " 10  Product_Code         9999 non-null   object \n",
      " 11  OrderCode            9999 non-null   int64  \n",
      "dtypes: float64(2), int64(4), object(6)\n",
      "memory usage: 937.5+ KB\n"
     ]
    },
    {
     "data": {
      "text/plain": [
       "None"
      ]
     },
     "metadata": {},
     "output_type": "display_data"
    }
   ],
   "source": [
    "# read the dataset\n",
    "sales_df = pd.read_csv('../input/data-analytics/sales_data.csv')\n",
    "# view head\n",
    "display(sales_df.head())\n",
    "# view info\n",
    "display(sales_df.info())"
   ]
  },
  {
   "cell_type": "code",
   "execution_count": 76,
   "id": "fc3ae95b",
   "metadata": {
    "execution": {
     "iopub.execute_input": "2022-12-29T21:49:43.860138Z",
     "iopub.status.busy": "2022-12-29T21:49:43.859642Z",
     "iopub.status.idle": "2022-12-29T21:49:43.868156Z",
     "shell.execute_reply": "2022-12-29T21:49:43.866884Z"
    },
    "papermill": {
     "duration": 0.072284,
     "end_time": "2022-12-29T21:49:43.870586",
     "exception": false,
     "start_time": "2022-12-29T21:49:43.798302",
     "status": "completed"
    },
    "tags": []
   },
   "outputs": [
    {
     "data": {
      "text/plain": [
       "pandas.core.groupby.generic.DataFrameGroupBy"
      ]
     },
     "execution_count": 76,
     "metadata": {},
     "output_type": "execute_result"
    }
   ],
   "source": [
    "sales_gp_df = sales_df.groupby(\"Product_Category\")\n",
    "type(sales_gp_df)"
   ]
  },
  {
   "cell_type": "markdown",
   "id": "f2835265",
   "metadata": {
    "papermill": {
     "duration": 0.058756,
     "end_time": "2022-12-29T21:49:43.989088",
     "exception": false,
     "start_time": "2022-12-29T21:49:43.930332",
     "status": "completed"
    },
    "tags": []
   },
   "source": [
    "You can see that when grouping over the `Product_Category`. It returns a `GroupBy` object which is nothing but a dictionary where keys are the unique groups in which records are split and values are the columns of each group which are not mentioned in groupby.\n",
    "\n",
    "Certainly, `GroupBy` object holds contents of entire DataFrame but in more structured form. And just like dictionaries there are several methods to get the required data efficiently.\n",
    "\n",
    "Lets try to validate it!"
   ]
  },
  {
   "cell_type": "code",
   "execution_count": 77,
   "id": "ffe9ed2b",
   "metadata": {
    "execution": {
     "iopub.execute_input": "2022-12-29T21:49:44.110845Z",
     "iopub.status.busy": "2022-12-29T21:49:44.110290Z",
     "iopub.status.idle": "2022-12-29T21:49:44.118822Z",
     "shell.execute_reply": "2022-12-29T21:49:44.117816Z"
    },
    "papermill": {
     "duration": 0.071569,
     "end_time": "2022-12-29T21:49:44.121072",
     "exception": false,
     "start_time": "2022-12-29T21:49:44.049503",
     "status": "completed"
    },
    "tags": []
   },
   "outputs": [
    {
     "data": {
      "text/plain": [
       "5"
      ]
     },
     "execution_count": 77,
     "metadata": {},
     "output_type": "execute_result"
    }
   ],
   "source": [
    "sales_df.Product_Category.nunique()"
   ]
  },
  {
   "cell_type": "markdown",
   "id": "a4827a55",
   "metadata": {
    "papermill": {
     "duration": 0.060735,
     "end_time": "2022-12-29T21:49:44.242065",
     "exception": false,
     "start_time": "2022-12-29T21:49:44.181330",
     "status": "completed"
    },
    "tags": []
   },
   "source": [
    "We have `5` differnet categories into the `Product_Category`. Lets see the number of groups."
   ]
  },
  {
   "cell_type": "code",
   "execution_count": 78,
   "id": "ec6b9fc8",
   "metadata": {
    "execution": {
     "iopub.execute_input": "2022-12-29T21:49:44.373316Z",
     "iopub.status.busy": "2022-12-29T21:49:44.372913Z",
     "iopub.status.idle": "2022-12-29T21:49:44.380540Z",
     "shell.execute_reply": "2022-12-29T21:49:44.379193Z"
    },
    "papermill": {
     "duration": 0.074234,
     "end_time": "2022-12-29T21:49:44.383453",
     "exception": false,
     "start_time": "2022-12-29T21:49:44.309219",
     "status": "completed"
    },
    "tags": []
   },
   "outputs": [
    {
     "data": {
      "text/plain": [
       "5"
      ]
     },
     "execution_count": 78,
     "metadata": {},
     "output_type": "execute_result"
    }
   ],
   "source": [
    "sales_gp_df.ngroups"
   ]
  },
  {
   "cell_type": "markdown",
   "id": "6c987c2b",
   "metadata": {
    "papermill": {
     "duration": 0.059673,
     "end_time": "2022-12-29T21:49:44.503172",
     "exception": false,
     "start_time": "2022-12-29T21:49:44.443499",
     "status": "completed"
    },
    "tags": []
   },
   "source": [
    "Also, for the `GroupBy` object we have `5` groups. \n",
    "\n",
    "For now, lets try to get the average `UnitPrice(USD)` per `Product_Category` and see how this is working. "
   ]
  },
  {
   "cell_type": "code",
   "execution_count": 79,
   "id": "9c7bf43e",
   "metadata": {
    "execution": {
     "iopub.execute_input": "2022-12-29T21:49:44.627270Z",
     "iopub.status.busy": "2022-12-29T21:49:44.626798Z",
     "iopub.status.idle": "2022-12-29T21:49:44.641850Z",
     "shell.execute_reply": "2022-12-29T21:49:44.640604Z"
    },
    "papermill": {
     "duration": 0.078656,
     "end_time": "2022-12-29T21:49:44.644353",
     "exception": false,
     "start_time": "2022-12-29T21:49:44.565697",
     "status": "completed"
    },
    "tags": []
   },
   "outputs": [
    {
     "data": {
      "text/html": [
       "<div>\n",
       "<style scoped>\n",
       "    .dataframe tbody tr th:only-of-type {\n",
       "        vertical-align: middle;\n",
       "    }\n",
       "\n",
       "    .dataframe tbody tr th {\n",
       "        vertical-align: top;\n",
       "    }\n",
       "\n",
       "    .dataframe thead th {\n",
       "        text-align: right;\n",
       "    }\n",
       "</style>\n",
       "<table border=\"1\" class=\"dataframe\">\n",
       "  <thead>\n",
       "    <tr style=\"text-align: right;\">\n",
       "      <th></th>\n",
       "      <th>Product_Category</th>\n",
       "      <th>UnitPrice(USD)</th>\n",
       "    </tr>\n",
       "  </thead>\n",
       "  <tbody>\n",
       "    <tr>\n",
       "      <th>0</th>\n",
       "      <td>Entertainment</td>\n",
       "      <td>176.038618</td>\n",
       "    </tr>\n",
       "    <tr>\n",
       "      <th>1</th>\n",
       "      <td>Fashion</td>\n",
       "      <td>176.117199</td>\n",
       "    </tr>\n",
       "    <tr>\n",
       "      <th>2</th>\n",
       "      <td>Healthcare</td>\n",
       "      <td>175.489503</td>\n",
       "    </tr>\n",
       "    <tr>\n",
       "      <th>3</th>\n",
       "      <td>Home</td>\n",
       "      <td>175.354854</td>\n",
       "    </tr>\n",
       "    <tr>\n",
       "      <th>4</th>\n",
       "      <td>Office</td>\n",
       "      <td>175.127300</td>\n",
       "    </tr>\n",
       "  </tbody>\n",
       "</table>\n",
       "</div>"
      ],
      "text/plain": [
       "  Product_Category  UnitPrice(USD)\n",
       "0    Entertainment      176.038618\n",
       "1          Fashion      176.117199\n",
       "2       Healthcare      175.489503\n",
       "3             Home      175.354854\n",
       "4           Office      175.127300"
      ]
     },
     "execution_count": 79,
     "metadata": {},
     "output_type": "execute_result"
    }
   ],
   "source": [
    "# we will first perform the groupby then get the mean unit price.\n",
    "sales_df.groupby(\"Product_Category\")['UnitPrice(USD)'].mean().reset_index()"
   ]
  },
  {
   "cell_type": "markdown",
   "id": "9342ac1f",
   "metadata": {
    "papermill": {
     "duration": 0.059671,
     "end_time": "2022-12-29T21:49:44.763938",
     "exception": false,
     "start_time": "2022-12-29T21:49:44.704267",
     "status": "completed"
    },
    "tags": []
   },
   "source": [
    "Different aggregate functions can be used with grouping. Lets try to get median `Shipping_Cost(USD)` per `Product_Category`"
   ]
  },
  {
   "cell_type": "code",
   "execution_count": 80,
   "id": "bebe4579",
   "metadata": {
    "execution": {
     "iopub.execute_input": "2022-12-29T21:49:44.886880Z",
     "iopub.status.busy": "2022-12-29T21:49:44.885792Z",
     "iopub.status.idle": "2022-12-29T21:49:44.900718Z",
     "shell.execute_reply": "2022-12-29T21:49:44.899493Z"
    },
    "papermill": {
     "duration": 0.079064,
     "end_time": "2022-12-29T21:49:44.903281",
     "exception": false,
     "start_time": "2022-12-29T21:49:44.824217",
     "status": "completed"
    },
    "tags": []
   },
   "outputs": [
    {
     "data": {
      "text/html": [
       "<div>\n",
       "<style scoped>\n",
       "    .dataframe tbody tr th:only-of-type {\n",
       "        vertical-align: middle;\n",
       "    }\n",
       "\n",
       "    .dataframe tbody tr th {\n",
       "        vertical-align: top;\n",
       "    }\n",
       "\n",
       "    .dataframe thead th {\n",
       "        text-align: right;\n",
       "    }\n",
       "</style>\n",
       "<table border=\"1\" class=\"dataframe\">\n",
       "  <thead>\n",
       "    <tr style=\"text-align: right;\">\n",
       "      <th></th>\n",
       "      <th>Product_Category</th>\n",
       "      <th>Shipping_Cost(USD)</th>\n",
       "    </tr>\n",
       "  </thead>\n",
       "  <tbody>\n",
       "    <tr>\n",
       "      <th>0</th>\n",
       "      <td>Entertainment</td>\n",
       "      <td>28.0</td>\n",
       "    </tr>\n",
       "    <tr>\n",
       "      <th>1</th>\n",
       "      <td>Fashion</td>\n",
       "      <td>28.0</td>\n",
       "    </tr>\n",
       "    <tr>\n",
       "      <th>2</th>\n",
       "      <td>Healthcare</td>\n",
       "      <td>27.0</td>\n",
       "    </tr>\n",
       "    <tr>\n",
       "      <th>3</th>\n",
       "      <td>Home</td>\n",
       "      <td>28.0</td>\n",
       "    </tr>\n",
       "    <tr>\n",
       "      <th>4</th>\n",
       "      <td>Office</td>\n",
       "      <td>28.0</td>\n",
       "    </tr>\n",
       "  </tbody>\n",
       "</table>\n",
       "</div>"
      ],
      "text/plain": [
       "  Product_Category  Shipping_Cost(USD)\n",
       "0    Entertainment                28.0\n",
       "1          Fashion                28.0\n",
       "2       Healthcare                27.0\n",
       "3             Home                28.0\n",
       "4           Office                28.0"
      ]
     },
     "execution_count": 80,
     "metadata": {},
     "output_type": "execute_result"
    }
   ],
   "source": [
    "sales_df.groupby(\"Product_Category\")['Shipping_Cost(USD)'].median().reset_index()"
   ]
  },
  {
   "cell_type": "markdown",
   "id": "edc41f77",
   "metadata": {
    "papermill": {
     "duration": 0.058767,
     "end_time": "2022-12-29T21:49:45.020725",
     "exception": false,
     "start_time": "2022-12-29T21:49:44.961958",
     "status": "completed"
    },
    "tags": []
   },
   "source": [
    "Grouping also can work on multi-level! Suppose, that we want to get the average `Delivery_Time(Days)` per `Product_Category` per `Sales_Manager`. \n",
    "\n",
    "Lets see how!"
   ]
  },
  {
   "cell_type": "code",
   "execution_count": 81,
   "id": "d57241c6",
   "metadata": {
    "execution": {
     "iopub.execute_input": "2022-12-29T21:49:45.140069Z",
     "iopub.status.busy": "2022-12-29T21:49:45.139577Z",
     "iopub.status.idle": "2022-12-29T21:49:45.161192Z",
     "shell.execute_reply": "2022-12-29T21:49:45.160185Z"
    },
    "papermill": {
     "duration": 0.084937,
     "end_time": "2022-12-29T21:49:45.163612",
     "exception": false,
     "start_time": "2022-12-29T21:49:45.078675",
     "status": "completed"
    },
    "tags": []
   },
   "outputs": [
    {
     "data": {
      "text/html": [
       "<div>\n",
       "<style scoped>\n",
       "    .dataframe tbody tr th:only-of-type {\n",
       "        vertical-align: middle;\n",
       "    }\n",
       "\n",
       "    .dataframe tbody tr th {\n",
       "        vertical-align: top;\n",
       "    }\n",
       "\n",
       "    .dataframe thead th {\n",
       "        text-align: right;\n",
       "    }\n",
       "</style>\n",
       "<table border=\"1\" class=\"dataframe\">\n",
       "  <thead>\n",
       "    <tr style=\"text-align: right;\">\n",
       "      <th></th>\n",
       "      <th>Product_Category</th>\n",
       "      <th>Sales_Manager</th>\n",
       "      <th>Delivery_Time(Days)</th>\n",
       "    </tr>\n",
       "  </thead>\n",
       "  <tbody>\n",
       "    <tr>\n",
       "      <th>0</th>\n",
       "      <td>Entertainment</td>\n",
       "      <td>Abdul</td>\n",
       "      <td>17.806452</td>\n",
       "    </tr>\n",
       "    <tr>\n",
       "      <th>1</th>\n",
       "      <td>Entertainment</td>\n",
       "      <td>Anthony</td>\n",
       "      <td>17.518135</td>\n",
       "    </tr>\n",
       "    <tr>\n",
       "      <th>2</th>\n",
       "      <td>Entertainment</td>\n",
       "      <td>Emma</td>\n",
       "      <td>17.400000</td>\n",
       "    </tr>\n",
       "    <tr>\n",
       "      <th>3</th>\n",
       "      <td>Entertainment</td>\n",
       "      <td>Jacob</td>\n",
       "      <td>17.524324</td>\n",
       "    </tr>\n",
       "    <tr>\n",
       "      <th>4</th>\n",
       "      <td>Entertainment</td>\n",
       "      <td>John</td>\n",
       "      <td>17.510204</td>\n",
       "    </tr>\n",
       "    <tr>\n",
       "      <th>5</th>\n",
       "      <td>Entertainment</td>\n",
       "      <td>Kristen</td>\n",
       "      <td>17.525510</td>\n",
       "    </tr>\n",
       "    <tr>\n",
       "      <th>6</th>\n",
       "      <td>Entertainment</td>\n",
       "      <td>Maria</td>\n",
       "      <td>17.312139</td>\n",
       "    </tr>\n",
       "    <tr>\n",
       "      <th>7</th>\n",
       "      <td>Entertainment</td>\n",
       "      <td>Pablo</td>\n",
       "      <td>17.247423</td>\n",
       "    </tr>\n",
       "    <tr>\n",
       "      <th>8</th>\n",
       "      <td>Entertainment</td>\n",
       "      <td>Sofia</td>\n",
       "      <td>17.299465</td>\n",
       "    </tr>\n",
       "    <tr>\n",
       "      <th>9</th>\n",
       "      <td>Entertainment</td>\n",
       "      <td>Stella</td>\n",
       "      <td>17.714286</td>\n",
       "    </tr>\n",
       "    <tr>\n",
       "      <th>10</th>\n",
       "      <td>Fashion</td>\n",
       "      <td>Abdul</td>\n",
       "      <td>17.568627</td>\n",
       "    </tr>\n",
       "    <tr>\n",
       "      <th>11</th>\n",
       "      <td>Fashion</td>\n",
       "      <td>Anthony</td>\n",
       "      <td>16.979592</td>\n",
       "    </tr>\n",
       "    <tr>\n",
       "      <th>12</th>\n",
       "      <td>Fashion</td>\n",
       "      <td>Emma</td>\n",
       "      <td>17.467033</td>\n",
       "    </tr>\n",
       "    <tr>\n",
       "      <th>13</th>\n",
       "      <td>Fashion</td>\n",
       "      <td>Jacob</td>\n",
       "      <td>17.386243</td>\n",
       "    </tr>\n",
       "    <tr>\n",
       "      <th>14</th>\n",
       "      <td>Fashion</td>\n",
       "      <td>John</td>\n",
       "      <td>17.347280</td>\n",
       "    </tr>\n",
       "    <tr>\n",
       "      <th>15</th>\n",
       "      <td>Fashion</td>\n",
       "      <td>Kristen</td>\n",
       "      <td>17.373626</td>\n",
       "    </tr>\n",
       "    <tr>\n",
       "      <th>16</th>\n",
       "      <td>Fashion</td>\n",
       "      <td>Maria</td>\n",
       "      <td>17.928230</td>\n",
       "    </tr>\n",
       "    <tr>\n",
       "      <th>17</th>\n",
       "      <td>Fashion</td>\n",
       "      <td>Pablo</td>\n",
       "      <td>17.495283</td>\n",
       "    </tr>\n",
       "    <tr>\n",
       "      <th>18</th>\n",
       "      <td>Fashion</td>\n",
       "      <td>Sofia</td>\n",
       "      <td>17.675978</td>\n",
       "    </tr>\n",
       "    <tr>\n",
       "      <th>19</th>\n",
       "      <td>Fashion</td>\n",
       "      <td>Stella</td>\n",
       "      <td>17.169591</td>\n",
       "    </tr>\n",
       "    <tr>\n",
       "      <th>20</th>\n",
       "      <td>Healthcare</td>\n",
       "      <td>Abdul</td>\n",
       "      <td>17.336957</td>\n",
       "    </tr>\n",
       "    <tr>\n",
       "      <th>21</th>\n",
       "      <td>Healthcare</td>\n",
       "      <td>Anthony</td>\n",
       "      <td>18.202970</td>\n",
       "    </tr>\n",
       "    <tr>\n",
       "      <th>22</th>\n",
       "      <td>Healthcare</td>\n",
       "      <td>Emma</td>\n",
       "      <td>17.542373</td>\n",
       "    </tr>\n",
       "    <tr>\n",
       "      <th>23</th>\n",
       "      <td>Healthcare</td>\n",
       "      <td>Jacob</td>\n",
       "      <td>17.303665</td>\n",
       "    </tr>\n",
       "    <tr>\n",
       "      <th>24</th>\n",
       "      <td>Healthcare</td>\n",
       "      <td>John</td>\n",
       "      <td>17.555556</td>\n",
       "    </tr>\n",
       "    <tr>\n",
       "      <th>25</th>\n",
       "      <td>Healthcare</td>\n",
       "      <td>Kristen</td>\n",
       "      <td>17.053476</td>\n",
       "    </tr>\n",
       "    <tr>\n",
       "      <th>26</th>\n",
       "      <td>Healthcare</td>\n",
       "      <td>Maria</td>\n",
       "      <td>17.584699</td>\n",
       "    </tr>\n",
       "    <tr>\n",
       "      <th>27</th>\n",
       "      <td>Healthcare</td>\n",
       "      <td>Pablo</td>\n",
       "      <td>17.056701</td>\n",
       "    </tr>\n",
       "    <tr>\n",
       "      <th>28</th>\n",
       "      <td>Healthcare</td>\n",
       "      <td>Sofia</td>\n",
       "      <td>18.049774</td>\n",
       "    </tr>\n",
       "    <tr>\n",
       "      <th>29</th>\n",
       "      <td>Healthcare</td>\n",
       "      <td>Stella</td>\n",
       "      <td>17.827225</td>\n",
       "    </tr>\n",
       "    <tr>\n",
       "      <th>30</th>\n",
       "      <td>Home</td>\n",
       "      <td>Abdul</td>\n",
       "      <td>17.888268</td>\n",
       "    </tr>\n",
       "    <tr>\n",
       "      <th>31</th>\n",
       "      <td>Home</td>\n",
       "      <td>Anthony</td>\n",
       "      <td>17.469194</td>\n",
       "    </tr>\n",
       "    <tr>\n",
       "      <th>32</th>\n",
       "      <td>Home</td>\n",
       "      <td>Emma</td>\n",
       "      <td>17.504762</td>\n",
       "    </tr>\n",
       "    <tr>\n",
       "      <th>33</th>\n",
       "      <td>Home</td>\n",
       "      <td>Jacob</td>\n",
       "      <td>17.193237</td>\n",
       "    </tr>\n",
       "    <tr>\n",
       "      <th>34</th>\n",
       "      <td>Home</td>\n",
       "      <td>John</td>\n",
       "      <td>17.685714</td>\n",
       "    </tr>\n",
       "    <tr>\n",
       "      <th>35</th>\n",
       "      <td>Home</td>\n",
       "      <td>Kristen</td>\n",
       "      <td>17.630841</td>\n",
       "    </tr>\n",
       "    <tr>\n",
       "      <th>36</th>\n",
       "      <td>Home</td>\n",
       "      <td>Maria</td>\n",
       "      <td>18.285714</td>\n",
       "    </tr>\n",
       "    <tr>\n",
       "      <th>37</th>\n",
       "      <td>Home</td>\n",
       "      <td>Pablo</td>\n",
       "      <td>17.025126</td>\n",
       "    </tr>\n",
       "    <tr>\n",
       "      <th>38</th>\n",
       "      <td>Home</td>\n",
       "      <td>Sofia</td>\n",
       "      <td>17.730435</td>\n",
       "    </tr>\n",
       "    <tr>\n",
       "      <th>39</th>\n",
       "      <td>Home</td>\n",
       "      <td>Stella</td>\n",
       "      <td>17.615000</td>\n",
       "    </tr>\n",
       "    <tr>\n",
       "      <th>40</th>\n",
       "      <td>Office</td>\n",
       "      <td>Abdul</td>\n",
       "      <td>17.457447</td>\n",
       "    </tr>\n",
       "    <tr>\n",
       "      <th>41</th>\n",
       "      <td>Office</td>\n",
       "      <td>Anthony</td>\n",
       "      <td>17.378641</td>\n",
       "    </tr>\n",
       "    <tr>\n",
       "      <th>42</th>\n",
       "      <td>Office</td>\n",
       "      <td>Emma</td>\n",
       "      <td>17.481651</td>\n",
       "    </tr>\n",
       "    <tr>\n",
       "      <th>43</th>\n",
       "      <td>Office</td>\n",
       "      <td>Jacob</td>\n",
       "      <td>17.408377</td>\n",
       "    </tr>\n",
       "    <tr>\n",
       "      <th>44</th>\n",
       "      <td>Office</td>\n",
       "      <td>John</td>\n",
       "      <td>17.552511</td>\n",
       "    </tr>\n",
       "    <tr>\n",
       "      <th>45</th>\n",
       "      <td>Office</td>\n",
       "      <td>Kristen</td>\n",
       "      <td>17.876238</td>\n",
       "    </tr>\n",
       "    <tr>\n",
       "      <th>46</th>\n",
       "      <td>Office</td>\n",
       "      <td>Maria</td>\n",
       "      <td>18.105556</td>\n",
       "    </tr>\n",
       "    <tr>\n",
       "      <th>47</th>\n",
       "      <td>Office</td>\n",
       "      <td>Pablo</td>\n",
       "      <td>17.449495</td>\n",
       "    </tr>\n",
       "    <tr>\n",
       "      <th>48</th>\n",
       "      <td>Office</td>\n",
       "      <td>Sofia</td>\n",
       "      <td>17.308901</td>\n",
       "    </tr>\n",
       "    <tr>\n",
       "      <th>49</th>\n",
       "      <td>Office</td>\n",
       "      <td>Stella</td>\n",
       "      <td>17.023697</td>\n",
       "    </tr>\n",
       "  </tbody>\n",
       "</table>\n",
       "</div>"
      ],
      "text/plain": [
       "   Product_Category Sales_Manager  Delivery_Time(Days)\n",
       "0     Entertainment         Abdul            17.806452\n",
       "1     Entertainment       Anthony            17.518135\n",
       "2     Entertainment          Emma            17.400000\n",
       "3     Entertainment         Jacob            17.524324\n",
       "4     Entertainment          John            17.510204\n",
       "5     Entertainment       Kristen            17.525510\n",
       "6     Entertainment         Maria            17.312139\n",
       "7     Entertainment         Pablo            17.247423\n",
       "8     Entertainment         Sofia            17.299465\n",
       "9     Entertainment        Stella            17.714286\n",
       "10          Fashion         Abdul            17.568627\n",
       "11          Fashion       Anthony            16.979592\n",
       "12          Fashion          Emma            17.467033\n",
       "13          Fashion         Jacob            17.386243\n",
       "14          Fashion          John            17.347280\n",
       "15          Fashion       Kristen            17.373626\n",
       "16          Fashion         Maria            17.928230\n",
       "17          Fashion         Pablo            17.495283\n",
       "18          Fashion         Sofia            17.675978\n",
       "19          Fashion        Stella            17.169591\n",
       "20       Healthcare         Abdul            17.336957\n",
       "21       Healthcare       Anthony            18.202970\n",
       "22       Healthcare          Emma            17.542373\n",
       "23       Healthcare         Jacob            17.303665\n",
       "24       Healthcare          John            17.555556\n",
       "25       Healthcare       Kristen            17.053476\n",
       "26       Healthcare         Maria            17.584699\n",
       "27       Healthcare         Pablo            17.056701\n",
       "28       Healthcare         Sofia            18.049774\n",
       "29       Healthcare        Stella            17.827225\n",
       "30             Home         Abdul            17.888268\n",
       "31             Home       Anthony            17.469194\n",
       "32             Home          Emma            17.504762\n",
       "33             Home         Jacob            17.193237\n",
       "34             Home          John            17.685714\n",
       "35             Home       Kristen            17.630841\n",
       "36             Home         Maria            18.285714\n",
       "37             Home         Pablo            17.025126\n",
       "38             Home         Sofia            17.730435\n",
       "39             Home        Stella            17.615000\n",
       "40           Office         Abdul            17.457447\n",
       "41           Office       Anthony            17.378641\n",
       "42           Office          Emma            17.481651\n",
       "43           Office         Jacob            17.408377\n",
       "44           Office          John            17.552511\n",
       "45           Office       Kristen            17.876238\n",
       "46           Office         Maria            18.105556\n",
       "47           Office         Pablo            17.449495\n",
       "48           Office         Sofia            17.308901\n",
       "49           Office        Stella            17.023697"
      ]
     },
     "execution_count": 81,
     "metadata": {},
     "output_type": "execute_result"
    }
   ],
   "source": [
    "sales_df.groupby(['Product_Category', 'Sales_Manager'])['Delivery_Time(Days)'].mean().reset_index()"
   ]
  },
  {
   "cell_type": "markdown",
   "id": "8497eccf",
   "metadata": {
    "papermill": {
     "duration": 0.058372,
     "end_time": "2022-12-29T21:49:45.280770",
     "exception": false,
     "start_time": "2022-12-29T21:49:45.222398",
     "status": "completed"
    },
    "tags": []
   },
   "source": [
    "Grouping in pandas can work with multiple aggregate functions. For example, imagine that we want to get the sum, mean, median, standard deviation,and maximum `Shipping_Cost(USD)` for every `Product_Category`"
   ]
  },
  {
   "cell_type": "code",
   "execution_count": 82,
   "id": "72e3428e",
   "metadata": {
    "execution": {
     "iopub.execute_input": "2022-12-29T21:49:45.399663Z",
     "iopub.status.busy": "2022-12-29T21:49:45.398960Z",
     "iopub.status.idle": "2022-12-29T21:49:45.423934Z",
     "shell.execute_reply": "2022-12-29T21:49:45.422804Z"
    },
    "papermill": {
     "duration": 0.087437,
     "end_time": "2022-12-29T21:49:45.426574",
     "exception": false,
     "start_time": "2022-12-29T21:49:45.339137",
     "status": "completed"
    },
    "tags": []
   },
   "outputs": [
    {
     "data": {
      "text/html": [
       "<div>\n",
       "<style scoped>\n",
       "    .dataframe tbody tr th:only-of-type {\n",
       "        vertical-align: middle;\n",
       "    }\n",
       "\n",
       "    .dataframe tbody tr th {\n",
       "        vertical-align: top;\n",
       "    }\n",
       "\n",
       "    .dataframe thead th {\n",
       "        text-align: right;\n",
       "    }\n",
       "</style>\n",
       "<table border=\"1\" class=\"dataframe\">\n",
       "  <thead>\n",
       "    <tr style=\"text-align: right;\">\n",
       "      <th></th>\n",
       "      <th>Product_Category</th>\n",
       "      <th>sum</th>\n",
       "      <th>mean</th>\n",
       "      <th>median</th>\n",
       "      <th>std</th>\n",
       "      <th>max</th>\n",
       "      <th>len</th>\n",
       "    </tr>\n",
       "  </thead>\n",
       "  <tbody>\n",
       "    <tr>\n",
       "      <th>0</th>\n",
       "      <td>Entertainment</td>\n",
       "      <td>54277</td>\n",
       "      <td>27.579776</td>\n",
       "      <td>28.0</td>\n",
       "      <td>4.646282</td>\n",
       "      <td>35</td>\n",
       "      <td>1968</td>\n",
       "    </tr>\n",
       "    <tr>\n",
       "      <th>1</th>\n",
       "      <td>Fashion</td>\n",
       "      <td>54568</td>\n",
       "      <td>27.685439</td>\n",
       "      <td>28.0</td>\n",
       "      <td>4.603958</td>\n",
       "      <td>35</td>\n",
       "      <td>1971</td>\n",
       "    </tr>\n",
       "    <tr>\n",
       "      <th>2</th>\n",
       "      <td>Healthcare</td>\n",
       "      <td>53745</td>\n",
       "      <td>27.519201</td>\n",
       "      <td>27.0</td>\n",
       "      <td>4.610302</td>\n",
       "      <td>35</td>\n",
       "      <td>1953</td>\n",
       "    </tr>\n",
       "    <tr>\n",
       "      <th>3</th>\n",
       "      <td>Home</td>\n",
       "      <td>56728</td>\n",
       "      <td>27.537864</td>\n",
       "      <td>28.0</td>\n",
       "      <td>4.550939</td>\n",
       "      <td>35</td>\n",
       "      <td>2060</td>\n",
       "    </tr>\n",
       "    <tr>\n",
       "      <th>4</th>\n",
       "      <td>Office</td>\n",
       "      <td>55347</td>\n",
       "      <td>27.522128</td>\n",
       "      <td>28.0</td>\n",
       "      <td>4.642962</td>\n",
       "      <td>35</td>\n",
       "      <td>2011</td>\n",
       "    </tr>\n",
       "  </tbody>\n",
       "</table>\n",
       "</div>"
      ],
      "text/plain": [
       "  Product_Category    sum       mean  median       std  max   len\n",
       "0    Entertainment  54277  27.579776    28.0  4.646282   35  1968\n",
       "1          Fashion  54568  27.685439    28.0  4.603958   35  1971\n",
       "2       Healthcare  53745  27.519201    27.0  4.610302   35  1953\n",
       "3             Home  56728  27.537864    28.0  4.550939   35  2060\n",
       "4           Office  55347  27.522128    28.0  4.642962   35  2011"
      ]
     },
     "execution_count": 82,
     "metadata": {},
     "output_type": "execute_result"
    }
   ],
   "source": [
    "sales_df.groupby(\"Product_Category\")['Shipping_Cost(USD)'].agg([np.sum, np.mean, np.median, np.std, max, len]).reset_index()"
   ]
  },
  {
   "cell_type": "markdown",
   "id": "15de3db6",
   "metadata": {
    "papermill": {
     "duration": 0.058447,
     "end_time": "2022-12-29T21:49:45.544259",
     "exception": false,
     "start_time": "2022-12-29T21:49:45.485812",
     "status": "completed"
    },
    "tags": []
   },
   "source": [
    "`.agg()` function can add a lot of flexiability when aggregating using different aggregate functions. Check [documentation](https://pandas.pydata.org/docs/reference/api/pandas.DataFrame.agg.html)"
   ]
  },
  {
   "cell_type": "markdown",
   "id": "59c78c5b",
   "metadata": {
    "papermill": {
     "duration": 0.058915,
     "end_time": "2022-12-29T21:49:45.662867",
     "exception": false,
     "start_time": "2022-12-29T21:49:45.603952",
     "status": "completed"
    },
    "tags": []
   },
   "source": [
    "We can use `.agg()` to multiple columns. For example, we want to get the median of `Shipping_Cost(USD)` and the standard deviation of `Quantity` for every `Product_Category`. \n",
    "\n",
    "Lets see how!"
   ]
  },
  {
   "cell_type": "code",
   "execution_count": 83,
   "id": "0d3fe006",
   "metadata": {
    "execution": {
     "iopub.execute_input": "2022-12-29T21:49:45.784256Z",
     "iopub.status.busy": "2022-12-29T21:49:45.783823Z",
     "iopub.status.idle": "2022-12-29T21:49:45.805704Z",
     "shell.execute_reply": "2022-12-29T21:49:45.804503Z"
    },
    "papermill": {
     "duration": 0.086834,
     "end_time": "2022-12-29T21:49:45.808234",
     "exception": false,
     "start_time": "2022-12-29T21:49:45.721400",
     "status": "completed"
    },
    "tags": []
   },
   "outputs": [
    {
     "data": {
      "text/html": [
       "<div>\n",
       "<style scoped>\n",
       "    .dataframe tbody tr th:only-of-type {\n",
       "        vertical-align: middle;\n",
       "    }\n",
       "\n",
       "    .dataframe tbody tr th {\n",
       "        vertical-align: top;\n",
       "    }\n",
       "\n",
       "    .dataframe thead tr th {\n",
       "        text-align: left;\n",
       "    }\n",
       "</style>\n",
       "<table border=\"1\" class=\"dataframe\">\n",
       "  <thead>\n",
       "    <tr>\n",
       "      <th></th>\n",
       "      <th>Product_Category</th>\n",
       "      <th>Shipping_Cost(USD)</th>\n",
       "      <th>Quantity</th>\n",
       "    </tr>\n",
       "    <tr>\n",
       "      <th></th>\n",
       "      <th></th>\n",
       "      <th>mean</th>\n",
       "      <th>std</th>\n",
       "    </tr>\n",
       "  </thead>\n",
       "  <tbody>\n",
       "    <tr>\n",
       "      <th>0</th>\n",
       "      <td>Entertainment</td>\n",
       "      <td>27.579776</td>\n",
       "      <td>29.184244</td>\n",
       "    </tr>\n",
       "    <tr>\n",
       "      <th>1</th>\n",
       "      <td>Fashion</td>\n",
       "      <td>27.685439</td>\n",
       "      <td>28.687947</td>\n",
       "    </tr>\n",
       "    <tr>\n",
       "      <th>2</th>\n",
       "      <td>Healthcare</td>\n",
       "      <td>27.519201</td>\n",
       "      <td>29.265929</td>\n",
       "    </tr>\n",
       "    <tr>\n",
       "      <th>3</th>\n",
       "      <td>Home</td>\n",
       "      <td>27.537864</td>\n",
       "      <td>28.917479</td>\n",
       "    </tr>\n",
       "    <tr>\n",
       "      <th>4</th>\n",
       "      <td>Office</td>\n",
       "      <td>27.522128</td>\n",
       "      <td>28.983277</td>\n",
       "    </tr>\n",
       "  </tbody>\n",
       "</table>\n",
       "</div>"
      ],
      "text/plain": [
       "  Product_Category Shipping_Cost(USD)   Quantity\n",
       "                                 mean        std\n",
       "0    Entertainment          27.579776  29.184244\n",
       "1          Fashion          27.685439  28.687947\n",
       "2       Healthcare          27.519201  29.265929\n",
       "3             Home          27.537864  28.917479\n",
       "4           Office          27.522128  28.983277"
      ]
     },
     "execution_count": 83,
     "metadata": {},
     "output_type": "execute_result"
    }
   ],
   "source": [
    "# aggregates dict\n",
    "f = {'Shipping_Cost(USD)': [np.mean], 'Quantity': [np.std]}\n",
    "# pass this dict to GroupBy\n",
    "sales_df.groupby(\"Product_Category\").agg(f).reset_index()"
   ]
  },
  {
   "cell_type": "markdown",
   "id": "fc692598",
   "metadata": {
    "papermill": {
     "duration": 0.059419,
     "end_time": "2022-12-29T21:49:45.927256",
     "exception": false,
     "start_time": "2022-12-29T21:49:45.867837",
     "status": "completed"
    },
    "tags": []
   },
   "source": [
    "As you can see, different aggreagate funtions can be applied to different columns!"
   ]
  },
  {
   "cell_type": "markdown",
   "id": "2a0861f1",
   "metadata": {
    "papermill": {
     "duration": 0.060701,
     "end_time": "2022-12-29T21:49:46.046655",
     "exception": false,
     "start_time": "2022-12-29T21:49:45.985954",
     "status": "completed"
    },
    "tags": []
   },
   "source": [
    "In additon to that, some useful funtions can be used with `GroupBy` for example you can get the first and last row in each category. Lets see how!"
   ]
  },
  {
   "cell_type": "code",
   "execution_count": 84,
   "id": "22ce1dbf",
   "metadata": {
    "execution": {
     "iopub.execute_input": "2022-12-29T21:49:46.168323Z",
     "iopub.status.busy": "2022-12-29T21:49:46.167895Z",
     "iopub.status.idle": "2022-12-29T21:49:46.194147Z",
     "shell.execute_reply": "2022-12-29T21:49:46.193025Z"
    },
    "papermill": {
     "duration": 0.089482,
     "end_time": "2022-12-29T21:49:46.196572",
     "exception": false,
     "start_time": "2022-12-29T21:49:46.107090",
     "status": "completed"
    },
    "tags": []
   },
   "outputs": [
    {
     "data": {
      "text/html": [
       "<div>\n",
       "<style scoped>\n",
       "    .dataframe tbody tr th:only-of-type {\n",
       "        vertical-align: middle;\n",
       "    }\n",
       "\n",
       "    .dataframe tbody tr th {\n",
       "        vertical-align: top;\n",
       "    }\n",
       "\n",
       "    .dataframe thead th {\n",
       "        text-align: right;\n",
       "    }\n",
       "</style>\n",
       "<table border=\"1\" class=\"dataframe\">\n",
       "  <thead>\n",
       "    <tr style=\"text-align: right;\">\n",
       "      <th></th>\n",
       "      <th>OrderID</th>\n",
       "      <th>Quantity</th>\n",
       "      <th>UnitPrice(USD)</th>\n",
       "      <th>Status</th>\n",
       "      <th>OrderDate</th>\n",
       "      <th>Sales_Manager</th>\n",
       "      <th>Shipping_Cost(USD)</th>\n",
       "      <th>Delivery_Time(Days)</th>\n",
       "      <th>Shipping_Address</th>\n",
       "      <th>Product_Code</th>\n",
       "      <th>OrderCode</th>\n",
       "    </tr>\n",
       "    <tr>\n",
       "      <th>Product_Category</th>\n",
       "      <th></th>\n",
       "      <th></th>\n",
       "      <th></th>\n",
       "      <th></th>\n",
       "      <th></th>\n",
       "      <th></th>\n",
       "      <th></th>\n",
       "      <th></th>\n",
       "      <th></th>\n",
       "      <th></th>\n",
       "      <th></th>\n",
       "    </tr>\n",
       "  </thead>\n",
       "  <tbody>\n",
       "    <tr>\n",
       "      <th>Entertainment</th>\n",
       "      <td>4.934810e+18</td>\n",
       "      <td>51</td>\n",
       "      <td>204</td>\n",
       "      <td>Not Delivered</td>\n",
       "      <td>11/13/2021</td>\n",
       "      <td>Abdul</td>\n",
       "      <td>32</td>\n",
       "      <td>18.0</td>\n",
       "      <td>UK</td>\n",
       "      <td>ENT-188</td>\n",
       "      <td>445113</td>\n",
       "    </tr>\n",
       "    <tr>\n",
       "      <th>Fashion</th>\n",
       "      <td>1.112610e+18</td>\n",
       "      <td>33</td>\n",
       "      <td>133</td>\n",
       "      <td>Not Shipped</td>\n",
       "      <td>7/30/2021</td>\n",
       "      <td>Abdul</td>\n",
       "      <td>34</td>\n",
       "      <td>24.0</td>\n",
       "      <td>USA</td>\n",
       "      <td>F-555</td>\n",
       "      <td>444007</td>\n",
       "    </tr>\n",
       "    <tr>\n",
       "      <th>Healthcare</th>\n",
       "      <td>2.951110e+18</td>\n",
       "      <td>92</td>\n",
       "      <td>238</td>\n",
       "      <td>Not Delivered</td>\n",
       "      <td>8/8/2021</td>\n",
       "      <td>Pablo</td>\n",
       "      <td>21</td>\n",
       "      <td>25.0</td>\n",
       "      <td>Singapore</td>\n",
       "      <td>HC-188</td>\n",
       "      <td>444116</td>\n",
       "    </tr>\n",
       "    <tr>\n",
       "      <th>Home</th>\n",
       "      <td>4.337210e+18</td>\n",
       "      <td>57</td>\n",
       "      <td>226</td>\n",
       "      <td>Not Shipped</td>\n",
       "      <td>9/27/2021</td>\n",
       "      <td>John</td>\n",
       "      <td>24</td>\n",
       "      <td>14.0</td>\n",
       "      <td>UK</td>\n",
       "      <td>H-555</td>\n",
       "      <td>444666</td>\n",
       "    </tr>\n",
       "    <tr>\n",
       "      <th>Office</th>\n",
       "      <td>2.181910e+18</td>\n",
       "      <td>61</td>\n",
       "      <td>136</td>\n",
       "      <td>Not Delivered</td>\n",
       "      <td>10/3/2021</td>\n",
       "      <td>Pablo</td>\n",
       "      <td>34</td>\n",
       "      <td>14.0</td>\n",
       "      <td>UK</td>\n",
       "      <td>O-555</td>\n",
       "      <td>444772</td>\n",
       "    </tr>\n",
       "  </tbody>\n",
       "</table>\n",
       "</div>"
      ],
      "text/plain": [
       "                       OrderID  Quantity  UnitPrice(USD)         Status  \\\n",
       "Product_Category                                                          \n",
       "Entertainment     4.934810e+18        51             204  Not Delivered   \n",
       "Fashion           1.112610e+18        33             133    Not Shipped   \n",
       "Healthcare        2.951110e+18        92             238  Not Delivered   \n",
       "Home              4.337210e+18        57             226    Not Shipped   \n",
       "Office            2.181910e+18        61             136  Not Delivered   \n",
       "\n",
       "                   OrderDate Sales_Manager  Shipping_Cost(USD)  \\\n",
       "Product_Category                                                 \n",
       "Entertainment     11/13/2021         Abdul                  32   \n",
       "Fashion            7/30/2021         Abdul                  34   \n",
       "Healthcare          8/8/2021         Pablo                  21   \n",
       "Home               9/27/2021          John                  24   \n",
       "Office             10/3/2021         Pablo                  34   \n",
       "\n",
       "                  Delivery_Time(Days) Shipping_Address Product_Code  OrderCode  \n",
       "Product_Category                                                                \n",
       "Entertainment                    18.0               UK      ENT-188     445113  \n",
       "Fashion                          24.0              USA        F-555     444007  \n",
       "Healthcare                       25.0        Singapore       HC-188     444116  \n",
       "Home                             14.0               UK        H-555     444666  \n",
       "Office                           14.0               UK        O-555     444772  "
      ]
     },
     "execution_count": 84,
     "metadata": {},
     "output_type": "execute_result"
    }
   ],
   "source": [
    "sales_df.groupby(\"Product_Category\").first()"
   ]
  },
  {
   "cell_type": "markdown",
   "id": "503f0734",
   "metadata": {
    "papermill": {
     "duration": 0.060824,
     "end_time": "2022-12-29T21:49:46.320112",
     "exception": false,
     "start_time": "2022-12-29T21:49:46.259288",
     "status": "completed"
    },
    "tags": []
   },
   "source": [
    "This is similar to last function. "
   ]
  },
  {
   "cell_type": "code",
   "execution_count": 85,
   "id": "980d9366",
   "metadata": {
    "execution": {
     "iopub.execute_input": "2022-12-29T21:49:46.445850Z",
     "iopub.status.busy": "2022-12-29T21:49:46.445417Z",
     "iopub.status.idle": "2022-12-29T21:49:46.470337Z",
     "shell.execute_reply": "2022-12-29T21:49:46.469180Z"
    },
    "papermill": {
     "duration": 0.090462,
     "end_time": "2022-12-29T21:49:46.472869",
     "exception": false,
     "start_time": "2022-12-29T21:49:46.382407",
     "status": "completed"
    },
    "tags": []
   },
   "outputs": [
    {
     "data": {
      "text/html": [
       "<div>\n",
       "<style scoped>\n",
       "    .dataframe tbody tr th:only-of-type {\n",
       "        vertical-align: middle;\n",
       "    }\n",
       "\n",
       "    .dataframe tbody tr th {\n",
       "        vertical-align: top;\n",
       "    }\n",
       "\n",
       "    .dataframe thead th {\n",
       "        text-align: right;\n",
       "    }\n",
       "</style>\n",
       "<table border=\"1\" class=\"dataframe\">\n",
       "  <thead>\n",
       "    <tr style=\"text-align: right;\">\n",
       "      <th></th>\n",
       "      <th>OrderID</th>\n",
       "      <th>Quantity</th>\n",
       "      <th>UnitPrice(USD)</th>\n",
       "      <th>Status</th>\n",
       "      <th>OrderDate</th>\n",
       "      <th>Sales_Manager</th>\n",
       "      <th>Shipping_Cost(USD)</th>\n",
       "      <th>Delivery_Time(Days)</th>\n",
       "      <th>Shipping_Address</th>\n",
       "      <th>Product_Code</th>\n",
       "      <th>OrderCode</th>\n",
       "    </tr>\n",
       "    <tr>\n",
       "      <th>Product_Category</th>\n",
       "      <th></th>\n",
       "      <th></th>\n",
       "      <th></th>\n",
       "      <th></th>\n",
       "      <th></th>\n",
       "      <th></th>\n",
       "      <th></th>\n",
       "      <th></th>\n",
       "      <th></th>\n",
       "      <th></th>\n",
       "      <th></th>\n",
       "    </tr>\n",
       "  </thead>\n",
       "  <tbody>\n",
       "    <tr>\n",
       "      <th>Entertainment</th>\n",
       "      <td>1.468010e+18</td>\n",
       "      <td>53</td>\n",
       "      <td>229</td>\n",
       "      <td>Delivered</td>\n",
       "      <td>7/12/2021</td>\n",
       "      <td>Anthony</td>\n",
       "      <td>25</td>\n",
       "      <td>12.0</td>\n",
       "      <td>Singapore</td>\n",
       "      <td>ENT-630</td>\n",
       "      <td>443889</td>\n",
       "    </tr>\n",
       "    <tr>\n",
       "      <th>Fashion</th>\n",
       "      <td>2.281610e+18</td>\n",
       "      <td>18</td>\n",
       "      <td>117</td>\n",
       "      <td>Shipped</td>\n",
       "      <td>12/23/2021</td>\n",
       "      <td>Stella</td>\n",
       "      <td>22</td>\n",
       "      <td>24.0</td>\n",
       "      <td>Italy</td>\n",
       "      <td>F-101</td>\n",
       "      <td>445553</td>\n",
       "    </tr>\n",
       "    <tr>\n",
       "      <th>Healthcare</th>\n",
       "      <td>1.847410e+18</td>\n",
       "      <td>37</td>\n",
       "      <td>135</td>\n",
       "      <td>Shipped</td>\n",
       "      <td>10/3/2021</td>\n",
       "      <td>Maria</td>\n",
       "      <td>30</td>\n",
       "      <td>23.0</td>\n",
       "      <td>China</td>\n",
       "      <td>HC-901</td>\n",
       "      <td>444772</td>\n",
       "    </tr>\n",
       "    <tr>\n",
       "      <th>Home</th>\n",
       "      <td>2.301610e+18</td>\n",
       "      <td>75</td>\n",
       "      <td>201</td>\n",
       "      <td>Not Delivered</td>\n",
       "      <td>10/16/2021</td>\n",
       "      <td>Sofia</td>\n",
       "      <td>20</td>\n",
       "      <td>14.0</td>\n",
       "      <td>Kenya</td>\n",
       "      <td>H-555</td>\n",
       "      <td>444885</td>\n",
       "    </tr>\n",
       "    <tr>\n",
       "      <th>Office</th>\n",
       "      <td>2.385710e+18</td>\n",
       "      <td>81</td>\n",
       "      <td>207</td>\n",
       "      <td>Delivered</td>\n",
       "      <td>11/13/2021</td>\n",
       "      <td>Emma</td>\n",
       "      <td>29</td>\n",
       "      <td>18.0</td>\n",
       "      <td>USA</td>\n",
       "      <td>O-203</td>\n",
       "      <td>445113</td>\n",
       "    </tr>\n",
       "  </tbody>\n",
       "</table>\n",
       "</div>"
      ],
      "text/plain": [
       "                       OrderID  Quantity  UnitPrice(USD)         Status  \\\n",
       "Product_Category                                                          \n",
       "Entertainment     1.468010e+18        53             229      Delivered   \n",
       "Fashion           2.281610e+18        18             117        Shipped   \n",
       "Healthcare        1.847410e+18        37             135        Shipped   \n",
       "Home              2.301610e+18        75             201  Not Delivered   \n",
       "Office            2.385710e+18        81             207      Delivered   \n",
       "\n",
       "                   OrderDate Sales_Manager  Shipping_Cost(USD)  \\\n",
       "Product_Category                                                 \n",
       "Entertainment      7/12/2021       Anthony                  25   \n",
       "Fashion           12/23/2021        Stella                  22   \n",
       "Healthcare         10/3/2021         Maria                  30   \n",
       "Home              10/16/2021         Sofia                  20   \n",
       "Office            11/13/2021          Emma                  29   \n",
       "\n",
       "                  Delivery_Time(Days) Shipping_Address Product_Code  OrderCode  \n",
       "Product_Category                                                                \n",
       "Entertainment                    12.0        Singapore      ENT-630     443889  \n",
       "Fashion                          24.0            Italy        F-101     445553  \n",
       "Healthcare                       23.0            China       HC-901     444772  \n",
       "Home                             14.0            Kenya        H-555     444885  \n",
       "Office                           18.0              USA        O-203     445113  "
      ]
     },
     "execution_count": 85,
     "metadata": {},
     "output_type": "execute_result"
    }
   ],
   "source": [
    "sales_df.groupby(\"Product_Category\").last()"
   ]
  },
  {
   "cell_type": "markdown",
   "id": "4c5f85a0",
   "metadata": {
    "papermill": {
     "duration": 0.06159,
     "end_time": "2022-12-29T21:49:46.596571",
     "exception": false,
     "start_time": "2022-12-29T21:49:46.534981",
     "status": "completed"
    },
    "tags": []
   },
   "source": [
    "Interstingly, you can select to view specific row of each group using `nth()` function. Lets see how!"
   ]
  },
  {
   "cell_type": "code",
   "execution_count": 86,
   "id": "77378af6",
   "metadata": {
    "execution": {
     "iopub.execute_input": "2022-12-29T21:49:46.722002Z",
     "iopub.status.busy": "2022-12-29T21:49:46.721579Z",
     "iopub.status.idle": "2022-12-29T21:49:46.744320Z",
     "shell.execute_reply": "2022-12-29T21:49:46.743357Z"
    },
    "papermill": {
     "duration": 0.088258,
     "end_time": "2022-12-29T21:49:46.746530",
     "exception": false,
     "start_time": "2022-12-29T21:49:46.658272",
     "status": "completed"
    },
    "tags": []
   },
   "outputs": [
    {
     "data": {
      "text/html": [
       "<div>\n",
       "<style scoped>\n",
       "    .dataframe tbody tr th:only-of-type {\n",
       "        vertical-align: middle;\n",
       "    }\n",
       "\n",
       "    .dataframe tbody tr th {\n",
       "        vertical-align: top;\n",
       "    }\n",
       "\n",
       "    .dataframe thead th {\n",
       "        text-align: right;\n",
       "    }\n",
       "</style>\n",
       "<table border=\"1\" class=\"dataframe\">\n",
       "  <thead>\n",
       "    <tr style=\"text-align: right;\">\n",
       "      <th></th>\n",
       "      <th>OrderID</th>\n",
       "      <th>Quantity</th>\n",
       "      <th>UnitPrice(USD)</th>\n",
       "      <th>Status</th>\n",
       "      <th>OrderDate</th>\n",
       "      <th>Sales_Manager</th>\n",
       "      <th>Shipping_Cost(USD)</th>\n",
       "      <th>Delivery_Time(Days)</th>\n",
       "      <th>Shipping_Address</th>\n",
       "      <th>Product_Code</th>\n",
       "      <th>OrderCode</th>\n",
       "    </tr>\n",
       "    <tr>\n",
       "      <th>Product_Category</th>\n",
       "      <th></th>\n",
       "      <th></th>\n",
       "      <th></th>\n",
       "      <th></th>\n",
       "      <th></th>\n",
       "      <th></th>\n",
       "      <th></th>\n",
       "      <th></th>\n",
       "      <th></th>\n",
       "      <th></th>\n",
       "      <th></th>\n",
       "    </tr>\n",
       "  </thead>\n",
       "  <tbody>\n",
       "    <tr>\n",
       "      <th>Entertainment</th>\n",
       "      <td>4.030410e+18</td>\n",
       "      <td>21</td>\n",
       "      <td>123</td>\n",
       "      <td>Not Delivered</td>\n",
       "      <td>10/10/2021</td>\n",
       "      <td>Kristen</td>\n",
       "      <td>30</td>\n",
       "      <td>15.0</td>\n",
       "      <td>India</td>\n",
       "      <td>ENT-188</td>\n",
       "      <td>444779</td>\n",
       "    </tr>\n",
       "    <tr>\n",
       "      <th>Fashion</th>\n",
       "      <td>2.804110e+18</td>\n",
       "      <td>31</td>\n",
       "      <td>163</td>\n",
       "      <td>Not Shipped</td>\n",
       "      <td>12/23/2021</td>\n",
       "      <td>Abdul</td>\n",
       "      <td>34</td>\n",
       "      <td>16.0</td>\n",
       "      <td>Kenya</td>\n",
       "      <td>F-901</td>\n",
       "      <td>445553</td>\n",
       "    </tr>\n",
       "    <tr>\n",
       "      <th>Healthcare</th>\n",
       "      <td>4.276410e+18</td>\n",
       "      <td>83</td>\n",
       "      <td>224</td>\n",
       "      <td>Not Delivered</td>\n",
       "      <td>7/10/2021</td>\n",
       "      <td>Sofia</td>\n",
       "      <td>24</td>\n",
       "      <td>24.0</td>\n",
       "      <td>Kenya</td>\n",
       "      <td>HC-203</td>\n",
       "      <td>443887</td>\n",
       "    </tr>\n",
       "    <tr>\n",
       "      <th>Home</th>\n",
       "      <td>3.105110e+18</td>\n",
       "      <td>79</td>\n",
       "      <td>213</td>\n",
       "      <td>Delivered</td>\n",
       "      <td>10/26/2021</td>\n",
       "      <td>Abdul</td>\n",
       "      <td>27</td>\n",
       "      <td>14.0</td>\n",
       "      <td>China</td>\n",
       "      <td>H-203</td>\n",
       "      <td>444995</td>\n",
       "    </tr>\n",
       "    <tr>\n",
       "      <th>Office</th>\n",
       "      <td>1.444810e+18</td>\n",
       "      <td>5</td>\n",
       "      <td>119</td>\n",
       "      <td>Not Shipped</td>\n",
       "      <td>10/13/2021</td>\n",
       "      <td>Stella</td>\n",
       "      <td>33</td>\n",
       "      <td>20.0</td>\n",
       "      <td>India</td>\n",
       "      <td>O-555</td>\n",
       "      <td>444882</td>\n",
       "    </tr>\n",
       "  </tbody>\n",
       "</table>\n",
       "</div>"
      ],
      "text/plain": [
       "                       OrderID  Quantity  UnitPrice(USD)         Status  \\\n",
       "Product_Category                                                          \n",
       "Entertainment     4.030410e+18        21             123  Not Delivered   \n",
       "Fashion           2.804110e+18        31             163    Not Shipped   \n",
       "Healthcare        4.276410e+18        83             224  Not Delivered   \n",
       "Home              3.105110e+18        79             213      Delivered   \n",
       "Office            1.444810e+18         5             119    Not Shipped   \n",
       "\n",
       "                   OrderDate Sales_Manager  Shipping_Cost(USD)  \\\n",
       "Product_Category                                                 \n",
       "Entertainment     10/10/2021       Kristen                  30   \n",
       "Fashion           12/23/2021         Abdul                  34   \n",
       "Healthcare         7/10/2021         Sofia                  24   \n",
       "Home              10/26/2021         Abdul                  27   \n",
       "Office            10/13/2021        Stella                  33   \n",
       "\n",
       "                  Delivery_Time(Days) Shipping_Address Product_Code  OrderCode  \n",
       "Product_Category                                                                \n",
       "Entertainment                    15.0            India      ENT-188     444779  \n",
       "Fashion                          16.0            Kenya        F-901     445553  \n",
       "Healthcare                       24.0            Kenya       HC-203     443887  \n",
       "Home                             14.0            China        H-203     444995  \n",
       "Office                           20.0            India        O-555     444882  "
      ]
     },
     "execution_count": 86,
     "metadata": {},
     "output_type": "execute_result"
    }
   ],
   "source": [
    "sales_df.groupby(\"Product_Category\").nth(3)"
   ]
  },
  {
   "cell_type": "markdown",
   "id": "04f1f035",
   "metadata": {
    "papermill": {
     "duration": 0.061567,
     "end_time": "2022-12-29T21:49:46.869901",
     "exception": false,
     "start_time": "2022-12-29T21:49:46.808334",
     "status": "completed"
    },
    "tags": []
   },
   "source": [
    "We can find the `size()` of each group which is the number of rows in each `Product_Category`"
   ]
  },
  {
   "cell_type": "code",
   "execution_count": 87,
   "id": "9456d2a7",
   "metadata": {
    "execution": {
     "iopub.execute_input": "2022-12-29T21:49:46.996843Z",
     "iopub.status.busy": "2022-12-29T21:49:46.996378Z",
     "iopub.status.idle": "2022-12-29T21:49:47.009165Z",
     "shell.execute_reply": "2022-12-29T21:49:47.008306Z"
    },
    "papermill": {
     "duration": 0.079868,
     "end_time": "2022-12-29T21:49:47.011597",
     "exception": false,
     "start_time": "2022-12-29T21:49:46.931729",
     "status": "completed"
    },
    "tags": []
   },
   "outputs": [
    {
     "data": {
      "text/html": [
       "<div>\n",
       "<style scoped>\n",
       "    .dataframe tbody tr th:only-of-type {\n",
       "        vertical-align: middle;\n",
       "    }\n",
       "\n",
       "    .dataframe tbody tr th {\n",
       "        vertical-align: top;\n",
       "    }\n",
       "\n",
       "    .dataframe thead th {\n",
       "        text-align: right;\n",
       "    }\n",
       "</style>\n",
       "<table border=\"1\" class=\"dataframe\">\n",
       "  <thead>\n",
       "    <tr style=\"text-align: right;\">\n",
       "      <th></th>\n",
       "      <th>Product_Category</th>\n",
       "      <th>0</th>\n",
       "    </tr>\n",
       "  </thead>\n",
       "  <tbody>\n",
       "    <tr>\n",
       "      <th>0</th>\n",
       "      <td>Entertainment</td>\n",
       "      <td>1968</td>\n",
       "    </tr>\n",
       "    <tr>\n",
       "      <th>1</th>\n",
       "      <td>Fashion</td>\n",
       "      <td>1971</td>\n",
       "    </tr>\n",
       "    <tr>\n",
       "      <th>2</th>\n",
       "      <td>Healthcare</td>\n",
       "      <td>1953</td>\n",
       "    </tr>\n",
       "    <tr>\n",
       "      <th>3</th>\n",
       "      <td>Home</td>\n",
       "      <td>2060</td>\n",
       "    </tr>\n",
       "    <tr>\n",
       "      <th>4</th>\n",
       "      <td>Office</td>\n",
       "      <td>2011</td>\n",
       "    </tr>\n",
       "  </tbody>\n",
       "</table>\n",
       "</div>"
      ],
      "text/plain": [
       "  Product_Category     0\n",
       "0    Entertainment  1968\n",
       "1          Fashion  1971\n",
       "2       Healthcare  1953\n",
       "3             Home  2060\n",
       "4           Office  2011"
      ]
     },
     "execution_count": 87,
     "metadata": {},
     "output_type": "execute_result"
    }
   ],
   "source": [
    "sales_df.groupby(\"Product_Category\").size().reset_index()"
   ]
  },
  {
   "cell_type": "markdown",
   "id": "3b4a5139",
   "metadata": {
    "papermill": {
     "duration": 0.077554,
     "end_time": "2022-12-29T21:49:47.153187",
     "exception": false,
     "start_time": "2022-12-29T21:49:47.075633",
     "status": "completed"
    },
    "tags": []
   },
   "source": [
    "Also, we can use the `count()` for the same purpose. "
   ]
  },
  {
   "cell_type": "code",
   "execution_count": 88,
   "id": "378085b0",
   "metadata": {
    "execution": {
     "iopub.execute_input": "2022-12-29T21:49:47.287942Z",
     "iopub.status.busy": "2022-12-29T21:49:47.287169Z",
     "iopub.status.idle": "2022-12-29T21:49:47.315385Z",
     "shell.execute_reply": "2022-12-29T21:49:47.314208Z"
    },
    "papermill": {
     "duration": 0.095789,
     "end_time": "2022-12-29T21:49:47.317997",
     "exception": false,
     "start_time": "2022-12-29T21:49:47.222208",
     "status": "completed"
    },
    "tags": []
   },
   "outputs": [
    {
     "data": {
      "text/html": [
       "<div>\n",
       "<style scoped>\n",
       "    .dataframe tbody tr th:only-of-type {\n",
       "        vertical-align: middle;\n",
       "    }\n",
       "\n",
       "    .dataframe tbody tr th {\n",
       "        vertical-align: top;\n",
       "    }\n",
       "\n",
       "    .dataframe thead th {\n",
       "        text-align: right;\n",
       "    }\n",
       "</style>\n",
       "<table border=\"1\" class=\"dataframe\">\n",
       "  <thead>\n",
       "    <tr style=\"text-align: right;\">\n",
       "      <th></th>\n",
       "      <th>Product_Category</th>\n",
       "      <th>OrderID</th>\n",
       "      <th>Quantity</th>\n",
       "      <th>UnitPrice(USD)</th>\n",
       "      <th>Status</th>\n",
       "      <th>OrderDate</th>\n",
       "      <th>Sales_Manager</th>\n",
       "      <th>Shipping_Cost(USD)</th>\n",
       "      <th>Delivery_Time(Days)</th>\n",
       "      <th>Shipping_Address</th>\n",
       "      <th>Product_Code</th>\n",
       "      <th>OrderCode</th>\n",
       "    </tr>\n",
       "  </thead>\n",
       "  <tbody>\n",
       "    <tr>\n",
       "      <th>0</th>\n",
       "      <td>Entertainment</td>\n",
       "      <td>1968</td>\n",
       "      <td>1968</td>\n",
       "      <td>1968</td>\n",
       "      <td>1968</td>\n",
       "      <td>1968</td>\n",
       "      <td>1968</td>\n",
       "      <td>1968</td>\n",
       "      <td>1959</td>\n",
       "      <td>1968</td>\n",
       "      <td>1968</td>\n",
       "      <td>1968</td>\n",
       "    </tr>\n",
       "    <tr>\n",
       "      <th>1</th>\n",
       "      <td>Fashion</td>\n",
       "      <td>1971</td>\n",
       "      <td>1971</td>\n",
       "      <td>1971</td>\n",
       "      <td>1971</td>\n",
       "      <td>1971</td>\n",
       "      <td>1971</td>\n",
       "      <td>1971</td>\n",
       "      <td>1963</td>\n",
       "      <td>1971</td>\n",
       "      <td>1971</td>\n",
       "      <td>1971</td>\n",
       "    </tr>\n",
       "    <tr>\n",
       "      <th>2</th>\n",
       "      <td>Healthcare</td>\n",
       "      <td>1953</td>\n",
       "      <td>1953</td>\n",
       "      <td>1953</td>\n",
       "      <td>1953</td>\n",
       "      <td>1953</td>\n",
       "      <td>1953</td>\n",
       "      <td>1953</td>\n",
       "      <td>1937</td>\n",
       "      <td>1953</td>\n",
       "      <td>1953</td>\n",
       "      <td>1953</td>\n",
       "    </tr>\n",
       "    <tr>\n",
       "      <th>3</th>\n",
       "      <td>Home</td>\n",
       "      <td>2060</td>\n",
       "      <td>2060</td>\n",
       "      <td>2060</td>\n",
       "      <td>2060</td>\n",
       "      <td>2060</td>\n",
       "      <td>2060</td>\n",
       "      <td>2060</td>\n",
       "      <td>2049</td>\n",
       "      <td>2060</td>\n",
       "      <td>2060</td>\n",
       "      <td>2060</td>\n",
       "    </tr>\n",
       "    <tr>\n",
       "      <th>4</th>\n",
       "      <td>Office</td>\n",
       "      <td>2011</td>\n",
       "      <td>2011</td>\n",
       "      <td>2011</td>\n",
       "      <td>2011</td>\n",
       "      <td>2011</td>\n",
       "      <td>2011</td>\n",
       "      <td>2011</td>\n",
       "      <td>2004</td>\n",
       "      <td>2011</td>\n",
       "      <td>2011</td>\n",
       "      <td>2011</td>\n",
       "    </tr>\n",
       "  </tbody>\n",
       "</table>\n",
       "</div>"
      ],
      "text/plain": [
       "  Product_Category  OrderID  Quantity  UnitPrice(USD)  Status  OrderDate  \\\n",
       "0    Entertainment     1968      1968            1968    1968       1968   \n",
       "1          Fashion     1971      1971            1971    1971       1971   \n",
       "2       Healthcare     1953      1953            1953    1953       1953   \n",
       "3             Home     2060      2060            2060    2060       2060   \n",
       "4           Office     2011      2011            2011    2011       2011   \n",
       "\n",
       "   Sales_Manager  Shipping_Cost(USD)  Delivery_Time(Days)  Shipping_Address  \\\n",
       "0           1968                1968                 1959              1968   \n",
       "1           1971                1971                 1963              1971   \n",
       "2           1953                1953                 1937              1953   \n",
       "3           2060                2060                 2049              2060   \n",
       "4           2011                2011                 2004              2011   \n",
       "\n",
       "   Product_Code  OrderCode  \n",
       "0          1968       1968  \n",
       "1          1971       1971  \n",
       "2          1953       1953  \n",
       "3          2060       2060  \n",
       "4          2011       2011  "
      ]
     },
     "execution_count": 88,
     "metadata": {},
     "output_type": "execute_result"
    }
   ],
   "source": [
    "sales_df.groupby(\"Product_Category\").count().reset_index()"
   ]
  },
  {
   "cell_type": "markdown",
   "id": "a13770aa",
   "metadata": {
    "papermill": {
     "duration": 0.082987,
     "end_time": "2022-12-29T21:49:47.469991",
     "exception": false,
     "start_time": "2022-12-29T21:49:47.387004",
     "status": "completed"
    },
    "tags": []
   },
   "source": [
    "`.count()` counts only the non-null values from each column, whereas `.size()` simply returns the number of rows available in each group irrespective of presence or absence of values."
   ]
  },
  {
   "cell_type": "markdown",
   "id": "dc50405b",
   "metadata": {
    "papermill": {
     "duration": 0.064548,
     "end_time": "2022-12-29T21:49:47.614993",
     "exception": false,
     "start_time": "2022-12-29T21:49:47.550445",
     "status": "completed"
    },
    "tags": []
   },
   "source": [
    "`GroupBy` method `get_group()` is used to select or extract only one group from the `GroupBy` object."
   ]
  },
  {
   "cell_type": "code",
   "execution_count": 89,
   "id": "9f619634",
   "metadata": {
    "execution": {
     "iopub.execute_input": "2022-12-29T21:49:47.745668Z",
     "iopub.status.busy": "2022-12-29T21:49:47.744709Z",
     "iopub.status.idle": "2022-12-29T21:49:47.772933Z",
     "shell.execute_reply": "2022-12-29T21:49:47.771797Z"
    },
    "papermill": {
     "duration": 0.095383,
     "end_time": "2022-12-29T21:49:47.775416",
     "exception": false,
     "start_time": "2022-12-29T21:49:47.680033",
     "status": "completed"
    },
    "tags": []
   },
   "outputs": [
    {
     "data": {
      "text/html": [
       "<div>\n",
       "<style scoped>\n",
       "    .dataframe tbody tr th:only-of-type {\n",
       "        vertical-align: middle;\n",
       "    }\n",
       "\n",
       "    .dataframe tbody tr th {\n",
       "        vertical-align: top;\n",
       "    }\n",
       "\n",
       "    .dataframe thead th {\n",
       "        text-align: right;\n",
       "    }\n",
       "</style>\n",
       "<table border=\"1\" class=\"dataframe\">\n",
       "  <thead>\n",
       "    <tr style=\"text-align: right;\">\n",
       "      <th></th>\n",
       "      <th>OrderID</th>\n",
       "      <th>Quantity</th>\n",
       "      <th>UnitPrice(USD)</th>\n",
       "      <th>Status</th>\n",
       "      <th>OrderDate</th>\n",
       "      <th>Product_Category</th>\n",
       "      <th>Sales_Manager</th>\n",
       "      <th>Shipping_Cost(USD)</th>\n",
       "      <th>Delivery_Time(Days)</th>\n",
       "      <th>Shipping_Address</th>\n",
       "      <th>Product_Code</th>\n",
       "      <th>OrderCode</th>\n",
       "    </tr>\n",
       "  </thead>\n",
       "  <tbody>\n",
       "    <tr>\n",
       "      <th>0</th>\n",
       "      <td>2.951110e+18</td>\n",
       "      <td>92</td>\n",
       "      <td>238</td>\n",
       "      <td>Not Delivered</td>\n",
       "      <td>8/8/2021</td>\n",
       "      <td>Healthcare</td>\n",
       "      <td>Pablo</td>\n",
       "      <td>21</td>\n",
       "      <td>25.0</td>\n",
       "      <td>Singapore</td>\n",
       "      <td>HC-188</td>\n",
       "      <td>444116</td>\n",
       "    </tr>\n",
       "    <tr>\n",
       "      <th>6</th>\n",
       "      <td>2.750410e+18</td>\n",
       "      <td>73</td>\n",
       "      <td>242</td>\n",
       "      <td>Not Delivered</td>\n",
       "      <td>7/8/2021</td>\n",
       "      <td>Healthcare</td>\n",
       "      <td>Emma</td>\n",
       "      <td>34</td>\n",
       "      <td>10.0</td>\n",
       "      <td>UK</td>\n",
       "      <td>HC-555</td>\n",
       "      <td>443885</td>\n",
       "    </tr>\n",
       "    <tr>\n",
       "      <th>14</th>\n",
       "      <td>2.559910e+18</td>\n",
       "      <td>55</td>\n",
       "      <td>233</td>\n",
       "      <td>Not Delivered</td>\n",
       "      <td>7/15/2021</td>\n",
       "      <td>Healthcare</td>\n",
       "      <td>Kristen</td>\n",
       "      <td>25</td>\n",
       "      <td>18.0</td>\n",
       "      <td>India</td>\n",
       "      <td>HC-555</td>\n",
       "      <td>443992</td>\n",
       "    </tr>\n",
       "    <tr>\n",
       "      <th>19</th>\n",
       "      <td>4.276410e+18</td>\n",
       "      <td>83</td>\n",
       "      <td>224</td>\n",
       "      <td>Not Delivered</td>\n",
       "      <td>7/10/2021</td>\n",
       "      <td>Healthcare</td>\n",
       "      <td>Sofia</td>\n",
       "      <td>24</td>\n",
       "      <td>24.0</td>\n",
       "      <td>Kenya</td>\n",
       "      <td>HC-203</td>\n",
       "      <td>443887</td>\n",
       "    </tr>\n",
       "    <tr>\n",
       "      <th>22</th>\n",
       "      <td>2.111510e+18</td>\n",
       "      <td>74</td>\n",
       "      <td>250</td>\n",
       "      <td>Delivered</td>\n",
       "      <td>12/8/2021</td>\n",
       "      <td>Healthcare</td>\n",
       "      <td>Maria</td>\n",
       "      <td>25</td>\n",
       "      <td>21.0</td>\n",
       "      <td>Italy</td>\n",
       "      <td>HC-901</td>\n",
       "      <td>445338</td>\n",
       "    </tr>\n",
       "    <tr>\n",
       "      <th>24</th>\n",
       "      <td>3.509310e+18</td>\n",
       "      <td>8</td>\n",
       "      <td>119</td>\n",
       "      <td>Shipped</td>\n",
       "      <td>11/1/2021</td>\n",
       "      <td>Healthcare</td>\n",
       "      <td>Jacob</td>\n",
       "      <td>32</td>\n",
       "      <td>10.0</td>\n",
       "      <td>UK</td>\n",
       "      <td>HC-188</td>\n",
       "      <td>445001</td>\n",
       "    </tr>\n",
       "    <tr>\n",
       "      <th>30</th>\n",
       "      <td>1.408910e+18</td>\n",
       "      <td>7</td>\n",
       "      <td>130</td>\n",
       "      <td>Delivered</td>\n",
       "      <td>7/4/2021</td>\n",
       "      <td>Healthcare</td>\n",
       "      <td>Sofia</td>\n",
       "      <td>20</td>\n",
       "      <td>NaN</td>\n",
       "      <td>UK</td>\n",
       "      <td>HC-630</td>\n",
       "      <td>443881</td>\n",
       "    </tr>\n",
       "    <tr>\n",
       "      <th>40</th>\n",
       "      <td>3.353310e+18</td>\n",
       "      <td>68</td>\n",
       "      <td>224</td>\n",
       "      <td>Not Shipped</td>\n",
       "      <td>12/30/2021</td>\n",
       "      <td>Healthcare</td>\n",
       "      <td>Anthony</td>\n",
       "      <td>31</td>\n",
       "      <td>23.0</td>\n",
       "      <td>Singapore</td>\n",
       "      <td>HC-188</td>\n",
       "      <td>445660</td>\n",
       "    </tr>\n",
       "    <tr>\n",
       "      <th>41</th>\n",
       "      <td>4.473810e+18</td>\n",
       "      <td>10</td>\n",
       "      <td>230</td>\n",
       "      <td>Not Delivered</td>\n",
       "      <td>11/1/2021</td>\n",
       "      <td>Healthcare</td>\n",
       "      <td>Jacob</td>\n",
       "      <td>31</td>\n",
       "      <td>12.0</td>\n",
       "      <td>Kenya</td>\n",
       "      <td>HC-101</td>\n",
       "      <td>445001</td>\n",
       "    </tr>\n",
       "    <tr>\n",
       "      <th>45</th>\n",
       "      <td>3.199510e+18</td>\n",
       "      <td>49</td>\n",
       "      <td>220</td>\n",
       "      <td>Not Shipped</td>\n",
       "      <td>12/6/2021</td>\n",
       "      <td>Healthcare</td>\n",
       "      <td>Jacob</td>\n",
       "      <td>32</td>\n",
       "      <td>19.0</td>\n",
       "      <td>Italy</td>\n",
       "      <td>HC-901</td>\n",
       "      <td>445336</td>\n",
       "    </tr>\n",
       "  </tbody>\n",
       "</table>\n",
       "</div>"
      ],
      "text/plain": [
       "         OrderID  Quantity  UnitPrice(USD)         Status   OrderDate  \\\n",
       "0   2.951110e+18        92             238  Not Delivered    8/8/2021   \n",
       "6   2.750410e+18        73             242  Not Delivered    7/8/2021   \n",
       "14  2.559910e+18        55             233  Not Delivered   7/15/2021   \n",
       "19  4.276410e+18        83             224  Not Delivered   7/10/2021   \n",
       "22  2.111510e+18        74             250      Delivered   12/8/2021   \n",
       "24  3.509310e+18         8             119        Shipped   11/1/2021   \n",
       "30  1.408910e+18         7             130      Delivered    7/4/2021   \n",
       "40  3.353310e+18        68             224    Not Shipped  12/30/2021   \n",
       "41  4.473810e+18        10             230  Not Delivered   11/1/2021   \n",
       "45  3.199510e+18        49             220    Not Shipped   12/6/2021   \n",
       "\n",
       "   Product_Category Sales_Manager  Shipping_Cost(USD)  Delivery_Time(Days)  \\\n",
       "0        Healthcare         Pablo                  21                 25.0   \n",
       "6        Healthcare          Emma                  34                 10.0   \n",
       "14       Healthcare       Kristen                  25                 18.0   \n",
       "19       Healthcare         Sofia                  24                 24.0   \n",
       "22       Healthcare         Maria                  25                 21.0   \n",
       "24       Healthcare         Jacob                  32                 10.0   \n",
       "30       Healthcare         Sofia                  20                  NaN   \n",
       "40       Healthcare       Anthony                  31                 23.0   \n",
       "41       Healthcare         Jacob                  31                 12.0   \n",
       "45       Healthcare         Jacob                  32                 19.0   \n",
       "\n",
       "   Shipping_Address Product_Code  OrderCode  \n",
       "0         Singapore       HC-188     444116  \n",
       "6                UK       HC-555     443885  \n",
       "14            India       HC-555     443992  \n",
       "19            Kenya       HC-203     443887  \n",
       "22            Italy       HC-901     445338  \n",
       "24               UK       HC-188     445001  \n",
       "30               UK       HC-630     443881  \n",
       "40        Singapore       HC-188     445660  \n",
       "41            Kenya       HC-101     445001  \n",
       "45            Italy       HC-901     445336  "
      ]
     },
     "execution_count": 89,
     "metadata": {},
     "output_type": "execute_result"
    }
   ],
   "source": [
    "sales_gp_df.get_group('Healthcare').head(10)"
   ]
  },
  {
   "cell_type": "markdown",
   "id": "24d02109",
   "metadata": {
    "papermill": {
     "duration": 0.061194,
     "end_time": "2022-12-29T21:49:47.900770",
     "exception": false,
     "start_time": "2022-12-29T21:49:47.839576",
     "status": "completed"
    },
    "tags": []
   },
   "source": [
    "Now, we are viewing only rows with `Product_Category` is `Healthcare`"
   ]
  },
  {
   "cell_type": "markdown",
   "id": "6c92675d",
   "metadata": {
    "papermill": {
     "duration": 0.062477,
     "end_time": "2022-12-29T21:49:48.025178",
     "exception": false,
     "start_time": "2022-12-29T21:49:47.962701",
     "status": "completed"
    },
    "tags": []
   },
   "source": [
    "Also, remember that the `GroupBy` object is nothig but a `dict` and you can iterate over it. "
   ]
  },
  {
   "cell_type": "code",
   "execution_count": 90,
   "id": "a89bacf4",
   "metadata": {
    "execution": {
     "iopub.execute_input": "2022-12-29T21:49:48.155022Z",
     "iopub.status.busy": "2022-12-29T21:49:48.154275Z",
     "iopub.status.idle": "2022-12-29T21:49:48.229621Z",
     "shell.execute_reply": "2022-12-29T21:49:48.228304Z"
    },
    "papermill": {
     "duration": 0.141676,
     "end_time": "2022-12-29T21:49:48.232528",
     "exception": false,
     "start_time": "2022-12-29T21:49:48.090852",
     "status": "completed"
    },
    "tags": []
   },
   "outputs": [
    {
     "name": "stdout",
     "output_type": "stream",
     "text": [
      "Entertainment\n"
     ]
    },
    {
     "data": {
      "text/html": [
       "<div>\n",
       "<style scoped>\n",
       "    .dataframe tbody tr th:only-of-type {\n",
       "        vertical-align: middle;\n",
       "    }\n",
       "\n",
       "    .dataframe tbody tr th {\n",
       "        vertical-align: top;\n",
       "    }\n",
       "\n",
       "    .dataframe thead th {\n",
       "        text-align: right;\n",
       "    }\n",
       "</style>\n",
       "<table border=\"1\" class=\"dataframe\">\n",
       "  <thead>\n",
       "    <tr style=\"text-align: right;\">\n",
       "      <th></th>\n",
       "      <th>OrderID</th>\n",
       "      <th>Quantity</th>\n",
       "      <th>UnitPrice(USD)</th>\n",
       "      <th>Status</th>\n",
       "      <th>OrderDate</th>\n",
       "      <th>Product_Category</th>\n",
       "      <th>Sales_Manager</th>\n",
       "      <th>Shipping_Cost(USD)</th>\n",
       "      <th>Delivery_Time(Days)</th>\n",
       "      <th>Shipping_Address</th>\n",
       "      <th>Product_Code</th>\n",
       "      <th>OrderCode</th>\n",
       "    </tr>\n",
       "  </thead>\n",
       "  <tbody>\n",
       "    <tr>\n",
       "      <th>5</th>\n",
       "      <td>4.934810e+18</td>\n",
       "      <td>51</td>\n",
       "      <td>204</td>\n",
       "      <td>Not Delivered</td>\n",
       "      <td>11/13/2021</td>\n",
       "      <td>Entertainment</td>\n",
       "      <td>Abdul</td>\n",
       "      <td>32</td>\n",
       "      <td>18.0</td>\n",
       "      <td>UK</td>\n",
       "      <td>ENT-188</td>\n",
       "      <td>445113</td>\n",
       "    </tr>\n",
       "    <tr>\n",
       "      <th>12</th>\n",
       "      <td>3.882310e+18</td>\n",
       "      <td>78</td>\n",
       "      <td>219</td>\n",
       "      <td>Delivered</td>\n",
       "      <td>10/29/2021</td>\n",
       "      <td>Entertainment</td>\n",
       "      <td>Emma</td>\n",
       "      <td>24</td>\n",
       "      <td>19.0</td>\n",
       "      <td>USA</td>\n",
       "      <td>ENT-901</td>\n",
       "      <td>444998</td>\n",
       "    </tr>\n",
       "    <tr>\n",
       "      <th>20</th>\n",
       "      <td>2.469010e+18</td>\n",
       "      <td>15</td>\n",
       "      <td>156</td>\n",
       "      <td>Shipped</td>\n",
       "      <td>12/13/2021</td>\n",
       "      <td>Entertainment</td>\n",
       "      <td>Pablo</td>\n",
       "      <td>29</td>\n",
       "      <td>19.0</td>\n",
       "      <td>Germany</td>\n",
       "      <td>ENT-101</td>\n",
       "      <td>445443</td>\n",
       "    </tr>\n",
       "    <tr>\n",
       "      <th>21</th>\n",
       "      <td>4.030410e+18</td>\n",
       "      <td>21</td>\n",
       "      <td>123</td>\n",
       "      <td>Not Delivered</td>\n",
       "      <td>10/10/2021</td>\n",
       "      <td>Entertainment</td>\n",
       "      <td>Kristen</td>\n",
       "      <td>30</td>\n",
       "      <td>15.0</td>\n",
       "      <td>India</td>\n",
       "      <td>ENT-188</td>\n",
       "      <td>444779</td>\n",
       "    </tr>\n",
       "    <tr>\n",
       "      <th>23</th>\n",
       "      <td>3.629310e+18</td>\n",
       "      <td>78</td>\n",
       "      <td>155</td>\n",
       "      <td>Delivered</td>\n",
       "      <td>12/2/2021</td>\n",
       "      <td>Entertainment</td>\n",
       "      <td>Anthony</td>\n",
       "      <td>35</td>\n",
       "      <td>12.0</td>\n",
       "      <td>China</td>\n",
       "      <td>ENT-188</td>\n",
       "      <td>445332</td>\n",
       "    </tr>\n",
       "  </tbody>\n",
       "</table>\n",
       "</div>"
      ],
      "text/plain": [
       "         OrderID  Quantity  UnitPrice(USD)         Status   OrderDate  \\\n",
       "5   4.934810e+18        51             204  Not Delivered  11/13/2021   \n",
       "12  3.882310e+18        78             219      Delivered  10/29/2021   \n",
       "20  2.469010e+18        15             156        Shipped  12/13/2021   \n",
       "21  4.030410e+18        21             123  Not Delivered  10/10/2021   \n",
       "23  3.629310e+18        78             155      Delivered   12/2/2021   \n",
       "\n",
       "   Product_Category Sales_Manager  Shipping_Cost(USD)  Delivery_Time(Days)  \\\n",
       "5     Entertainment         Abdul                  32                 18.0   \n",
       "12    Entertainment          Emma                  24                 19.0   \n",
       "20    Entertainment         Pablo                  29                 19.0   \n",
       "21    Entertainment       Kristen                  30                 15.0   \n",
       "23    Entertainment       Anthony                  35                 12.0   \n",
       "\n",
       "   Shipping_Address Product_Code  OrderCode  \n",
       "5                UK      ENT-188     445113  \n",
       "12              USA      ENT-901     444998  \n",
       "20          Germany      ENT-101     445443  \n",
       "21            India      ENT-188     444779  \n",
       "23            China      ENT-188     445332  "
      ]
     },
     "metadata": {},
     "output_type": "display_data"
    },
    {
     "name": "stdout",
     "output_type": "stream",
     "text": [
      "Fashion\n"
     ]
    },
    {
     "data": {
      "text/html": [
       "<div>\n",
       "<style scoped>\n",
       "    .dataframe tbody tr th:only-of-type {\n",
       "        vertical-align: middle;\n",
       "    }\n",
       "\n",
       "    .dataframe tbody tr th {\n",
       "        vertical-align: top;\n",
       "    }\n",
       "\n",
       "    .dataframe thead th {\n",
       "        text-align: right;\n",
       "    }\n",
       "</style>\n",
       "<table border=\"1\" class=\"dataframe\">\n",
       "  <thead>\n",
       "    <tr style=\"text-align: right;\">\n",
       "      <th></th>\n",
       "      <th>OrderID</th>\n",
       "      <th>Quantity</th>\n",
       "      <th>UnitPrice(USD)</th>\n",
       "      <th>Status</th>\n",
       "      <th>OrderDate</th>\n",
       "      <th>Product_Category</th>\n",
       "      <th>Sales_Manager</th>\n",
       "      <th>Shipping_Cost(USD)</th>\n",
       "      <th>Delivery_Time(Days)</th>\n",
       "      <th>Shipping_Address</th>\n",
       "      <th>Product_Code</th>\n",
       "      <th>OrderCode</th>\n",
       "    </tr>\n",
       "  </thead>\n",
       "  <tbody>\n",
       "    <tr>\n",
       "      <th>3</th>\n",
       "      <td>1.112610e+18</td>\n",
       "      <td>33</td>\n",
       "      <td>133</td>\n",
       "      <td>Not Shipped</td>\n",
       "      <td>7/30/2021</td>\n",
       "      <td>Fashion</td>\n",
       "      <td>Abdul</td>\n",
       "      <td>34</td>\n",
       "      <td>24.0</td>\n",
       "      <td>USA</td>\n",
       "      <td>F-555</td>\n",
       "      <td>444007</td>\n",
       "    </tr>\n",
       "    <tr>\n",
       "      <th>4</th>\n",
       "      <td>1.548310e+18</td>\n",
       "      <td>13</td>\n",
       "      <td>189</td>\n",
       "      <td>Not Delivered</td>\n",
       "      <td>8/15/2021</td>\n",
       "      <td>Fashion</td>\n",
       "      <td>Stella</td>\n",
       "      <td>24</td>\n",
       "      <td>19.0</td>\n",
       "      <td>Kenya</td>\n",
       "      <td>F-555</td>\n",
       "      <td>444223</td>\n",
       "    </tr>\n",
       "    <tr>\n",
       "      <th>7</th>\n",
       "      <td>4.797510e+18</td>\n",
       "      <td>48</td>\n",
       "      <td>240</td>\n",
       "      <td>Delivered</td>\n",
       "      <td>10/4/2021</td>\n",
       "      <td>Fashion</td>\n",
       "      <td>Abdul</td>\n",
       "      <td>22</td>\n",
       "      <td>21.0</td>\n",
       "      <td>Kenya</td>\n",
       "      <td>F-203</td>\n",
       "      <td>444773</td>\n",
       "    </tr>\n",
       "    <tr>\n",
       "      <th>8</th>\n",
       "      <td>2.804110e+18</td>\n",
       "      <td>31</td>\n",
       "      <td>163</td>\n",
       "      <td>Not Shipped</td>\n",
       "      <td>12/23/2021</td>\n",
       "      <td>Fashion</td>\n",
       "      <td>Abdul</td>\n",
       "      <td>34</td>\n",
       "      <td>16.0</td>\n",
       "      <td>Kenya</td>\n",
       "      <td>F-901</td>\n",
       "      <td>445553</td>\n",
       "    </tr>\n",
       "    <tr>\n",
       "      <th>9</th>\n",
       "      <td>1.735910e+18</td>\n",
       "      <td>62</td>\n",
       "      <td>214</td>\n",
       "      <td>Not Delivered</td>\n",
       "      <td>8/14/2021</td>\n",
       "      <td>Fashion</td>\n",
       "      <td>John</td>\n",
       "      <td>22</td>\n",
       "      <td>17.0</td>\n",
       "      <td>Germany</td>\n",
       "      <td>F-901</td>\n",
       "      <td>444222</td>\n",
       "    </tr>\n",
       "  </tbody>\n",
       "</table>\n",
       "</div>"
      ],
      "text/plain": [
       "        OrderID  Quantity  UnitPrice(USD)         Status   OrderDate  \\\n",
       "3  1.112610e+18        33             133    Not Shipped   7/30/2021   \n",
       "4  1.548310e+18        13             189  Not Delivered   8/15/2021   \n",
       "7  4.797510e+18        48             240      Delivered   10/4/2021   \n",
       "8  2.804110e+18        31             163    Not Shipped  12/23/2021   \n",
       "9  1.735910e+18        62             214  Not Delivered   8/14/2021   \n",
       "\n",
       "  Product_Category Sales_Manager  Shipping_Cost(USD)  Delivery_Time(Days)  \\\n",
       "3          Fashion         Abdul                  34                 24.0   \n",
       "4          Fashion        Stella                  24                 19.0   \n",
       "7          Fashion         Abdul                  22                 21.0   \n",
       "8          Fashion         Abdul                  34                 16.0   \n",
       "9          Fashion          John                  22                 17.0   \n",
       "\n",
       "  Shipping_Address Product_Code  OrderCode  \n",
       "3              USA        F-555     444007  \n",
       "4            Kenya        F-555     444223  \n",
       "7            Kenya        F-203     444773  \n",
       "8            Kenya        F-901     445553  \n",
       "9          Germany        F-901     444222  "
      ]
     },
     "metadata": {},
     "output_type": "display_data"
    },
    {
     "name": "stdout",
     "output_type": "stream",
     "text": [
      "Healthcare\n"
     ]
    },
    {
     "data": {
      "text/html": [
       "<div>\n",
       "<style scoped>\n",
       "    .dataframe tbody tr th:only-of-type {\n",
       "        vertical-align: middle;\n",
       "    }\n",
       "\n",
       "    .dataframe tbody tr th {\n",
       "        vertical-align: top;\n",
       "    }\n",
       "\n",
       "    .dataframe thead th {\n",
       "        text-align: right;\n",
       "    }\n",
       "</style>\n",
       "<table border=\"1\" class=\"dataframe\">\n",
       "  <thead>\n",
       "    <tr style=\"text-align: right;\">\n",
       "      <th></th>\n",
       "      <th>OrderID</th>\n",
       "      <th>Quantity</th>\n",
       "      <th>UnitPrice(USD)</th>\n",
       "      <th>Status</th>\n",
       "      <th>OrderDate</th>\n",
       "      <th>Product_Category</th>\n",
       "      <th>Sales_Manager</th>\n",
       "      <th>Shipping_Cost(USD)</th>\n",
       "      <th>Delivery_Time(Days)</th>\n",
       "      <th>Shipping_Address</th>\n",
       "      <th>Product_Code</th>\n",
       "      <th>OrderCode</th>\n",
       "    </tr>\n",
       "  </thead>\n",
       "  <tbody>\n",
       "    <tr>\n",
       "      <th>0</th>\n",
       "      <td>2.951110e+18</td>\n",
       "      <td>92</td>\n",
       "      <td>238</td>\n",
       "      <td>Not Delivered</td>\n",
       "      <td>8/8/2021</td>\n",
       "      <td>Healthcare</td>\n",
       "      <td>Pablo</td>\n",
       "      <td>21</td>\n",
       "      <td>25.0</td>\n",
       "      <td>Singapore</td>\n",
       "      <td>HC-188</td>\n",
       "      <td>444116</td>\n",
       "    </tr>\n",
       "    <tr>\n",
       "      <th>6</th>\n",
       "      <td>2.750410e+18</td>\n",
       "      <td>73</td>\n",
       "      <td>242</td>\n",
       "      <td>Not Delivered</td>\n",
       "      <td>7/8/2021</td>\n",
       "      <td>Healthcare</td>\n",
       "      <td>Emma</td>\n",
       "      <td>34</td>\n",
       "      <td>10.0</td>\n",
       "      <td>UK</td>\n",
       "      <td>HC-555</td>\n",
       "      <td>443885</td>\n",
       "    </tr>\n",
       "    <tr>\n",
       "      <th>14</th>\n",
       "      <td>2.559910e+18</td>\n",
       "      <td>55</td>\n",
       "      <td>233</td>\n",
       "      <td>Not Delivered</td>\n",
       "      <td>7/15/2021</td>\n",
       "      <td>Healthcare</td>\n",
       "      <td>Kristen</td>\n",
       "      <td>25</td>\n",
       "      <td>18.0</td>\n",
       "      <td>India</td>\n",
       "      <td>HC-555</td>\n",
       "      <td>443992</td>\n",
       "    </tr>\n",
       "    <tr>\n",
       "      <th>19</th>\n",
       "      <td>4.276410e+18</td>\n",
       "      <td>83</td>\n",
       "      <td>224</td>\n",
       "      <td>Not Delivered</td>\n",
       "      <td>7/10/2021</td>\n",
       "      <td>Healthcare</td>\n",
       "      <td>Sofia</td>\n",
       "      <td>24</td>\n",
       "      <td>24.0</td>\n",
       "      <td>Kenya</td>\n",
       "      <td>HC-203</td>\n",
       "      <td>443887</td>\n",
       "    </tr>\n",
       "    <tr>\n",
       "      <th>22</th>\n",
       "      <td>2.111510e+18</td>\n",
       "      <td>74</td>\n",
       "      <td>250</td>\n",
       "      <td>Delivered</td>\n",
       "      <td>12/8/2021</td>\n",
       "      <td>Healthcare</td>\n",
       "      <td>Maria</td>\n",
       "      <td>25</td>\n",
       "      <td>21.0</td>\n",
       "      <td>Italy</td>\n",
       "      <td>HC-901</td>\n",
       "      <td>445338</td>\n",
       "    </tr>\n",
       "  </tbody>\n",
       "</table>\n",
       "</div>"
      ],
      "text/plain": [
       "         OrderID  Quantity  UnitPrice(USD)         Status  OrderDate  \\\n",
       "0   2.951110e+18        92             238  Not Delivered   8/8/2021   \n",
       "6   2.750410e+18        73             242  Not Delivered   7/8/2021   \n",
       "14  2.559910e+18        55             233  Not Delivered  7/15/2021   \n",
       "19  4.276410e+18        83             224  Not Delivered  7/10/2021   \n",
       "22  2.111510e+18        74             250      Delivered  12/8/2021   \n",
       "\n",
       "   Product_Category Sales_Manager  Shipping_Cost(USD)  Delivery_Time(Days)  \\\n",
       "0        Healthcare         Pablo                  21                 25.0   \n",
       "6        Healthcare          Emma                  34                 10.0   \n",
       "14       Healthcare       Kristen                  25                 18.0   \n",
       "19       Healthcare         Sofia                  24                 24.0   \n",
       "22       Healthcare         Maria                  25                 21.0   \n",
       "\n",
       "   Shipping_Address Product_Code  OrderCode  \n",
       "0         Singapore       HC-188     444116  \n",
       "6                UK       HC-555     443885  \n",
       "14            India       HC-555     443992  \n",
       "19            Kenya       HC-203     443887  \n",
       "22            Italy       HC-901     445338  "
      ]
     },
     "metadata": {},
     "output_type": "display_data"
    },
    {
     "name": "stdout",
     "output_type": "stream",
     "text": [
      "Home\n"
     ]
    },
    {
     "data": {
      "text/html": [
       "<div>\n",
       "<style scoped>\n",
       "    .dataframe tbody tr th:only-of-type {\n",
       "        vertical-align: middle;\n",
       "    }\n",
       "\n",
       "    .dataframe tbody tr th {\n",
       "        vertical-align: top;\n",
       "    }\n",
       "\n",
       "    .dataframe thead th {\n",
       "        text-align: right;\n",
       "    }\n",
       "</style>\n",
       "<table border=\"1\" class=\"dataframe\">\n",
       "  <thead>\n",
       "    <tr style=\"text-align: right;\">\n",
       "      <th></th>\n",
       "      <th>OrderID</th>\n",
       "      <th>Quantity</th>\n",
       "      <th>UnitPrice(USD)</th>\n",
       "      <th>Status</th>\n",
       "      <th>OrderDate</th>\n",
       "      <th>Product_Category</th>\n",
       "      <th>Sales_Manager</th>\n",
       "      <th>Shipping_Cost(USD)</th>\n",
       "      <th>Delivery_Time(Days)</th>\n",
       "      <th>Shipping_Address</th>\n",
       "      <th>Product_Code</th>\n",
       "      <th>OrderCode</th>\n",
       "    </tr>\n",
       "  </thead>\n",
       "  <tbody>\n",
       "    <tr>\n",
       "      <th>10</th>\n",
       "      <td>4.337210e+18</td>\n",
       "      <td>57</td>\n",
       "      <td>226</td>\n",
       "      <td>Not Shipped</td>\n",
       "      <td>9/27/2021</td>\n",
       "      <td>Home</td>\n",
       "      <td>John</td>\n",
       "      <td>24</td>\n",
       "      <td>14.0</td>\n",
       "      <td>UK</td>\n",
       "      <td>H-555</td>\n",
       "      <td>444666</td>\n",
       "    </tr>\n",
       "    <tr>\n",
       "      <th>13</th>\n",
       "      <td>4.583610e+18</td>\n",
       "      <td>46</td>\n",
       "      <td>208</td>\n",
       "      <td>Not Shipped</td>\n",
       "      <td>7/28/2021</td>\n",
       "      <td>Home</td>\n",
       "      <td>Jacob</td>\n",
       "      <td>29</td>\n",
       "      <td>19.0</td>\n",
       "      <td>UK</td>\n",
       "      <td>H-188</td>\n",
       "      <td>444005</td>\n",
       "    </tr>\n",
       "    <tr>\n",
       "      <th>16</th>\n",
       "      <td>2.808810e+18</td>\n",
       "      <td>96</td>\n",
       "      <td>115</td>\n",
       "      <td>Delivered</td>\n",
       "      <td>10/17/2021</td>\n",
       "      <td>Home</td>\n",
       "      <td>Jacob</td>\n",
       "      <td>30</td>\n",
       "      <td>25.0</td>\n",
       "      <td>Kenya</td>\n",
       "      <td>H-901</td>\n",
       "      <td>444886</td>\n",
       "    </tr>\n",
       "    <tr>\n",
       "      <th>18</th>\n",
       "      <td>3.105110e+18</td>\n",
       "      <td>79</td>\n",
       "      <td>213</td>\n",
       "      <td>Delivered</td>\n",
       "      <td>10/26/2021</td>\n",
       "      <td>Home</td>\n",
       "      <td>Abdul</td>\n",
       "      <td>27</td>\n",
       "      <td>14.0</td>\n",
       "      <td>China</td>\n",
       "      <td>H-203</td>\n",
       "      <td>444995</td>\n",
       "    </tr>\n",
       "    <tr>\n",
       "      <th>26</th>\n",
       "      <td>2.958410e+18</td>\n",
       "      <td>53</td>\n",
       "      <td>141</td>\n",
       "      <td>Shipped</td>\n",
       "      <td>10/29/2021</td>\n",
       "      <td>Home</td>\n",
       "      <td>Pablo</td>\n",
       "      <td>34</td>\n",
       "      <td>18.0</td>\n",
       "      <td>Italy</td>\n",
       "      <td>H-203</td>\n",
       "      <td>444998</td>\n",
       "    </tr>\n",
       "  </tbody>\n",
       "</table>\n",
       "</div>"
      ],
      "text/plain": [
       "         OrderID  Quantity  UnitPrice(USD)       Status   OrderDate  \\\n",
       "10  4.337210e+18        57             226  Not Shipped   9/27/2021   \n",
       "13  4.583610e+18        46             208  Not Shipped   7/28/2021   \n",
       "16  2.808810e+18        96             115    Delivered  10/17/2021   \n",
       "18  3.105110e+18        79             213    Delivered  10/26/2021   \n",
       "26  2.958410e+18        53             141      Shipped  10/29/2021   \n",
       "\n",
       "   Product_Category Sales_Manager  Shipping_Cost(USD)  Delivery_Time(Days)  \\\n",
       "10             Home          John                  24                 14.0   \n",
       "13             Home         Jacob                  29                 19.0   \n",
       "16             Home         Jacob                  30                 25.0   \n",
       "18             Home         Abdul                  27                 14.0   \n",
       "26             Home         Pablo                  34                 18.0   \n",
       "\n",
       "   Shipping_Address Product_Code  OrderCode  \n",
       "10               UK        H-555     444666  \n",
       "13               UK        H-188     444005  \n",
       "16            Kenya        H-901     444886  \n",
       "18            China        H-203     444995  \n",
       "26            Italy        H-203     444998  "
      ]
     },
     "metadata": {},
     "output_type": "display_data"
    },
    {
     "name": "stdout",
     "output_type": "stream",
     "text": [
      "Office\n"
     ]
    },
    {
     "data": {
      "text/html": [
       "<div>\n",
       "<style scoped>\n",
       "    .dataframe tbody tr th:only-of-type {\n",
       "        vertical-align: middle;\n",
       "    }\n",
       "\n",
       "    .dataframe tbody tr th {\n",
       "        vertical-align: top;\n",
       "    }\n",
       "\n",
       "    .dataframe thead th {\n",
       "        text-align: right;\n",
       "    }\n",
       "</style>\n",
       "<table border=\"1\" class=\"dataframe\">\n",
       "  <thead>\n",
       "    <tr style=\"text-align: right;\">\n",
       "      <th></th>\n",
       "      <th>OrderID</th>\n",
       "      <th>Quantity</th>\n",
       "      <th>UnitPrice(USD)</th>\n",
       "      <th>Status</th>\n",
       "      <th>OrderDate</th>\n",
       "      <th>Product_Category</th>\n",
       "      <th>Sales_Manager</th>\n",
       "      <th>Shipping_Cost(USD)</th>\n",
       "      <th>Delivery_Time(Days)</th>\n",
       "      <th>Shipping_Address</th>\n",
       "      <th>Product_Code</th>\n",
       "      <th>OrderCode</th>\n",
       "    </tr>\n",
       "  </thead>\n",
       "  <tbody>\n",
       "    <tr>\n",
       "      <th>1</th>\n",
       "      <td>2.181910e+18</td>\n",
       "      <td>61</td>\n",
       "      <td>136</td>\n",
       "      <td>Not Delivered</td>\n",
       "      <td>10/3/2021</td>\n",
       "      <td>Office</td>\n",
       "      <td>Pablo</td>\n",
       "      <td>34</td>\n",
       "      <td>14.0</td>\n",
       "      <td>UK</td>\n",
       "      <td>O-555</td>\n",
       "      <td>444772</td>\n",
       "    </tr>\n",
       "    <tr>\n",
       "      <th>2</th>\n",
       "      <td>3.239110e+18</td>\n",
       "      <td>67</td>\n",
       "      <td>235</td>\n",
       "      <td>Not Delivered</td>\n",
       "      <td>9/27/2021</td>\n",
       "      <td>Office</td>\n",
       "      <td>Kristen</td>\n",
       "      <td>25</td>\n",
       "      <td>11.0</td>\n",
       "      <td>Kenya</td>\n",
       "      <td>O-188</td>\n",
       "      <td>444666</td>\n",
       "    </tr>\n",
       "    <tr>\n",
       "      <th>11</th>\n",
       "      <td>2.596010e+18</td>\n",
       "      <td>44</td>\n",
       "      <td>246</td>\n",
       "      <td>Delivered</td>\n",
       "      <td>7/11/2021</td>\n",
       "      <td>Office</td>\n",
       "      <td>Stella</td>\n",
       "      <td>20</td>\n",
       "      <td>12.0</td>\n",
       "      <td>Kenya</td>\n",
       "      <td>O-555</td>\n",
       "      <td>443888</td>\n",
       "    </tr>\n",
       "    <tr>\n",
       "      <th>15</th>\n",
       "      <td>1.444810e+18</td>\n",
       "      <td>5</td>\n",
       "      <td>119</td>\n",
       "      <td>Not Shipped</td>\n",
       "      <td>10/13/2021</td>\n",
       "      <td>Office</td>\n",
       "      <td>Stella</td>\n",
       "      <td>33</td>\n",
       "      <td>20.0</td>\n",
       "      <td>India</td>\n",
       "      <td>O-555</td>\n",
       "      <td>444882</td>\n",
       "    </tr>\n",
       "    <tr>\n",
       "      <th>25</th>\n",
       "      <td>3.063710e+18</td>\n",
       "      <td>100</td>\n",
       "      <td>173</td>\n",
       "      <td>Not Delivered</td>\n",
       "      <td>12/22/2021</td>\n",
       "      <td>Office</td>\n",
       "      <td>Jacob</td>\n",
       "      <td>21</td>\n",
       "      <td>23.0</td>\n",
       "      <td>Germany</td>\n",
       "      <td>O-630</td>\n",
       "      <td>445552</td>\n",
       "    </tr>\n",
       "  </tbody>\n",
       "</table>\n",
       "</div>"
      ],
      "text/plain": [
       "         OrderID  Quantity  UnitPrice(USD)         Status   OrderDate  \\\n",
       "1   2.181910e+18        61             136  Not Delivered   10/3/2021   \n",
       "2   3.239110e+18        67             235  Not Delivered   9/27/2021   \n",
       "11  2.596010e+18        44             246      Delivered   7/11/2021   \n",
       "15  1.444810e+18         5             119    Not Shipped  10/13/2021   \n",
       "25  3.063710e+18       100             173  Not Delivered  12/22/2021   \n",
       "\n",
       "   Product_Category Sales_Manager  Shipping_Cost(USD)  Delivery_Time(Days)  \\\n",
       "1            Office         Pablo                  34                 14.0   \n",
       "2            Office       Kristen                  25                 11.0   \n",
       "11           Office        Stella                  20                 12.0   \n",
       "15           Office        Stella                  33                 20.0   \n",
       "25           Office         Jacob                  21                 23.0   \n",
       "\n",
       "   Shipping_Address Product_Code  OrderCode  \n",
       "1                UK        O-555     444772  \n",
       "2             Kenya        O-188     444666  \n",
       "11            Kenya        O-555     443888  \n",
       "15            India        O-555     444882  \n",
       "25          Germany        O-630     445552  "
      ]
     },
     "metadata": {},
     "output_type": "display_data"
    }
   ],
   "source": [
    "for gp_name, gp_contents in sales_gp_df:\n",
    "    print(gp_name)\n",
    "    display(gp_contents.head())"
   ]
  },
  {
   "cell_type": "markdown",
   "id": "1dd1ff4c",
   "metadata": {
    "papermill": {
     "duration": 0.062132,
     "end_time": "2022-12-29T21:49:48.357788",
     "exception": false,
     "start_time": "2022-12-29T21:49:48.295656",
     "status": "completed"
    },
    "tags": []
   },
   "source": [
    "Easy and simple! Keep in mind this aspect for `GroupBy` objects. It can be game-changing when dealing with large dataset!"
   ]
  },
  {
   "cell_type": "markdown",
   "id": "c9d229e5",
   "metadata": {
    "papermill": {
     "duration": 0.063183,
     "end_time": "2022-12-29T21:49:48.485077",
     "exception": false,
     "start_time": "2022-12-29T21:49:48.421894",
     "status": "completed"
    },
    "tags": []
   },
   "source": [
    "# Data Buketing\n",
    "This is a typical data pre-processing method sometimes called binning, often referred to as bucketing or discretization, groups intervals of continuous data into `bins` or `buckets`\n",
    "\n",
    "Now, we will demostrate 3 methods for `Bucketing`: \n",
    "\n",
    "* A combination between `.loc` and `.between` method can be used for this task.`.between` method returns a boolean vector containing True wherever the corresponding Series element is between the boundary values left and right. Check [documentation](https://pandas.pydata.org/docs/reference/api/pandas.Series.between.html) but the most important arguments are as following:\n",
    "    * `left`: left boundary\n",
    "    * `right`: right boundary\n",
    "    * `inclusive`: Which boundary to include. Acceptable values are {“both”, “neither”, “left”, “right”}.\n",
    "    \n",
    "* `pd.cut()` can be also used to bin values into discrete intervals. Use cut when you need to segment and sort data values into bins. This function is also useful for going from a continuous variable to a categorical variable. Check [documentation](https://pandas.pydata.org/pandas-docs/stable/reference/api/pandas.cut.html). Its main arguments are as following: \n",
    "    * `x`: The input array to be binned. Must be 1-dimensional.\n",
    "    * `bins`: Sequence of scalars : Defines the bin edges allowing for non-uniform width.\n",
    "    * `labels`: Specifies the labels for the returned bins. Must be the same length as the resulting bins.\n",
    "    * `include_lowest`: (bool) Whether the first interval should be left-inclusive or not.\n",
    "    \n",
    "* `pd.qcut()` can be used to do quantile-based discretization function. Discretize variable into equal-sized buckets based on rank or based on sample quantiles. Check [documentation](https://pandas.pydata.org/docs/reference/api/pandas.qcut.html). Its main arguements are as following: \n",
    "    * `x`: The input array to be binned. Must be 1-dimensional.\n",
    "    * `q`: Number of quantiles. 10 for deciles, 4 for quartiles, etc. Alternately array of quantiles, e.g. [0, .25, .5, .75, 1.] for quartiles.\n",
    "    * `labels`: Specifies the labels for the returned bins. Must be the same length as the resulting bins.\n",
    "    * `retbins`: (bool) Whether to return the (bins, labels) or not. Can be useful if bins is given as a scalar."
   ]
  },
  {
   "cell_type": "markdown",
   "id": "86936d46",
   "metadata": {
    "papermill": {
     "duration": 0.063092,
     "end_time": "2022-12-29T21:49:48.612363",
     "exception": false,
     "start_time": "2022-12-29T21:49:48.549271",
     "status": "completed"
    },
    "tags": []
   },
   "source": [
    "To demonstrate the above methods, we will use a dataset named `banking_clients` which is revealing the total transcations that have been made by some clients and associated with their account numbers. Our job is to add a customer life time value flag `clv_flg` that indicates the importance of every client based on the amount in the transactions! \n",
    "\n",
    "Lets apply!"
   ]
  },
  {
   "cell_type": "code",
   "execution_count": 91,
   "id": "18895492",
   "metadata": {
    "execution": {
     "iopub.execute_input": "2022-12-29T21:49:48.742472Z",
     "iopub.status.busy": "2022-12-29T21:49:48.742011Z",
     "iopub.status.idle": "2022-12-29T21:49:48.757743Z",
     "shell.execute_reply": "2022-12-29T21:49:48.756872Z"
    },
    "papermill": {
     "duration": 0.083975,
     "end_time": "2022-12-29T21:49:48.760301",
     "exception": false,
     "start_time": "2022-12-29T21:49:48.676326",
     "status": "completed"
    },
    "tags": []
   },
   "outputs": [
    {
     "data": {
      "text/html": [
       "<div>\n",
       "<style scoped>\n",
       "    .dataframe tbody tr th:only-of-type {\n",
       "        vertical-align: middle;\n",
       "    }\n",
       "\n",
       "    .dataframe tbody tr th {\n",
       "        vertical-align: top;\n",
       "    }\n",
       "\n",
       "    .dataframe thead th {\n",
       "        text-align: right;\n",
       "    }\n",
       "</style>\n",
       "<table border=\"1\" class=\"dataframe\">\n",
       "  <thead>\n",
       "    <tr style=\"text-align: right;\">\n",
       "      <th></th>\n",
       "      <th>account_number</th>\n",
       "      <th>client_name</th>\n",
       "      <th>total_transactions</th>\n",
       "    </tr>\n",
       "  </thead>\n",
       "  <tbody>\n",
       "    <tr>\n",
       "      <th>0</th>\n",
       "      <td>141962</td>\n",
       "      <td>Herman LLC</td>\n",
       "      <td>63626.03</td>\n",
       "    </tr>\n",
       "    <tr>\n",
       "      <th>1</th>\n",
       "      <td>146832</td>\n",
       "      <td>Kiehn-Spinka</td>\n",
       "      <td>99608.77</td>\n",
       "    </tr>\n",
       "    <tr>\n",
       "      <th>2</th>\n",
       "      <td>163416</td>\n",
       "      <td>Purdy-Kunde</td>\n",
       "      <td>77898.21</td>\n",
       "    </tr>\n",
       "    <tr>\n",
       "      <th>3</th>\n",
       "      <td>218895</td>\n",
       "      <td>Kulas Inc</td>\n",
       "      <td>137351.96</td>\n",
       "    </tr>\n",
       "    <tr>\n",
       "      <th>4</th>\n",
       "      <td>239344</td>\n",
       "      <td>Stokes LLC</td>\n",
       "      <td>91535.92</td>\n",
       "    </tr>\n",
       "  </tbody>\n",
       "</table>\n",
       "</div>"
      ],
      "text/plain": [
       "   account_number   client_name  total_transactions\n",
       "0          141962    Herman LLC            63626.03\n",
       "1          146832  Kiehn-Spinka            99608.77\n",
       "2          163416   Purdy-Kunde            77898.21\n",
       "3          218895     Kulas Inc           137351.96\n",
       "4          239344    Stokes LLC            91535.92"
      ]
     },
     "execution_count": 91,
     "metadata": {},
     "output_type": "execute_result"
    }
   ],
   "source": [
    "# read the data\n",
    "banking_df = pd.read_csv('../input/data-analytics/banking_clients.csv')\n",
    "# view it\n",
    "banking_df.head()"
   ]
  },
  {
   "cell_type": "markdown",
   "id": "fb6e6ab8",
   "metadata": {
    "papermill": {
     "duration": 0.062178,
     "end_time": "2022-12-29T21:49:48.886356",
     "exception": false,
     "start_time": "2022-12-29T21:49:48.824178",
     "status": "completed"
    },
    "tags": []
   },
   "source": [
    "Lets use `df.describe()` to see the range of values in the `total_transactions` columns. "
   ]
  },
  {
   "cell_type": "code",
   "execution_count": 92,
   "id": "9611b97a",
   "metadata": {
    "execution": {
     "iopub.execute_input": "2022-12-29T21:49:49.013793Z",
     "iopub.status.busy": "2022-12-29T21:49:49.013323Z",
     "iopub.status.idle": "2022-12-29T21:49:49.033608Z",
     "shell.execute_reply": "2022-12-29T21:49:49.032384Z"
    },
    "papermill": {
     "duration": 0.087332,
     "end_time": "2022-12-29T21:49:49.036304",
     "exception": false,
     "start_time": "2022-12-29T21:49:48.948972",
     "status": "completed"
    },
    "tags": []
   },
   "outputs": [
    {
     "data": {
      "text/html": [
       "<div>\n",
       "<style scoped>\n",
       "    .dataframe tbody tr th:only-of-type {\n",
       "        vertical-align: middle;\n",
       "    }\n",
       "\n",
       "    .dataframe tbody tr th {\n",
       "        vertical-align: top;\n",
       "    }\n",
       "\n",
       "    .dataframe thead th {\n",
       "        text-align: right;\n",
       "    }\n",
       "</style>\n",
       "<table border=\"1\" class=\"dataframe\">\n",
       "  <thead>\n",
       "    <tr style=\"text-align: right;\">\n",
       "      <th></th>\n",
       "      <th>account_number</th>\n",
       "      <th>total_transactions</th>\n",
       "    </tr>\n",
       "  </thead>\n",
       "  <tbody>\n",
       "    <tr>\n",
       "      <th>count</th>\n",
       "      <td>20.00000</td>\n",
       "      <td>20.000000</td>\n",
       "    </tr>\n",
       "    <tr>\n",
       "      <th>mean</th>\n",
       "      <td>476998.75000</td>\n",
       "      <td>101711.287500</td>\n",
       "    </tr>\n",
       "    <tr>\n",
       "      <th>std</th>\n",
       "      <td>231499.20897</td>\n",
       "      <td>27037.449673</td>\n",
       "    </tr>\n",
       "    <tr>\n",
       "      <th>min</th>\n",
       "      <td>141962.00000</td>\n",
       "      <td>55733.050000</td>\n",
       "    </tr>\n",
       "    <tr>\n",
       "      <th>25%</th>\n",
       "      <td>252734.50000</td>\n",
       "      <td>89137.707500</td>\n",
       "    </tr>\n",
       "    <tr>\n",
       "      <th>50%</th>\n",
       "      <td>476006.50000</td>\n",
       "      <td>100271.535000</td>\n",
       "    </tr>\n",
       "    <tr>\n",
       "      <th>75%</th>\n",
       "      <td>695352.25000</td>\n",
       "      <td>110132.552500</td>\n",
       "    </tr>\n",
       "    <tr>\n",
       "      <th>max</th>\n",
       "      <td>786968.00000</td>\n",
       "      <td>184793.700000</td>\n",
       "    </tr>\n",
       "  </tbody>\n",
       "</table>\n",
       "</div>"
      ],
      "text/plain": [
       "       account_number  total_transactions\n",
       "count        20.00000           20.000000\n",
       "mean     476998.75000       101711.287500\n",
       "std      231499.20897        27037.449673\n",
       "min      141962.00000        55733.050000\n",
       "25%      252734.50000        89137.707500\n",
       "50%      476006.50000       100271.535000\n",
       "75%      695352.25000       110132.552500\n",
       "max      786968.00000       184793.700000"
      ]
     },
     "execution_count": 92,
     "metadata": {},
     "output_type": "execute_result"
    }
   ],
   "source": [
    "banking_df.describe()"
   ]
  },
  {
   "cell_type": "markdown",
   "id": "0e6029f8",
   "metadata": {
    "papermill": {
     "duration": 0.062346,
     "end_time": "2022-12-29T21:49:49.163490",
     "exception": false,
     "start_time": "2022-12-29T21:49:49.101144",
     "status": "completed"
    },
    "tags": []
   },
   "source": [
    "So, lets make the folloing bucketing for clients based on `total_transactions` as follows: \n",
    "- (55700, 90000] --> low\n",
    "- (90000, 120000] --> medium\n",
    "- (120000, 200000] --> high\n",
    "\n",
    "Note: square brackets [ and round brackets )indicates that the boundary value is inclusive and exclusive respectively."
   ]
  },
  {
   "cell_type": "code",
   "execution_count": 93,
   "id": "b890debc",
   "metadata": {
    "execution": {
     "iopub.execute_input": "2022-12-29T21:49:49.292864Z",
     "iopub.status.busy": "2022-12-29T21:49:49.292418Z",
     "iopub.status.idle": "2022-12-29T21:49:49.311150Z",
     "shell.execute_reply": "2022-12-29T21:49:49.310055Z"
    },
    "papermill": {
     "duration": 0.087945,
     "end_time": "2022-12-29T21:49:49.314386",
     "exception": false,
     "start_time": "2022-12-29T21:49:49.226441",
     "status": "completed"
    },
    "tags": []
   },
   "outputs": [
    {
     "data": {
      "text/html": [
       "<div>\n",
       "<style scoped>\n",
       "    .dataframe tbody tr th:only-of-type {\n",
       "        vertical-align: middle;\n",
       "    }\n",
       "\n",
       "    .dataframe tbody tr th {\n",
       "        vertical-align: top;\n",
       "    }\n",
       "\n",
       "    .dataframe thead th {\n",
       "        text-align: right;\n",
       "    }\n",
       "</style>\n",
       "<table border=\"1\" class=\"dataframe\">\n",
       "  <thead>\n",
       "    <tr style=\"text-align: right;\">\n",
       "      <th></th>\n",
       "      <th>account_number</th>\n",
       "      <th>client_name</th>\n",
       "      <th>total_transactions</th>\n",
       "      <th>clv_flg_v1</th>\n",
       "    </tr>\n",
       "  </thead>\n",
       "  <tbody>\n",
       "    <tr>\n",
       "      <th>0</th>\n",
       "      <td>141962</td>\n",
       "      <td>Herman LLC</td>\n",
       "      <td>63626.03</td>\n",
       "      <td>low</td>\n",
       "    </tr>\n",
       "    <tr>\n",
       "      <th>1</th>\n",
       "      <td>146832</td>\n",
       "      <td>Kiehn-Spinka</td>\n",
       "      <td>99608.77</td>\n",
       "      <td>medium</td>\n",
       "    </tr>\n",
       "    <tr>\n",
       "      <th>2</th>\n",
       "      <td>163416</td>\n",
       "      <td>Purdy-Kunde</td>\n",
       "      <td>77898.21</td>\n",
       "      <td>low</td>\n",
       "    </tr>\n",
       "    <tr>\n",
       "      <th>3</th>\n",
       "      <td>218895</td>\n",
       "      <td>Kulas Inc</td>\n",
       "      <td>137351.96</td>\n",
       "      <td>high</td>\n",
       "    </tr>\n",
       "    <tr>\n",
       "      <th>4</th>\n",
       "      <td>239344</td>\n",
       "      <td>Stokes LLC</td>\n",
       "      <td>91535.92</td>\n",
       "      <td>medium</td>\n",
       "    </tr>\n",
       "  </tbody>\n",
       "</table>\n",
       "</div>"
      ],
      "text/plain": [
       "   account_number   client_name  total_transactions clv_flg_v1\n",
       "0          141962    Herman LLC            63626.03        low\n",
       "1          146832  Kiehn-Spinka            99608.77     medium\n",
       "2          163416   Purdy-Kunde            77898.21        low\n",
       "3          218895     Kulas Inc           137351.96       high\n",
       "4          239344    Stokes LLC            91535.92     medium"
      ]
     },
     "execution_count": 93,
     "metadata": {},
     "output_type": "execute_result"
    }
   ],
   "source": [
    "# low bucket\n",
    "banking_df.loc[banking_df['total_transactions'].between(55700, 90000, 'right'), 'clv_flg_v1'] = 'low'\n",
    "# medium bucket\n",
    "banking_df.loc[banking_df['total_transactions'].between(90000, 120000, 'right'), 'clv_flg_v1'] = 'medium'\n",
    "# high bucket\n",
    "banking_df.loc[banking_df['total_transactions'].between(120000, 200000, 'right'), 'clv_flg_v1'] = 'high'\n",
    "\n",
    "# lets see our dataset\n",
    "banking_df.head()"
   ]
  },
  {
   "cell_type": "markdown",
   "id": "53307a53",
   "metadata": {
    "papermill": {
     "duration": 0.066056,
     "end_time": "2022-12-29T21:49:49.447265",
     "exception": false,
     "start_time": "2022-12-29T21:49:49.381209",
     "status": "completed"
    },
    "tags": []
   },
   "source": [
    "Lets see how many clients in each category. "
   ]
  },
  {
   "cell_type": "code",
   "execution_count": 94,
   "id": "70e06ef3",
   "metadata": {
    "execution": {
     "iopub.execute_input": "2022-12-29T21:49:49.660377Z",
     "iopub.status.busy": "2022-12-29T21:49:49.659886Z",
     "iopub.status.idle": "2022-12-29T21:49:49.670327Z",
     "shell.execute_reply": "2022-12-29T21:49:49.668656Z"
    },
    "papermill": {
     "duration": 0.080954,
     "end_time": "2022-12-29T21:49:49.673306",
     "exception": false,
     "start_time": "2022-12-29T21:49:49.592352",
     "status": "completed"
    },
    "tags": []
   },
   "outputs": [
    {
     "data": {
      "text/plain": [
       "medium    11\n",
       "low        6\n",
       "high       3\n",
       "Name: clv_flg_v1, dtype: int64"
      ]
     },
     "execution_count": 94,
     "metadata": {},
     "output_type": "execute_result"
    }
   ],
   "source": [
    "banking_df.clv_flg_v1.value_counts()"
   ]
  },
  {
   "cell_type": "markdown",
   "id": "bdc9e6f7",
   "metadata": {
    "papermill": {
     "duration": 0.064361,
     "end_time": "2022-12-29T21:49:49.801433",
     "exception": false,
     "start_time": "2022-12-29T21:49:49.737072",
     "status": "completed"
    },
    "tags": []
   },
   "source": [
    "Now, lets apply `pd.cut()`!"
   ]
  },
  {
   "cell_type": "code",
   "execution_count": 95,
   "id": "28994b0a",
   "metadata": {
    "execution": {
     "iopub.execute_input": "2022-12-29T21:49:49.931477Z",
     "iopub.status.busy": "2022-12-29T21:49:49.930978Z",
     "iopub.status.idle": "2022-12-29T21:49:49.951168Z",
     "shell.execute_reply": "2022-12-29T21:49:49.949738Z"
    },
    "papermill": {
     "duration": 0.088406,
     "end_time": "2022-12-29T21:49:49.953441",
     "exception": false,
     "start_time": "2022-12-29T21:49:49.865035",
     "status": "completed"
    },
    "tags": []
   },
   "outputs": [
    {
     "data": {
      "text/html": [
       "<div>\n",
       "<style scoped>\n",
       "    .dataframe tbody tr th:only-of-type {\n",
       "        vertical-align: middle;\n",
       "    }\n",
       "\n",
       "    .dataframe tbody tr th {\n",
       "        vertical-align: top;\n",
       "    }\n",
       "\n",
       "    .dataframe thead th {\n",
       "        text-align: right;\n",
       "    }\n",
       "</style>\n",
       "<table border=\"1\" class=\"dataframe\">\n",
       "  <thead>\n",
       "    <tr style=\"text-align: right;\">\n",
       "      <th></th>\n",
       "      <th>account_number</th>\n",
       "      <th>client_name</th>\n",
       "      <th>total_transactions</th>\n",
       "      <th>clv_flg_v1</th>\n",
       "      <th>clv_flg_v2</th>\n",
       "    </tr>\n",
       "  </thead>\n",
       "  <tbody>\n",
       "    <tr>\n",
       "      <th>0</th>\n",
       "      <td>141962</td>\n",
       "      <td>Herman LLC</td>\n",
       "      <td>63626.03</td>\n",
       "      <td>low</td>\n",
       "      <td>low</td>\n",
       "    </tr>\n",
       "    <tr>\n",
       "      <th>1</th>\n",
       "      <td>146832</td>\n",
       "      <td>Kiehn-Spinka</td>\n",
       "      <td>99608.77</td>\n",
       "      <td>medium</td>\n",
       "      <td>medium</td>\n",
       "    </tr>\n",
       "    <tr>\n",
       "      <th>2</th>\n",
       "      <td>163416</td>\n",
       "      <td>Purdy-Kunde</td>\n",
       "      <td>77898.21</td>\n",
       "      <td>low</td>\n",
       "      <td>low</td>\n",
       "    </tr>\n",
       "    <tr>\n",
       "      <th>3</th>\n",
       "      <td>218895</td>\n",
       "      <td>Kulas Inc</td>\n",
       "      <td>137351.96</td>\n",
       "      <td>high</td>\n",
       "      <td>high</td>\n",
       "    </tr>\n",
       "    <tr>\n",
       "      <th>4</th>\n",
       "      <td>239344</td>\n",
       "      <td>Stokes LLC</td>\n",
       "      <td>91535.92</td>\n",
       "      <td>medium</td>\n",
       "      <td>medium</td>\n",
       "    </tr>\n",
       "  </tbody>\n",
       "</table>\n",
       "</div>"
      ],
      "text/plain": [
       "   account_number   client_name  total_transactions clv_flg_v1 clv_flg_v2\n",
       "0          141962    Herman LLC            63626.03        low        low\n",
       "1          146832  Kiehn-Spinka            99608.77     medium     medium\n",
       "2          163416   Purdy-Kunde            77898.21        low        low\n",
       "3          218895     Kulas Inc           137351.96       high       high\n",
       "4          239344    Stokes LLC            91535.92     medium     medium"
      ]
     },
     "execution_count": 95,
     "metadata": {},
     "output_type": "execute_result"
    }
   ],
   "source": [
    "# create bins list (it should have one element more than the labels list)\n",
    "bins = [55700, 90000, 120000, 200000 ]\n",
    "# create labels list\n",
    "labels = ['low', 'medium', 'high']\n",
    "# apply pd.cut()\n",
    "banking_df['clv_flg_v2'] = pd.cut(x=banking_df['total_transactions'], bins = bins, labels = labels, include_lowest=True)\n",
    "# lets see the result\n",
    "banking_df.head()"
   ]
  },
  {
   "cell_type": "markdown",
   "id": "25f2f732",
   "metadata": {
    "papermill": {
     "duration": 0.065285,
     "end_time": "2022-12-29T21:49:50.082818",
     "exception": false,
     "start_time": "2022-12-29T21:49:50.017533",
     "status": "completed"
    },
    "tags": []
   },
   "source": [
    "Now, lets verify the number of clients"
   ]
  },
  {
   "cell_type": "code",
   "execution_count": 96,
   "id": "90b581f3",
   "metadata": {
    "execution": {
     "iopub.execute_input": "2022-12-29T21:49:50.218415Z",
     "iopub.status.busy": "2022-12-29T21:49:50.217958Z",
     "iopub.status.idle": "2022-12-29T21:49:50.227840Z",
     "shell.execute_reply": "2022-12-29T21:49:50.226737Z"
    },
    "papermill": {
     "duration": 0.08133,
     "end_time": "2022-12-29T21:49:50.230304",
     "exception": false,
     "start_time": "2022-12-29T21:49:50.148974",
     "status": "completed"
    },
    "tags": []
   },
   "outputs": [
    {
     "data": {
      "text/plain": [
       "medium    11\n",
       "low        6\n",
       "high       3\n",
       "Name: clv_flg_v2, dtype: int64"
      ]
     },
     "execution_count": 96,
     "metadata": {},
     "output_type": "execute_result"
    }
   ],
   "source": [
    "banking_df.clv_flg_v2.value_counts()"
   ]
  },
  {
   "cell_type": "markdown",
   "id": "71301149",
   "metadata": {
    "papermill": {
     "duration": 0.067016,
     "end_time": "2022-12-29T21:49:50.362827",
     "exception": false,
     "start_time": "2022-12-29T21:49:50.295811",
     "status": "completed"
    },
    "tags": []
   },
   "source": [
    "It is the same as the above method!\n",
    "\n",
    "Now, lets try `pd.qcut()` which will try to make equal bins as much as it can. "
   ]
  },
  {
   "cell_type": "code",
   "execution_count": 97,
   "id": "493e36a9",
   "metadata": {
    "execution": {
     "iopub.execute_input": "2022-12-29T21:49:50.498006Z",
     "iopub.status.busy": "2022-12-29T21:49:50.497218Z",
     "iopub.status.idle": "2022-12-29T21:49:50.514913Z",
     "shell.execute_reply": "2022-12-29T21:49:50.513704Z"
    },
    "papermill": {
     "duration": 0.088684,
     "end_time": "2022-12-29T21:49:50.517721",
     "exception": false,
     "start_time": "2022-12-29T21:49:50.429037",
     "status": "completed"
    },
    "tags": []
   },
   "outputs": [
    {
     "data": {
      "text/html": [
       "<div>\n",
       "<style scoped>\n",
       "    .dataframe tbody tr th:only-of-type {\n",
       "        vertical-align: middle;\n",
       "    }\n",
       "\n",
       "    .dataframe tbody tr th {\n",
       "        vertical-align: top;\n",
       "    }\n",
       "\n",
       "    .dataframe thead th {\n",
       "        text-align: right;\n",
       "    }\n",
       "</style>\n",
       "<table border=\"1\" class=\"dataframe\">\n",
       "  <thead>\n",
       "    <tr style=\"text-align: right;\">\n",
       "      <th></th>\n",
       "      <th>account_number</th>\n",
       "      <th>client_name</th>\n",
       "      <th>total_transactions</th>\n",
       "      <th>clv_flg_v1</th>\n",
       "      <th>clv_flg_v2</th>\n",
       "      <th>clv_flg_v3</th>\n",
       "    </tr>\n",
       "  </thead>\n",
       "  <tbody>\n",
       "    <tr>\n",
       "      <th>0</th>\n",
       "      <td>141962</td>\n",
       "      <td>Herman LLC</td>\n",
       "      <td>63626.03</td>\n",
       "      <td>low</td>\n",
       "      <td>low</td>\n",
       "      <td>Bronze</td>\n",
       "    </tr>\n",
       "    <tr>\n",
       "      <th>1</th>\n",
       "      <td>146832</td>\n",
       "      <td>Kiehn-Spinka</td>\n",
       "      <td>99608.77</td>\n",
       "      <td>medium</td>\n",
       "      <td>medium</td>\n",
       "      <td>Gold</td>\n",
       "    </tr>\n",
       "    <tr>\n",
       "      <th>2</th>\n",
       "      <td>163416</td>\n",
       "      <td>Purdy-Kunde</td>\n",
       "      <td>77898.21</td>\n",
       "      <td>low</td>\n",
       "      <td>low</td>\n",
       "      <td>Bronze</td>\n",
       "    </tr>\n",
       "    <tr>\n",
       "      <th>3</th>\n",
       "      <td>218895</td>\n",
       "      <td>Kulas Inc</td>\n",
       "      <td>137351.96</td>\n",
       "      <td>high</td>\n",
       "      <td>high</td>\n",
       "      <td>Platinum</td>\n",
       "    </tr>\n",
       "    <tr>\n",
       "      <th>4</th>\n",
       "      <td>239344</td>\n",
       "      <td>Stokes LLC</td>\n",
       "      <td>91535.92</td>\n",
       "      <td>medium</td>\n",
       "      <td>medium</td>\n",
       "      <td>Silver</td>\n",
       "    </tr>\n",
       "  </tbody>\n",
       "</table>\n",
       "</div>"
      ],
      "text/plain": [
       "   account_number   client_name  total_transactions clv_flg_v1 clv_flg_v2  \\\n",
       "0          141962    Herman LLC            63626.03        low        low   \n",
       "1          146832  Kiehn-Spinka            99608.77     medium     medium   \n",
       "2          163416   Purdy-Kunde            77898.21        low        low   \n",
       "3          218895     Kulas Inc           137351.96       high       high   \n",
       "4          239344    Stokes LLC            91535.92     medium     medium   \n",
       "\n",
       "  clv_flg_v3  \n",
       "0     Bronze  \n",
       "1       Gold  \n",
       "2     Bronze  \n",
       "3  Platinum   \n",
       "4     Silver  "
      ]
     },
     "execution_count": 97,
     "metadata": {},
     "output_type": "execute_result"
    }
   ],
   "source": [
    "# define labels\n",
    "labels_qcut = ['Bronze', 'Silver', 'Gold', 'Titanium', 'Platinum ']\n",
    "# apply `pd.qcut()`\n",
    "banking_df['clv_flg_v3'] = pd.qcut(banking_df['total_transactions'], q= 5,\n",
    "                                   labels = labels_qcut)\n",
    "# lets see it!\n",
    "banking_df.head()"
   ]
  },
  {
   "cell_type": "markdown",
   "id": "6ef9269b",
   "metadata": {
    "papermill": {
     "duration": 0.064577,
     "end_time": "2022-12-29T21:49:50.647094",
     "exception": false,
     "start_time": "2022-12-29T21:49:50.582517",
     "status": "completed"
    },
    "tags": []
   },
   "source": [
    "`pd.qcut()` has an intersting property which is returing the upper and lower boundry for each category using `retbine=True` argument. \n",
    "\n",
    "Lets see how!"
   ]
  },
  {
   "cell_type": "code",
   "execution_count": 98,
   "id": "0da2f599",
   "metadata": {
    "execution": {
     "iopub.execute_input": "2022-12-29T21:49:50.780845Z",
     "iopub.status.busy": "2022-12-29T21:49:50.779996Z",
     "iopub.status.idle": "2022-12-29T21:49:50.798022Z",
     "shell.execute_reply": "2022-12-29T21:49:50.796789Z"
    },
    "papermill": {
     "duration": 0.08846,
     "end_time": "2022-12-29T21:49:50.800459",
     "exception": false,
     "start_time": "2022-12-29T21:49:50.711999",
     "status": "completed"
    },
    "tags": []
   },
   "outputs": [
    {
     "data": {
      "text/html": [
       "<div>\n",
       "<style scoped>\n",
       "    .dataframe tbody tr th:only-of-type {\n",
       "        vertical-align: middle;\n",
       "    }\n",
       "\n",
       "    .dataframe tbody tr th {\n",
       "        vertical-align: top;\n",
       "    }\n",
       "\n",
       "    .dataframe thead th {\n",
       "        text-align: right;\n",
       "    }\n",
       "</style>\n",
       "<table border=\"1\" class=\"dataframe\">\n",
       "  <thead>\n",
       "    <tr style=\"text-align: right;\">\n",
       "      <th></th>\n",
       "      <th>account_number</th>\n",
       "      <th>client_name</th>\n",
       "      <th>total_transactions</th>\n",
       "      <th>clv_flg_v1</th>\n",
       "      <th>clv_flg_v2</th>\n",
       "      <th>clv_flg_v3</th>\n",
       "    </tr>\n",
       "  </thead>\n",
       "  <tbody>\n",
       "    <tr>\n",
       "      <th>0</th>\n",
       "      <td>141962</td>\n",
       "      <td>Herman LLC</td>\n",
       "      <td>63626.03</td>\n",
       "      <td>low</td>\n",
       "      <td>low</td>\n",
       "      <td>Bronze</td>\n",
       "    </tr>\n",
       "    <tr>\n",
       "      <th>1</th>\n",
       "      <td>146832</td>\n",
       "      <td>Kiehn-Spinka</td>\n",
       "      <td>99608.77</td>\n",
       "      <td>medium</td>\n",
       "      <td>medium</td>\n",
       "      <td>Gold</td>\n",
       "    </tr>\n",
       "    <tr>\n",
       "      <th>2</th>\n",
       "      <td>163416</td>\n",
       "      <td>Purdy-Kunde</td>\n",
       "      <td>77898.21</td>\n",
       "      <td>low</td>\n",
       "      <td>low</td>\n",
       "      <td>Bronze</td>\n",
       "    </tr>\n",
       "    <tr>\n",
       "      <th>3</th>\n",
       "      <td>218895</td>\n",
       "      <td>Kulas Inc</td>\n",
       "      <td>137351.96</td>\n",
       "      <td>high</td>\n",
       "      <td>high</td>\n",
       "      <td>Platinum</td>\n",
       "    </tr>\n",
       "    <tr>\n",
       "      <th>4</th>\n",
       "      <td>239344</td>\n",
       "      <td>Stokes LLC</td>\n",
       "      <td>91535.92</td>\n",
       "      <td>medium</td>\n",
       "      <td>medium</td>\n",
       "      <td>Silver</td>\n",
       "    </tr>\n",
       "  </tbody>\n",
       "</table>\n",
       "</div>"
      ],
      "text/plain": [
       "   account_number   client_name  total_transactions clv_flg_v1 clv_flg_v2  \\\n",
       "0          141962    Herman LLC            63626.03        low        low   \n",
       "1          146832  Kiehn-Spinka            99608.77     medium     medium   \n",
       "2          163416   Purdy-Kunde            77898.21        low        low   \n",
       "3          218895     Kulas Inc           137351.96       high       high   \n",
       "4          239344    Stokes LLC            91535.92     medium     medium   \n",
       "\n",
       "  clv_flg_v3  \n",
       "0     Bronze  \n",
       "1       Gold  \n",
       "2     Bronze  \n",
       "3  Platinum   \n",
       "4     Silver  "
      ]
     },
     "execution_count": 98,
     "metadata": {},
     "output_type": "execute_result"
    }
   ],
   "source": [
    "banking_df['clv_flg_v3'], cut_bins = pd.qcut(banking_df['total_transactions'], q= 5,\n",
    "                                   labels = labels_qcut, \n",
    "                                   retbins=True)\n",
    "# lets see it!\n",
    "banking_df.head()"
   ]
  },
  {
   "cell_type": "markdown",
   "id": "cdb79b81",
   "metadata": {
    "papermill": {
     "duration": 0.067249,
     "end_time": "2022-12-29T21:49:50.933506",
     "exception": false,
     "start_time": "2022-12-29T21:49:50.866257",
     "status": "completed"
    },
    "tags": []
   },
   "source": [
    "Lets print `cut_bins`"
   ]
  },
  {
   "cell_type": "code",
   "execution_count": 99,
   "id": "e9dbb661",
   "metadata": {
    "execution": {
     "iopub.execute_input": "2022-12-29T21:49:51.065131Z",
     "iopub.status.busy": "2022-12-29T21:49:51.064386Z",
     "iopub.status.idle": "2022-12-29T21:49:51.071708Z",
     "shell.execute_reply": "2022-12-29T21:49:51.070754Z"
    },
    "papermill": {
     "duration": 0.075488,
     "end_time": "2022-12-29T21:49:51.074033",
     "exception": false,
     "start_time": "2022-12-29T21:49:50.998545",
     "status": "completed"
    },
    "tags": []
   },
   "outputs": [
    {
     "data": {
      "text/plain": [
       "array([ 55733.05 ,  87167.958,  95908.156, 103605.97 , 112290.054,\n",
       "       184793.7  ])"
      ]
     },
     "execution_count": 99,
     "metadata": {},
     "output_type": "execute_result"
    }
   ],
   "source": [
    "cut_bins"
   ]
  },
  {
   "cell_type": "markdown",
   "id": "8b080717",
   "metadata": {
    "papermill": {
     "duration": 0.066747,
     "end_time": "2022-12-29T21:49:51.209606",
     "exception": false,
     "start_time": "2022-12-29T21:49:51.142859",
     "status": "completed"
    },
    "tags": []
   },
   "source": [
    "lets find our some more organized way for viewing it."
   ]
  },
  {
   "cell_type": "code",
   "execution_count": 100,
   "id": "2b3a6621",
   "metadata": {
    "execution": {
     "iopub.execute_input": "2022-12-29T21:49:51.348507Z",
     "iopub.status.busy": "2022-12-29T21:49:51.347550Z",
     "iopub.status.idle": "2022-12-29T21:49:51.361822Z",
     "shell.execute_reply": "2022-12-29T21:49:51.360598Z"
    },
    "papermill": {
     "duration": 0.088118,
     "end_time": "2022-12-29T21:49:51.364626",
     "exception": false,
     "start_time": "2022-12-29T21:49:51.276508",
     "status": "completed"
    },
    "tags": []
   },
   "outputs": [
    {
     "data": {
      "text/html": [
       "<div>\n",
       "<style scoped>\n",
       "    .dataframe tbody tr th:only-of-type {\n",
       "        vertical-align: middle;\n",
       "    }\n",
       "\n",
       "    .dataframe tbody tr th {\n",
       "        vertical-align: top;\n",
       "    }\n",
       "\n",
       "    .dataframe thead th {\n",
       "        text-align: right;\n",
       "    }\n",
       "</style>\n",
       "<table border=\"1\" class=\"dataframe\">\n",
       "  <thead>\n",
       "    <tr style=\"text-align: right;\">\n",
       "      <th></th>\n",
       "      <th>Theshold</th>\n",
       "      <th>Category</th>\n",
       "    </tr>\n",
       "  </thead>\n",
       "  <tbody>\n",
       "    <tr>\n",
       "      <th>0</th>\n",
       "      <td>55733.050</td>\n",
       "      <td>Bronze</td>\n",
       "    </tr>\n",
       "    <tr>\n",
       "      <th>1</th>\n",
       "      <td>87167.958</td>\n",
       "      <td>Silver</td>\n",
       "    </tr>\n",
       "    <tr>\n",
       "      <th>2</th>\n",
       "      <td>95908.156</td>\n",
       "      <td>Gold</td>\n",
       "    </tr>\n",
       "    <tr>\n",
       "      <th>3</th>\n",
       "      <td>103605.970</td>\n",
       "      <td>Titanium</td>\n",
       "    </tr>\n",
       "    <tr>\n",
       "      <th>4</th>\n",
       "      <td>112290.054</td>\n",
       "      <td>Platinum</td>\n",
       "    </tr>\n",
       "  </tbody>\n",
       "</table>\n",
       "</div>"
      ],
      "text/plain": [
       "     Theshold   Category\n",
       "0   55733.050     Bronze\n",
       "1   87167.958     Silver\n",
       "2   95908.156       Gold\n",
       "3  103605.970   Titanium\n",
       "4  112290.054  Platinum "
      ]
     },
     "execution_count": 100,
     "metadata": {},
     "output_type": "execute_result"
    }
   ],
   "source": [
    "threshold_category_table = pd.DataFrame(zip(cut_bins, labels_qcut), columns = ['Theshold', 'Category'])\n",
    "# check the result\n",
    "threshold_category_table"
   ]
  },
  {
   "cell_type": "markdown",
   "id": "69d95d15",
   "metadata": {
    "papermill": {
     "duration": 0.066956,
     "end_time": "2022-12-29T21:49:51.499012",
     "exception": false,
     "start_time": "2022-12-29T21:49:51.432056",
     "status": "completed"
    },
    "tags": []
   },
   "source": [
    "# Merging\n",
    "\n",
    "Merging or Joins in a database jargon is an essential skill to master in the field of data in general. It's simply all about matching two tables together using some linkage key in different ways for different purposes. If you don't know much about the Join concept, I recommend reading this [article](https://www.javatpoint.com/types-of-sql-join)\n",
    "\n",
    "For this tutorial, we will be stricted to joining using pandas or merging in pandas languge. I highly recommend reading this [article](https://pandas.pydata.org/docs/user_guide/merging.html) about pandas espcifically. \n",
    "\n",
    "The basic syntax of merging is as follows: \n",
    "\n",
    "```Python\n",
    "pd.merge(left, right, how='inner', on=None, left_on=None, right_on=None, left_index=False, right_index=False, sort=False, suffixes=('_x', '_y'), copy=True, indicator=False, validate=None)\n",
    "```\n",
    "\n",
    "Most of those arguments are easy to approach and will be touched in the examples"
   ]
  },
  {
   "cell_type": "markdown",
   "id": "121dc0ea",
   "metadata": {
    "papermill": {
     "duration": 0.066446,
     "end_time": "2022-12-29T21:49:51.632562",
     "exception": false,
     "start_time": "2022-12-29T21:49:51.566116",
     "status": "completed"
    },
    "tags": []
   },
   "source": [
    "### Excercise\n",
    "we have now 3 datasets that are coming from some telco operator\n",
    "- `user_usage`: provides some info about the use such as outgoing minutes, SMSs, and MBs and they are associated with specific *use_id*.\n",
    "- `user_device`: provides some info about the user and the device he used to make such use on the telco operator all rows are associated with specific *use_id* and *user_id*\n",
    "- `android_devices`: provides some info about the android phone devices themselves such as the model of each phone.\n"
   ]
  },
  {
   "cell_type": "code",
   "execution_count": 101,
   "id": "96278317",
   "metadata": {
    "execution": {
     "iopub.execute_input": "2022-12-29T21:49:51.769565Z",
     "iopub.status.busy": "2022-12-29T21:49:51.768648Z",
     "iopub.status.idle": "2022-12-29T21:49:51.790756Z",
     "shell.execute_reply": "2022-12-29T21:49:51.789511Z"
    },
    "papermill": {
     "duration": 0.093589,
     "end_time": "2022-12-29T21:49:51.793622",
     "exception": false,
     "start_time": "2022-12-29T21:49:51.700033",
     "status": "completed"
    },
    "tags": []
   },
   "outputs": [
    {
     "data": {
      "text/html": [
       "<div>\n",
       "<style scoped>\n",
       "    .dataframe tbody tr th:only-of-type {\n",
       "        vertical-align: middle;\n",
       "    }\n",
       "\n",
       "    .dataframe tbody tr th {\n",
       "        vertical-align: top;\n",
       "    }\n",
       "\n",
       "    .dataframe thead th {\n",
       "        text-align: right;\n",
       "    }\n",
       "</style>\n",
       "<table border=\"1\" class=\"dataframe\">\n",
       "  <thead>\n",
       "    <tr style=\"text-align: right;\">\n",
       "      <th></th>\n",
       "      <th>outgoing_mins_per_month</th>\n",
       "      <th>outgoing_sms_per_month</th>\n",
       "      <th>monthly_mb</th>\n",
       "      <th>use_id</th>\n",
       "    </tr>\n",
       "  </thead>\n",
       "  <tbody>\n",
       "    <tr>\n",
       "      <th>0</th>\n",
       "      <td>21.97</td>\n",
       "      <td>4.82</td>\n",
       "      <td>1557.33</td>\n",
       "      <td>22787</td>\n",
       "    </tr>\n",
       "    <tr>\n",
       "      <th>1</th>\n",
       "      <td>1710.08</td>\n",
       "      <td>136.88</td>\n",
       "      <td>7267.55</td>\n",
       "      <td>22788</td>\n",
       "    </tr>\n",
       "    <tr>\n",
       "      <th>2</th>\n",
       "      <td>1710.08</td>\n",
       "      <td>136.88</td>\n",
       "      <td>7267.55</td>\n",
       "      <td>22789</td>\n",
       "    </tr>\n",
       "    <tr>\n",
       "      <th>3</th>\n",
       "      <td>94.46</td>\n",
       "      <td>35.17</td>\n",
       "      <td>519.12</td>\n",
       "      <td>22790</td>\n",
       "    </tr>\n",
       "    <tr>\n",
       "      <th>4</th>\n",
       "      <td>71.59</td>\n",
       "      <td>79.26</td>\n",
       "      <td>1557.33</td>\n",
       "      <td>22792</td>\n",
       "    </tr>\n",
       "  </tbody>\n",
       "</table>\n",
       "</div>"
      ],
      "text/plain": [
       "   outgoing_mins_per_month  outgoing_sms_per_month  monthly_mb  use_id\n",
       "0                    21.97                    4.82     1557.33   22787\n",
       "1                  1710.08                  136.88     7267.55   22788\n",
       "2                  1710.08                  136.88     7267.55   22789\n",
       "3                    94.46                   35.17      519.12   22790\n",
       "4                    71.59                   79.26     1557.33   22792"
      ]
     },
     "execution_count": 101,
     "metadata": {},
     "output_type": "execute_result"
    }
   ],
   "source": [
    "# read user_usage\n",
    "user_usage_df = pd.read_csv('../input/data-analytics/user_usage.csv')\n",
    "# Let's view it \n",
    "user_usage_df.head()"
   ]
  },
  {
   "cell_type": "code",
   "execution_count": 102,
   "id": "4a082ca5",
   "metadata": {
    "execution": {
     "iopub.execute_input": "2022-12-29T21:49:51.931293Z",
     "iopub.status.busy": "2022-12-29T21:49:51.930854Z",
     "iopub.status.idle": "2022-12-29T21:49:51.950345Z",
     "shell.execute_reply": "2022-12-29T21:49:51.949119Z"
    },
    "papermill": {
     "duration": 0.09232,
     "end_time": "2022-12-29T21:49:51.953650",
     "exception": false,
     "start_time": "2022-12-29T21:49:51.861330",
     "status": "completed"
    },
    "tags": []
   },
   "outputs": [
    {
     "data": {
      "text/html": [
       "<div>\n",
       "<style scoped>\n",
       "    .dataframe tbody tr th:only-of-type {\n",
       "        vertical-align: middle;\n",
       "    }\n",
       "\n",
       "    .dataframe tbody tr th {\n",
       "        vertical-align: top;\n",
       "    }\n",
       "\n",
       "    .dataframe thead th {\n",
       "        text-align: right;\n",
       "    }\n",
       "</style>\n",
       "<table border=\"1\" class=\"dataframe\">\n",
       "  <thead>\n",
       "    <tr style=\"text-align: right;\">\n",
       "      <th></th>\n",
       "      <th>use_id</th>\n",
       "      <th>user_id</th>\n",
       "      <th>platform</th>\n",
       "      <th>platform_version</th>\n",
       "      <th>device</th>\n",
       "      <th>use_type_id</th>\n",
       "    </tr>\n",
       "  </thead>\n",
       "  <tbody>\n",
       "    <tr>\n",
       "      <th>0</th>\n",
       "      <td>22782</td>\n",
       "      <td>26980</td>\n",
       "      <td>ios</td>\n",
       "      <td>10.2</td>\n",
       "      <td>iPhone7,2</td>\n",
       "      <td>2</td>\n",
       "    </tr>\n",
       "    <tr>\n",
       "      <th>1</th>\n",
       "      <td>22783</td>\n",
       "      <td>29628</td>\n",
       "      <td>android</td>\n",
       "      <td>6.0</td>\n",
       "      <td>Nexus 5</td>\n",
       "      <td>3</td>\n",
       "    </tr>\n",
       "    <tr>\n",
       "      <th>2</th>\n",
       "      <td>22784</td>\n",
       "      <td>28473</td>\n",
       "      <td>android</td>\n",
       "      <td>5.1</td>\n",
       "      <td>SM-G903F</td>\n",
       "      <td>1</td>\n",
       "    </tr>\n",
       "    <tr>\n",
       "      <th>3</th>\n",
       "      <td>22785</td>\n",
       "      <td>15200</td>\n",
       "      <td>ios</td>\n",
       "      <td>10.2</td>\n",
       "      <td>iPhone7,2</td>\n",
       "      <td>3</td>\n",
       "    </tr>\n",
       "    <tr>\n",
       "      <th>4</th>\n",
       "      <td>22786</td>\n",
       "      <td>28239</td>\n",
       "      <td>android</td>\n",
       "      <td>6.0</td>\n",
       "      <td>ONE E1003</td>\n",
       "      <td>1</td>\n",
       "    </tr>\n",
       "  </tbody>\n",
       "</table>\n",
       "</div>"
      ],
      "text/plain": [
       "   use_id  user_id platform  platform_version     device  use_type_id\n",
       "0   22782    26980      ios              10.2  iPhone7,2            2\n",
       "1   22783    29628  android               6.0    Nexus 5            3\n",
       "2   22784    28473  android               5.1   SM-G903F            1\n",
       "3   22785    15200      ios              10.2  iPhone7,2            3\n",
       "4   22786    28239  android               6.0  ONE E1003            1"
      ]
     },
     "execution_count": 102,
     "metadata": {},
     "output_type": "execute_result"
    }
   ],
   "source": [
    "# read user_device \n",
    "user_device_df = pd.read_csv('../input/data-analytics/user_device.csv')\n",
    "# Let's view it\n",
    "user_device_df.head()"
   ]
  },
  {
   "cell_type": "code",
   "execution_count": 103,
   "id": "1213df23",
   "metadata": {
    "execution": {
     "iopub.execute_input": "2022-12-29T21:49:52.091458Z",
     "iopub.status.busy": "2022-12-29T21:49:52.091022Z",
     "iopub.status.idle": "2022-12-29T21:49:52.137354Z",
     "shell.execute_reply": "2022-12-29T21:49:52.135632Z"
    },
    "papermill": {
     "duration": 0.117974,
     "end_time": "2022-12-29T21:49:52.140665",
     "exception": false,
     "start_time": "2022-12-29T21:49:52.022691",
     "status": "completed"
    },
    "tags": []
   },
   "outputs": [
    {
     "data": {
      "text/html": [
       "<div>\n",
       "<style scoped>\n",
       "    .dataframe tbody tr th:only-of-type {\n",
       "        vertical-align: middle;\n",
       "    }\n",
       "\n",
       "    .dataframe tbody tr th {\n",
       "        vertical-align: top;\n",
       "    }\n",
       "\n",
       "    .dataframe thead th {\n",
       "        text-align: right;\n",
       "    }\n",
       "</style>\n",
       "<table border=\"1\" class=\"dataframe\">\n",
       "  <thead>\n",
       "    <tr style=\"text-align: right;\">\n",
       "      <th></th>\n",
       "      <th>Retail Branding</th>\n",
       "      <th>Marketing Name</th>\n",
       "      <th>Device</th>\n",
       "      <th>Model</th>\n",
       "    </tr>\n",
       "  </thead>\n",
       "  <tbody>\n",
       "    <tr>\n",
       "      <th>0</th>\n",
       "      <td>NaN</td>\n",
       "      <td>NaN</td>\n",
       "      <td>AD681H</td>\n",
       "      <td>Smartfren Andromax AD681H</td>\n",
       "    </tr>\n",
       "    <tr>\n",
       "      <th>1</th>\n",
       "      <td>NaN</td>\n",
       "      <td>NaN</td>\n",
       "      <td>FJL21</td>\n",
       "      <td>FJL21</td>\n",
       "    </tr>\n",
       "    <tr>\n",
       "      <th>2</th>\n",
       "      <td>NaN</td>\n",
       "      <td>NaN</td>\n",
       "      <td>T31</td>\n",
       "      <td>Panasonic T31</td>\n",
       "    </tr>\n",
       "    <tr>\n",
       "      <th>3</th>\n",
       "      <td>NaN</td>\n",
       "      <td>NaN</td>\n",
       "      <td>hws7721g</td>\n",
       "      <td>MediaPad 7 Youth 2</td>\n",
       "    </tr>\n",
       "    <tr>\n",
       "      <th>4</th>\n",
       "      <td>3Q</td>\n",
       "      <td>OC1020A</td>\n",
       "      <td>OC1020A</td>\n",
       "      <td>OC1020A</td>\n",
       "    </tr>\n",
       "  </tbody>\n",
       "</table>\n",
       "</div>"
      ],
      "text/plain": [
       "  Retail Branding Marketing Name    Device                      Model\n",
       "0             NaN            NaN    AD681H  Smartfren Andromax AD681H\n",
       "1             NaN            NaN     FJL21                      FJL21\n",
       "2             NaN            NaN       T31              Panasonic T31\n",
       "3             NaN            NaN  hws7721g         MediaPad 7 Youth 2\n",
       "4              3Q        OC1020A   OC1020A                    OC1020A"
      ]
     },
     "execution_count": 103,
     "metadata": {},
     "output_type": "execute_result"
    }
   ],
   "source": [
    "# read android_devices\n",
    "devices_df = pd.read_csv('../input/data-analytics/android_devices.csv')\n",
    "# Let's view it\n",
    "devices_df.head()"
   ]
  },
  {
   "cell_type": "markdown",
   "id": "c0a62f1a",
   "metadata": {
    "papermill": {
     "duration": 0.067481,
     "end_time": "2022-12-29T21:49:52.276373",
     "exception": false,
     "start_time": "2022-12-29T21:49:52.208892",
     "status": "completed"
    },
    "tags": []
   },
   "source": [
    "Now, we want to add some info to the `user_usage_df` such as the `platform` and `device` from the `user_device_df` using the `use_id`"
   ]
  },
  {
   "cell_type": "code",
   "execution_count": 104,
   "id": "3fe52c1a",
   "metadata": {
    "execution": {
     "iopub.execute_input": "2022-12-29T21:49:52.415416Z",
     "iopub.status.busy": "2022-12-29T21:49:52.414158Z",
     "iopub.status.idle": "2022-12-29T21:49:52.436199Z",
     "shell.execute_reply": "2022-12-29T21:49:52.435009Z"
    },
    "papermill": {
     "duration": 0.094568,
     "end_time": "2022-12-29T21:49:52.438907",
     "exception": false,
     "start_time": "2022-12-29T21:49:52.344339",
     "status": "completed"
    },
    "tags": []
   },
   "outputs": [
    {
     "data": {
      "text/html": [
       "<div>\n",
       "<style scoped>\n",
       "    .dataframe tbody tr th:only-of-type {\n",
       "        vertical-align: middle;\n",
       "    }\n",
       "\n",
       "    .dataframe tbody tr th {\n",
       "        vertical-align: top;\n",
       "    }\n",
       "\n",
       "    .dataframe thead th {\n",
       "        text-align: right;\n",
       "    }\n",
       "</style>\n",
       "<table border=\"1\" class=\"dataframe\">\n",
       "  <thead>\n",
       "    <tr style=\"text-align: right;\">\n",
       "      <th></th>\n",
       "      <th>outgoing_mins_per_month</th>\n",
       "      <th>outgoing_sms_per_month</th>\n",
       "      <th>monthly_mb</th>\n",
       "      <th>use_id</th>\n",
       "      <th>platform</th>\n",
       "      <th>device</th>\n",
       "    </tr>\n",
       "  </thead>\n",
       "  <tbody>\n",
       "    <tr>\n",
       "      <th>0</th>\n",
       "      <td>21.97</td>\n",
       "      <td>4.82</td>\n",
       "      <td>1557.33</td>\n",
       "      <td>22787</td>\n",
       "      <td>android</td>\n",
       "      <td>GT-I9505</td>\n",
       "    </tr>\n",
       "    <tr>\n",
       "      <th>1</th>\n",
       "      <td>1710.08</td>\n",
       "      <td>136.88</td>\n",
       "      <td>7267.55</td>\n",
       "      <td>22788</td>\n",
       "      <td>android</td>\n",
       "      <td>SM-G930F</td>\n",
       "    </tr>\n",
       "    <tr>\n",
       "      <th>2</th>\n",
       "      <td>1710.08</td>\n",
       "      <td>136.88</td>\n",
       "      <td>7267.55</td>\n",
       "      <td>22789</td>\n",
       "      <td>android</td>\n",
       "      <td>SM-G930F</td>\n",
       "    </tr>\n",
       "    <tr>\n",
       "      <th>3</th>\n",
       "      <td>94.46</td>\n",
       "      <td>35.17</td>\n",
       "      <td>519.12</td>\n",
       "      <td>22790</td>\n",
       "      <td>android</td>\n",
       "      <td>D2303</td>\n",
       "    </tr>\n",
       "    <tr>\n",
       "      <th>4</th>\n",
       "      <td>71.59</td>\n",
       "      <td>79.26</td>\n",
       "      <td>1557.33</td>\n",
       "      <td>22792</td>\n",
       "      <td>android</td>\n",
       "      <td>SM-G361F</td>\n",
       "    </tr>\n",
       "  </tbody>\n",
       "</table>\n",
       "</div>"
      ],
      "text/plain": [
       "   outgoing_mins_per_month  outgoing_sms_per_month  monthly_mb  use_id  \\\n",
       "0                    21.97                    4.82     1557.33   22787   \n",
       "1                  1710.08                  136.88     7267.55   22788   \n",
       "2                  1710.08                  136.88     7267.55   22789   \n",
       "3                    94.46                   35.17      519.12   22790   \n",
       "4                    71.59                   79.26     1557.33   22792   \n",
       "\n",
       "  platform    device  \n",
       "0  android  GT-I9505  \n",
       "1  android  SM-G930F  \n",
       "2  android  SM-G930F  \n",
       "3  android     D2303  \n",
       "4  android  SM-G361F  "
      ]
     },
     "execution_count": 104,
     "metadata": {},
     "output_type": "execute_result"
    }
   ],
   "source": [
    "# merge user_usage_df and user_device_df\n",
    "usage_device = pd.merge(user_usage_df,\n",
    "                 user_device_df[['use_id', 'platform', 'device']],\n",
    "                 how='left',\n",
    "                 on='use_id')\n",
    "usage_device.head()"
   ]
  },
  {
   "cell_type": "markdown",
   "id": "a78056a1",
   "metadata": {
    "papermill": {
     "duration": 0.065781,
     "end_time": "2022-12-29T21:49:52.572348",
     "exception": false,
     "start_time": "2022-12-29T21:49:52.506567",
     "status": "completed"
    },
    "tags": []
   },
   "source": [
    "At first glance, this may seem perfect, all is not as it seems. Lets check how many `use_id` in `user_usage_df` found matches in `user_device_df`"
   ]
  },
  {
   "cell_type": "markdown",
   "id": "58b8345b",
   "metadata": {
    "papermill": {
     "duration": 0.065542,
     "end_time": "2022-12-29T21:49:52.704391",
     "exception": false,
     "start_time": "2022-12-29T21:49:52.638849",
     "status": "completed"
    },
    "tags": []
   },
   "source": [
    "One of the great arguments in `pd.merge()` is `indicator=True`. It adds a boolean flag that indicate if this row in the left dataframe found a match in the right dataframe or not. \n",
    "\n",
    "Lets try it!"
   ]
  },
  {
   "cell_type": "code",
   "execution_count": 105,
   "id": "af8aae67",
   "metadata": {
    "execution": {
     "iopub.execute_input": "2022-12-29T21:49:52.909447Z",
     "iopub.status.busy": "2022-12-29T21:49:52.908823Z",
     "iopub.status.idle": "2022-12-29T21:49:52.934366Z",
     "shell.execute_reply": "2022-12-29T21:49:52.933098Z"
    },
    "papermill": {
     "duration": 0.166131,
     "end_time": "2022-12-29T21:49:52.936843",
     "exception": false,
     "start_time": "2022-12-29T21:49:52.770712",
     "status": "completed"
    },
    "tags": []
   },
   "outputs": [
    {
     "data": {
      "text/html": [
       "<div>\n",
       "<style scoped>\n",
       "    .dataframe tbody tr th:only-of-type {\n",
       "        vertical-align: middle;\n",
       "    }\n",
       "\n",
       "    .dataframe tbody tr th {\n",
       "        vertical-align: top;\n",
       "    }\n",
       "\n",
       "    .dataframe thead th {\n",
       "        text-align: right;\n",
       "    }\n",
       "</style>\n",
       "<table border=\"1\" class=\"dataframe\">\n",
       "  <thead>\n",
       "    <tr style=\"text-align: right;\">\n",
       "      <th></th>\n",
       "      <th>outgoing_mins_per_month</th>\n",
       "      <th>outgoing_sms_per_month</th>\n",
       "      <th>monthly_mb</th>\n",
       "      <th>use_id</th>\n",
       "      <th>platform</th>\n",
       "      <th>device</th>\n",
       "      <th>_merge</th>\n",
       "    </tr>\n",
       "  </thead>\n",
       "  <tbody>\n",
       "    <tr>\n",
       "      <th>0</th>\n",
       "      <td>21.97</td>\n",
       "      <td>4.82</td>\n",
       "      <td>1557.33</td>\n",
       "      <td>22787</td>\n",
       "      <td>android</td>\n",
       "      <td>GT-I9505</td>\n",
       "      <td>both</td>\n",
       "    </tr>\n",
       "    <tr>\n",
       "      <th>1</th>\n",
       "      <td>1710.08</td>\n",
       "      <td>136.88</td>\n",
       "      <td>7267.55</td>\n",
       "      <td>22788</td>\n",
       "      <td>android</td>\n",
       "      <td>SM-G930F</td>\n",
       "      <td>both</td>\n",
       "    </tr>\n",
       "    <tr>\n",
       "      <th>2</th>\n",
       "      <td>1710.08</td>\n",
       "      <td>136.88</td>\n",
       "      <td>7267.55</td>\n",
       "      <td>22789</td>\n",
       "      <td>android</td>\n",
       "      <td>SM-G930F</td>\n",
       "      <td>both</td>\n",
       "    </tr>\n",
       "    <tr>\n",
       "      <th>3</th>\n",
       "      <td>94.46</td>\n",
       "      <td>35.17</td>\n",
       "      <td>519.12</td>\n",
       "      <td>22790</td>\n",
       "      <td>android</td>\n",
       "      <td>D2303</td>\n",
       "      <td>both</td>\n",
       "    </tr>\n",
       "    <tr>\n",
       "      <th>4</th>\n",
       "      <td>71.59</td>\n",
       "      <td>79.26</td>\n",
       "      <td>1557.33</td>\n",
       "      <td>22792</td>\n",
       "      <td>android</td>\n",
       "      <td>SM-G361F</td>\n",
       "      <td>both</td>\n",
       "    </tr>\n",
       "  </tbody>\n",
       "</table>\n",
       "</div>"
      ],
      "text/plain": [
       "   outgoing_mins_per_month  outgoing_sms_per_month  monthly_mb  use_id  \\\n",
       "0                    21.97                    4.82     1557.33   22787   \n",
       "1                  1710.08                  136.88     7267.55   22788   \n",
       "2                  1710.08                  136.88     7267.55   22789   \n",
       "3                    94.46                   35.17      519.12   22790   \n",
       "4                    71.59                   79.26     1557.33   22792   \n",
       "\n",
       "  platform    device _merge  \n",
       "0  android  GT-I9505   both  \n",
       "1  android  SM-G930F   both  \n",
       "2  android  SM-G930F   both  \n",
       "3  android     D2303   both  \n",
       "4  android  SM-G361F   both  "
      ]
     },
     "execution_count": 105,
     "metadata": {},
     "output_type": "execute_result"
    }
   ],
   "source": [
    "# merge user_usage_df and user_device_df\n",
    "usage_device_ind = pd.merge(user_usage_df,\n",
    "                 user_device_df[['use_id', 'platform', 'device']],\n",
    "                 how='left',\n",
    "                 on='use_id', \n",
    "                 indicator=True)\n",
    "usage_device_ind.head()"
   ]
  },
  {
   "cell_type": "markdown",
   "id": "1ac010ca",
   "metadata": {
    "papermill": {
     "duration": 0.066795,
     "end_time": "2022-12-29T21:49:53.073333",
     "exception": false,
     "start_time": "2022-12-29T21:49:53.006538",
     "status": "completed"
    },
    "tags": []
   },
   "source": [
    "Lets see the `value_counts()` of the indicator column. "
   ]
  },
  {
   "cell_type": "code",
   "execution_count": 106,
   "id": "b24d9b7b",
   "metadata": {
    "execution": {
     "iopub.execute_input": "2022-12-29T21:49:53.209267Z",
     "iopub.status.busy": "2022-12-29T21:49:53.208563Z",
     "iopub.status.idle": "2022-12-29T21:49:53.218074Z",
     "shell.execute_reply": "2022-12-29T21:49:53.217120Z"
    },
    "papermill": {
     "duration": 0.079668,
     "end_time": "2022-12-29T21:49:53.220389",
     "exception": false,
     "start_time": "2022-12-29T21:49:53.140721",
     "status": "completed"
    },
    "tags": []
   },
   "outputs": [
    {
     "data": {
      "text/plain": [
       "both          159\n",
       "left_only      81\n",
       "right_only      0\n",
       "Name: _merge, dtype: int64"
      ]
     },
     "execution_count": 106,
     "metadata": {},
     "output_type": "execute_result"
    }
   ],
   "source": [
    "usage_device_ind._merge.value_counts()"
   ]
  },
  {
   "cell_type": "markdown",
   "id": "9e844d5b",
   "metadata": {
    "papermill": {
     "duration": 0.065712,
     "end_time": "2022-12-29T21:49:53.353844",
     "exception": false,
     "start_time": "2022-12-29T21:49:53.288132",
     "status": "completed"
    },
    "tags": []
   },
   "source": [
    "As you can see, `159` row in the left found a match from the right while `81` were found in the left only.\n",
    "\n",
    "We can validate this by using `.isin()` function"
   ]
  },
  {
   "cell_type": "code",
   "execution_count": 107,
   "id": "f47352c2",
   "metadata": {
    "execution": {
     "iopub.execute_input": "2022-12-29T21:49:53.496558Z",
     "iopub.status.busy": "2022-12-29T21:49:53.495883Z",
     "iopub.status.idle": "2022-12-29T21:49:53.506347Z",
     "shell.execute_reply": "2022-12-29T21:49:53.504553Z"
    },
    "papermill": {
     "duration": 0.084549,
     "end_time": "2022-12-29T21:49:53.509406",
     "exception": false,
     "start_time": "2022-12-29T21:49:53.424857",
     "status": "completed"
    },
    "tags": []
   },
   "outputs": [
    {
     "data": {
      "text/plain": [
       "True     159\n",
       "False     81\n",
       "Name: use_id, dtype: int64"
      ]
     },
     "execution_count": 107,
     "metadata": {},
     "output_type": "execute_result"
    }
   ],
   "source": [
    "user_usage_df['use_id'].isin(user_device_df['use_id']).value_counts()"
   ]
  },
  {
   "cell_type": "markdown",
   "id": "56c66dfc",
   "metadata": {
    "papermill": {
     "duration": 0.068101,
     "end_time": "2022-12-29T21:49:53.646020",
     "exception": false,
     "start_time": "2022-12-29T21:49:53.577919",
     "status": "completed"
    },
    "tags": []
   },
   "source": [
    "Lets add some more info from `devices_df` to the `usage_device` newly created dataframe. "
   ]
  },
  {
   "cell_type": "code",
   "execution_count": 108,
   "id": "6487a2a1",
   "metadata": {
    "execution": {
     "iopub.execute_input": "2022-12-29T21:49:53.783619Z",
     "iopub.status.busy": "2022-12-29T21:49:53.783155Z",
     "iopub.status.idle": "2022-12-29T21:49:53.815672Z",
     "shell.execute_reply": "2022-12-29T21:49:53.814439Z"
    },
    "papermill": {
     "duration": 0.104507,
     "end_time": "2022-12-29T21:49:53.818691",
     "exception": false,
     "start_time": "2022-12-29T21:49:53.714184",
     "status": "completed"
    },
    "tags": []
   },
   "outputs": [
    {
     "data": {
      "text/html": [
       "<div>\n",
       "<style scoped>\n",
       "    .dataframe tbody tr th:only-of-type {\n",
       "        vertical-align: middle;\n",
       "    }\n",
       "\n",
       "    .dataframe tbody tr th {\n",
       "        vertical-align: top;\n",
       "    }\n",
       "\n",
       "    .dataframe thead th {\n",
       "        text-align: right;\n",
       "    }\n",
       "</style>\n",
       "<table border=\"1\" class=\"dataframe\">\n",
       "  <thead>\n",
       "    <tr style=\"text-align: right;\">\n",
       "      <th></th>\n",
       "      <th>outgoing_mins_per_month</th>\n",
       "      <th>outgoing_sms_per_month</th>\n",
       "      <th>monthly_mb</th>\n",
       "      <th>use_id</th>\n",
       "      <th>platform</th>\n",
       "      <th>device</th>\n",
       "      <th>Retail Branding</th>\n",
       "      <th>Marketing Name</th>\n",
       "      <th>Device</th>\n",
       "      <th>Model</th>\n",
       "      <th>_merge</th>\n",
       "    </tr>\n",
       "  </thead>\n",
       "  <tbody>\n",
       "    <tr>\n",
       "      <th>0</th>\n",
       "      <td>21.97</td>\n",
       "      <td>4.82</td>\n",
       "      <td>1557.33</td>\n",
       "      <td>22787</td>\n",
       "      <td>android</td>\n",
       "      <td>GT-I9505</td>\n",
       "      <td>NaN</td>\n",
       "      <td>NaN</td>\n",
       "      <td>NaN</td>\n",
       "      <td>NaN</td>\n",
       "      <td>left_only</td>\n",
       "    </tr>\n",
       "    <tr>\n",
       "      <th>1</th>\n",
       "      <td>1710.08</td>\n",
       "      <td>136.88</td>\n",
       "      <td>7267.55</td>\n",
       "      <td>22788</td>\n",
       "      <td>android</td>\n",
       "      <td>SM-G930F</td>\n",
       "      <td>NaN</td>\n",
       "      <td>NaN</td>\n",
       "      <td>NaN</td>\n",
       "      <td>NaN</td>\n",
       "      <td>left_only</td>\n",
       "    </tr>\n",
       "    <tr>\n",
       "      <th>2</th>\n",
       "      <td>1710.08</td>\n",
       "      <td>136.88</td>\n",
       "      <td>7267.55</td>\n",
       "      <td>22789</td>\n",
       "      <td>android</td>\n",
       "      <td>SM-G930F</td>\n",
       "      <td>NaN</td>\n",
       "      <td>NaN</td>\n",
       "      <td>NaN</td>\n",
       "      <td>NaN</td>\n",
       "      <td>left_only</td>\n",
       "    </tr>\n",
       "    <tr>\n",
       "      <th>3</th>\n",
       "      <td>94.46</td>\n",
       "      <td>35.17</td>\n",
       "      <td>519.12</td>\n",
       "      <td>22790</td>\n",
       "      <td>android</td>\n",
       "      <td>D2303</td>\n",
       "      <td>Sony</td>\n",
       "      <td>Xperia M2</td>\n",
       "      <td>D2303</td>\n",
       "      <td>D2303</td>\n",
       "      <td>both</td>\n",
       "    </tr>\n",
       "    <tr>\n",
       "      <th>4</th>\n",
       "      <td>71.59</td>\n",
       "      <td>79.26</td>\n",
       "      <td>1557.33</td>\n",
       "      <td>22792</td>\n",
       "      <td>android</td>\n",
       "      <td>SM-G361F</td>\n",
       "      <td>NaN</td>\n",
       "      <td>NaN</td>\n",
       "      <td>NaN</td>\n",
       "      <td>NaN</td>\n",
       "      <td>left_only</td>\n",
       "    </tr>\n",
       "  </tbody>\n",
       "</table>\n",
       "</div>"
      ],
      "text/plain": [
       "   outgoing_mins_per_month  outgoing_sms_per_month  monthly_mb  use_id  \\\n",
       "0                    21.97                    4.82     1557.33   22787   \n",
       "1                  1710.08                  136.88     7267.55   22788   \n",
       "2                  1710.08                  136.88     7267.55   22789   \n",
       "3                    94.46                   35.17      519.12   22790   \n",
       "4                    71.59                   79.26     1557.33   22792   \n",
       "\n",
       "  platform    device Retail Branding Marketing Name Device  Model     _merge  \n",
       "0  android  GT-I9505             NaN            NaN    NaN    NaN  left_only  \n",
       "1  android  SM-G930F             NaN            NaN    NaN    NaN  left_only  \n",
       "2  android  SM-G930F             NaN            NaN    NaN    NaN  left_only  \n",
       "3  android     D2303            Sony      Xperia M2  D2303  D2303       both  \n",
       "4  android  SM-G361F             NaN            NaN    NaN    NaN  left_only  "
      ]
     },
     "execution_count": 108,
     "metadata": {},
     "output_type": "execute_result"
    }
   ],
   "source": [
    "user_usage_device_ind = pd.merge(usage_device, \n",
    "                             devices_df, \n",
    "                             how='left', \n",
    "                             left_on='device', \n",
    "                             right_on='Device', \n",
    "                             indicator=True)\n",
    "\n",
    "user_usage_device_ind.head()"
   ]
  },
  {
   "cell_type": "markdown",
   "id": "a1de42d5",
   "metadata": {
    "papermill": {
     "duration": 0.068879,
     "end_time": "2022-12-29T21:49:53.958604",
     "exception": false,
     "start_time": "2022-12-29T21:49:53.889725",
     "status": "completed"
    },
    "tags": []
   },
   "source": [
    "Here, you will notice that we used two new arguments `left_on` and `right_on` . That's because the naming of the linkage column is different from the left and right dataset.\n",
    "\n",
    "Lets see some more statistics about the merging process."
   ]
  },
  {
   "cell_type": "code",
   "execution_count": 109,
   "id": "df982815",
   "metadata": {
    "execution": {
     "iopub.execute_input": "2022-12-29T21:49:54.098700Z",
     "iopub.status.busy": "2022-12-29T21:49:54.098055Z",
     "iopub.status.idle": "2022-12-29T21:49:54.106062Z",
     "shell.execute_reply": "2022-12-29T21:49:54.105270Z"
    },
    "papermill": {
     "duration": 0.079727,
     "end_time": "2022-12-29T21:49:54.108217",
     "exception": false,
     "start_time": "2022-12-29T21:49:54.028490",
     "status": "completed"
    },
    "tags": []
   },
   "outputs": [
    {
     "data": {
      "text/plain": [
       "left_only     223\n",
       "both           19\n",
       "right_only      0\n",
       "Name: _merge, dtype: int64"
      ]
     },
     "execution_count": 109,
     "metadata": {},
     "output_type": "execute_result"
    }
   ],
   "source": [
    "user_usage_device_ind._merge.value_counts()"
   ]
  },
  {
   "cell_type": "markdown",
   "id": "5d8de8c6",
   "metadata": {
    "papermill": {
     "duration": 0.069566,
     "end_time": "2022-12-29T21:49:54.248544",
     "exception": false,
     "start_time": "2022-12-29T21:49:54.178978",
     "status": "completed"
    },
    "tags": []
   },
   "source": [
    "Only `19` devices we matched between the two datasets!"
   ]
  },
  {
   "cell_type": "markdown",
   "id": "da1d25ae",
   "metadata": {
    "papermill": {
     "duration": 0.07723,
     "end_time": "2022-12-29T21:49:54.395253",
     "exception": false,
     "start_time": "2022-12-29T21:49:54.318023",
     "status": "completed"
    },
    "tags": []
   },
   "source": [
    "This notebook is part of my `Python for Data Analysis` course. If you find it useful, you can upvote it! Also, you can follow me on [LinkedIn](https://www.linkedin.com/in/aaabulkhair/) and [Twitter](https://twitter.com/aaabulkhair_). \n",
    "\n",
    "Below are the contents of the whole course: \n",
    "1. [Introduction to Python](https://www.kaggle.com/code/ahmedabdulhamid/1-introduction-to-python)\n",
    "2. [Iterative Operations & Functions in Python](https://www.kaggle.com/code/ahmedabdulhamid/2-iterative-operations-functions-in-python)\n",
    "3. [Introduction to NumPy](https://www.kaggle.com/code/ahmedabdulhamid/3-introduction-to-numpy/)\n",
    "4. [Data Transformation using Pandas](https://www.kaggle.com/ahmedabdulhamid/4-data-transformation-using-pandas/), This Notebook."
   ]
  }
 ],
 "metadata": {
  "kernelspec": {
   "display_name": "Python 3",
   "language": "python",
   "name": "python3"
  },
  "language_info": {
   "codemirror_mode": {
    "name": "ipython",
    "version": 3
   },
   "file_extension": ".py",
   "mimetype": "text/x-python",
   "name": "python",
   "nbconvert_exporter": "python",
   "pygments_lexer": "ipython3",
   "version": "3.7.12"
  },
  "papermill": {
   "default_parameters": {},
   "duration": 40.828726,
   "end_time": "2022-12-29T21:49:55.390845",
   "environment_variables": {},
   "exception": null,
   "input_path": "__notebook__.ipynb",
   "output_path": "__notebook__.ipynb",
   "parameters": {},
   "start_time": "2022-12-29T21:49:14.562119",
   "version": "2.3.4"
  }
 },
 "nbformat": 4,
 "nbformat_minor": 5
}
